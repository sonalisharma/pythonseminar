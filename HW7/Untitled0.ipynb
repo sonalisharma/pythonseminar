{
 "metadata": {
  "name": ""
 },
 "nbformat": 3,
 "nbformat_minor": 0,
 "worksheets": [
  {
   "cells": [
    {
     "cell_type": "code",
     "collapsed": false,
     "input": [
      "import pandas as pd\n",
      "import numpy as np\n",
      "from datetime import datetime\n",
      "dates = [datetime(2011, 1, 2), datetime(2011, 1, 5), \n",
      "         datetime(2011, 1, 7),datetime(2011, 1, 8), \n",
      "         datetime(2011, 1, 10), datetime(2011, 1, 12),\n",
      "         datetime(2011, 1, 17)]"
     ],
     "language": "python",
     "metadata": {},
     "outputs": [],
     "prompt_number": 1
    },
    {
     "cell_type": "code",
     "collapsed": false,
     "input": [
      "ts = pd.Series(np.random.randn(7), index=dates)"
     ],
     "language": "python",
     "metadata": {},
     "outputs": [],
     "prompt_number": 2
    },
    {
     "cell_type": "code",
     "collapsed": false,
     "input": [
      "ts"
     ],
     "language": "python",
     "metadata": {},
     "outputs": [
      {
       "metadata": {},
       "output_type": "pyout",
       "prompt_number": 3,
       "text": [
        "2011-01-02    1.461111\n",
        "2011-01-05   -0.591901\n",
        "2011-01-07   -1.329904\n",
        "2011-01-08   -0.082893\n",
        "2011-01-10    1.851209\n",
        "2011-01-12    1.918507\n",
        "2011-01-17    0.281650"
       ]
      }
     ],
     "prompt_number": 3
    },
    {
     "cell_type": "code",
     "collapsed": false,
     "input": [
      "ts + ts[::2]"
     ],
     "language": "python",
     "metadata": {},
     "outputs": [
      {
       "metadata": {},
       "output_type": "pyout",
       "prompt_number": 4,
       "text": [
        "2011-01-02    2.922223\n",
        "2011-01-05         NaN\n",
        "2011-01-07   -2.659809\n",
        "2011-01-08         NaN\n",
        "2011-01-10    3.702418\n",
        "2011-01-12         NaN\n",
        "2011-01-17    0.563300"
       ]
      }
     ],
     "prompt_number": 4
    },
    {
     "cell_type": "code",
     "collapsed": false,
     "input": [
      "ts[::2]"
     ],
     "language": "python",
     "metadata": {},
     "outputs": [
      {
       "metadata": {},
       "output_type": "pyout",
       "prompt_number": 5,
       "text": [
        "2011-01-02    1.461111\n",
        "2011-01-07   -1.329904\n",
        "2011-01-10    1.851209\n",
        "2011-01-17    0.281650"
       ]
      }
     ],
     "prompt_number": 5
    },
    {
     "cell_type": "code",
     "collapsed": false,
     "input": [
      "ts.resample('D', how='count')"
     ],
     "language": "python",
     "metadata": {},
     "outputs": [
      {
       "metadata": {},
       "output_type": "pyout",
       "prompt_number": 7,
       "text": [
        "2011-01-02    1\n",
        "2011-01-03    0\n",
        "2011-01-04    0\n",
        "2011-01-05    1\n",
        "2011-01-06    0\n",
        "2011-01-07    1\n",
        "2011-01-08    1\n",
        "2011-01-09    0\n",
        "2011-01-10    1\n",
        "2011-01-11    0\n",
        "2011-01-12    1\n",
        "2011-01-13    0\n",
        "2011-01-14    0\n",
        "2011-01-15    0\n",
        "2011-01-16    0\n",
        "2011-01-17    1"
       ]
      }
     ],
     "prompt_number": 7
    },
    {
     "cell_type": "code",
     "collapsed": false,
     "input": [],
     "language": "python",
     "metadata": {},
     "outputs": []
    }
   ],
   "metadata": {}
  }
 ]
}