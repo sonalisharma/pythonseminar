{
 "metadata": {
  "name": ""
 },
 "nbformat": 3,
 "nbformat_minor": 0,
 "worksheets": [
  {
   "cells": [
    {
     "cell_type": "code",
     "collapsed": false,
     "input": [
      "%matplotlib osx\n",
      "#%matplotlib inline\n",
      "import matplotlib.pyplot as plt\n",
      "import numpy as np"
     ],
     "language": "python",
     "metadata": {},
     "outputs": [],
     "prompt_number": 52
    },
    {
     "cell_type": "code",
     "collapsed": false,
     "input": [
      "#Reading data\n",
      "dt = [('Modified Julian Date', np.long), ('Stock Value', np.float64)]\n",
      "googletab = np.loadtxt('Data/google_data.txt', dt,skiprows=1)\n",
      "yahootab = np.loadtxt('Data/yahoo_data.txt', dt,skiprows=1)\n",
      "dt_temp = [('Modified Julian Date', np.long), ('Max Tmp', np.int)]\n",
      "nytemptab = np.loadtxt('Data/ny_temps.txt', dt_temp,skiprows=1)\n",
      "\n",
      "fig,ax1 =plt.subplots()\n",
      "ax1.set_title(\"New York Temperature, Google, Yahoo!\",fontsize=16)\n",
      "#print googletab['Modified Julian Date']\n",
      "p1 = ax1.plot(googletab['Modified Julian Date'],googletab['Stock Value'], color='b',label=\"Google Stock Value\",linewidth=2.0)\n",
      "p2 = ax1.plot(yahootab['Modified Julian Date'],yahootab['Stock Value'], color='purple',label=\"Yahoo! Stock Value\",linewidth=2.0)\n",
      "ax1.set_xlabel('Value (Dollars)')\n",
      "ax1.set_ylabel('Date (MJD)')\n",
      "\n",
      "ax2= ax1.twinx()\n",
      "p3 = ax2.plot(nytemptab['Modified Julian Date'],nytemptab['Max Tmp'],color='r', linestyle='--',label=\"NY Mon. High Temp\",linewidth=2.0)\n",
      "ax2.set_ylim([-100,100])\n",
      "ax2.set_ylabel('Temperature$\\,^{\\circ}\\mathrm{F}$')\n",
      "\n",
      "p = p1+p2+p3\n",
      "labs = [l.get_label() for l in p]\n",
      "ax1.legend(p, labs, loc=6)\n",
      "\n"
     ],
     "language": "python",
     "metadata": {},
     "outputs": [
      {
       "metadata": {},
       "output_type": "pyout",
       "prompt_number": 54,
       "text": [
        "<matplotlib.legend.Legend at 0x10e58b490>"
       ]
      }
     ],
     "prompt_number": 54
    },
    {
     "cell_type": "code",
     "collapsed": false,
     "input": [],
     "language": "python",
     "metadata": {},
     "outputs": [],
     "prompt_number": 41
    },
    {
     "cell_type": "code",
     "collapsed": false,
     "input": [],
     "language": "python",
     "metadata": {},
     "outputs": []
    },
    {
     "cell_type": "code",
     "collapsed": false,
     "input": [],
     "language": "python",
     "metadata": {},
     "outputs": []
    },
    {
     "cell_type": "code",
     "collapsed": false,
     "input": [],
     "language": "python",
     "metadata": {},
     "outputs": []
    },
    {
     "cell_type": "code",
     "collapsed": false,
     "input": [],
     "language": "python",
     "metadata": {},
     "outputs": []
    },
    {
     "cell_type": "code",
     "collapsed": false,
     "input": [],
     "language": "python",
     "metadata": {},
     "outputs": []
    },
    {
     "cell_type": "code",
     "collapsed": false,
     "input": [],
     "language": "python",
     "metadata": {},
     "outputs": []
    },
    {
     "cell_type": "code",
     "collapsed": false,
     "input": [],
     "language": "python",
     "metadata": {},
     "outputs": []
    },
    {
     "cell_type": "code",
     "collapsed": false,
     "input": [],
     "language": "python",
     "metadata": {},
     "outputs": []
    },
    {
     "cell_type": "code",
     "collapsed": false,
     "input": [],
     "language": "python",
     "metadata": {},
     "outputs": []
    }
   ],
   "metadata": {}
  }
 ]
}