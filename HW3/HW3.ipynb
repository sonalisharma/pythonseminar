{
 "metadata": {
  "name": ""
 },
 "nbformat": 3,
 "nbformat_minor": 0,
 "worksheets": [
  {
   "cells": [
    {
     "cell_type": "code",
     "collapsed": false,
     "input": [
      "%matplotlib osx\n",
      "#%matplotlib inline\n",
      "import matplotlib.pyplot as plt\n",
      "import numpy as np"
     ],
     "language": "python",
     "metadata": {},
     "outputs": [],
     "prompt_number": 31
    },
    {
     "cell_type": "code",
     "collapsed": false,
     "input": [
      "# Question 2\n",
      "#Reading data\n",
      "dt = [('Modified Julian Date', np.long), ('Stock Value', np.float64)]\n",
      "googletab = np.loadtxt('Data/google_data.txt', dt,skiprows=1)\n",
      "yahootab = np.loadtxt('Data/yahoo_data.txt', dt,skiprows=1)\n",
      "dt_temp = [('Modified Julian Date', np.long), ('Max Tmp', np.int)]\n",
      "nytemptab = np.loadtxt('Data/ny_temps.txt', dt_temp,skiprows=1)\n",
      "\n",
      "fig,ax1 = plt.subplots(figsize=(12,8))\n",
      "ax1.set_title(\"New York Temperature, Google, Yahoo!\",fontsize=16)\n",
      "p1 = ax1.plot(googletab['Modified Julian Date'],googletab['Stock Value'], color='b',label=\"Google Stock Value\",linewidth=2.0)\n",
      "p2 = ax1.plot(yahootab['Modified Julian Date'],yahootab['Stock Value'], color='purple',label=\"Yahoo! Stock Value\",linewidth=2.0)\n",
      "ax1.set_xlabel('Value (Dollars)')\n",
      "ax1.set_ylabel('Date (MJD)')\n",
      "\n",
      "ax2= ax1.twinx()\n",
      "p3 = ax2.plot(nytemptab['Modified Julian Date'],nytemptab['Max Tmp'],color='r', linestyle='--',label=\"NY Mon. High Temp\",linewidth=2.0)\n",
      "ax2.set_ylim([-100,100])\n",
      "ax2.set_ylabel('Temperature$\\,^{\\circ}\\mathrm{F}$')\n",
      "\n",
      "p = p1+p2+p3\n",
      "labs = [l.get_label() for l in p]\n",
      "ax1.legend(p, labs, loc=6)\n",
      "\n"
     ],
     "language": "python",
     "metadata": {},
     "outputs": []
    },
    {
     "cell_type": "code",
     "collapsed": false,
     "input": [
      "# Question 3\n",
      "dt = [('sepal length', np.float64), ('sepal width', np.float64),('petal length', np.float64),('petal width', np.float64)\n",
      "      ,('species', (str, 10))]\n",
      "iris = np.loadtxt('Data/flowers.csv',dt,skiprows=1, delimiter=\",\")"
     ],
     "language": "python",
     "metadata": {},
     "outputs": [],
     "prompt_number": 32
    },
    {
     "cell_type": "code",
     "collapsed": false,
     "input": [
      "from matplotlib.ticker import MaxNLocator\n",
      "def color(s):\n",
      "    if s==\"setosa\":\n",
      "        return 1\n",
      "    if s==\"versicolor\":\n",
      "        return 2\n",
      "    if s==\"virginica\":\n",
      "        return 3\n",
      "    \n",
      "fig,ax = plt.subplots(4,4)\n",
      "col = {0: iris['sepal length'], 1:iris['sepal width'], 2:iris['petal length'], 3:iris['petal width']}\n",
      "cols = {\"versicolor\": \"blue\", \"virginica\": \"green\", \"setosa\": \"red\"}\n",
      "color = map(lambda x: cols[x],iris['species'])\n",
      "rect = list()\n",
      "for i in range(4):\n",
      "    for j in range(4):\n",
      "        ax[i,j].scatter(col[j],col[i],c = color, lw = 0.5)\n",
      "\n",
      "for d in range(4):\n",
      "    for e in range(4):\n",
      "        ax[d,e].set_xticklabels([])\n",
      "        ax[d,e].set_yticklabels([])\n",
      "        ax[d,e].xaxis.set_major_locator(MaxNLocator(4))\n",
      "        ax[d,e].yaxis.set_major_locator(MaxNLocator(4))\n",
      "        \n",
      "#DataSelector(fig, iris)\n"
     ],
     "language": "python",
     "metadata": {},
     "outputs": [],
     "prompt_number": 33
    },
    {
     "cell_type": "code",
     "collapsed": false,
     "input": [
      "class DataSelector(object):\n",
      "    def __init__(self, figure, iris, axis=None):         \n",
      "        self.figure = figure\n",
      "        #self.ax = self.figure.get_axes()\n",
      "        self.iris = iris\n",
      "        self.rect = Rectangle((0,0), 1, 1)\n",
      "        self.x0 = None\n",
      "        self.y0 = None\n",
      "        self.x1 = None\n",
      "        self.y1 = None\n",
      "        self.ax.add_patch(self.rect)\n",
      "        self.ax.figure.canvas.mpl_connect('button_press_event', self.on_press)\n",
      "        self.ax.figure.canvas.mpl_connect('button_release_event', self.on_release)\n",
      "    def on_press(self, event):\n",
      "        print 'press'\n",
      "        self.x0 = event.xdata\n",
      "        self.y0 = event.ydata\n",
      "\n",
      "    def on_release(self, event):\n",
      "        print 'release'\n",
      "        self.x1 = event.xdata\n",
      "        self.y1 = event.ydata\n",
      "        self.rect.set_width(self.x1 - self.x0)\n",
      "        self.rect.set_height(self.y1 - self.y0)\n",
      "        self.rect.set_xy((self.x0, self.y0))\n",
      "        self.ax.figure.canvas.draw()\n",
      "\n",
      "    def __call__(self, event):\n",
      "        sys.stdout.flush() #to make sure the cached version of the prints are removed\n"
     ],
     "language": "python",
     "metadata": {},
     "outputs": []
    },
    {
     "cell_type": "code",
     "collapsed": false,
     "input": [],
     "language": "python",
     "metadata": {},
     "outputs": []
    },
    {
     "cell_type": "code",
     "collapsed": false,
     "input": [],
     "language": "python",
     "metadata": {},
     "outputs": []
    },
    {
     "cell_type": "code",
     "collapsed": false,
     "input": [],
     "language": "python",
     "metadata": {},
     "outputs": []
    },
    {
     "cell_type": "code",
     "collapsed": false,
     "input": [],
     "language": "python",
     "metadata": {},
     "outputs": []
    },
    {
     "cell_type": "code",
     "collapsed": false,
     "input": [],
     "language": "python",
     "metadata": {},
     "outputs": []
    },
    {
     "cell_type": "code",
     "collapsed": false,
     "input": [],
     "language": "python",
     "metadata": {},
     "outputs": []
    },
    {
     "cell_type": "code",
     "collapsed": false,
     "input": [],
     "language": "python",
     "metadata": {},
     "outputs": []
    },
    {
     "cell_type": "code",
     "collapsed": false,
     "input": [],
     "language": "python",
     "metadata": {},
     "outputs": []
    }
   ],
   "metadata": {}
  }
 ]
}