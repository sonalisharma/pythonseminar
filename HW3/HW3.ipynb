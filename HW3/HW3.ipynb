{
 "metadata": {
  "name": ""
 },
 "nbformat": 3,
 "nbformat_minor": 0,
 "worksheets": [
  {
   "cells": [
    {
     "cell_type": "code",
     "collapsed": false,
     "input": [
      "%matplotlib osx\n",
      "#%matplotlib inline\n",
      "import matplotlib.pyplot as plt\n",
      "import numpy as np"
     ],
     "language": "python",
     "metadata": {},
     "outputs": [],
     "prompt_number": 3
    },
    {
     "cell_type": "code",
     "collapsed": false,
     "input": [
      "# Question 2\n",
      "#Reading data\n",
      "dt = [('Modified Julian Date', np.long), ('Stock Value', np.float64)]\n",
      "googletab = np.loadtxt('Data/google_data.txt', dt,skiprows=1)\n",
      "yahootab = np.loadtxt('Data/yahoo_data.txt', dt,skiprows=1)\n",
      "dt_temp = [('Modified Julian Date', np.long), ('Max Tmp', np.int)]\n",
      "nytemptab = np.loadtxt('Data/ny_temps.txt', dt_temp,skiprows=1)\n",
      "\n",
      "fig,ax1 = plt.subplots(figsize=(12,8))\n",
      "ax1.set_title(\"New York Temperature, Google, Yahoo!\",fontsize=16)\n",
      "p1 = ax1.plot(googletab['Modified Julian Date'],googletab['Stock Value'], color='b',label=\"Google Stock Value\",linewidth=2.0)\n",
      "p2 = ax1.plot(yahootab['Modified Julian Date'],yahootab['Stock Value'], color='purple',label=\"Yahoo! Stock Value\",linewidth=2.0)\n",
      "ax1.set_xlabel('Value (Dollars)')\n",
      "ax1.set_ylabel('Date (MJD)')\n",
      "\n",
      "ax2= ax1.twinx()\n",
      "p3 = ax2.plot(nytemptab['Modified Julian Date'],nytemptab['Max Tmp'],color='r', linestyle='--',label=\"NY Mon. High Temp\",linewidth=2.0)\n",
      "ax2.set_ylim([-100,100])\n",
      "ax2.set_ylabel('Temperature$\\,^{\\circ}\\mathrm{F}$')\n",
      "\n",
      "p = p1+p2+p3\n",
      "labs = [l.get_label() for l in p]\n",
      "ax1.legend(p, labs, loc=6)\n",
      "\n"
     ],
     "language": "python",
     "metadata": {},
     "outputs": []
    },
    {
     "cell_type": "code",
     "collapsed": false,
     "input": [
      "# Question 3\n",
      "dt = [('sepal length', np.float64), ('sepal width', np.float64),('petal length', np.float64),('petal width', np.float64)\n",
      "      ,('species', (str, 10))]\n",
      "iris = np.loadtxt('Data/flowers.csv',dt,skiprows=1, delimiter=\",\")"
     ],
     "language": "python",
     "metadata": {},
     "outputs": [],
     "prompt_number": 4
    },
    {
     "cell_type": "code",
     "collapsed": false,
     "input": [
      "from matplotlib.ticker import MaxNLocator\n",
      "from matplotlib.patches import Rectangle\n",
      "def color(s):\n",
      "    if s==\"setosa\":\n",
      "        return 1\n",
      "    if s==\"versicolor\":\n",
      "        return 2\n",
      "    if s==\"virginica\":\n",
      "        return 3\n",
      "    \n",
      "fig,ax = plt.subplots(4,4)\n",
      "col = {0: iris['sepal length'], 1:iris['sepal width'], 2:iris['petal length'], 3:iris['petal width']}\n",
      "cols = {\"versicolor\": \"blue\", \"virginica\": \"green\", \"setosa\": \"red\"}\n",
      "color = map(lambda x: cols[x],iris['species'])\n",
      "rect = list()\n",
      "for i in range(4):\n",
      "    for j in range(4):\n",
      "        ax[i,j].scatter(col[j],col[i],c = color, lw = 0.5)\n",
      "\n",
      "for d in range(4):\n",
      "    for e in range(4):\n",
      "        ax[d,e].set_xticklabels([])\n",
      "        ax[d,e].set_yticklabels([])\n",
      "        ax[d,e].xaxis.set_major_locator(MaxNLocator(4))\n",
      "        ax[d,e].yaxis.set_major_locator(MaxNLocator(4))\n",
      "        \n",
      "DataSelector(fig, iris)\n"
     ],
     "language": "python",
     "metadata": {},
     "outputs": [
      {
       "metadata": {},
       "output_type": "pyout",
       "prompt_number": 25,
       "text": [
        "<__main__.DataSelector at 0x118319cd0>"
       ]
      },
      {
       "output_type": "stream",
       "stream": "stdout",
       "text": [
        "press\n",
        "release"
       ]
      },
      {
       "output_type": "stream",
       "stream": "stdout",
       "text": [
        "\n",
        "press"
       ]
      },
      {
       "output_type": "stream",
       "stream": "stdout",
       "text": [
        "\n",
        "release"
       ]
      },
      {
       "output_type": "stream",
       "stream": "stdout",
       "text": [
        "\n",
        "press"
       ]
      },
      {
       "output_type": "stream",
       "stream": "stdout",
       "text": [
        "\n",
        "release"
       ]
      },
      {
       "output_type": "stream",
       "stream": "stdout",
       "text": [
        "\n",
        "press"
       ]
      },
      {
       "output_type": "stream",
       "stream": "stdout",
       "text": [
        "\n",
        "release"
       ]
      }
     ],
     "prompt_number": 25
    },
    {
     "cell_type": "code",
     "collapsed": false,
     "input": [
      "class DataSelector(object):\n",
      "    def __init__(self, figure, iris, axis=None):         \n",
      "        self.figure = figure\n",
      "        #self.rect = Rectangle((0,0), 1, 1,color='y',alpha=0.2)\n",
      "        self.iris = iris        \n",
      "        self.x0 = None\n",
      "        self.y0 = None\n",
      "        self.x1 = None\n",
      "        self.y1 = None\n",
      "        self.prevax = None\n",
      "        #self.ax.figure.canvas.mpl_connect('button_press_event', self.on_press)\n",
      "        self.cid1 = figure.canvas.mpl_connect('button_press_event', self.on_press)\n",
      "        self.cid2 = figure.canvas.mpl_connect('button_release_event', self.on_release)\n",
      "        #self.ax.figure.canvas.mpl_connect('button_release_event', self.on_release)\n",
      "        #self.figure.canvas.mpl_connect('pick_event', self.on_pick)\n",
      "    def on_press(self, event):\n",
      "        print 'press'\n",
      "        if self.prevax is not None:\n",
      "            self.removep.set_visible(False)\n",
      "            #self.prevax.patch.set_visible(False) \n",
      "        self.rect = Rectangle((0,0), 1, 1,color='y',alpha=0.2)\n",
      "        self.x0 = event.xdata\n",
      "        self.y0 = event.ydata \n",
      "        self.ax = event.inaxes\n",
      "        self.prevax = self.ax\n",
      "\n",
      "    def on_release(self, event):\n",
      "        print 'release'\n",
      "        self.x1 = event.xdata\n",
      "        self.y1 = event.ydata\n",
      "        self.rect.set_xy((self.x0, self.y0))\n",
      "        self.rect.set_width(self.x1 - self.x0)\n",
      "        self.rect.set_height(self.y1 - self.y0)\n",
      "        self.ax.add_patch(self.rect)\n",
      "        self.removep = self.rect\n",
      "        self.ax.figure.canvas.draw()\n",
      "        sys.stdout.flush()\n",
      "       \n",
      "        #self.figure.canvas.draw()\n",
      "\n",
      "    def __call__(self, event):\n",
      "        print \"Inside cal function\"\n",
      "        sys.stdout.flush() #to make sure the cached version of the prints are removed\n",
      "    \n",
      "    "
     ],
     "language": "python",
     "metadata": {},
     "outputs": [
      {
       "output_type": "stream",
       "stream": "stdout",
       "text": [
        "\n"
       ]
      }
     ],
     "prompt_number": 24
    },
    {
     "cell_type": "code",
     "collapsed": false,
     "input": [
      "#Question1 a\n",
      "import pandas as pd\n",
      "dt = [('frac_followed', np.float64), ('frac_observed', np.float64),('frac_observed_uncertainity', np.float64)]\n",
      "efficiencytab = np.loadtxt('Data/Efficiency.txt', dt,skiprows=1)\n",
      "df = pd.DataFrame(efficiencytab)\n",
      "intersection =  max(df[df['frac_followed']<=0.2]['frac_observed'])\n",
      "\n"
     ],
     "language": "python",
     "metadata": {},
     "outputs": []
    },
    {
     "cell_type": "code",
     "collapsed": false,
     "input": [
      "#Figure 1\n",
      "fig,ax1 = plt.subplots(figsize=(8,8))\n",
      "p1 = ax1.plot(efficiencytab['frac_followed'],efficiencytab['frac_observed'],label=\"Efficiency\",linewidth=2.0,color=\"black\")\n",
      "p2 = ax1.plot(efficiencytab['frac_followed'], efficiencytab['frac_observed']+efficiencytab['frac_observed_uncertainity'],color=\"grey\",label=\"Uncertainity\",linewidth=1.0)\n",
      "p3 = ax1.plot(efficiencytab['frac_followed'], efficiencytab['frac_observed']-efficiencytab['frac_observed_uncertainity'],color=\"grey\",label=\"Uncertainity\",linewidth=1.0)\n",
      "p4 = ax1.plot([min(efficiencytab['frac_followed']),max(efficiencytab['frac_followed'])],\n",
      "              [min(efficiencytab['frac_observed']),max(efficiencytab['frac_observed'])], color=\"black\",linewidth=1.0)\n",
      "ax1.axvline(0.2, ymax= intersection, color='black', lw=2, alpha=0.5,linestyle='--')\n",
      "ax1.fill_between(efficiencytab['frac_followed'],efficiencytab['frac_observed']+efficiencytab['frac_observed_uncertainity'], \n",
      "                efficiencytab['frac_observed']-efficiencytab['frac_observed_uncertainity'], facecolor='grey', interpolate=True)\n",
      "ax1.set_title(\"Efficiency\",fontsize=18, fontweight='bold')\n",
      "ax1.set_xlabel('Fraction of GRBs Followed Up')\n",
      "ax1.set_ylabel('Fraction of high(z>4) GRBs observed')\n",
      "ax1.annotate('Random Guessing', xy=(0.7, 0.7), xytext=(0.7, 0.3),\n",
      "            arrowprops=dict(facecolor='black', width=1.0, \n",
      "                            headwidth=7, shrink=0.08))\n",
      "ax1.annotate('Follow up of 20% of \\n'\\\n",
      "             'bursts to capture ~55% \\n'\\\n",
      "             'of high-z events', xy=(0.2, intersection), xytext=(0.4, 0.1),\n",
      "            arrowprops=dict(facecolor='black', width=0.5, \n",
      "                            headwidth=7, shrink=0.08))\n",
      "\n"
     ],
     "language": "python",
     "metadata": {},
     "outputs": []
    },
    {
     "cell_type": "code",
     "collapsed": false,
     "input": [
      "#Question1 b\n",
      "import pandas as pd\n",
      "dt = [('frac_followed', np.float64), ('frac_observed', np.float64),('frac_observed_uncertainity', np.float64)]\n",
      "puritytab = np.loadtxt('Data/Purity.txt', dt,skiprows=2)\n",
      "df = pd.DataFrame(puritytab)\n",
      "intersection =  max(df[df['frac_followed']<=0.2]['frac_observed'])\n",
      "\n",
      "\n",
      "fig,ax1 = plt.subplots(figsize=(8,8))\n",
      "p1 = ax1.plot(puritytab['frac_followed'],puritytab['frac_observed'],label=\"Purity\",linewidth=2.0,color=\"black\")\n",
      "p2 = ax1.plot(puritytab['frac_followed'], puritytab['frac_observed']+puritytab['frac_observed_uncertainity'],color=\"grey\",label=\"Uncertainity\",linewidth=1.0)\n",
      "p3 = ax1.plot(puritytab['frac_followed'], puritytab['frac_observed']-puritytab['frac_observed_uncertainity'],color=\"grey\",label=\"Uncertainity\",linewidth=1.0)\n",
      "ax1.axvline(0.2,color='black', lw=2, alpha=0.5,linestyle=\"--\")\n",
      "ax1.axhline(18.0/135.0, color='black', lw=2, alpha=0.5)\n",
      "ax1.fill_between(puritytab['frac_followed'],puritytab['frac_observed']+puritytab['frac_observed_uncertainity'], \n",
      "                puritytab['frac_observed']-puritytab['frac_observed_uncertainity'], facecolor='grey', interpolate=True)\n",
      "ax1.set_title(\"Purity\",fontsize=18, fontweight='bold')\n",
      "ax1.set_xlabel('Fraction of GRBs Followed Up')\n",
      "ax1.set_ylabel('Percent of observed GRBs that are high z (z>4)')\n",
      "ax1.set_ylim([0,1])\n",
      "ax1.annotate('Random Guessing', xy=(0.2, 0.4), xytext=(0.2, 0.7),\n",
      "            arrowprops=dict(facecolor='black', width=1.0, \n",
      "                            headwidth=7, shrink=0.08))\n",
      "ax1.annotate('Follow up of 20% of \\n'\\\n",
      "             'bursts to capture ~55% \\n'\\\n",
      "             'of high-z events', xy=(0.6,18.0/135.0 ), xytext=(0.7, 0.3),\n",
      "            arrowprops=dict(facecolor='black', width=0.5, \n",
      "                            headwidth=7, shrink=0.08))\n"
     ],
     "language": "python",
     "metadata": {},
     "outputs": []
    },
    {
     "cell_type": "code",
     "collapsed": false,
     "input": [],
     "language": "python",
     "metadata": {},
     "outputs": []
    },
    {
     "cell_type": "code",
     "collapsed": false,
     "input": [],
     "language": "python",
     "metadata": {},
     "outputs": []
    },
    {
     "cell_type": "code",
     "collapsed": false,
     "input": [],
     "language": "python",
     "metadata": {},
     "outputs": []
    },
    {
     "cell_type": "code",
     "collapsed": false,
     "input": [],
     "language": "python",
     "metadata": {},
     "outputs": []
    },
    {
     "cell_type": "code",
     "collapsed": false,
     "input": [],
     "language": "python",
     "metadata": {},
     "outputs": []
    }
   ],
   "metadata": {}
  }
 ]
}