{
 "metadata": {
  "name": ""
 },
 "nbformat": 3,
 "nbformat_minor": 0,
 "worksheets": [
  {
   "cells": [
    {
     "cell_type": "code",
     "collapsed": false,
     "input": [
      "import matplotlib.pyplot as plt\n",
      "from matplotlib.patches import Rectangle\n",
      "\n",
      "class Annotate(object):\n",
      "    def __init__(self):\n",
      "        self.ax = plt.gca()\n",
      "        self.rect = Rectangle((0,0), 1, 1)\n",
      "        self.x0 = None\n",
      "        self.y0 = None\n",
      "        self.x1 = None\n",
      "        self.y1 = None\n",
      "        self.ax.add_patch(self.rect)\n",
      "        self.ax.figure.canvas.mpl_connect('button_press_event', self.on_press)\n",
      "        self.ax.figure.canvas.mpl_connect('button_release_event', self.on_release)\n",
      "\n",
      "    def on_press(self, event):\n",
      "        print 'press'\n",
      "        self.x0 = event.xdata\n",
      "        self.y0 = event.ydata\n",
      "\n",
      "    def on_release(self, event):\n",
      "        print 'release'\n",
      "        self.x1 = event.xdata\n",
      "        self.y1 = event.ydata\n",
      "        self.rect.set_width(self.x1 - self.x0)\n",
      "        self.rect.set_height(self.y1 - self.y0)\n",
      "        self.rect.set_xy((self.x0, self.y0))\n",
      "        self.ax.figure.canvas.draw()\n",
      "\n",
      "a = Annotate()\n",
      "plt.show()"
     ],
     "language": "python",
     "metadata": {},
     "outputs": [
      {
       "output_type": "stream",
       "stream": "stdout",
       "text": [
        "press\n",
        "release"
       ]
      },
      {
       "output_type": "stream",
       "stream": "stdout",
       "text": [
        "\n",
        "press"
       ]
      },
      {
       "output_type": "stream",
       "stream": "stdout",
       "text": [
        "\n",
        "release"
       ]
      },
      {
       "output_type": "stream",
       "stream": "stdout",
       "text": [
        "\n",
        "press"
       ]
      },
      {
       "output_type": "stream",
       "stream": "stdout",
       "text": [
        "\n",
        "release"
       ]
      },
      {
       "output_type": "stream",
       "stream": "stdout",
       "text": [
        "\n",
        "press"
       ]
      },
      {
       "output_type": "stream",
       "stream": "stdout",
       "text": [
        "\n",
        "release"
       ]
      },
      {
       "output_type": "stream",
       "stream": "stdout",
       "text": [
        "\n",
        "press"
       ]
      },
      {
       "output_type": "stream",
       "stream": "stdout",
       "text": [
        "\n",
        "release"
       ]
      },
      {
       "output_type": "stream",
       "stream": "stdout",
       "text": [
        "\n"
       ]
      }
     ],
     "prompt_number": 1
    },
    {
     "cell_type": "code",
     "collapsed": false,
     "input": [
      "import matplotlib\n",
      "import matplotlib.pyplot as plt\n",
      "\n",
      "fig = plt.figure()\n",
      "ax = fig.add_subplot(111)\n",
      "rect1 = matplotlib.patches.Rectangle((-200,-100), 400, 200, color='yellow')\n",
      "rect2 = matplotlib.patches.Rectangle((0,150), 300, 20, color='red')\n",
      "rect3 = matplotlib.patches.Rectangle((-300,-50), 40, 200, color='#0099FF')\n",
      "circle1 = matplotlib.patches.Circle((-200,-250), radius=90, color='#EB70AA')\n",
      "ax.add_patch(rect1)\n",
      "ax.add_patch(rect2)\n",
      "ax.add_patch(rect3)\n",
      "ax.add_patch(circle1)\n",
      "plt.xlim([-400, 400])\n",
      "plt.ylim([-400, 400])\n",
      "plt.show()"
     ],
     "language": "python",
     "metadata": {},
     "outputs": []
    },
    {
     "cell_type": "code",
     "collapsed": false,
     "input": [
      "import matplotlib.pyplot as plt\n",
      "import matplotlib.collections as collections\n",
      "import matplotlib.ticker as ticker\n",
      "\n",
      "import matplotlib\n",
      "\n",
      "fig=plt.figure() #pylab.figure()\n",
      "ax=fig.add_subplot(111)\n",
      "\n",
      "ax.set_xlim([-400, -380]) #pylab.xlim([-400, 400])\n",
      "ax.set_ylim([-400, -380]) #pylab.ylim([-400, 400])\n",
      "patches = []\n",
      "polygon = plt.Rectangle((-400, -400), 10, 40, color='yellow') #Rectangle((-400, -400), 10, 10, color='y')\n",
      "patches.append(polygon)\n",
      "\n",
      "pol2 = plt.Rectangle((-390, -390), 30, 30, facecolor='yellow', edgecolor='violet', linewidth=2.0)\n",
      "ax.add_artist(pol2)\n",
      "\n",
      "\n",
      "p = collections.PatchCollection(patches) #, cmap=matplotlib.cm.jet)\n",
      "ax.add_collection(p)\n",
      "ax.xaxis.set_major_locator(ticker.MultipleLocator(20)) # (MultipleLocator(20)) \n",
      "ax.yaxis.set_major_locator(ticker.MultipleLocator(20)) # (MultipleLocator(20)) \n",
      "\n",
      "plt.show() #pylab.show()"
     ],
     "language": "python",
     "metadata": {},
     "outputs": []
    },
    {
     "cell_type": "code",
     "collapsed": false,
     "input": [
      "line, = ax.plot(rand(100), 'o', picker=5)  # 5 points tolerance\n",
      "\n",
      "def on_pick(event):\n",
      "    thisline = event.artist\n",
      "    xdata, ydata = thisline.get_data()\n",
      "    ind = event.ind\n",
      "    print('on pick line:', zip(xdata[ind], ydata[ind]))\n",
      "\n",
      "cid = fig.canvas.mpl_connect('pick_event', on_pick)"
     ],
     "language": "python",
     "metadata": {},
     "outputs": [
      {
       "ename": "NameError",
       "evalue": "name 'ax' is not defined",
       "output_type": "pyerr",
       "traceback": [
        "\u001b[0;31m---------------------------------------------------------------------------\u001b[0m\n\u001b[0;31mNameError\u001b[0m                                 Traceback (most recent call last)",
        "\u001b[0;32m<ipython-input-2-9c28f7c12b72>\u001b[0m in \u001b[0;36m<module>\u001b[0;34m()\u001b[0m\n\u001b[0;32m----> 1\u001b[0;31m \u001b[0mline\u001b[0m\u001b[0;34m,\u001b[0m \u001b[0;34m=\u001b[0m \u001b[0max\u001b[0m\u001b[0;34m.\u001b[0m\u001b[0mplot\u001b[0m\u001b[0;34m(\u001b[0m\u001b[0mrand\u001b[0m\u001b[0;34m(\u001b[0m\u001b[0;36m100\u001b[0m\u001b[0;34m)\u001b[0m\u001b[0;34m,\u001b[0m \u001b[0;34m'o'\u001b[0m\u001b[0;34m,\u001b[0m \u001b[0mpicker\u001b[0m\u001b[0;34m=\u001b[0m\u001b[0;36m5\u001b[0m\u001b[0;34m)\u001b[0m  \u001b[0;31m# 5 points tolerance\u001b[0m\u001b[0;34m\u001b[0m\u001b[0m\n\u001b[0m\u001b[1;32m      2\u001b[0m \u001b[0;34m\u001b[0m\u001b[0m\n\u001b[1;32m      3\u001b[0m \u001b[0;32mdef\u001b[0m \u001b[0mon_pick\u001b[0m\u001b[0;34m(\u001b[0m\u001b[0mevent\u001b[0m\u001b[0;34m)\u001b[0m\u001b[0;34m:\u001b[0m\u001b[0;34m\u001b[0m\u001b[0m\n\u001b[1;32m      4\u001b[0m     \u001b[0mthisline\u001b[0m \u001b[0;34m=\u001b[0m \u001b[0mevent\u001b[0m\u001b[0;34m.\u001b[0m\u001b[0martist\u001b[0m\u001b[0;34m\u001b[0m\u001b[0m\n\u001b[1;32m      5\u001b[0m     \u001b[0mxdata\u001b[0m\u001b[0;34m,\u001b[0m \u001b[0mydata\u001b[0m \u001b[0;34m=\u001b[0m \u001b[0mthisline\u001b[0m\u001b[0;34m.\u001b[0m\u001b[0mget_data\u001b[0m\u001b[0;34m(\u001b[0m\u001b[0;34m)\u001b[0m\u001b[0;34m\u001b[0m\u001b[0m\n",
        "\u001b[0;31mNameError\u001b[0m: name 'ax' is not defined"
       ]
      }
     ],
     "prompt_number": 2
    },
    {
     "cell_type": "code",
     "collapsed": false,
     "input": [
      "import matplotlib.pyplot as plt\n",
      "from matplotlib.colors import Normalize\n",
      "import numpy as np\n",
      "from numpy import ma\n",
      "\n",
      "class TextNorm(Normalize):\n",
      "    '''Map a list of text values to the float range 0-1'''\n",
      "\n",
      "    def __init__(self, textvals, clip=False):\n",
      "        self.clip = clip\n",
      "        # if you want, clean text here, for duplicate, sorting, etc\n",
      "        ltextvals = set(textvals)\n",
      "        self.N = len(ltextvals)\n",
      "        self.textmap = dict(\n",
      "            [(text, float(i)/(self.N-1)) for i, text in enumerate(ltextvals)])\n",
      "        self.vmin = 0\n",
      "        self.vmax = 1\n",
      "\n",
      "    def __call__(self, x, clip=None):\n",
      "        #Normally this would have a lot more to do with masking\n",
      "        ret = ma.asarray([self.textmap.get(xkey, -1) for xkey in x])\n",
      "        return ret\n",
      "\n",
      "    def inverse(self, value):\n",
      "        return ValueError(\"TextNorm is not invertible\")\n",
      "\n",
      "iris = np.recfromcsv(\"iris.csv\")\n",
      "norm = TextNorm(iris.field(4))\n",
      "\n",
      "plt.scatter(iris.field(0), iris.field(1), c=norm(iris.field(4)), cmap='RdYlGn')\n",
      "plt.savefig('textvals.png')\n",
      "plt.show()"
     ],
     "language": "python",
     "metadata": {},
     "outputs": []
    },
    {
     "cell_type": "code",
     "collapsed": false,
     "input": [
      "import numpy as np\n",
      "import matplotlib.pyplot as plt\n",
      "\n",
      "class DraggableRectangle:\n",
      "    def __init__(self, rect):\n",
      "        self.rect = rect\n",
      "        self.press = None\n",
      "\n",
      "    def connect(self):\n",
      "        'connect to all the events we need'\n",
      "        self.cidpress = self.rect.figure.canvas.mpl_connect(\n",
      "            'button_press_event', self.on_press)\n",
      "        self.cidrelease = self.rect.figure.canvas.mpl_connect(\n",
      "            'button_release_event', self.on_release)\n",
      "        self.cidmotion = self.rect.figure.canvas.mpl_connect(\n",
      "            'motion_notify_event', self.on_motion)\n",
      "\n",
      "    def on_press(self, event):\n",
      "        'on button press we will see if the mouse is over us and store some data'\n",
      "        if event.inaxes != self.rect.axes: return\n",
      "\n",
      "        contains, attrd = self.rect.contains(event)\n",
      "        if not contains: return\n",
      "        print 'event contains', self.rect.xy\n",
      "        x0, y0 = self.rect.xy\n",
      "        self.press = x0, y0, event.xdata, event.ydata\n",
      "\n",
      "    def on_motion(self, event):\n",
      "        'on motion we will move the rect if the mouse is over us'\n",
      "        if self.press is None: return\n",
      "        if event.inaxes != self.rect.axes: return\n",
      "        x0, y0, xpress, ypress = self.press\n",
      "        dx = event.xdata - xpress\n",
      "        dy = event.ydata - ypress\n",
      "        #print 'x0=%f, xpress=%f, event.xdata=%f, dx=%f, x0+dx=%f'%(x0, xpress, event.xdata, dx, x0+dx)\n",
      "        self.rect.set_x(x0+dx)\n",
      "        self.rect.set_y(y0+dy)\n",
      "\n",
      "        self.rect.figure.canvas.draw()\n",
      "\n",
      "\n",
      "    def on_release(self, event):\n",
      "        'on release we reset the press data'\n",
      "        self.press = None\n",
      "        self.rect.figure.canvas.draw()\n",
      "\n",
      "    def disconnect(self):\n",
      "        'disconnect all the stored connection ids'\n",
      "        self.rect.figure.canvas.mpl_disconnect(self.cidpress)\n",
      "        self.rect.figure.canvas.mpl_disconnect(self.cidrelease)\n",
      "        self.rect.figure.canvas.mpl_disconnect(self.cidmotion)\n",
      "\n",
      "fig = plt.figure()\n",
      "ax = fig.add_subplot(111)\n",
      "rects = ax.bar(range(10), 20*np.random.rand(10))\n",
      "drs = []\n",
      "for rect in rects:\n",
      "    dr = DraggableRectangle(rect)\n",
      "    dr.connect()\n",
      "    drs.append(dr)\n",
      "\n",
      "plt.show()"
     ],
     "language": "python",
     "metadata": {},
     "outputs": []
    }
   ],
   "metadata": {}
  }
 ]
}