{
 "metadata": {
  "name": ""
 },
 "nbformat": 3,
 "nbformat_minor": 0,
 "worksheets": [
  {
   "cells": [
    {
     "cell_type": "code",
     "collapsed": false,
     "input": [
      "import numpy as np\n",
      "import math\n",
      "%pylab inline\n",
      "from sklearn import neighbors\n",
      "from sklearn import preprocessing\n"
     ],
     "language": "python",
     "metadata": {},
     "outputs": [
      {
       "output_type": "stream",
       "stream": "stdout",
       "text": [
        "Populating the interactive namespace from numpy and matplotlib\n"
       ]
      },
      {
       "output_type": "stream",
       "stream": "stderr",
       "text": [
        "WARNING: pylab import has clobbered these variables: ['dot', 'logistic', 'clf', 'cm', 'split']\n",
        "`%pylab --no-import-all` prevents importing * from pylab and numpy\n"
       ]
      }
     ],
     "prompt_number": 124
    },
    {
     "cell_type": "heading",
     "level": 3,
     "metadata": {},
     "source": [
      "Reading the file"
     ]
    },
    {
     "cell_type": "code",
     "collapsed": false,
     "input": [
      "import pandas as pd\n",
      "import numpy as np\n",
      "import matplotlib.pyplot as plt\n",
      "from geopy import geocoders  \n",
      "import json"
     ],
     "language": "python",
     "metadata": {},
     "outputs": [],
     "prompt_number": 125
    },
    {
     "cell_type": "code",
     "collapsed": false,
     "input": [
      "filename =\"newdata_1200.csv\"\n",
      "data = pd.read_csv(\"/Users/sonali/Documents/Ischool/PythonSeminar/NewRepo/pythonseminar/FinalProject/Notebooks/Data/\"+filename,sep = \"\\t\",header=0)"
     ],
     "language": "python",
     "metadata": {},
     "outputs": [],
     "prompt_number": 126
    },
    {
     "cell_type": "code",
     "collapsed": false,
     "input": [
      "data.columns"
     ],
     "language": "python",
     "metadata": {},
     "outputs": [
      {
       "metadata": {},
       "output_type": "pyout",
       "prompt_number": 127,
       "text": [
        "Index([sno, Title, Headline, ShortDesc, Category, Location, County, US, Distance, Count_update, Count_comment, Count_funder, Count_photo, Amount_goal, Amount_Raised, Amount_currency, Ratio, Time_Left, Current, Type, Start_year, Start_month, Start_day, End_year, End_mont, End_day, Duration, Min_perk, N0_min_perk, Max_perk, No_max_perk, Median_perk, No_med_perk, Tot_perk, FB_like, FB_talking, Tweet_follow, Tweet_status, You_avg_duratio, You_avg_view_count, You_avg_rating], dtype=object)"
       ]
      }
     ],
     "prompt_number": 127
    },
    {
     "cell_type": "code",
     "collapsed": false,
     "input": [
      "data['Tot_perk'].sum()"
     ],
     "language": "python",
     "metadata": {},
     "outputs": [
      {
       "metadata": {},
       "output_type": "pyout",
       "prompt_number": 128,
       "text": [
        "14606"
       ]
      }
     ],
     "prompt_number": 128
    },
    {
     "cell_type": "code",
     "collapsed": false,
     "input": [
      "len(data['County'])"
     ],
     "language": "python",
     "metadata": {},
     "outputs": [
      {
       "metadata": {},
       "output_type": "pyout",
       "prompt_number": 129,
       "text": [
        "1841"
       ]
      }
     ],
     "prompt_number": 129
    },
    {
     "cell_type": "code",
     "collapsed": false,
     "input": [
      "data = data.drop('sno',1)\n",
      "data = data.drop('Title',1)\n",
      "data = data.drop('Headline',1)\n",
      "data = data.drop('ShortDesc',1)\n",
      "data = data.drop('Category',1)\n",
      "data = data.drop('US',1)\n",
      "data = data.drop('Current',1)\n",
      "data = data.drop('Amount_currency',1)\n",
      "data = data.drop('Distance',1)\n",
      "#Comment after getting correct distance\n",
      "#data = data.drop('Location',1)\n",
      "data = data.drop('Tweet_follow',1)\n",
      "data = data.drop('Tweet_status',1)\n",
      "data = data.drop('Start_year',1)\n",
      "data = data.drop('End_year',1)\n",
      "data = data.drop('Start_day',1)\n",
      "data = data.drop('End_day',1)\n",
      "data = data.drop('Amount_goal',1)\n",
      "#data = data.drop('Amount_Raised',1)\n",
      "data = data.drop('Time_Left',1)\n"
     ],
     "language": "python",
     "metadata": {},
     "outputs": [],
     "prompt_number": 130
    },
    {
     "cell_type": "code",
     "collapsed": false,
     "input": [
      "amount_raised = data['Amount_Raised']\n",
      "print data['Amount_Raised'].sum()\n",
      "data = data.drop('Amount_Raised',1)"
     ],
     "language": "python",
     "metadata": {},
     "outputs": [
      {
       "output_type": "stream",
       "stream": "stdout",
       "text": [
        "19804732\n"
       ]
      }
     ],
     "prompt_number": 131
    },
    {
     "cell_type": "code",
     "collapsed": false,
     "input": [
      "def checkus(location):\n",
      "    if (str(location).strip()=='United States'):\n",
      "        return 1\n",
      "    else:\n",
      "        return 0 \n",
      "data['US'] = data['County'].apply(checkus)"
     ],
     "language": "python",
     "metadata": {},
     "outputs": [],
     "prompt_number": 132
    },
    {
     "cell_type": "code",
     "collapsed": false,
     "input": [
      "def changetype(prjtype):\n",
      "    if ('Fixed Funding' in prjtype):\n",
      "        return 1\n",
      "    else:\n",
      "        return 0\n",
      "data['newtype'] = data['Type'].apply(changetype)\n",
      "data = data.drop('Type',1)"
     ],
     "language": "python",
     "metadata": {},
     "outputs": [],
     "prompt_number": 133
    },
    {
     "cell_type": "code",
     "collapsed": false,
     "input": [
      "#1 (>2) - highly successful , 2 (>=1 <2) - successful , 3 (>=0.75 <1) Almost Successful , 4 (>=0.4 <0.75) Moderate, 5 (<0.4) Not\n",
      "def setstatus(ratio):\n",
      "    if (ratio>=1):\n",
      "        return 1\n",
      "   # if (ratio>=1 and ratio<2):\n",
      "        #return 2\n",
      "    if (ratio>=0.66 and ratio <1):\n",
      "        return 2\n",
      "    #if (ratio>=0.33 and ratio <0.66):\n",
      "    #    return 4\n",
      "    if (ratio<0.66):\n",
      "        return 3\n",
      "        \n",
      "data['status'] = data['Ratio'].apply(setstatus)\n",
      "len(data)\n",
      "ratio = data['Ratio']\n",
      "data = data.drop('Ratio',1)"
     ],
     "language": "python",
     "metadata": {},
     "outputs": [],
     "prompt_number": 134
    },
    {
     "cell_type": "code",
     "collapsed": false,
     "input": [],
     "language": "python",
     "metadata": {},
     "outputs": [],
     "prompt_number": 134
    },
    {
     "cell_type": "code",
     "collapsed": false,
     "input": [
      "data['Count_photo'] = data['Count_photo'].fillna(0)"
     ],
     "language": "python",
     "metadata": {},
     "outputs": [],
     "prompt_number": 135
    },
    {
     "cell_type": "code",
     "collapsed": false,
     "input": [
      "countries = list(data['County'].unique())\n",
      "len(countries)"
     ],
     "language": "python",
     "metadata": {},
     "outputs": [
      {
       "metadata": {},
       "output_type": "pyout",
       "prompt_number": 136,
       "text": [
        "75"
       ]
      }
     ],
     "prompt_number": 136
    },
    {
     "cell_type": "code",
     "collapsed": false,
     "input": [
      "location = list(data['Location'].unique())\n",
      "len(location)"
     ],
     "language": "python",
     "metadata": {},
     "outputs": [
      {
       "metadata": {},
       "output_type": "pyout",
       "prompt_number": 138,
       "text": [
        "885"
       ]
      }
     ],
     "prompt_number": 138
    },
    {
     "cell_type": "code",
     "collapsed": false,
     "input": [
      "#loclatlondict = {}\n",
      "def getgeo(location):\n",
      "    try:\n",
      "        l=location.strip()\n",
      "        g = geocoders.GoogleV3()\n",
      "        if l is None:\n",
      "            loclatlondict[location]=(None,None)\n",
      "            #return \"%s: %.5f, %.5f\" % (location, None, None)  \n",
      "        else:   \n",
      "            place, (lat, lng) = g.geocode(l)  \n",
      "            loclatlondict[location]=(lat,lng)\n",
      "            #return (location, lat, lng)  \n",
      "    except:\n",
      "        loclatlondict['location']=(None,None)\n",
      "        #return (location, None, None)\n",
      "        "
     ],
     "language": "python",
     "metadata": {},
     "outputs": [],
     "prompt_number": 139
    },
    {
     "cell_type": "code",
     "collapsed": false,
     "input": [
      "data['Location']"
     ],
     "language": "python",
     "metadata": {},
     "outputs": [
      {
       "metadata": {},
       "output_type": "pyout",
       "prompt_number": 140,
       "text": [
        "0        Santa Cruz, California, United States\n",
        "1           Baltimore, Maryland, United States\n",
        "2                            Budapest, Hungary\n",
        "3       Northfield, Connecticut, United States\n",
        "4      Pittsburgh, Pennsylvania, United States\n",
        "5              Denver, Colorado, United States\n",
        "6         San Diego, California, United States\n",
        "7                   Miami Beach, United States\n",
        "8             Saint John, New Brunswick, Ca0da\n",
        "9                Miami, Florida, United States\n",
        "10         Winter Park, Florida, United States\n",
        "11                Austin, Texas, United States\n",
        "12                           Tomelilla, Sweden\n",
        "13    Mountain View, California, United States\n",
        "14                               Graz, Austria\n",
        "...\n",
        "1826           Knoxville,  Tennessee,  United  States \n",
        "1827           Milwaukee,  Wisconsin,  United  States \n",
        "1828          Watchung,  New  Jersey,  United  States \n",
        "1829            Lynchburg,  Virginia,  United  States \n",
        "1830              Tillamook,  Oregon,  United  States \n",
        "1831                                               NaN\n",
        "1832         San  Diego,  California,  United  States \n",
        "1833               Atlanta,  Georgia,  United  States \n",
        "1834                Portland,  Maine,  United  States \n",
        "1835           Knoxville,  Tennessee,  United  States \n",
        "1836                                             Ca0da\n",
        "1837     Wilmington,  North  Caroli0,  United  States \n",
        "1838            Bay  City,  Michigan,  United  States \n",
        "1839                    Berea,  Ohio,  United  States \n",
        "1840            Fort  Wayne,  India0,  United  States \n",
        "Name: Location, Length: 1841"
       ]
      }
     ],
     "prompt_number": 140
    },
    {
     "cell_type": "code",
     "collapsed": false,
     "input": [
      "# Data received from method getgeo.\n",
      "loclatlondict = {' 0irobi,  Kenya ': (-1.2920659, 36.8219462),\n",
      " ' 0ntucket,  Massachusetts,  United  States ': (41.2834704, -70.099451),\n",
      " ' 0pa,  California,  United  States ': (40.0658594, -79.8863496),\n",
      " ' 0shville,  Tennessee,  United  States ': (35.5174913, -86.5804473),\n",
      " ' 30344,  Georgia,  United  States ': (33.6832181, -84.44877199999999),\n",
      " ' Accra,  Gha0 ': (5.5557169, -0.196306),\n",
      " ' Allentown,  Pennsylvania,  United  States ': (40.6084305, -75.4901833),\n",
      " ' Amboy,  Illinois,  United  States ': (41.71419969999999, -89.3287061),\n",
      " ' Amsterdam,  Netherlands ': (52.3702157, 4.895167900000001),\n",
      " ' Appleton,  United  States ': (44.2619309, -88.41538469999999),\n",
      " ' Asheville,  North  Caroli0,  United  States ': (35.5950581, -82.5514869),\n",
      " ' Atlanta,  Georgia,  United  States ': (33.7489954, -84.3879824),\n",
      " ' Auckland,  New  Zealand ': (-36.8484597, 174.7633315),\n",
      " ' Austin,  Texas,  United  States ': (30.267153, -97.7430608),\n",
      " ' Baltimore,  Maryland,  United  States ': (39.2903848, -76.6121893),\n",
      " ' Baltimore,  United  States ': (39.2903848, -76.6121893),\n",
      " ' Barberton,  Ohio,  United  States ': (41.012833, -81.6051221),\n",
      " ' Bay  City,  Michigan,  United  States ': (43.5944677, -83.8888647),\n",
      " ' Bedford,  New  Hampshire,  United  States ': (42.9463291,-71.51320079999999),\n",
      " ' Bend,  Oregon,  United  States ': (44.0581728, -121.3153096),\n",
      " ' Berea,  Ohio,  United  States ': (41.3661614, -81.8543026),\n",
      " ' Berkeley,  California,  United  States ': (37.8715926, -122.272747),\n",
      " ' Bethlehem,  Pennsylvania,  United  States ': (40.6259316,-75.37045789999999),\n",
      " ' Beverly  Hills,  California,  United  States ': (34.0736204, -118.4003563),\n",
      " ' Binghamton,  New  York,  United  States ': (42.09868669999999,-75.91797380000001),\n",
      " ' Birmingham,  Alabama,  United  States ': (33.5206608, -86.80248999999999),\n",
      " ' Blaine,  Minnesota,  United  States ': (45.1607987, -93.23494889999999),\n",
      " ' Bloomington-Normal,  Illinois,  United  States ': (40.4842027,-88.99368729999999),\n",
      " ' Bluffton,  South  Caroli0,  United  States ': (32.2371465, -80.8603868),\n",
      " ' Boone,  North  Caroli0,  United  States ': (36.216795, -81.6745517),\n",
      " ' Boston,  Massachusetts,  United  States ': (42.3584308, -71.0597732),\n",
      " ' Boulder,  CO,  Colorado,  United  States ': (40.0149856, -105.2705456),\n",
      " ' Boulder,  Colorado,  United  States ': (40.0149856, -105.2705456),\n",
      " ' Boulder,  United  States ': (40.0149856, -105.2705456),\n",
      " ' Boyle  Heights,  California,  United  States ': (34.0297895, -118.2117257),\n",
      " ' Bridgewater,  Maine,  United  States ': (46.427822, -67.84335639999999),\n",
      " ' Brookline,  New  Hampshire,  United  States ': (42.73481020000001,-71.6581267),\n",
      " ' Brooklyn,  New  York,  United  States ': (40.65, -73.95),\n",
      " ' Brunswick,  Maine,  United  States ': (43.9140162, -69.9669961),\n",
      " ' Burnsville,  North  Caroli0,  United  States ': (35.9173357, -82.300961),\n",
      " ' Central  Coast,  Guatemala ': (15.783471, -90.23075899999999),\n",
      " ' Champaign,  Illinois,  United  States ': (40.1164204, -88.2433829),\n",
      " ' Charleston,  West  Virginia,  United  States ': (38.3498195, -81.6326234),\n",
      " ' Chetek,  Wisconsin,  United  States ': (45.3141273, -91.6510007),\n",
      " ' Chevy  Chase,  Maryland,  United  States ': (38.9949153, -77.0772052),\n",
      " ' Chicago,  Illinois,  United  States ': (41.8781136, -87.6297982),\n",
      " ' Christiansburg,  Virginia,  United  States ': (37.1298517, -80.4089389),\n",
      " ' Cincin0ti,  Ohio,  United  States ': (39.1031182, -84.5120196),\n",
      " ' Cleveland,  Ohio,  United  States ': (41.4994954, -81.6954088),\n",
      " ' Cobble  Hill,  British  Columbia,  Ca0da ': (48.6883499, -123.6030889),\n",
      " ' Columbus,  Ohio,  United  States ': (39.9611755, -82.99879419999999),\n",
      " ' Conway,  Arkansas,  United  States ': (35.0886963, -92.4421011),\n",
      " ' Coquitlam,  British  Columbia,  Ca0da ': (49.2837626, -122.7932065),\n",
      " ' Corte  Madera,  California,  United  States ': (37.9254806, -122.5274755),\n",
      " ' Costa  Mesa,  California,  United  States ': (33.6411316, -117.9186689),\n",
      " ' Covington,  Kentucky,  United  States ': (39.0836712, -84.5085536),\n",
      " ' Cramerton,  North  Caroli0,  United  States ': (35.2359757, -81.0717324),\n",
      " ' Cusco,  Peru ': (-13.525, -71.97222219999999),\n",
      " ' Dallas,  Texas,  United  States ': (32.7801399, -96.80045109999999),\n",
      " ' Denver,  Colorado,  United  States ': (39.737567, -104.9847179),\n",
      " ' Detroit,  Michigan,  United  States ': (42.331427, -83.0457538),\n",
      " ' Drouin,  Australia ': (-38.1362, 145.8571498),\n",
      " ' Durham,  North  Caroli0,  United  States ': (35.9940329, -78.898619),\n",
      " ' EUREKA,  California,  United  States ': (40.8020712, -124.1636729),\n",
      " ' Earlville,  New  York,  United  States ': (42.7397917, -75.54518039999999),\n",
      " ' Eastport,  Maine,  United  States ': (44.9061906, -66.98997849999999),\n",
      " ' Elberton,  Georgia,  United  States ': (34.1112226, -82.8670839),\n",
      " ' Encinitas,  United  States ': (33.0369867, -117.2919818),\n",
      " ' Estacada,  Oregon,  United  States ': (45.28956549999999, -122.3336963),\n",
      " ' Farmingdale,  New  York,  United  States ': (40.7325997, -73.4454009),\n",
      " ' Ferndale,  Michigan,  United  States ': (42.4605917, -83.1346478),\n",
      " ' Flint,  Michigan,  United  States ': (43.0125274, -83.6874562),\n",
      " ' Fort  Ann,  New  York,  United  States ': (43.4142375, -73.48761240000002),\n",
      " ' Fort  Lauderdale,  Florida,  United  States ': (26.1224386,-80.13731740000001),\n",
      " ' Fort  Wayne,  India0,  United  States ': (41.079273, -85.1393513),\n",
      " ' Framingham,  Massachusetts,  United  States ': (42.279286, -71.4161565),\n",
      " ' Gainesville,  Florida,  United  States ': (29.6516344, -82.32482619999999),\n",
      " ' Geneva,  Switzerland ': (46.1983922, 6.142296099999999),\n",
      " ' Gleisdorf,  Austria ': (47.1068416, 15.7085092),\n",
      " ' Gloucester,  Massachusetts,  United  States ': (42.6159285, -70.6619888),\n",
      " ' Half  Moon  Bay,  California,  United  States ': (37.4635519, -122.4285862),\n",
      " ' Harrisburg,  Pennsylvania,  United  States ': (40.2737002, -76.8844179),\n",
      " ' Harrisonburg,  Virginia,  United  States ': (38.4495688, -78.8689155),\n",
      " ' Hoboken,  New  Jersey,  United  States ': (40.7439905, -74.0323626),\n",
      " ' Houston,  Texas,  United  States ': (29.7601927, -95.36938959999999),\n",
      " ' Jackson,  Mississippi,  United  States ': (32.2987573, -90.1848103),\n",
      " ' Jacksonville,  Florida,  United  States ': (30.3321838, -81.65565099999999),\n",
      " ' Jersey  City,  New  Jersey,  United  States ': (40.72815749999999,-74.0776417),\n",
      " ' Jouy-en-Josas,  France ': (48.76454500000001, 2.169007),\n",
      " ' Kalamazoo,  Michigan,  United  States ': (42.2917069, -85.5872286),\n",
      " ' Kampala,  Uganda ': (0.3136111, 32.5811111),\n",
      " ' Keenesburg,  Colorado,  United  States ': (40.1083158, -104.5199585),\n",
      " ' Kettleman  City,  California,  United  States ': (36.0082864, -119.9617998),\n",
      " ' Knoxville,  Tennessee,  United  States ': (35.9606384, -83.9207392),\n",
      " ' Koforidua,  Gha0 ': (6.087480999999999, -0.26245),\n",
      " ' K\\xc3\\xb6ln,  Germany ': (50.937531, 6.9602786),\n",
      " ' Lafayette,  Louisia0,  United  States ': (30.2240897, -92.0198427),\n",
      " ' Lagunitas,  California,  United  States ': (38.0113119, -122.7022085),\n",
      " ' Lake  Mills,  Wisconsin,  United  States ': (43.0813888,-88.91177420000001),\n",
      " ' Las  Vegas,  Nevada,  United  States ': (36.114646, -115.172816),\n",
      " ' Lincolnton,  North  Caroli0,  United  States ': (35.473745, -81.2545251),\n",
      " ' Liverpool,  New  York,  United  States ': (43.106456, -76.21770459999999),\n",
      " ' London,  United  Kingdom ': (51.51121389999999, -0.1198244),\n",
      " ' Long  Beach,  New  York,  United  States ': (40.5884373,-73.65790799999999),\n",
      " ' Longboat  Key,  Florida,  United  States ': (27.4125417, -82.6589881),\n",
      " ' Los  Altos,  California,  United  States ': (37.3852183, -122.1141298),\n",
      " ' Los  Angeles,  California,  United  States ': (34.0522342, -118.2436849),\n",
      " ' Los  Osos,  California,  United  States ': (35.3225075, -120.8310244),\n",
      " ' Lyantonde,  Uganda ': (-0.4069444, 31.1575),\n",
      " ' Lynchburg,  Virginia,  United  States ': (37.4137536, -79.14224639999999),\n",
      " ' Malvern,  Pennsylvania,  United  States ': (40.0362184, -75.5138118),\n",
      " ' Maricopa,  Arizo0,  United  States ': (33.0581063, -112.0476423),\n",
      " ' Martell,  Nebraska,  United  States ': (40.6375021, -96.7586323),\n",
      " ' Mesa,  Arizo0,  United  States ': (33.4151843, -111.8314724),\n",
      " ' Miami,  Florida,  United  States ': (25.7889689, -80.2264393),\n",
      " ' Middleton,  Wisconsin,  United  States ': (43.09721740000001, -89.5042876),\n",
      " ' Millbrook,  New  York,  United  States ': (41.7850937, -73.6940175),\n",
      " ' Milwaukee,  Wisconsin,  United  States ': (43.0389025, -87.9064736),\n",
      " ' Minneapolis,  Minnesota,  United  States ': (44.983334, -93.26666999999999),\n",
      " ' Monroe,  Washington,  United  States ': (47.8553772, -121.9709579),\n",
      " ' Montpelier,  Vermont,  United  States ': (44.26005929999999, -72.5753869),\n",
      " ' Montreal,  Quebec,  Ca0da ': (45.5086699, -73.55399249999999),\n",
      " ' Montr\\xc3\\xa9al,  Quebec,  Ca0da ': (45.5086699, -73.55399249999999),\n",
      " ' Morell,  Prince  Edward  Island,  Ca0da ': (46.4159891, -62.70597029999999),\n",
      " ' Morgantown,  West  Virginia,  United  States ': (39.629526,-79.95589679999999),\n",
      " ' Mountain  View,  California,  United  States ': (37.3860517, -122.0838511),\n",
      " ' Muncie,  India0,  United  States ': (40.1933767, -85.3863599),\n",
      " ' Murfreesboro,  Tennessee,  United  States ': (35.8456213, -86.39027),\n",
      " ' New  Orleans,  Louisia0,  United  States ': (29.95106579999999, -90.0715323),\n",
      " ' New  Windsor,  New  York,  United  States ': (41.4767605,-74.02375180000001),\n",
      " ' New  York  City,  New  York,  United  States ': (40.7143528,-74.00597309999999),\n",
      " ' New  York,  New  York,  United  States ': (40.7143528, -74.00597309999999),\n",
      " ' Newton,  Massachusetts,  United  States ': (42.3370413, -71.20922139999999),\n",
      " ' Newtown,  Pennsylvania,  United  States ': (40.2283371, -74.9322596),\n",
      " ' North  Fork,  California,  United  States ': (37.2293765, -119.5093812),\n",
      " ' Northampton,  Massachusetts,  United  States ': (42.3250896,-72.64120129999999),\n",
      " ' Northborough,  Massachusetts,  United  States ': (42.3195556, -71.6411997),\n",
      " ' Northeast,  California,  United  States ': (34.0409855, -118.479097),\n",
      " ' Noti,  Oregon,  United  States ': (44.05901129999999, -123.4487105),\n",
      " ' Novato,  California,  United  States ': (38.1074198, -122.5697032),\n",
      " ' Oakland,  Berkeley,  SF  Bay  Area,  California,  United  States ': (37.71119360000001,-122.1460756),\n",
      " ' Oakland,  California,  United  States ': (37.8043637, -122.2711137),\n",
      " ' Olympia,  Washington,  United  States ': (47.0378741, -122.9006951),\n",
      " ' Onto0gon,  Michigan,  United  States ': (46.8710525, -89.31403019999999),\n",
      " ' Ottawa,  Ontario,  Ca0da ': (45.4215296, -75.69719309999999),\n",
      " ' Overland  Park,  Kansas,  United  States ': (38.9822282, -94.6707917),\n",
      " ' PORTLAND,  Oregon,  United  States ': (45.5234515, -122.6762071),\n",
      " ' Park  Slope,  Brooklyn,  New  York,  United  States ': (40.6681669, -73.9800645),\n",
      " ' Philadelphia,  Pennsylvania,  United  States ': (39.952335,-75.16378900000001),\n",
      " ' Phoenix,  Arizo0,  United  States ': (33.4483771, -112.0740373),\n",
      " ' Pine  Ridge,  South  Dakota,  United  States ': (43.02554079999999, -102.5562743),\n",
      " ' Plainfield,  Illinois,  United  States ': (41.615915, -88.20406899999999),\n",
      " ' Plantation,  Florida,  United  States ': (26.1275862, -80.23310359999999),\n",
      " ' Pontiac,  Michigan,  United  States ': (42.6389216, -83.29104679999999),\n",
      " ' Portland,  Maine,  United  States ': (43.66147100000001, -70.2553259),\n",
      " ' Portland,  Oregon,  United  States ': (45.5234515, -122.6762071),\n",
      " ' Providence,  Rhode  Island,  United  States ': (41.8239891, -71.4128343),\n",
      " ' Puyallup,  Washington,  United  States ': (47.1853785, -122.2928974),\n",
      " ' Raleigh,  North  Caroli0,  United  States ': (35.7795897, -78.6381787),\n",
      " ' Redding,  California,  United  States ': (40.5865396, -122.3916754),\n",
      " ' Richmond,  Virginia,  United  States ': (37.5407246, -77.4360481),\n",
      " ' Ridgewood,  New  Jersey,  United  States ': (40.9792645,-74.11653129999999),\n",
      " ' River  Falls,  WI,  Wisconsin,  United  States ': (44.8613563, -92.6238082),\n",
      " ' Rochelle,  Virginia,  United  States ': (38.2904083, -78.2725049),\n",
      " ' Rochester,  Minnesota,  United  States ': (44.0234, -92.46294999999999),\n",
      " ' Rockport,  Texas,  United  States ': (28.0205733, -97.0544341),\n",
      " ' Rome,  Italy,  Italy ': (41.8929163, 12.4825199),\n",
      " ' Rotterdam,  Netherlands ': (51.92421599999999, 4.481776),\n",
      " ' Sacramento,  California,  United  States ': (38.5815719, -121.4943996),\n",
      " ' Salt  Lake  City,  Utah,  United  States ': (40.7607793, -111.8910474),\n",
      " ' San  Anselmo,  California,  United  States ': (37.9746458, -122.5616448),\n",
      " ' San  Antonio,  Texas,  United  States ': (29.4241219, -98.49362819999999),\n",
      " ' San  Diego,  California,  United  States ': (32.7153292, -117.1572551),\n",
      " ' San  Francisco,  California,  United  States ': (37.7749295, -122.4194155),\n",
      " ' San  Jose,  California,  United  States ': (37.3393857, -121.8949555),\n",
      " ' San  Juan  del  Sur,  Nicaragua ': (11.25263, -85.869652),\n",
      " ' San,  California,  United  States ': (32.7319, -117.197312),\n",
      " ' Sandy,  Utah,  United  States ': (40.57250000000001, -111.8597222),\n",
      " ' Santa  Cruz,  California,  United  States ': (36.9741171, -122.0307963),\n",
      " ' Santa  Fe,  United  States ': (35.6869752, -105.937799),\n",
      " ' Santa  Rosa,  California,  United  States ': (38.4404674, -122.7144314),\n",
      " ' Saskatoon,  Ca0da ': (52.1343699, -106.647656),\n",
      " ' Sautee  0coochee,  Georgia,  United  States ': (34.6839825,-83.67434999999999),\n",
      " ' Savan0h,  Georgia,  United  States ': (32.0835407, -81.09983419999999),\n",
      " ' Seattle,  Washington,  United  States ': (47.6062095, -122.3320708),\n",
      " ' Sebastopol,  California,  United  States ': (38.4021359, -122.8238806),\n",
      " ' Seoul,  Korea,  Republic  of ': (37.5318933, 126.9191163),\n",
      " ' Siem  Reap,  Cambodia ': (13.3333333, 103.8333333),\n",
      " ' Sierra  Vista,  Arizo0,  United  States ': (31.5455001, -110.2772856),\n",
      " ' Siler  City,  North  Caroli0,  United  States ': (35.7234734, -79.4622431),\n",
      " ' Somerville,  Massachusetts,  United  States ': (42.3875968, -71.0994968),\n",
      " ' Sooke,  British  Columbia,  Ca0da ': (48.3761111, -123.7377778),\n",
      " ' South  Bend,  India0,  United  States ': (41.6790089, -86.2653012),\n",
      " ' Southwestern,  Virginia,  United  States ': (37.325278, -79.975278),\n",
      " ' Spokane,  Washington,  United  States ': (47.6587802, -117.4260466),\n",
      " ' St.  Louis,  Missouri,  United  States ': (38.6270025, -90.19940419999999),\n",
      " ' Starks,  Maine,  United  States ': (44.7306156, -69.9661708),\n",
      " ' Sturgeon  Bay,  Wisconsin,  United  States ': (44.8341639, -87.3770419),\n",
      " ' Sun  River,  Monta0,  United  States ': (47.5332871, -111.7213719),\n",
      " ' Sydney,  Australia ': (-33.8674869, 151.2069902),\n",
      " ' Syracuse,  New  York,  United  States ': (43.0481221, -76.14742439999999),\n",
      " ' Tacoma,  Washington,  United  States ': (47.2528768, -122.4442906),\n",
      " ' Tormabum,  Sierra  Leone ': (7.4199402, -12.0065072),\n",
      " ' Toronto,  Ca0da ': (43.653226, -79.3831843),\n",
      " ' Toronto,  Ontario,  Ca0da ': (43.653226, -79.3831843),\n",
      " ' Trenton,  New  Jersey,  United  States ': (40.2170534, -74.7429384),\n",
      " ' Tualatin,  Oregon,  United  States ': (45.3840077, -122.7639851),\n",
      " ' Tucson,  Arizo0,  United  States ': (32.2217429, -110.926479),\n",
      " ' Tulsa,  Oklahoma,  United  States ': (36.1539816, -95.99277500000001),\n",
      " ' Tulum,  Mexico ': (20.2119444, -87.4658333),\n",
      " ' Unity,  Maine,  United  States ': (44.6111643, -69.3345032),\n",
      " ' Vancouver,  British  Columbia,  Ca0da ': (49.261226, -123.1139268),\n",
      " ' Vernon  Hills,  Illinois,  United  States ': (42.21946860000001,-87.9795187),\n",
      " ' Victoria,  British  Columbia,  Ca0da ': (48.4284207, -123.3656444),\n",
      " ' Washington,  District  of  Columbia,  United  States ': (38.90723089999999,-77.0364641),\n",
      " ' Watchung,  New  Jersey,  United  States ': (40.63788, -74.4509863),\n",
      " ' Waterloo,  New  York,  United  States ': (42.9047884, -76.8627367),\n",
      " ' West  Hollywood,  California,  United  States ': (34.0900091, -118.3617443),\n",
      " ' Westfield,  Maine,  United  States ': (46.5698715, -67.9226825),\n",
      " ' Westport,  Ireland ': (53.80213070000001, -9.514346699999999),\n",
      " ' Wichita,  Kansas,  United  States ': (37.68888889999999, -97.3361111),\n",
      " ' Wien,  Austria ': (48.2081743, 16.3738189),\n",
      " ' Wilmington,  North  Caroli0,  United  States ': (34.2257255, -77.9447102),\n",
      " ' Wolfsberg,  Austria ': (46.8401, 14.84277),\n",
      " ' Woodford,  Virginia,  United  States ': (38.1131886, -77.4088708),\n",
      " ' Woodstock,  New  York,  United  States ': (42.0409247, -74.1181971),\n",
      " ' Zurich,  Switzerland ': (47.3686498, 8.539182499999999),\n",
      " ' long  beach,  California,  United  States ': (33.768321, -118.1956168),\n",
      " ' oakland  park,  Florida,  United  States ': (26.1723065, -80.1319893),\n",
      " '0ples, Florida, United States': (27.6648274, -81.5157535),\n",
      " '91710, California, United States': (34.0120229, -117.6786847),\n",
      " 'A0heim, California, United States': (33.8352932, -117.9145036),\n",
      " 'Accra, Gha0': (5.5557169, -0.196306),\n",
      " 'Adelaide, Australia': (-34.92862119999999, 138.5999594),\n",
      " 'Agoura Hills, California, United States': (34.1533395, -118.7616764),\n",
      " 'Akron, Ohio, United States': (41.0814447, -81.51900529999999),\n",
      " 'Almere, Netherlands': (52.371353, 5.222124),\n",
      " 'Alpharetta, Georgia, United States': (34.0753762, -84.2940899),\n",
      " 'Alpharetta, United States': (34.0753762, -84.2940899),\n",
      " 'Amsterdam, Netherlands': (52.3702157, 4.895167900000001),\n",
      " 'Ann Arbor, Michigan, United States': (42.2808256, -83.7430378),\n",
      " 'Arvada, Colorado, United States': (39.8027644, -105.0874842),\n",
      " 'Ash Fork, Arizo0, United States': (35.2250114, -112.4840675),\n",
      " 'Asheville, North Caroli0, United States': (35.5950581, -82.5514869),\n",
      " 'Ashland, Oregon, United States': (42.1945758, -122.7094767),\n",
      " 'Atlanta, Georgia, United States': (33.7489954, -84.3879824),\n",
      " 'Aurora, Colorado, United States': (39.7294319, -104.8319195),\n",
      " 'Aurora, India0, United States': (33.6966857, -116.2492905),\n",
      " 'Austin, Texas, United States': (30.267153, -97.7430608),\n",
      " 'Austria, Austria': (47.516231, 14.550072),\n",
      " 'Baden, Switzerland': (47.4737667, 8.3064732),\n",
      " 'Baden-Baden, Germany': (48.76564, 8.228524199999999),\n",
      " 'Baltimore, Maryland, United States': (39.2903848, -76.6121893),\n",
      " 'Bangalore, India': (12.9715987, 77.5945627),\n",
      " 'Barcelo0, Spain': (41.3850639, 2.1734035),\n",
      " 'Bari, Italy': (41.1171432, 16.8718715),\n",
      " 'Bath, United Kingdom': (51.375801, -2.3599039),\n",
      " 'Beijing, Chi0': (40.4478283, 116.2265448),\n",
      " 'Beirut, Lebanon': (33.8886289, 35.4954794),\n",
      " 'Belgrade, Serbia': (44.8205556, 20.4622222),\n",
      " 'Belo Horizonte, Brazil': (-19.9190677, -43.9385747),\n",
      " 'Bergamo, Italy': (45.6982642, 9.6772698),\n",
      " 'Berkeley, California, United States': (37.8715926, -122.272747),\n",
      " 'Berkeley, United States': (37.8715926, -122.272747),\n",
      " 'Berkhamsted, United Kingdom': (51.75976600000001, -0.5678569000000001),\n",
      " 'Berlin, Germany': (52.52000659999999, 13.404954),\n",
      " 'Beverly Hills, California, United States': (34.0736204, -118.4003563),\n",
      " 'Bietigheim-Bissingen, Germany': (48.9471605, 9.1305037),\n",
      " 'Binghamton, New York, United States': (42.09868669999999,-75.91797380000001),\n",
      " 'Birmingham, Alabama, United States': (33.5206608, -86.80248999999999),\n",
      " 'Birmingham, United Kingdom': (52.48624299999999, -1.890401),\n",
      " 'Blacksburg, Virginia, United States': (37.2295733, -80.4139393),\n",
      " 'Bloomington, India0, United States': (39.1697028, -86.5236934),\n",
      " 'Bodnegg, Germany': (47.7099377, 9.6890695),\n",
      " 'Boise, Idaho, United States': (43.6187102, -116.2146068),\n",
      " 'Bordentown, New Jersey, United States': (40.1480827, -74.69457369999999),\n",
      " 'Boston, Massachusetts, United States': (42.3584308, -71.0597732),\n",
      " 'Boulder City, Nevada, United States': (35.9782216, -114.8345117),\n",
      " 'Boulder, Colorado, United States': (40.0149856, -105.2705456),\n",
      " 'Boxtel, Netherlands': (51.601437, 5.3121773),\n",
      " 'Brasschaat, Belgium': (51.29226999999999, 4.49419),\n",
      " 'Bratislava, Slovakia': (48.1458923, 17.1071373),\n",
      " 'Braunschweig, Germany': (52.2688736, 10.5267696),\n",
      " 'Brighton, United Kingdom': (50.82253000000001, -0.137163),\n",
      " 'Brooklyn via Newburgh, NY, New York, United States': (40.7143528,-74.00597309999999),\n",
      " 'Brooklyn, New York, United States': (40.65, -73.95),\n",
      " 'Brussels, Belgium': (50.8503396, 4.3517103),\n",
      " 'Bucharest, Romania': (44.4325, 26.1038889),\n",
      " 'Budapest, Hungary': (47.497912, 19.040235),\n",
      " 'Buenos Aires, Argenti0': (-34.6037232, -58.3815931),\n",
      " 'Buffalo, New York, United States': (42.88644679999999, -78.8783689),\n",
      " 'Burlingame, California, United States': (37.5841026, -122.3660825),\n",
      " 'Burlington, Vermont, United States': (44.4758825, -73.21207199999999),\n",
      " 'Calcio, Italy': (45.50736819999999, 9.851878300000001),\n",
      " 'Caldwell, New Jersey, United States': (40.8398218, -74.2765366),\n",
      " 'Calgary, Alberta, Ca0da': (51.0453246, -114.0581012),\n",
      " 'California, United States': (36.778261, -119.4179324),\n",
      " 'Cambridge, Massachusetts, United States': (42.3736158, -71.10973349999999),\n",
      " 'Cambridge, United Kingdom': (52.205337, 0.121817),\n",
      " 'Canberra, Australia': (-35.2819998, 149.1286843),\n",
      " 'Cancun, Mexico': (21.161908, -86.8515279),\n",
      " 'Caorle, Italy': (45.6030238, 12.8859589),\n",
      " 'Capalaba, Australia': (-27.5223491, 153.1913229),\n",
      " 'Carbondale, Illinois, United States': (37.7272727, -89.2167501),\n",
      " 'Cardston, Alberta, Ca0da': (49.1950663, -113.301798),\n",
      " 'Carlsbad, California, United States': (33.1580933, -117.3505939),\n",
      " 'Cary, North Caroli0, United States': (35.79154, -78.7811169),\n",
      " 'Chapala, Mexico': (20.290624, -103.1947859),\n",
      " 'Chapel Hill, North Caroli0, United States': (35.9131996, -79.0558445),\n",
      " 'Charlotte, North Caroli0, United States': (35.2270869, -80.8431267),\n",
      " 'Chattanooga, Tennessee, United States': (35.0456297, -85.3096801),\n",
      " 'Chen0i, India': (13.0524139, 80.25082460000002),\n",
      " 'Chesapeake, Virginia, United States': (36.7682088, -76.2874927),\n",
      " 'Cheyenne, Wyoming, United States': (41.1399814, -104.8202462),\n",
      " 'Chicago, Illinois, United States': (41.8781136, -87.6297982),\n",
      " 'Chico, California, United States': (39.7284944, -121.8374777),\n",
      " 'Chur, Switzerland': (46.85726210000001, 9.5267305),\n",
      " 'Cincin0ti, Ohio, United States': (39.1031182, -84.5120196),\n",
      " 'Clarkston, Michigan, United States': (42.7351196, -83.4192941),\n",
      " 'Cleveland, Ohio, United States': (41.4994954, -81.6954088),\n",
      " 'Cloudcroft, New Mexico, United States': (32.9573133, -105.7424855),\n",
      " 'Colchester, United Kingdom': (51.895927, 0.8918740000000001),\n",
      " 'College Park, Maryland, United States': (38.9896967, -76.93776),\n",
      " 'Cologne, Germany': (50.937531, 6.9602786),\n",
      " 'Columbia, Maryland, United States': (39.2037144, -76.86104619999999),\n",
      " 'Columbia, Missouri, United States': (38.9517053, -92.3340724),\n",
      " 'Columbus, Ohio, United States': (39.9611755, -82.99879419999999),\n",
      " 'Conshohocken, Pennsylvania, United States': (40.0792766, -75.3015714),\n",
      " 'Copenhagen, Denmark': (55.6760968, 12.5683371),\n",
      " 'Coral Gables, Florida, United States': (25.72149, -80.2683838),\n",
      " 'Culiacan, Mexico': (24.8048499, -107.385498),\n",
      " 'Cupertino, California, United States': (37.3229978, -122.0321823),\n",
      " 'Dahlonega, Georgia, United States': (34.5261465, -83.9843953),\n",
      " 'Dallas, Texas, United States': (32.7801399, -96.80045109999999),\n",
      " 'Dallas, United States': (32.7801399, -96.80045109999999),\n",
      " 'Davie, Florida, United States': (26.0764783, -80.25211569999999),\n",
      " 'Davis, California, United States': (38.5449065, -121.7405167),\n",
      " 'Dayton, Ohio, United States': (39.7589478, -84.1916069),\n",
      " 'Decazeville, France': (44.560317, 2.25183),\n",
      " 'Deerfield Beach, Florida, United States': (26.3184123, -80.09976569999999),\n",
      " 'Delft, Netherlands': (52.01157689999999, 4.3570677),\n",
      " 'Denver, Colorado, United States': (39.737567, -104.9847179),\n",
      " 'Didcot, United Kingdom': (51.60804400000001, -1.24484),\n",
      " 'Diss, United Kingdom': (52.37649099999999, 1.108394),\n",
      " 'District of Columbia, District of Columbia, United States': (38.90723089999999,-77.0364641),\n",
      " 'District of Columbia, Washington, United States': (38.90723089999999,-77.0364641),\n",
      " 'Dover, Delaware, United States': (39.158168, -75.5243682),\n",
      " 'Dowagiac, Michigan, United States': (41.9842123, -86.10862279999999),\n",
      " 'Draper, Utah, United States': (40.5246711, -111.8638226),\n",
      " 'Dresden, Germany': (51.0504088, 13.7372621),\n",
      " 'Dublin, Ireland': (53.3498053, -6.2603097),\n",
      " 'Durango, Colorado, United States': (37.27528, -107.8800667),\n",
      " 'Durham, North Caroli0, United States': (35.9940329, -78.898619),\n",
      " 'D\\xc3\\xbcsseldorf, Germany': (51.2277411, 6.7734556),\n",
      " 'Easley, South Caroli0, United States': (34.829838, -82.6015206),\n",
      " 'Eden Prairie, Minnesota, United States': (44.8546856, -93.47078599999999),\n",
      " 'Edison, New Jersey, United States': (40.5187154, -74.4120953),\n",
      " 'Edmonton, Alberta, Ca0da': (53.544389, -113.4909267),\n",
      " 'El Paso, Texas, United States': (31.7699559, -106.4968055),\n",
      " 'Elmer, New Jersey, United States': (39.5951147, -75.1701819),\n",
      " 'Encinitas, California, United States': (33.0369867, -117.2919818),\n",
      " 'Eugene, Oregon, United States': (44.0520691, -123.0867536),\n",
      " 'Evanston, Illinois, United States': (42.0450722, -87.68769689999999),\n",
      " 'Fairfield, Iowa, United States': (41.0072222, -91.9658333),\n",
      " 'Falls Church, Virginia, United States': (38.88233400000001, -77.1710914),\n",
      " 'Farmington, Connecticut, United States': (41.7360305, -72.79502699999999),\n",
      " 'Farnham, United Kingdom': (51.214321, -0.798802),\n",
      " 'Fayetteville, New York, United States': (43.0297887, -76.00436429999999),\n",
      " 'Florence, Italy': (43.7710332, 11.2480006),\n",
      " 'Fort Collins, Colorado, United States': (40.5852602, -105.084423),\n",
      " 'Fort Myers, United States': (26.640628, -81.8723084),\n",
      " 'Fort Wayne, India0, United States': (41.079273, -85.1393513),\n",
      " 'Foster City, California, United States': (37.5585465, -122.2710788),\n",
      " 'Frankfurt/Main, Germany': (50.1109221, 8.6821267),\n",
      " 'Fredericton, New Brunswick, Ca0da': (45.9635895, -66.6431151),\n",
      " 'Fremont, California, United States': (37.5482697, -121.9885719),\n",
      " 'Fresno, California, United States': (36.7468422, -119.7725868),\n",
      " 'Ft. Lauderdale, Florida, United States': (26.1224386, -80.13731740000001),\n",
      " 'Georgetown, District of Columbia, United States': (38.9097057,-77.06535650000001),\n",
      " 'Georgetown, India0, United States': (38.3001494, -86.0181151),\n",
      " 'Gold Coast, Australia': (-28.0172605, 153.4256987),\n",
      " 'Goleta, California, United States': (34.4358294, -119.8276389),\n",
      " 'Gorno-Altaysk, Russian Federation': (51.95, 85.95),\n",
      " 'Grand Rapids, Michigan, United States': (42.9633599, -85.6680863),\n",
      " 'Graz, Austria': (47.070714, 15.439504),\n",
      " 'Greeley, Colorado, United States': (40.4233142, -104.7091322),\n",
      " 'Greenville, North Caroli0, United States': (35.612661, -77.3663538),\n",
      " 'Guayaquil, Ecuador': (-2.203816, -79.897453),\n",
      " 'Gurnee, Illinois, United States': (42.3702996, -87.90201859999999),\n",
      " 'G\\xc3\\xb6teborg, Sweden': (57.70887, 11.97456),\n",
      " 'Halmstad, Sweden': (56.6743748, 12.8577884),\n",
      " 'Hamburg, Germany': (53.5510846, 9.9936818),\n",
      " 'Hanover, New Hampshire, United States': (43.7022451, -72.2895526),\n",
      " 'Harker heights, Texas, United States': (31.0835102, -97.6597376),\n",
      " 'Harrisburg, Pennsylvania, United States': (40.2737002, -76.8844179),\n",
      " 'Hawthorne, California, United States': (33.9164032, -118.3525748),\n",
      " 'Hayward, California, United States': (37.6688205, -122.0807964),\n",
      " 'Helsinki, Finland': (60.17332440000001, 24.9410248),\n",
      " 'Henderson, Colorado, United States': (39.9202178, -104.8660597),\n",
      " 'Herning, Denmark': (56.138557, 8.967322),\n",
      " 'Herrenberg, Germany': (48.5950369, 8.8671577),\n",
      " 'Hesperia, California, United States': (34.4263886, -117.3008784),\n",
      " 'Hillsboro, Oregon, United States': (45.5228939, -122.989827),\n",
      " 'Hobe Sound, Florida, United States': (27.059498, -80.1364323),\n",
      " 'Hoboken, New Jersey, United States': (40.7439905, -74.0323626),\n",
      " 'Hokksund, Norway': (59.7707469, 9.910865099999999),\n",
      " 'Hong Kong, Hong Kong': (22.396428, 114.109497),\n",
      " 'Hoorn, Netherlands': (52.6423654, 5.0602124),\n",
      " 'Houston, Texas, Texas, United States': (29.7601927, -95.36938959999999),\n",
      " 'Houston, Texas, United States': (29.7601927, -95.36938959999999),\n",
      " 'Hudson, Ohio, United States': (41.240056, -81.44066699999999),\n",
      " 'Huelva, Spain': (37.261421, -6.9447224),\n",
      " 'India0polis, India0, United States': (39.768403, -86.158068),\n",
      " 'Irvine, California, United States': (33.6839473, -117.7946942),\n",
      " 'Irving, Texas, United States': (32.8140177, -96.9488945),\n",
      " 'Istanbul, Turkey': (41.00527, 28.97696),\n",
      " 'Ithaca, New York, United States': (42.4439614, -76.5018807),\n",
      " 'Jacksonville, Oregon, United States': (42.31345839999999, -122.9669865),\n",
      " 'Jaco, Costa Rica': (9.6166667, -84.63333329999999),\n",
      " 'Jersey City, New Jersey, United States': (40.72815749999999, -74.0776417),\n",
      " 'Johannesburg, South Africa': (-26.2041028, 28.0473051),\n",
      " 'Joppatowne, Maryland, United States': (39.4141718, -76.34638470000002),\n",
      " 'Jyv\\xc3\\xa4skyl\\xc3\\xa4, Finland': (62.244747, 25.7472184),\n",
      " 'Karmiel~Misgav, Israel': (32.918953, 35.296762),\n",
      " 'Kennesaw, Georgia, United States': (34.0234337, -84.6154897),\n",
      " 'Kigali, Rwanda': (-1.950106, 30.058769),\n",
      " 'Kingston upon Thames, United Kingdom': (51.41233, -0.300689),\n",
      " 'Kitchener-Waterloo, Ontario, Ca0da': (43.4534718, -80.5001242),\n",
      " 'Kochi, Japan': (33.5597062, 133.5310786),\n",
      " 'Kochkor, Kyrgyzstan': (42.20792, 75.750687),\n",
      " 'Kuala Lumpur, Malaysia': (3.139003, 101.686855),\n",
      " 'Kyiv, Ukraine': (50.4501, 30.5234),\n",
      " 'LAVAL, France': (48.077863, -0.770138),\n",
      " 'La Junta, Colorado, United States': (37.9850091, -103.5438321),\n",
      " 'Lachute, Quebec, Ca0da': (45.6520586, -74.3398015),\n",
      " 'Lagu0 Niguel, California, United States': (33.5225261, -117.7075526),\n",
      " 'Lancaster, Pennsylvania, United States': (40.0378755, -76.3055144),\n",
      " 'Lannion, France': (48.732084, -3.459144),\n",
      " 'Lappenranta, Finland': (61.05494119999999, 28.1896259),\n",
      " 'Las Vegas, Nevada, United States': (36.114646, -115.172816),\n",
      " 'Las Vegas, United States': (36.114646, -115.172816),\n",
      " 'Lausanne, Switzerland': (46.5199617, 6.633597099999999),\n",
      " 'Lawrence, Kansas, United States': (38.9716689, -95.2352501),\n",
      " 'Lawrenceville, New Jersey, United States': (40.3016375, -74.7361013),\n",
      " 'Lehi, Utah, United States': (40.3916172, -111.8507662),\n",
      " 'Leiden, Netherlands': (52.158494, 4.496199),\n",
      " 'Lemitar, New Mexico, United States': (34.1596096, -106.9100192),\n",
      " 'Leominster, Massachusetts, United States': (42.5250906, -71.759794),\n",
      " 'Lexington, Kentucky, United States': (38.0405837, -84.5037164),\n",
      " 'Lichfield District, United Kingdom': (52.6675081, -1.8172706),\n",
      " 'Lisboa, Portugal': (38.7252993, -9.150036400000001),\n",
      " 'London and Turin, Italy': (45.07098200000001, 7.685676),\n",
      " 'London, Ohio, United States': (39.8864493, -83.4482529),\n",
      " 'London, Ontario, Ca0da': (42.9869502, -81.243177),\n",
      " 'London, United Kingdom': (51.51121389999999, -0.1198244),\n",
      " 'Lorca, Murcia, Spain': (37.6735925, -1.6968357),\n",
      " 'Los Angeles, California, United States': (34.0522342, -118.2436849),\n",
      " 'Los Gatos, California, United States': (37.2358078, -121.9623751),\n",
      " 'Lusaka, Zambia': (-15.408193, 28.287167),\n",
      " 'Madison, Wisconsin, United States': (43.0730517, -89.4012302),\n",
      " 'Maitland, Florida, United States': (28.6277767, -81.36312439999999),\n",
      " 'Malm\\xc3\\xb6, Sweden': (55.604981, 13.003822),\n",
      " 'Manchester, New Hampshire, United States': (42.9956397, -71.4547891),\n",
      " 'Manchester, United Kingdom': (53.479324, -2.2484851),\n",
      " 'Mannheim, Germany': (49.4874592, 8.466039499999999),\n",
      " 'Maplewood, New Jersey, United States': (40.7299793, -74.271992),\n",
      " 'Marbella, Spain': (36.510071, -4.8824474),\n",
      " 'Marlboro, New Jersey, United States': (40.3380949, -74.26872910000002),\n",
      " 'Marseille, France': (43.296482, 5.36978),\n",
      " 'Marston Mag0, United Kingdom': (45.551747, -70.946732),\n",
      " 'Massa (MS), Italy': (44.0353943, 10.1393443),\n",
      " 'McKinney, Texas, United States': (33.1972465, -96.6397822),\n",
      " 'Melbourne, Australia': (-37.814107, 144.96328),\n",
      " 'Melbourne, Florida, United States': (28.0836269, -80.60810889999999),\n",
      " 'Memphis, Tennessee, United States': (35.1495343, -90.0489801),\n",
      " 'Menlo Park, California, United States': (37.4538274, -122.1821871),\n",
      " 'Mesa, Arizo0, United States': (33.4151843, -111.8314724),\n",
      " 'Miami Beach, United States': (25.790654, -80.1300455),\n",
      " 'Miami, Florida, United States': (25.7889689, -80.2264393),\n",
      " 'Miami, United States': (25.7889689, -80.2264393),\n",
      " 'Middletown, Connecticut, United States': (41.5623209, -72.6506488),\n",
      " 'Middletown, New Jersey, United States': (40.3968012, -74.09159819999999),\n",
      " 'Midland, Texas, United States': (31.9973456, -102.0779146),\n",
      " 'Midvale, Utah, United States': (40.6110589, -111.8999353),\n",
      " 'Milan, Italy': (45.4654542, 9.186516),\n",
      " 'Milano, Italy': (45.4654542, 9.186516),\n",
      " 'Milpitas, California, United States': (37.4323341, -121.8995741),\n",
      " 'Minneapolis, Minnesota, United States': (44.983334, -93.26666999999999),\n",
      " 'Minneapolis, United States': (44.983334, -93.26666999999999),\n",
      " 'Mission Viejo, California, United States': (33.6000232, -117.6719953),\n",
      " 'Moncton, Ca0da': (46.0878165, -64.7782313),\n",
      " 'Montreal, Quebec, Ca0da': (45.5086699, -73.55399249999999),\n",
      " 'Moss Landing, California, United States': (36.8044003, -121.7868953),\n",
      " 'Mountain View, California, United States': (37.3860517, -122.0838511),\n",
      " 'Mumbai, India': (19.0759837, 72.8776559),\n",
      " 'Munich, Germany': (48.1351253, 11.5819806),\n",
      " 'NY, New York, United States': (40.7143528, -74.00597309999999),\n",
      " 'Needham, Massachusetts, United States': (42.2809285, -71.23775479999999),\n",
      " 'Nesher, Israel': (32.7649, 35.049191),\n",
      " 'New Braunfels, Texas, United States': (29.7030024, -98.1244531),\n",
      " 'New Delhi, India': (28.635308, 77.22496),\n",
      " 'New Taipei, Taiwan': (24.9157122, 121.6739371),\n",
      " 'New York City, New York, United States': (40.7143528, -74.00597309999999),\n",
      " 'New York, New York, United States': (40.7143528, -74.00597309999999),\n",
      " 'Newark, Delaware, United States': (39.6837226, -75.74965720000002),\n",
      " 'Newport Beach, California, United States': (33.6189101, -117.9289469),\n",
      " 'Newtow0bbey, United Kingdom': (54.68528, -5.9645),\n",
      " 'Nieuwendijk, Netherlands': (51.7704114, 4.921941900000001),\n",
      " 'Norman, Oklahoma, United States': (35.2225668, -97.4394777),\n",
      " 'North Andover, Massachusetts, United States': (42.69870239999999,\n",
      "  -71.1350575),\n",
      " 'Northfield, Connecticut, United States': (41.6948193, -73.1106655),\n",
      " 'N\\xc3\\xbcrnberg, Germany': (49.45203, 11.07675),\n",
      " 'Oakland, California, United States': (37.8043637, -122.2711137),\n",
      " 'Oaxaca, Mexico': (17.0594169, -96.7216219),\n",
      " 'Orlando, Florida, United States': (28.5383355, -81.3792365),\n",
      " 'Oslo, Norway': (59.9138688, 10.7522454),\n",
      " 'Ossining, New York, United States': (41.1628731, -73.8615246),\n",
      " 'Ottawa, Ca0da': (45.4215296, -75.69719309999999),\n",
      " 'Ottawa, Ontario, Ca0da': (45.4215296, -75.69719309999999),\n",
      " 'Owings Mills, Maryland, United States': (39.4195499, -76.7802528),\n",
      " 'Palm Beach Gardens, Florida, United States': (26.8233946,-80.13865469999999),\n",
      " 'Palo Alto, California, United States': (37.4418834, -122.1430195),\n",
      " 'Paris, France': (48.856614, 2.3522219),\n",
      " 'Park City, Utah, United States': (40.6460622, -111.4979729),\n",
      " 'Parkland, Florida, United States': (26.3107774, -80.25322489999999),\n",
      " 'Pensacola, Florida, United States': (30.42130899999999, -87.2169149),\n",
      " 'Perth, Australia': (-31.9530044, 115.8574693),\n",
      " 'Philadelphia, Pennsylvania, United States': (39.952335, -75.16378900000001),\n",
      " 'Phoenix, Arizo0, United States': (33.4483771, -112.0740373),\n",
      " 'Pittsburgh, Pennsylvania, United States': (40.44062479999999, -79.9958864),\n",
      " 'Pleasanton, California, United States': (37.6624312, -121.8746789),\n",
      " 'Porter Ranch, California, United States': (34.2822134, -118.5506158),\n",
      " 'Portland, Oregon, United States': (45.5234515, -122.6762071),\n",
      " 'Porto, Portugal': (41.1566892, -8.6239254),\n",
      " 'Prague, Czech Republic': (50.0755381, 14.4378005),\n",
      " 'Prescott, Arizo0, United States': (34.5400242, -112.4685025),\n",
      " 'Pretoria, South Africa': (-25.73134, 28.21837),\n",
      " 'Prince George, British Columbia, Ca0da': (53.9170641, -122.7496693),\n",
      " 'Providence, Rhode Island, United States': (41.8239891, -71.4128343),\n",
      " 'Puebla de Sancho P\\xc3\\xa9rez, Spain': (38.3958149, -6.401080899999999),\n",
      " 'Puyallup, Washington, United States': (47.1853785, -122.2928974),\n",
      " 'Quebec, Quebec, Ca0da': (46.8032826, -71.242796),\n",
      " 'Raleigh, North Caroli0, United States': (35.7795897, -78.6381787),\n",
      " 'Raleigh, United States': (35.7795897, -78.6381787),\n",
      " 'Redmond, Washington, United States': (47.6739881, -122.121512),\n",
      " 'Redwood City, California, United States': (37.48521520000001, -122.2363548),\n",
      " 'Reston, Virginia, United States': (38.9586307, -77.35700279999999),\n",
      " 'Reykjav\\xc3\\xadk, Iceland': (64.13533799999999, -21.89521),\n",
      " 'Richland, Washington, United States': (46.2856907, -119.2844621),\n",
      " 'Ridgefield, Connecticut, United States': (41.28406349999999, -73.4975412),\n",
      " 'Riga, Latvia': (56.9496487, 24.1051864),\n",
      " 'Rochester, New York, United States': (43.16103, -77.6109219),\n",
      " 'Rockville, Maryland, United States': (39.0839973, -77.1527578),\n",
      " 'Ronkonkoma, New York, United States': (40.80641869999999, -73.1241488),\n",
      " 'Roseville, California, United States': (38.7521235, -121.2880059),\n",
      " 'Round Rock, Texas, United States': (30.5082551, -97.678896),\n",
      " 'Sacramento, California, United States': (38.5815719, -121.4943996),\n",
      " 'Saint John, New Brunswick, Ca0da': (45.2733153, -66.0633081),\n",
      " 'Saint Louis, Missouri, United States': (38.6270025, -90.19940419999999),\n",
      " 'Salem, Oregon, United States': (44.9428975, -123.0350963),\n",
      " 'Salisbury, North Caroli0, United States': (35.6709727, -80.4742261),\n",
      " 'Salt Lake City, Utah, United States': (40.7607793, -111.8910474),\n",
      " 'Salt Spring Island, British Columbia, Ca0da': (48.8166622, -123.5088755),\n",
      " 'San Anselmo, California, United States': (37.9746458, -122.5616448),\n",
      " 'San Antonio, Texas, United States': (29.4241219, -98.49362819999999),\n",
      " 'San Diego, California, United States': (32.7153292, -117.1572551),\n",
      " 'San Francisco, California, United States': (37.7749295, -122.4194155),\n",
      " 'San Francisco, New York, LA, United States': (35.0943912, -106.6757016),\n",
      " 'San Francisco, United States': (37.7749295, -122.4194155),\n",
      " 'San Jose, California, United States': (37.3393857, -121.8949555),\n",
      " 'San Luis Obispo, California, United States': (35.2827524, -120.6596156),\n",
      " 'San Mateo, California, United States': (37.5629917, -122.3255254),\n",
      " 'Sandpoint, Idaho, United States': (48.2765903, -116.5532476),\n",
      " 'Sandy, Utah, United States': (40.57250000000001, -111.8597222),\n",
      " 'Santa Barbara, California, United States': (34.4208305, -119.6981901),\n",
      " 'Santa Clara, California, United States': (37.3541079, -121.9552356),\n",
      " 'Santa Cruz, California, United States': (36.9741171, -122.0307963),\n",
      " 'Santa Monica, California, United States': (34.0194543, -118.4911912),\n",
      " 'Santa Rose, California, United States': (38.4404674, -122.7144314),\n",
      " 'Santa clara, California, United States': (37.3541079, -121.9552356),\n",
      " 'Sarasota, Florida, United States': (27.3364347, -82.53065269999999),\n",
      " 'Saratoga, California, United States': (37.2638324, -122.0230146),\n",
      " 'Schwalbach/Ts, Germany': (50.154354, 8.52797),\n",
      " 'Scottsdale, Arizo0, United States': (33.4941704, -111.9260519),\n",
      " 'Seattle, United States': (47.6062095, -122.3320708),\n",
      " 'Seattle, Washington, United States': (47.6062095, -122.3320708),\n",
      " 'Sedo0, Arizo0, United States': (34.8697395, -111.7609896),\n",
      " 'Seoul, Korea, Republic of': (37.5318933, 126.9191163),\n",
      " 'Shenzhen, Chi0': (22.4780418, 113.8968566),\n",
      " 'Shoreditch, London, United Kingdom': (51.52849, -0.084728),\n",
      " 'Short Hills, New Jersey, United States': (40.7483499, -74.3232194),\n",
      " 'Singapore, Singapore': (1.2800945, 103.8509491),\n",
      " 'Snoqualmie, Washington, United States': (47.5287132, -121.8253906),\n",
      " 'Snowmass Village, Colorado, United States': (39.2130418, -106.9378207),\n",
      " 'Soddo, Ethiopia': (6.8528087, 37.7609688),\n",
      " 'Southern Pines, North Caroli0, United States': (35.1740471, -79.3922539),\n",
      " 'Spokane, Washington, United States': (47.6587802, -117.4260466),\n",
      " 'St. Louis, Missouri, United States': (38.6270025, -90.19940419999999),\n",
      " 'St. Petersburg, Florida, United States': (27.7730556, -82.64),\n",
      " 'Sterling Heights, Michigan, United States': (42.5803122, -83.0302033),\n",
      " 'Stockholm, Sweden': (59.32893000000001, 18.06491),\n",
      " 'Stroud, United Kingdom': (51.745734, -2.217758),\n",
      " 'Stuttgart, Germany': (48.7754181, 9.181758799999999),\n",
      " 'Sutton in Ashfield, United Kingdom': (53.126933, -1.262504),\n",
      " 'Sydney, Australia': (-33.8674869, 151.2069902),\n",
      " 'S\\xc3\\xa3o Paulo, Brazil': (-23.5489433, -46.6388182),\n",
      " 'Taipei, Taiwan': (25.091075, 121.5598345),\n",
      " 'Tampa - London - New York, Florida, United States': (41.3317606, -74.35682),\n",
      " 'Tampa, Florida, United States': (27.950575, -82.4571776),\n",
      " 'Tel Aviv, Israel': (32.066158, 34.777819),\n",
      " 'Temecula, California, United States': (33.4936391, -117.1483648),\n",
      " 'Tempe, Arizo0, United States': (33.4255104, -111.9400054),\n",
      " 'Tiverton, Ontario, Ca0da': (44.26765779999999, -81.5433231),\n",
      " 'Tomelilla, Sweden': (55.54355, 13.95484),\n",
      " 'Toronto, Ca0da': (43.653226, -79.3831843),\n",
      " 'Toronto, Ontario, Ca0da': (43.653226, -79.3831843),\n",
      " 'Torrijos, Spain': (39.981156, -4.280826),\n",
      " 'Tortola, Virgin Islands, British': (18.4229789, -64.6187958),\n",
      " 'Toulon, France': (43.124228, 5.928),\n",
      " 'Traverse City, Michigan, United States': (44.7630567, -85.62063169999999),\n",
      " 'Ulm, Germany': (48.4042981, 9.979349000000001),\n",
      " 'United States': (37.09024, -95.712891),\n",
      " 'Urba0, Illinois, United States': (40.1105875, -88.2072697),\n",
      " 'Utrecht, Netherlands': (52.09179, 5.114569899999999),\n",
      " 'Vaals, Netherlands': (50.7732182, 6.011274299999999),\n",
      " 'Valencia, Spain': (39.4699075, -0.3762881),\n",
      " 'Vancouver, British Columbia, Ca0da': (49.261226, -123.1139268),\n",
      " 'Vancouver, Washington, United States': (45.6387281, -122.6614861),\n",
      " 'Venice, Italy': (45.4408474, 12.3155151),\n",
      " 'Victoria, British Columbia, Ca0da': (48.4284207, -123.3656444),\n",
      " 'Vien0, Austria': (48.2081743, 16.3738189),\n",
      " 'Vreden, Germany': (52.03539439999999, 6.824548699999999),\n",
      " 'Wake Forest, North Caroli0, United States': (35.9798734, -78.50972279999999),\n",
      " 'Warsaw, Poland': (52.2296756, 21.0122287),\n",
      " 'Washington, D.C., District of Columbia, United States': (38.90723089999999,-77.0364641),\n",
      " 'Washington, DC, District of Columbia, United States': (38.90723089999999,-77.0364641),\n",
      " 'Washington, District of Columbia, United States': (38.90723089999999,-77.0364641),\n",
      " 'Waukesha, Wisconsin, United States': (43.0116784, -88.2314813),\n",
      " 'Wellington, New Zealand': (-41.2864603, 174.776236),\n",
      " 'West Liberty, Iowa, United States': (41.5700231, -91.2637695),\n",
      " 'West Long Branch, New Jersey, United States': (40.2903891, -74.0176381),\n",
      " 'West Palm Beach, Florida, United States': (26.7153424, -80.0533746),\n",
      " 'Westbrook, Maine, United States': (43.6770252, -70.3711617),\n",
      " 'Westminster, Colorado, United States': (39.8366528, -105.0372046),\n",
      " 'Westport, Connecticut, United States': (41.1414717, -73.3579049),\n",
      " 'Wheaton, Maryland, United States': (39.0398314, -77.05525550000002),\n",
      " 'Wichita, Kansas, United States': (37.68888889999999, -97.3361111),\n",
      " 'Wilmington, Delaware, United States': (39.7458333, -75.5466667),\n",
      " 'Winnipeg, Ca0da': (49.8997541, -97.1374937),\n",
      " 'Winnipeg, Manitoba, Ca0da': (49.8997541, -97.1374937),\n",
      " 'Winter Park, Florida, United States': (28.5999998, -81.33923519999999),\n",
      " 'Yerevan, Armenia': (40.183333, 44.516667),\n",
      " 'Yorba Linda, California, United States': (33.8886259, -117.8131125),\n",
      " 'Yorkton, Saskatchewan, Ca0da': (51.2138889, -102.4627778),\n",
      " 'Yuma, Arizo0, United States': (32.6926512, -114.6276916),\n",
      " 'Zagreb, Croatia': (45.8130293, 15.9778949),\n",
      " 'Zion, Israel': (32.773957, 35.03565),\n",
      " 'Z\\xc3\\xbcrich, Switzerland': (47.3686498, 8.539182499999999),\n",
      " 'cambridge, Massachusetts, United States': (42.3736158, -71.10973349999999),\n",
      " 'copenhagen, Denmark': (55.6760968, 12.5683371),\n",
      " 'dallas, Texas, United States': (32.7801399, -96.80045109999999),\n",
      " 'location': (None, None),\n",
      " 'new york, New York, United States': (40.7143528, -74.00597309999999),\n",
      " 'peoria, Arizo0, United States': (33.5805955, -112.2373779),\n",
      " 'san francisco, California, United States': (37.7749295, -122.4194155),\n",
      " 'sutton in ashfield, United Kingdom': (53.126933, -1.262504)}\n"
     ],
     "language": "python",
     "metadata": {},
     "outputs": [],
     "prompt_number": 141
    },
    {
     "cell_type": "code",
     "collapsed": false,
     "input": [
      "def getlat(location):\n",
      "    if location in loclatlondict.keys():\n",
      "        return float(str(loclatlondict[location][0]).strip())\n",
      "    else:\n",
      "        return None\n",
      "        #if loclist == i:\n",
      "        #    return i[0]\n",
      "def getlon(location):\n",
      "    if location in loclatlondict.keys():\n",
      "        return float(str(loclatlondict[location][1]).strip())\n",
      "    else:\n",
      "        return None\n",
      "data['lat'] = data['Location'].apply(getlat)   \n",
      "data['lon'] = data['Location'].apply(getlon)   "
     ],
     "language": "python",
     "metadata": {},
     "outputs": [],
     "prompt_number": 142
    },
    {
     "cell_type": "code",
     "collapsed": false,
     "input": [
      "\n",
      "#d.plot(kind=\"bar\",title=\"Total books collection by year\", linewidth=2.5 )"
     ],
     "language": "python",
     "metadata": {},
     "outputs": [],
     "prompt_number": 143
    },
    {
     "cell_type": "code",
     "collapsed": false,
     "input": [
      "data = data.drop('Location',1)"
     ],
     "language": "python",
     "metadata": {},
     "outputs": [],
     "prompt_number": 144
    },
    {
     "cell_type": "code",
     "collapsed": false,
     "input": [
      "def removespace(l):\n",
      "    return str(l).strip()\n",
      "data['County'] = data['County'].apply(removespace)\n",
      "countries = list(data['County'].unique())\n",
      "def getcountrycode(loc):\n",
      "    return countries.index(str(loc).strip())  \n",
      "data['recoded_country'] = data['County'].apply(getcountrycode)\n"
     ],
     "language": "python",
     "metadata": {},
     "outputs": [],
     "prompt_number": 145
    },
    {
     "cell_type": "code",
     "collapsed": false,
     "input": [
      "data = data.fillna(0)"
     ],
     "language": "python",
     "metadata": {},
     "outputs": [],
     "prompt_number": 146
    },
    {
     "cell_type": "code",
     "collapsed": false,
     "input": [
      "d = data['County'].value_counts()[:20]\n",
      "d.plot(kind=\"bar\",title=\"#Projects by country\",color=\"blue\")"
     ],
     "language": "python",
     "metadata": {},
     "outputs": [
      {
       "metadata": {},
       "output_type": "pyout",
       "prompt_number": 147,
       "text": [
        "<matplotlib.axes.AxesSubplot at 0x10df5b0d0>"
       ]
      },
      {
       "metadata": {},
       "output_type": "display_data",
       "png": "[encoded data removed]",
       "text": [
        "<matplotlib.figure.Figure at 0x10df50fd0>"
       ]
      }
     ],
     "prompt_number": 147
    },
    {
     "cell_type": "code",
     "collapsed": false,
     "input": [],
     "language": "python",
     "metadata": {},
     "outputs": [],
     "prompt_number": 147
    },
    {
     "cell_type": "code",
     "collapsed": false,
     "input": [
      "data = data.drop('County',1)\n"
     ],
     "language": "python",
     "metadata": {},
     "outputs": [],
     "prompt_number": 148
    },
    {
     "cell_type": "code",
     "collapsed": false,
     "input": [
      "#countries"
     ],
     "language": "python",
     "metadata": {},
     "outputs": [],
     "prompt_number": 149
    },
    {
     "cell_type": "code",
     "collapsed": false,
     "input": [
      "\n"
     ],
     "language": "python",
     "metadata": {},
     "outputs": [],
     "prompt_number": 149
    },
    {
     "cell_type": "code",
     "collapsed": false,
     "input": [
      "def to_days(dur):\n",
      "    return float(dur)/(3600*24)\n",
      "data['Duration']= data['Duration'].apply(to_days)"
     ],
     "language": "python",
     "metadata": {},
     "outputs": [],
     "prompt_number": 150
    },
    {
     "cell_type": "code",
     "collapsed": false,
     "input": [
      "#Adding more features\n",
      "data['Mintotal'] = data['Min_perk']*data['N0_min_perk']\n",
      "data['Maxtotal'] = data['Max_perk']*data['No_max_perk']\n",
      "data['Mediantotal'] = data['Median_perk']*data['No_med_perk']\n",
      "data['Min_by_goal']= data['Mintotal']/data['Amount_goal']\n",
      "data['Max_by_goal']= data['Maxtotal']/data['Amount_goal']\n",
      "data['Median_by_goal']= data['Mediantotal']/data['Amount_goal']"
     ],
     "language": "python",
     "metadata": {},
     "outputs": [],
     "prompt_number": 151
    },
    {
     "cell_type": "code",
     "collapsed": false,
     "input": [
      "Y = data['status']\n",
      "print Y\n",
      "data = data.drop('status',1)"
     ],
     "language": "python",
     "metadata": {},
     "outputs": [
      {
       "output_type": "stream",
       "stream": "stdout",
       "text": [
        "0     3\n",
        "1     1\n",
        "2     3\n",
        "3     3\n",
        "4     3\n",
        "5     3\n",
        "6     3\n",
        "7     3\n",
        "8     3\n",
        "9     3\n",
        "10    3\n",
        "11    3\n",
        "12    3\n",
        "13    3\n",
        "14    3\n",
        "...\n",
        "1826    3\n",
        "1827    3\n",
        "1828    3\n",
        "1829    3\n",
        "1830    3\n",
        "1831    3\n",
        "1832    3\n",
        "1833    3\n",
        "1834    3\n",
        "1835    3\n",
        "1836    3\n",
        "1837    3\n",
        "1838    3\n",
        "1839    3\n",
        "1840    3\n",
        "Name: status, Length: 1841\n"
       ]
      }
     ],
     "prompt_number": 152
    },
    {
     "cell_type": "code",
     "collapsed": false,
     "input": [
      "Y.to_csv(\"Finaldata/target.csv\")\n",
      "data.to_csv(\"Finaldata/features.csv\")"
     ],
     "language": "python",
     "metadata": {},
     "outputs": [],
     "prompt_number": 153
    },
    {
     "cell_type": "code",
     "collapsed": false,
     "input": [
      "#X = data[['FB_like','FB_talking','Tweet_follow','Tweet_status','You_avg_duratio','You_avg_view_count','You_avg_rating']].values\n",
      "data.columns"
     ],
     "language": "python",
     "metadata": {},
     "outputs": [
      {
       "metadata": {},
       "output_type": "pyout",
       "prompt_number": 154,
       "text": [
        "Index([Count_update, Count_comment, Count_funder, Count_photo, Amount_goal, Start_month, End_mont, Duration, Min_perk, N0_min_perk, Max_perk, No_max_perk, Median_perk, No_med_perk, Tot_perk, FB_like, FB_talking, You_avg_duratio, You_avg_view_count, You_avg_rating, US, newtype, lat, lon, recoded_country, Mintotal, Maxtotal, Mediantotal, Min_by_goal, Max_by_goal, Median_by_goal], dtype=object)"
       ]
      }
     ],
     "prompt_number": 154
    },
    {
     "cell_type": "code",
     "collapsed": false,
     "input": [
      "print type(X)"
     ],
     "language": "python",
     "metadata": {},
     "outputs": [
      {
       "output_type": "stream",
       "stream": "stdout",
       "text": [
        "<type 'numpy.ndarray'>\n"
       ]
      }
     ],
     "prompt_number": 155
    },
    {
     "cell_type": "code",
     "collapsed": false,
     "input": [
      "split = math.floor(float(len(data))*0.6)\n",
      "print split\n",
      "#only social media features\n",
      "d = data.values \n",
      "#d_scaled = preprocessing.scale(d)\n",
      "#c = np.random.shuffle(d_scaled)\n",
      "#d_scaled\n",
      "#X = data[['FB_like','FB_talking','You_avg_duratio','You_avg_view_count','You_avg_rating']].values\n",
      "X = data.values\n",
      "Y_scaled = preprocessing.scale(Y)\n",
      "X_scaled = preprocessing.scale(X)\n",
      "X_train = X_scaled[:split]\n",
      "X_test = X_scaled[split:]\n",
      "Y_train = Y[:split].values\n",
      "Y_test = Y[split:].values\n"
     ],
     "language": "python",
     "metadata": {},
     "outputs": [
      {
       "output_type": "stream",
       "stream": "stdout",
       "text": [
        "1104.0\n"
       ]
      }
     ],
     "prompt_number": 156
    },
    {
     "cell_type": "code",
     "collapsed": false,
     "input": [
      "\n",
      "d = data.values "
     ],
     "language": "python",
     "metadata": {},
     "outputs": [],
     "prompt_number": 157
    },
    {
     "cell_type": "code",
     "collapsed": false,
     "input": [
      "data.head(10)"
     ],
     "language": "python",
     "metadata": {},
     "outputs": [
      {
       "metadata": {},
       "output_type": "pyout",
       "prompt_number": 158,
       "text": [
        "<class 'pandas.core.frame.DataFrame'>\n",
        "Int64Index: 10 entries, 0 to 9\n",
        "Data columns:\n",
        "Count_update          10  non-null values\n",
        "Count_comment         10  non-null values\n",
        "Count_funder          10  non-null values\n",
        "Count_photo           10  non-null values\n",
        "Amount_goal           10  non-null values\n",
        "Start_month           10  non-null values\n",
        "End_mont              10  non-null values\n",
        "Duration              10  non-null values\n",
        "Min_perk              10  non-null values\n",
        "N0_min_perk           10  non-null values\n",
        "Max_perk              10  non-null values\n",
        "No_max_perk           10  non-null values\n",
        "Median_perk           10  non-null values\n",
        "No_med_perk           10  non-null values\n",
        "Tot_perk              10  non-null values\n",
        "FB_like               10  non-null values\n",
        "FB_talking            10  non-null values\n",
        "You_avg_duratio       10  non-null values\n",
        "You_avg_view_count    10  non-null values\n",
        "You_avg_rating        10  non-null values\n",
        "US                    10  non-null values\n",
        "newtype               10  non-null values\n",
        "lat                   10  non-null values\n",
        "lon                   10  non-null values\n",
        "recoded_country       10  non-null values\n",
        "Mintotal              10  non-null values\n",
        "Maxtotal              10  non-null values\n",
        "Mediantotal           10  non-null values\n",
        "Min_by_goal           10  non-null values\n",
        "Max_by_goal           10  non-null values\n",
        "Median_by_goal        10  non-null values\n",
        "dtypes: float64(10), int64(21)"
       ]
      }
     ],
     "prompt_number": 158
    },
    {
     "cell_type": "code",
     "collapsed": false,
     "input": [
      "import matplotlib.pyplot as plt\n",
      "plt.boxplot(Y)\n",
      "plt.show()"
     ],
     "language": "python",
     "metadata": {},
     "outputs": [
      {
       "metadata": {},
       "output_type": "display_data",
       "png": "[encoded data removed]",
       "text": [
        "<matplotlib.figure.Figure at 0x110631050>"
       ]
      }
     ],
     "prompt_number": 159
    },
    {
     "cell_type": "code",
     "collapsed": false,
     "input": [
      "len(Y)"
     ],
     "language": "python",
     "metadata": {},
     "outputs": [
      {
       "metadata": {},
       "output_type": "pyout",
       "prompt_number": 160,
       "text": [
        "1841"
       ]
      }
     ],
     "prompt_number": 160
    },
    {
     "cell_type": "code",
     "collapsed": false,
     "input": [
      "X_train[0]"
     ],
     "language": "python",
     "metadata": {},
     "outputs": [
      {
       "metadata": {},
       "output_type": "pyout",
       "prompt_number": 161,
       "text": [
        "array([-0.48451016, -0.27452279, -0.20735882, -0.35609241, -0.216392  ,\n",
        "       -0.70624063, -0.49749738, -0.24854634, -0.19522383, -0.08629042,\n",
        "       -0.10053268, -0.12094782, -0.26732522, -0.16014025,  0.0180649 ,\n",
        "       -0.0383641 , -0.03737773,  0.32800187, -0.09388372,  3.0821561 ,\n",
        "        0.67905163, -0.39364462,  0.25033993, -1.02976561, -0.40957601,\n",
        "       -0.09177541, -0.12585401, -0.12644646, -0.04837707, -0.09461187,\n",
        "       -0.23788414])"
       ]
      }
     ],
     "prompt_number": 161
    },
    {
     "cell_type": "code",
     "collapsed": false,
     "input": [
      "Y_train[0]"
     ],
     "language": "python",
     "metadata": {},
     "outputs": [
      {
       "metadata": {},
       "output_type": "pyout",
       "prompt_number": 162,
       "text": [
        "3"
       ]
      }
     ],
     "prompt_number": 162
    },
    {
     "cell_type": "code",
     "collapsed": false,
     "input": [
      "subplot(131)\n",
      "scatter(X_train[:,11],Y_train)\n",
      "subplot(132)\n",
      "scatter(X_train[:,10],Y_train)\n",
      "subplot(133)\n",
      "scatter(X_train[:,9],Y_train)"
     ],
     "language": "python",
     "metadata": {},
     "outputs": [
      {
       "metadata": {},
       "output_type": "pyout",
       "prompt_number": 163,
       "text": [
        "<matplotlib.collections.PathCollection at 0x114b5d4d0>"
       ]
      },
      {
       "metadata": {},
       "output_type": "display_data",
       "png": "[encoded data removed]",
       "text": [
        "<matplotlib.figure.Figure at 0x10bee4f50>"
       ]
      }
     ],
     "prompt_number": 163
    },
    {
     "cell_type": "code",
     "collapsed": false,
     "input": [
      "from sklearn import linear_model\n",
      "clf = linear_model.LogisticRegression()"
     ],
     "language": "python",
     "metadata": {},
     "outputs": [],
     "prompt_number": 164
    },
    {
     "cell_type": "code",
     "collapsed": false,
     "input": [
      "import pickle\n",
      "pickle.dump(clf, open('classifier.p','w') )"
     ],
     "language": "python",
     "metadata": {},
     "outputs": [],
     "prompt_number": 165
    },
    {
     "cell_type": "code",
     "collapsed": false,
     "input": [
      "clf1 = linear_model.Lasso()\n",
      "clf1.fit(X_train, Y_train)\n",
      "Y_lr_pred = clf1.predict(X_test)\n",
      "\n",
      "# how well did we do?\n",
      "from sklearn.metrics import mean_squared_error\n",
      "mse = mean_squared_error(Y_test,Y_lr_pred) ; print mse\n",
      "plot(Y_test,Y_lr_pred - Y_test,'o')\n",
      "title(\"Linear Regression Residuals - MSE = %.1f\" % mse)\n",
      "xlabel(\"True Median Project Goal\")\n",
      "ylabel(\"Residual\")\n",
      "hlines(0,min(Y_test),max(Y_test),color=\"red\")\n",
      "clf1.coef_"
     ],
     "language": "python",
     "metadata": {},
     "outputs": [
      {
       "output_type": "stream",
       "stream": "stdout",
       "text": [
        "1.0189844273\n"
       ]
      },
      {
       "metadata": {},
       "output_type": "pyout",
       "prompt_number": 166,
       "text": [
        "array([-0., -0., -0.,  0.,  0.,  0.,  0.,  0., -0., -0.,  0., -0.,  0.,\n",
        "       -0.,  0.,  0.,  0.,  0., -0.,  0.,  0., -0.,  0., -0., -0., -0.,\n",
        "       -0., -0., -0., -0., -0.])"
       ]
      },
      {
       "metadata": {},
       "output_type": "display_data",
       "png": "[encoded data removed]",
       "text": [
        "<matplotlib.figure.Figure at 0x114b42b10>"
       ]
      }
     ],
     "prompt_number": 166
    },
    {
     "cell_type": "code",
     "collapsed": false,
     "input": [
      "# fit the model\n",
      "clf.fit(X_train, Y_train)"
     ],
     "language": "python",
     "metadata": {},
     "outputs": [
      {
       "metadata": {},
       "output_type": "pyout",
       "prompt_number": 167,
       "text": [
        "LogisticRegression(C=1.0, class_weight=None, dual=False, fit_intercept=True,\n",
        "          intercept_scaling=1, penalty='l2', random_state=None, tol=0.0001)"
       ]
      }
     ],
     "prompt_number": 167
    },
    {
     "cell_type": "code",
     "collapsed": false,
     "input": [
      "clf.coef_"
     ],
     "language": "python",
     "metadata": {},
     "outputs": [
      {
       "metadata": {},
       "output_type": "pyout",
       "prompt_number": 168,
       "text": [
        "array([[  1.27460287e-01,   1.19552767e+00,   3.32155439e+00,\n",
        "         -2.34999958e-01,  -4.75779461e+00,   8.93681674e-02,\n",
        "         -2.29506357e-01,  -6.18354590e-01,  -7.29745544e-02,\n",
        "          1.07252900e+00,  -8.61497404e-01,   9.17597766e-01,\n",
        "         -4.34587203e-02,  -7.09139787e-01,  -2.69171023e-01,\n",
        "         -6.25800225e-01,  -1.83511364e-01,  -2.61896174e-01,\n",
        "          1.12681174e-01,  -1.01589316e-01,  -3.56302238e-03,\n",
        "          3.09654791e-02,   1.59429911e-02,   1.01680239e-02,\n",
        "          1.86278764e-01,   4.27855855e-02,   9.35963593e-01,\n",
        "         -3.55830530e-01,   1.07813388e-01,   5.21069613e-01,\n",
        "          9.58139902e-01],\n",
        "       [  2.96561668e-01,  -1.71709043e-01,  -5.96243020e-02,\n",
        "         -4.90847940e-02,  -1.68812351e+00,  -2.55750045e-01,\n",
        "         -7.57468531e-02,  -2.25203664e-01,  -3.69309571e-01,\n",
        "          6.56412840e-01,  -4.17199674e-01,  -1.63508596e-01,\n",
        "         -4.38383197e-01,   9.29073958e-02,  -1.08668437e-01,\n",
        "          5.74215896e-01,  -5.55246338e-01,   7.09473804e-03,\n",
        "         -1.45093836e-01,   1.69361108e-01,   8.44716867e-02,\n",
        "         -2.84811878e-01,  -3.02501240e-02,   1.34253923e-01,\n",
        "          1.10210088e-02,   5.46281193e-01,   6.58383819e-01,\n",
        "         -2.55646924e-02,   1.82022461e-01,  -3.72003212e-01,\n",
        "         -1.96618285e-02],\n",
        "       [ -2.31710691e-01,  -9.22283404e-01,  -3.44884976e+00,\n",
        "          2.24118986e-01,   5.47455995e+00,  -2.15567266e-03,\n",
        "          2.26507745e-01,   5.81530769e-01,   8.31837462e-02,\n",
        "         -1.37590982e+00,   1.10339003e+00,  -7.58934857e-01,\n",
        "          1.30496440e-01,   6.16498332e-01,   2.47538816e-01,\n",
        "         -7.59895044e-02,   1.15816390e-01,   1.53333932e-01,\n",
        "         -9.23573071e-02,   5.19750915e-02,  -2.04392136e-02,\n",
        "          3.04444024e-02,   3.25514221e-03,  -4.82011529e-02,\n",
        "         -1.51877785e-01,  -1.07632168e-01,  -1.48401979e+00,\n",
        "          3.13973527e-01,  -9.80723693e-02,  -4.95590630e-01,\n",
        "         -9.31336749e-01]])"
       ]
      }
     ],
     "prompt_number": 168
    },
    {
     "cell_type": "code",
     "collapsed": false,
     "input": [],
     "language": "python",
     "metadata": {},
     "outputs": [],
     "prompt_number": 168
    },
    {
     "cell_type": "code",
     "collapsed": false,
     "input": [
      "# now do the prediction\n",
      "Y_lr_pred = clf.predict(X_test)\n",
      "\n",
      "# how well did we do?\n",
      "from sklearn.metrics import mean_squared_error\n",
      "mse = mean_squared_error(Y_test,Y_lr_pred) ; print mse"
     ],
     "language": "python",
     "metadata": {},
     "outputs": [
      {
       "output_type": "stream",
       "stream": "stdout",
       "text": [
        "0.754409769335\n"
       ]
      }
     ],
     "prompt_number": 169
    },
    {
     "cell_type": "code",
     "collapsed": false,
     "input": [],
     "language": "python",
     "metadata": {},
     "outputs": [],
     "prompt_number": 170
    },
    {
     "cell_type": "code",
     "collapsed": false,
     "input": [
      "#for i in range(len(Y_lr_pred)):\n",
      "    #print str(Y_lr_pred[i])+\"---->\"+str(Y_test[i])"
     ],
     "language": "python",
     "metadata": {},
     "outputs": [],
     "prompt_number": 171
    },
    {
     "cell_type": "code",
     "collapsed": false,
     "input": [
      "plot(Y_test,Y_lr_pred - Y_test,'o')\n",
      "title(\"Linear Regression Residuals - MSE = %.1f\" % mse)\n",
      "xlabel(\"True Median Project Goal\")\n",
      "ylabel(\"Residual\")\n",
      "hlines(0,min(Y_test),max(Y_test),color=\"red\")"
     ],
     "language": "python",
     "metadata": {},
     "outputs": [
      {
       "metadata": {},
       "output_type": "pyout",
       "prompt_number": 172,
       "text": [
        "<matplotlib.collections.LineCollection at 0x111b19110>"
       ]
      },
      {
       "metadata": {},
       "output_type": "display_data",
       "png": "[encoded data removed]",
       "text": [
        "<matplotlib.figure.Figure at 0x117647350>"
       ]
      }
     ],
     "prompt_number": 172
    },
    {
     "cell_type": "code",
     "collapsed": false,
     "input": [
      "#boston = datasets.load_boston() ; X = boston['data'] ; Y = boston['target']\n",
      "from sklearn import cross_validation\n",
      "from sklearn import linear_model\n",
      "clf = linear_model.LogisticRegression()\n",
      "from sklearn.cross_validation import cross_val_score\n",
      "def print_cv_score_summary(model, xx, yy, cv):\n",
      "    scores = cross_val_score(model, xx, yy, cv=cv, n_jobs=1)\n",
      "    print(\"mean: {:3f}, stdev: {:3f}\".format(\n",
      "        np.mean(scores), np.std(scores)))"
     ],
     "language": "python",
     "metadata": {},
     "outputs": [],
     "prompt_number": 173
    },
    {
     "cell_type": "code",
     "collapsed": false,
     "input": [],
     "language": "python",
     "metadata": {},
     "outputs": [],
     "prompt_number": 173
    },
    {
     "cell_type": "code",
     "collapsed": false,
     "input": [
      "print_cv_score_summary(clf,X,Y,cv=cross_validation.KFold(len(Y), 10))\n",
      "\n",
      "#print_cv_score_summary(clf,X,Y,cv=150)"
     ],
     "language": "python",
     "metadata": {},
     "outputs": [
      {
       "output_type": "stream",
       "stream": "stdout",
       "text": [
        "mean: 0.864718, stdev: 0.062358\n"
       ]
      }
     ],
     "prompt_number": 174
    },
    {
     "cell_type": "code",
     "collapsed": false,
     "input": [
      "print_cv_score_summary(clf,X,Y,\n",
      "    cv=cross_validation.KFold(len(Y),20,shuffle=True,random_state=1))"
     ],
     "language": "python",
     "metadata": {},
     "outputs": [
      {
       "output_type": "stream",
       "stream": "stdout",
       "text": [
        "mean: 0.878313, stdev: 0.031656\n"
       ]
      }
     ],
     "prompt_number": 175
    },
    {
     "cell_type": "code",
     "collapsed": false,
     "input": [
      "from sklearn.metrics import confusion_matrix\n",
      "import pylab as pl\n",
      "cm = confusion_matrix(Y_test, Y_lr_pred)\n",
      "print cm\n",
      "pl.matshow(cm)\n",
      "pl.title('Confusion matrix')\n",
      "pl.colorbar()\n",
      "pl.ylabel('True label')\n",
      "pl.xlabel('Predicted label')\n",
      "pl.show()\n",
      "pl.savefig(\"Plots/confusionmatrix.png\")\n"
     ],
     "language": "python",
     "metadata": {},
     "outputs": [
      {
       "output_type": "stream",
       "stream": "stdout",
       "text": [
        "[[120   1 116]\n",
        " [ 12   0  39]\n",
        " [ 10   0 439]]\n"
       ]
      },
      {
       "metadata": {},
       "output_type": "display_data",
       "png": "[encoded data removed]",
       "text": [
        "<matplotlib.figure.Figure at 0x111b35910>"
       ]
      },
      {
       "metadata": {},
       "output_type": "display_data",
       "text": [
        "<matplotlib.figure.Figure at 0x10df5bad0>"
       ]
      }
     ],
     "prompt_number": 176
    },
    {
     "cell_type": "code",
     "collapsed": false,
     "input": [
      "from sklearn import neighbors\n",
      "from sklearn import preprocessing\n",
      "#X_scaled = preprocessing.scale(X) # many methods work better on scaled X\n",
      "clf1 = neighbors.KNeighborsRegressor(5)\n",
      "#train_X = X_scaled[:half]\n",
      "#test_X = X_scaled[half:]\n",
      "clf1.fit(X_train,Y_train)"
     ],
     "language": "python",
     "metadata": {},
     "outputs": [
      {
       "metadata": {},
       "output_type": "pyout",
       "prompt_number": 67,
       "text": [
        "KNeighborsRegressor(algorithm='auto', leaf_size=30, metric='minkowski',\n",
        "          n_neighbors=5, p=2, weights='uniform')"
       ]
      }
     ],
     "prompt_number": 67
    },
    {
     "cell_type": "code",
     "collapsed": false,
     "input": [
      "Y_knn_pred = clf1.predict(X_test)\n",
      "mse = mean_squared_error(Y_test,Y_knn_pred) ; print mse\n",
      "plot(Y_test, Y_knn_pred - Y_test,'o')\n",
      "title(\"k-NN Residuals - MSE = %.1f\" % mse)\n",
      "xlabel(\"True Median House Price ($1,000)\")\n",
      "ylabel(\"Residual\")\n",
      "hlines(0,min(Y_test),max(Y_test),color=\"red\")"
     ],
     "language": "python",
     "metadata": {},
     "outputs": [
      {
       "output_type": "stream",
       "stream": "stdout",
       "text": [
        "0.891940298507\n"
       ]
      },
      {
       "metadata": {},
       "output_type": "pyout",
       "prompt_number": 68,
       "text": [
        "<matplotlib.collections.LineCollection at 0x10b9baa10>"
       ]
      },
      {
       "metadata": {},
       "output_type": "display_data",
       "png": "[encoded data removed]",
       "text": [
        "<matplotlib.figure.Figure at 0x10bbb3ed0>"
       ]
      }
     ],
     "prompt_number": 68
    },
    {
     "cell_type": "code",
     "collapsed": false,
     "input": [
      "data.columns\n",
      "ratio"
     ],
     "language": "python",
     "metadata": {},
     "outputs": [
      {
       "metadata": {},
       "output_type": "pyout",
       "prompt_number": 69,
       "text": [
        "0     0.140000\n",
        "1     1.037037\n",
        "2     0.058292\n",
        "3     0.004657\n",
        "4     0.139700\n",
        "5     0.463333\n",
        "6     0.017871\n",
        "7     0.013820\n",
        "8     0.006000\n",
        "9     0.013760\n",
        "10    0.137600\n",
        "11    0.458000\n",
        "12    0.304889\n",
        "13    0.054840\n",
        "14    0.003914\n",
        "...\n",
        "1826    0.080500\n",
        "1827    0.040000\n",
        "1828    0.393000\n",
        "1829    0.078500\n",
        "1830    0.111429\n",
        "1831    0.152000\n",
        "1832    0.151800\n",
        "1833    0.029840\n",
        "1834    0.148000\n",
        "1835    0.006682\n",
        "1836    0.058800\n",
        "1837    0.146200\n",
        "1838    0.050345\n",
        "1839    0.007120\n",
        "1840    0.035500\n",
        "Name: Ratio, Length: 1841"
       ]
      }
     ],
     "prompt_number": 69
    },
    {
     "cell_type": "code",
     "collapsed": false,
     "input": [
      "len(data.columns)"
     ],
     "language": "python",
     "metadata": {},
     "outputs": [
      {
       "metadata": {},
       "output_type": "pyout",
       "prompt_number": 70,
       "text": [
        "31"
       ]
      }
     ],
     "prompt_number": 70
    },
    {
     "cell_type": "code",
     "collapsed": false,
     "input": [
      "like = np.array(data['Count_funder'])\n",
      "like.max()"
     ],
     "language": "python",
     "metadata": {},
     "outputs": [
      {
       "metadata": {},
       "output_type": "pyout",
       "prompt_number": 71,
       "text": [
        "9645"
       ]
      }
     ],
     "prompt_number": 71
    },
    {
     "cell_type": "code",
     "collapsed": false,
     "input": [
      "\n",
      "%matplotlib inline\n",
      "fig,ax1 = plt.subplots(figsize=(12,8))\n",
      "Count_funder = np.float64(data['Count_funder'])\n",
      "amountraised = np.float64(amount_raised)\n",
      "#ratio = np.float64(ratio)\n",
      "#col = list(data['color'])\n",
      "ax1.set_title(\"Count_funder vs. amountraised\",fontsize=16)\n",
      "p1 = ax1.bar(Count_funder,amountraised,color='b',label=\"Count_funder vs. amountraised\",linewidth=1.0)\n",
      "ax1.set_xlabel('Count_funder ')\n",
      "ax1.set_ylabel('amountraised')\n",
      "#ax1.set_ylim([0,10000])\n",
      "ax1.set_xlim([-45,2000])\n",
      "#fig.savefig(\"Frontend/static/img/duration.png\")"
     ],
     "language": "python",
     "metadata": {},
     "outputs": [
      {
       "metadata": {},
       "output_type": "pyout",
       "prompt_number": 73,
       "text": [
        "(-45, 2000)"
       ]
      },
      {
       "metadata": {},
       "output_type": "display_data",
       "png": "[encoded data removed]",
       "text": [
        "<matplotlib.figure.Figure at 0x10b21ec50>"
       ]
      }
     ],
     "prompt_number": 73
    },
    {
     "cell_type": "code",
     "collapsed": false,
     "input": [
      "\n",
      "%matplotlib inline\n",
      "fig,ax1 = plt.subplots(figsize=(12,8))\n",
      "Tot_perk = np.float64(data['Tot_perk'])\n",
      "amountraised = np.float64(amount_raised)\n",
      "#ratio = np.float64(ratio)\n",
      "#col = list(data['color'])\n",
      "ax1.set_title(\"Tot_perk vs. amountraised\",fontsize=16)\n",
      "p1 = ax1.scatter(Tot_perk,amountraised,color='b',label=\"Tot_perk vs. amountraised\",linewidth=1.0)\n",
      "ax1.set_xlabel('Tot_perk ')\n",
      "ax1.set_ylabel('amountraised')\n",
      "ax1.set_ylim([-1,max(amountraised)]+10)\n",
      "ax1.set_xlim([-1,25])\n",
      "#fig.savefig(\"Frontend/static/img/duration.png\")"
     ],
     "language": "python",
     "metadata": {},
     "outputs": [
      {
       "ename": "TypeError",
       "evalue": "can only concatenate list (not \"int\") to list",
       "output_type": "pyerr",
       "traceback": [
        "\u001b[0;31m---------------------------------------------------------------------------\u001b[0m\n\u001b[0;31mTypeError\u001b[0m                                 Traceback (most recent call last)",
        "\u001b[0;32m<ipython-input-181-1e1affe1d74a>\u001b[0m in \u001b[0;36m<module>\u001b[0;34m()\u001b[0m\n\u001b[1;32m     10\u001b[0m \u001b[0max1\u001b[0m\u001b[0;34m.\u001b[0m\u001b[0mset_xlabel\u001b[0m\u001b[0;34m(\u001b[0m\u001b[0;34m'Tot_perk '\u001b[0m\u001b[0;34m)\u001b[0m\u001b[0;34m\u001b[0m\u001b[0m\n\u001b[1;32m     11\u001b[0m \u001b[0max1\u001b[0m\u001b[0;34m.\u001b[0m\u001b[0mset_ylabel\u001b[0m\u001b[0;34m(\u001b[0m\u001b[0;34m'amountraised'\u001b[0m\u001b[0;34m)\u001b[0m\u001b[0;34m\u001b[0m\u001b[0m\n\u001b[0;32m---> 12\u001b[0;31m \u001b[0max1\u001b[0m\u001b[0;34m.\u001b[0m\u001b[0mset_ylim\u001b[0m\u001b[0;34m(\u001b[0m\u001b[0;34m[\u001b[0m\u001b[0;34m-\u001b[0m\u001b[0;36m1\u001b[0m\u001b[0;34m,\u001b[0m\u001b[0mmax\u001b[0m\u001b[0;34m(\u001b[0m\u001b[0mamountraised\u001b[0m\u001b[0;34m)\u001b[0m\u001b[0;34m]\u001b[0m\u001b[0;34m+\u001b[0m\u001b[0;36m10\u001b[0m\u001b[0;34m)\u001b[0m\u001b[0;34m\u001b[0m\u001b[0m\n\u001b[0m\u001b[1;32m     13\u001b[0m \u001b[0max1\u001b[0m\u001b[0;34m.\u001b[0m\u001b[0mset_xlim\u001b[0m\u001b[0;34m(\u001b[0m\u001b[0;34m[\u001b[0m\u001b[0;34m-\u001b[0m\u001b[0;36m1\u001b[0m\u001b[0;34m,\u001b[0m\u001b[0;36m25\u001b[0m\u001b[0;34m]\u001b[0m\u001b[0;34m)\u001b[0m\u001b[0;34m\u001b[0m\u001b[0m\n\u001b[1;32m     14\u001b[0m \u001b[0;31m#fig.savefig(\"Frontend/static/img/duration.png\")\u001b[0m\u001b[0;34m\u001b[0m\u001b[0;34m\u001b[0m\u001b[0m\n",
        "\u001b[0;31mTypeError\u001b[0m: can only concatenate list (not \"int\") to list"
       ]
      },
      {
       "metadata": {},
       "output_type": "display_data",
       "png": "[encoded data removed]",
       "text": [
        "<matplotlib.figure.Figure at 0x10d3e27d0>"
       ]
      }
     ],
     "prompt_number": 181
    },
    {
     "cell_type": "code",
     "collapsed": false,
     "input": [
      "data.columns"
     ],
     "language": "python",
     "metadata": {},
     "outputs": [
      {
       "metadata": {},
       "output_type": "pyout",
       "prompt_number": 76,
       "text": [
        "Index([Count_update, Count_comment, Count_funder, Count_photo, Amount_goal, Start_month, End_mont, Duration, Min_perk, N0_min_perk, Max_perk, No_max_perk, Median_perk, No_med_perk, Tot_perk, FB_like, FB_talking, You_avg_duratio, You_avg_view_count, You_avg_rating, US, newtype, lat, lon, recoded_country, Mintotal, Maxtotal, Mediantotal, Min_by_goal, Max_by_goal, Median_by_goal], dtype=object)"
       ]
      }
     ],
     "prompt_number": 76
    },
    {
     "cell_type": "code",
     "collapsed": false,
     "input": [
      "data = data.drop('Amount_goal',1)"
     ],
     "language": "python",
     "metadata": {},
     "outputs": [],
     "prompt_number": 184
    },
    {
     "cell_type": "code",
     "collapsed": false,
     "input": [
      "fig,ax1 = plt.subplots(figsize=(8,6))\n",
      "col = {0: data['Count_update'], 1:data['Count_comment'], 2:data['Count_funder'], 3:data['Count_photo'],4:data['Count_photo'],\n",
      "       5:data['Start_month'], 6:data['End_mont'], 7:data['Duration'],\n",
      "       8: data['Min_perk'], 9:data['N0_min_perk'], 10:data['Max_perk'], 11:data['No_max_perk'],\n",
      "       12: data['Median_perk'], 13:data['No_med_perk'], 14:data['Tot_perk'], 15:data['FB_like'],\n",
      "       16: data['FB_talking'], 17:data['You_avg_duratio'], 18:data['You_avg_view_count'], 19:data['You_avg_rating'],\n",
      "       20: data['US'], 21:data['newtype'], 22:data['lat'], 23:data['lon'],24:data['recoded_country'],25:data['Mintotal'],\n",
      "       26:data['Mediantotal'],27:data['Min_by_goal'],28:data['Max_by_goal'],29:data['Median_by_goal']\n",
      "       }\n",
      "cols = {1: \"blue\", 2: \"green\", 3: \"red\"}\n",
      "label = {1}\n",
      "color = map(lambda x: cols[x],Y)\n",
      "print col[0].name\n",
      "\n",
      "for i in range(3):\n",
      "    fig,ax1 = plt.subplots(figsize=(8,6))\n",
      "    ax1.scatter(col[i],amount_raised,c = color, lw = 0.5)\n",
      "    ax1.set_xlabel(col[i].name)\n",
      "    ax1.set_ylabel('Amount Raised')\n",
      "    ax1.set_ylim([0,50000])\n",
      "    tmparray = np.float64(col[i])\n",
      "    ax1.set_xlim([-1,tmparray.max()])\n",
      "    ax1.legend(cols)\n",
      "    fig.savefig(\"Plots/\"+col[i].name+\".png\")\n",
      "    #ax1.set_xlim([1,25])\n",
      "        #if i==j:\n",
      "            #at = AnchoredText(parameters[i],prop=dict(size=8), frameon=True, loc=2, )\n",
      "            #at.patch.set_boxstyle(\"round,pad=0.,rounding_size=0.2\")\n",
      "            #ax[i,j].add_artist(at)\n",
      "   "
     ],
     "language": "python",
     "metadata": {},
     "outputs": [
      {
       "output_type": "stream",
       "stream": "stdout",
       "text": [
        "Count_update\n"
       ]
      },
      {
       "metadata": {},
       "output_type": "display_data",
       "png": "[encoded data removed]",
       "text": [
        "<matplotlib.figure.Figure at 0x10d75b710>"
       ]
      },
      {
       "metadata": {},
       "output_type": "display_data",
       "png": "[encoded data removed]",
       "text": [
        "<matplotlib.figure.Figure at 0x10d0054d0>"
       ]
      },
      {
       "metadata": {},
       "output_type": "display_data",
       "png": "[encoded data removed]",
       "text": [
        "<matplotlib.figure.Figure at 0x111b2cd90>"
       ]
      },
      {
       "metadata": {},
       "output_type": "display_data",
       "png": "[encoded data removed]",
       "text": [
        "<matplotlib.figure.Figure at 0x114ae5210>"
       ]
      }
     ],
     "prompt_number": 186
    },
    {
     "cell_type": "code",
     "collapsed": false,
     "input": [
      "scatter(data['lon'], data['lat'], 3, color=\"g\" )"
     ],
     "language": "python",
     "metadata": {},
     "outputs": [
      {
       "metadata": {},
       "output_type": "pyout",
       "prompt_number": 188,
       "text": [
        "<matplotlib.collections.PathCollection at 0x10c800c90>"
       ]
      },
      {
       "metadata": {},
       "output_type": "display_data",
       "png": "[encoded data removed]",
       "text": [
        "<matplotlib.figure.Figure at 0x10d094310>"
       ]
      }
     ],
     "prompt_number": 188
    },
    {
     "cell_type": "code",
     "collapsed": false,
     "input": [
      "from mpl_toolkits.basemap import Basemap\n",
      "import matplotlib.pyplot as plt\n",
      "import numpy as np\n",
      "fig,ax1 = plt.subplots(figsize=(6,6))\n",
      "# setup Lambert Conformal basemap.\n",
      "m = Basemap(projection='merc',llcrnrlat=-60,urcrnrlat=80,\\\n",
      "            llcrnrlon=-160,urcrnrlon=180,lat_ts=20,resolution='c')\n",
      "\n",
      "m.drawmapboundary(fill_color='aqua')\n",
      "m.fillcontinents(color='coral',lake_color='aqua')\n",
      "\n",
      "# draw state boundaries too\n",
      "# http://matplotlib.org/basemap/api/basemap_api.html#mpl_toolkits.basemap.Basemap.drawstates\n",
      "#m.drawstates(linewidth=0.1)\n",
      "\n",
      "m.drawparallels(np.arange(-90.,91.,30.))\n",
      "m.drawmeridians(np.arange(-180.,181.,60.))\n",
      "\n",
      "from itertools import izip\n",
      "\n",
      "dots = izip(data['lon'],data['lat'])\n",
      "\n",
      "for dot in dots:\n",
      "    (xpt, ypt) = m(dot[0], dot[1])\n",
      "    m.plot(xpt, ypt, 'bo', markersize=2,)\n",
      "plt.title('Distribution of crowd funded projects across the globe')\n",
      "plt.savefig(\"Plots/map.png\")"
     ],
     "language": "python",
     "metadata": {},
     "outputs": [
      {
       "metadata": {},
       "output_type": "display_data",
       "png": "[encoded data removed]",
       "text": [
        "<matplotlib.figure.Figure at 0x10daa6150>"
       ]
      }
     ],
     "prompt_number": 102
    },
    {
     "cell_type": "code",
     "collapsed": false,
     "input": [
      "m.ax("
     ],
     "language": "python",
     "metadata": {},
     "outputs": [],
     "prompt_number": 94
    },
    {
     "cell_type": "code",
     "collapsed": false,
     "input": [],
     "language": "python",
     "metadata": {},
     "outputs": [],
     "prompt_number": 101
    },
    {
     "cell_type": "code",
     "collapsed": false,
     "input": [],
     "language": "python",
     "metadata": {},
     "outputs": []
    },
    {
     "cell_type": "code",
     "collapsed": false,
     "input": [
      "#loc = data['Location'].unique()\n",
      "\n",
      "#loclist = [(l) for l in loc]\n",
      "#loclist = list(set(newloc))\n",
      "#loclist[1]\n",
      "#locdict={}"
     ],
     "language": "python",
     "metadata": {},
     "outputs": [],
     "prompt_number": 244
    },
    {
     "cell_type": "code",
     "collapsed": false,
     "input": [],
     "language": "python",
     "metadata": {},
     "outputs": [],
     "prompt_number": 34
    },
    {
     "cell_type": "code",
     "collapsed": false,
     "input": [
      "import urllib, json\n",
      "import pprint\n",
      "invalid = []\n",
      "locdict={}\n",
      "for locname in loclist[1:]:\n",
      "    url2 = \"http://maps.googleapis.com/maps/api/geocode/json?address={}&sensor=false\".format(str(locname))\n",
      "    #print url2\n",
      "    googleResponse = urllib.urlopen(url2)\n",
      "    jsonResponse = json.loads(googleResponse.read())\n",
      "    try:\n",
      "        locdict[locname] = [jsonResponse['results'][0]['geometry']['location']['lat'],\n",
      "                        jsonResponse['results'][0]['geometry']['location']['lng']]\n",
      "    except:\n",
      "        locdict[locname] = 'Not found'\n",
      "        invalid.append(url2)\n",
      "locdict"
     ],
     "language": "python",
     "metadata": {},
     "outputs": []
    },
    {
     "cell_type": "code",
     "collapsed": false,
     "input": [
      "for i in invalid:\n",
      "    url2 = i\n",
      "    #print url2\n",
      "    googleResponse = urllib.urlopen(url2)\n",
      "    jsonResponse = json.loads(googleResponse.read())\n",
      "    try:\n",
      "        locdict[i] = jsonResponse['results'][0]['geometry']['location']['lng']\n",
      "    except:\n",
      "        print i\n"
     ],
     "language": "python",
     "metadata": {},
     "outputs": []
    },
    {
     "cell_type": "code",
     "collapsed": false,
     "input": [
      "googleResponse = urllib.urlopen(invalid[0])\n",
      "jsonResponse = json.loads(googleResponse.read())\n",
      "print jsonResponse #['results'][0]['geometry']['location']['lng']"
     ],
     "language": "python",
     "metadata": {},
     "outputs": []
    },
    {
     "cell_type": "code",
     "collapsed": false,
     "input": [
      "locdict"
     ],
     "language": "python",
     "metadata": {},
     "outputs": []
    },
    {
     "cell_type": "code",
     "collapsed": false,
     "input": [
      "unique = {}\n",
      "l = map(getgeo,uniqueloc)\n"
     ],
     "language": "python",
     "metadata": {},
     "outputs": []
    },
    {
     "cell_type": "code",
     "collapsed": false,
     "input": [
      "def getgeo(location):\n",
      "    g = geocoders.GoogleV3() \n",
      "    if location is None:\n",
      "        return \"%s: %.5f, %.5f\" % (place, 0, 0)  \n",
      "    else:   \n",
      "        place, (lat, lng) = g.geocode(location)  \n",
      "        return (place, lat, lng)   "
     ],
     "language": "python",
     "metadata": {},
     "outputs": []
    },
    {
     "cell_type": "code",
     "collapsed": false,
     "input": [],
     "language": "python",
     "metadata": {},
     "outputs": []
    },
    {
     "cell_type": "code",
     "collapsed": false,
     "input": [
      "g = geocoders.GoogleV3() \n",
      "place, (lat, lng) = g.geocode('Mojave, Paris, Vidulini, Tuzla, United States') \n",
      "print \"%s: %.5f, %.5f\" % (place, lat, lng)   "
     ],
     "language": "python",
     "metadata": {},
     "outputs": []
    },
    {
     "cell_type": "code",
     "collapsed": false,
     "input": [
      "data['geo'] = data['Location'].apply(getgeo)"
     ],
     "language": "python",
     "metadata": {},
     "outputs": []
    },
    {
     "cell_type": "code",
     "collapsed": false,
     "input": [
      "data['goal'] = data['Amount Raised']/data['Target Amount']\n"
     ],
     "language": "python",
     "metadata": {},
     "outputs": []
    },
    {
     "cell_type": "code",
     "collapsed": false,
     "input": [
      "def colorpicker(goal):\n",
      "    c = ''\n",
      "    if goal>=1:\n",
      "        c='g' \n",
      "    elif(goal<1):\n",
      "        c='b'\n",
      "    else:\n",
      "        c='r'\n",
      "    print \"%f:%s\" %(goal,c)\n",
      "    return c\n",
      "    \n",
      "data['color'] = data['goal'].apply(colorpicker)"
     ],
     "language": "python",
     "metadata": {},
     "outputs": []
    },
    {
     "cell_type": "code",
     "collapsed": false,
     "input": [
      "v = (data['color']=='g') & (data['goal'] <1)\n",
      "#len(data)\n",
      "#1281 = 1026 + 254 + 1\n",
      "# & (data['goal'] <1)"
     ],
     "language": "python",
     "metadata": {},
     "outputs": []
    },
    {
     "cell_type": "code",
     "collapsed": false,
     "input": [
      "data['color']"
     ],
     "language": "python",
     "metadata": {},
     "outputs": []
    },
    {
     "cell_type": "code",
     "collapsed": false,
     "input": [
      "import re\n",
      "def getfounders(f):\n",
      "    l=[]\n",
      "    for m in re.finditer( '],', f ):\n",
      "        l.append(m.start())\n",
      "    return len(l)\n",
      "    \n",
      "\"\"\"\n",
      ">> import re\n",
      ">>> text = \"Allowed Hello Hollow\"\n",
      ">>> for m in re.finditer( 'll', text ):\n",
      "...     print( 'll found', m.start(), m.end() )\n",
      "\"\"\""
     ],
     "language": "python",
     "metadata": {},
     "outputs": []
    },
    {
     "cell_type": "code",
     "collapsed": false,
     "input": [
      "data['#founders'] = data['Team Member (Name, URL)'].apply(getfounders)"
     ],
     "language": "python",
     "metadata": {},
     "outputs": []
    },
    {
     "cell_type": "code",
     "collapsed": false,
     "input": [
      "data.head(5)"
     ],
     "language": "python",
     "metadata": {},
     "outputs": []
    },
    {
     "cell_type": "code",
     "collapsed": false,
     "input": [
      "col"
     ],
     "language": "python",
     "metadata": {},
     "outputs": []
    },
    {
     "cell_type": "code",
     "collapsed": false,
     "input": [
      "\n",
      "%matplotlib inline\n",
      "fig,ax1 = plt.subplots(figsize=(12,8))\n",
      "goal = np.float64(data['goal'])\n",
      "duration = np.float64(data['Duration'])\n",
      "col = list(data['color'])\n",
      "ax1.set_title(\"Duration vs. Goal\",fontsize=16)\n",
      "p1 = ax1.scatter(duration,goal ,color='b',label=\"Duration vs. Goal\",linewidth=1.0)\n",
      "ax1.set_xlabel('Duration (days)')\n",
      "ax1.set_ylabel('Goal')\n",
      "ax1.set_ylim([0,3])\n",
      "ax1.set_xlim([-10,200])\n",
      "fig.savefig(\"Frontend/static/img/duration.png\")"
     ],
     "language": "python",
     "metadata": {},
     "outputs": []
    },
    {
     "cell_type": "code",
     "collapsed": false,
     "input": [
      "%matplotlib inline\n",
      "fig,ax1 = plt.subplots(figsize=(12,8))\n",
      "goal = np.float64(data['goal'])\n",
      "funders = np.float64(data['Number of Funders'])\n",
      "ax1.set_title(\"# of Funders vs. Goal\",fontsize=16)\n",
      "p1 = ax1.scatter(funders,goal, color='b',label=\"Duration vs. Goal\",linewidth=2.0,)\n",
      "ax1.set_xlabel('Funders ')\n",
      "ax1.set_ylabel('Goal')\n",
      "ax1.set_ylim([0,3])\n",
      "ax1.set_xlim([-10,200])"
     ],
     "language": "python",
     "metadata": {},
     "outputs": []
    },
    {
     "cell_type": "code",
     "collapsed": false,
     "input": [
      "%matplotlib inline\n",
      "fig,ax1 = plt.subplots(figsize=(12,8))\n",
      "goal = data['goal']\n",
      "sponsers = data['#founders']\n",
      "ax1.set_title(\"# of Sponsors vs. Goal\",fontsize=16)\n",
      "p1 = ax1.scatter(sponsers,goal, color=col,label=\"Sponsers vs. Goal\",linewidth=2.0,)\n",
      "ax1.set_xlabel('Sponsors ')\n",
      "ax1.set_ylabel('Goal')\n",
      "ax1.set_ylim([0,3])\n",
      "ax1.set_xlim([0,30])"
     ],
     "language": "python",
     "metadata": {},
     "outputs": []
    },
    {
     "cell_type": "code",
     "collapsed": false,
     "input": [
      "\n",
      "%matplotlib inline\n",
      "fig,ax1 = plt.subplots(figsize=(12,8))\n",
      "goal = np.float64(data['goal'])\n",
      "eta = np.float64(data['ETA (days)'])\n",
      "ax1.set_title(\"ETA (days) vs. Goal\",fontsize=16)\n",
      "p1 = ax1.scatter(eta,goal, color='b',label=\"ETA (days) vs. Goal\",linewidth=2.0,)\n",
      "ax1.set_xlabel('ETA (days) ')\n",
      "ax1.set_ylabel('Goal')\n",
      "ax1.set_ylim([0,3])\n",
      "ax1.set_xlim([-1,30])\n"
     ],
     "language": "python",
     "metadata": {},
     "outputs": []
    },
    {
     "cell_type": "code",
     "collapsed": false,
     "input": [
      "from itertools import izip\n",
      "for x in imap(,col):\n",
      "    print x\n",
      "\n"
     ],
     "language": "python",
     "metadata": {},
     "outputs": []
    },
    {
     "cell_type": "code",
     "collapsed": false,
     "input": [
      "import numpy as np\n",
      "from sklearn import cross_validation\n",
      "from sklearn import datasets\n",
      "from sklearn import svm\n",
      "clf = svm.SVC(kernel='linear', C=1)\n",
      "scores = cross_validation.cross_val_score(\n",
      "clf, X, Y, cv=25)\n",
      "print scores"
     ],
     "language": "python",
     "metadata": {},
     "outputs": [],
     "prompt_number": "*"
    },
    {
     "cell_type": "code",
     "collapsed": false,
     "input": [
      "len(Y)"
     ],
     "language": "python",
     "metadata": {},
     "outputs": [],
     "prompt_number": "*"
    },
    {
     "cell_type": "code",
     "collapsed": false,
     "input": [
      "arr = np.arange(9).reshape((3, 3))\n",
      "print arr\n",
      "#np.random.shuffle(arr)\n",
      "#arr\n",
      "#array([[3, 4, 5],\n",
      "#       [6, 7, 8],\n",
      "#       [0, 1, 2]])"
     ],
     "language": "python",
     "metadata": {},
     "outputs": [
      {
       "output_type": "stream",
       "stream": "stdout",
       "text": [
        "[[0 1 2]\n",
        " [3 4 5]\n",
        " [6 7 8]]\n"
       ]
      }
     ],
     "prompt_number": 397
    },
    {
     "cell_type": "code",
     "collapsed": false,
     "input": [
      "np.random.shuffle(arr)"
     ],
     "language": "python",
     "metadata": {},
     "outputs": [],
     "prompt_number": 398
    },
    {
     "cell_type": "code",
     "collapsed": false,
     "input": [
      "arr"
     ],
     "language": "python",
     "metadata": {},
     "outputs": [
      {
       "metadata": {},
       "output_type": "pyout",
       "prompt_number": 399,
       "text": [
        "array([[0, 1, 2],\n",
        "       [6, 7, 8],\n",
        "       [3, 4, 5]])"
       ]
      }
     ],
     "prompt_number": 399
    },
    {
     "cell_type": "code",
     "collapsed": false,
     "input": [
      "from mpl_toolkits.basemap import Basemap\n",
      "import numpy as np\n",
      "import matplotlib.pyplot as plt\n",
      "# llcrnrlat,llcrnrlon,urcrnrlat,urcrnrlon\n",
      "# are the lat/lon values of the lower left and upper right corners\n",
      "# of the map.\n",
      "# lat_ts is the latitude of true scale.\n",
      "# resolution = 'c' means use crude resolution coastlines.\n",
      "m = Basemap(projection='merc',llcrnrlat=-80,urcrnrlat=80,\\\n",
      "            llcrnrlon=-180,urcrnrlon=180,lat_ts=20,resolution='c')\n",
      "m.drawcoastlines()\n",
      "m.fillcontinents(color='coral',lake_color='aqua')\n",
      "# draw parallels and meridians.\n",
      "m.drawparallels(np.arange(-90.,91.,30.))\n",
      "m.drawmeridians(np.arange(-180.,181.,60.))\n",
      "m.drawmapboundary(fill_color='aqua')\n",
      "plt.title(\"Mercator Projection\")\n",
      "plt.show()"
     ],
     "language": "python",
     "metadata": {},
     "outputs": [
      {
       "metadata": {},
       "output_type": "display_data",
       "png": "[encoded data removed]",
       "text": [
        "<matplotlib.figure.Figure at 0x10c5feb90>"
       ]
      }
     ],
     "prompt_number": 106
    },
    {
     "cell_type": "code",
     "collapsed": false,
     "input": [
      "from sklearn import linear_model, decomposition, datasets\n",
      "\n",
      "logistic = linear_model.LogisticRegression()\n",
      "\n",
      "pca = decomposition.PCA()\n",
      "from sklearn.pipeline import Pipeline\n",
      "pipe = Pipeline(steps=[('pca', pca), ('logistic', logistic)])\n",
      "\n",
      "digits = datasets.load_digits()\n",
      "#X_digits = digits.data\n",
      "#y_digits = digits.target\n",
      "\n",
      "###############################################################################\n",
      "# Plot the PCA spectrum\n",
      "pca.fit(X)\n",
      "\n",
      "pl.figure(1, figsize=(4, 3))\n",
      "pl.clf()\n",
      "#pl.axes([.2, .2, .7, .7])\n",
      "pl.plot(pca.explained_variance_, linewidth=2)\n",
      "pl.axis('tight')\n",
      "pl.xlabel('n_components')\n",
      "pl.ylabel('explained_variance_')\n",
      "\n",
      "###############################################################################\n",
      "# Prediction\n",
      "\n",
      "from sklearn.grid_search import GridSearchCV\n",
      "\n",
      "n_components = [5,15,30]\n",
      "Cs = np.logspace(-4, 4, 3)\n",
      "\n",
      "#Parameters of pipelines can be set using \u2018__\u2019 separated parameter names:\n",
      "\n",
      "estimator = GridSearchCV(pipe,\n",
      "                         dict(pca__n_components=n_components,\n",
      "                              logistic__C=Cs))\n",
      "estimator.fit(X, Y)\n",
      "\n",
      "pl.axvline(estimator.best_estimator_.named_steps['pca'].n_components,\n",
      "           linestyle=':', label='n_components chosen')\n",
      "pl.legend(prop=dict(size=12))\n",
      "pl.show()"
     ],
     "language": "python",
     "metadata": {},
     "outputs": [
      {
       "metadata": {},
       "output_type": "display_data",
       "png": "[encoded data removed]",
       "text": [
        "<matplotlib.figure.Figure at 0x117646cd0>"
       ]
      }
     ],
     "prompt_number": 109
    },
    {
     "cell_type": "code",
     "collapsed": false,
     "input": [],
     "language": "python",
     "metadata": {},
     "outputs": []
    }
   ],
   "metadata": {}
  }
 ]
}