{
 "metadata": {
  "name": ""
 },
 "nbformat": 3,
 "nbformat_minor": 0,
 "worksheets": [
  {
   "cells": [
    {
     "cell_type": "code",
     "collapsed": false,
     "input": [
      "import numpy as np\n",
      "import math\n",
      "%pylab inline\n",
      "from sklearn import neighbors\n",
      "from sklearn import preprocessing\n"
     ],
     "language": "python",
     "metadata": {},
     "outputs": [
      {
       "output_type": "stream",
       "stream": "stdout",
       "text": [
        "Populating the interactive namespace from numpy and matplotlib\n"
       ]
      },
      {
       "output_type": "stream",
       "stream": "stderr",
       "text": [
        "WARNING: pylab import has clobbered these variables: ['clf', 'cm', 'split']\n",
        "`%pylab --no-import-all` prevents importing * from pylab and numpy\n"
       ]
      }
     ],
     "prompt_number": 56
    },
    {
     "cell_type": "heading",
     "level": 3,
     "metadata": {},
     "source": [
      "Reading the file"
     ]
    },
    {
     "cell_type": "code",
     "collapsed": false,
     "input": [
      "import pandas as pd\n",
      "import numpy as np\n",
      "import matplotlib.pyplot as plt\n",
      "from geopy import geocoders  \n",
      "import json"
     ],
     "language": "python",
     "metadata": {},
     "outputs": [],
     "prompt_number": 57
    },
    {
     "cell_type": "code",
     "collapsed": false,
     "input": [
      "filename =\"newdata_1200.csv\""
     ],
     "language": "python",
     "metadata": {},
     "outputs": [],
     "prompt_number": 105
    },
    {
     "cell_type": "code",
     "collapsed": false,
     "input": [
      "data = pd.read_csv(\"/Users/sonali/Documents/Ischool/PythonSeminar/NewRepo/pythonseminar/FinalProject/NewNotebooks/Data/\"+filename,sep = \"\\t\",header=0)\n",
      "data = data[data['Category']=='Technology']"
     ],
     "language": "python",
     "metadata": {},
     "outputs": [],
     "prompt_number": 106
    },
    {
     "cell_type": "code",
     "collapsed": false,
     "input": [
      "len(data)"
     ],
     "language": "python",
     "metadata": {},
     "outputs": [
      {
       "metadata": {},
       "output_type": "pyout",
       "prompt_number": 107,
       "text": [
        "1193"
       ]
      }
     ],
     "prompt_number": 107
    },
    {
     "cell_type": "code",
     "collapsed": false,
     "input": [
      "data = data.drop('sno',1)\n",
      "data = data.drop('Title',1)\n",
      "data = data.drop('Headline',1)\n",
      "data = data.drop('ShortDesc',1)\n",
      "data = data.drop('Category',1)\n",
      "data = data.drop('US',1)\n",
      "data = data.drop('Current',1)\n",
      "data = data.drop('Amount_currency',1)\n",
      "data = data.drop('Distance',1)\n",
      "#Comment after getting correct distance\n",
      "data = data.drop('Location',1)\n",
      "data = data.drop('Tweet_follow',1)\n",
      "data = data.drop('Tweet_status',1)\n",
      "data = data.drop('Start_year',1)\n",
      "data = data.drop('End_year',1)\n",
      "data = data.drop('Start_day',1)\n",
      "data = data.drop('End_day',1)\n",
      "# data = data.drop('Amount_goal',1)\n",
      "data = data.drop('Time_Left',1)\n"
     ],
     "language": "python",
     "metadata": {},
     "outputs": [],
     "prompt_number": 108
    },
    {
     "cell_type": "code",
     "collapsed": false,
     "input": [
      "def checkus(location):\n",
      "    if (location=='United States'):\n",
      "        return 1\n",
      "    else:\n",
      "        return 0 \n",
      "data['US'] = data['County'].apply(checkus)"
     ],
     "language": "python",
     "metadata": {},
     "outputs": [],
     "prompt_number": 109
    },
    {
     "cell_type": "code",
     "collapsed": false,
     "input": [
      "def changetype(prjtype):\n",
      "    if ('Fixed Funding' in prjtype):\n",
      "        return 1\n",
      "    else:\n",
      "        return 0\n",
      "data['newtype'] = data['Type'].apply(changetype)\n",
      "data = data.drop('Type',1)"
     ],
     "language": "python",
     "metadata": {},
     "outputs": [],
     "prompt_number": 110
    },
    {
     "cell_type": "code",
     "collapsed": false,
     "input": [
      "#1 (>2) - highly successful , 2 (>=1 <2) - successful , 3 (>=0.75 <1) Almost Successful , 4 (>=0.4 <0.75) Moderate, 5 (<0.4) Not\n",
      "def setstatus(ratio):\n",
      "    if (ratio>=1):\n",
      "        return 1\n",
      "   # if (ratio>=1 and ratio<2):\n",
      "        #return 2\n",
      "    if (ratio>=0.66 and ratio <1):\n",
      "        return 2\n",
      "    #if (ratio>=0.33 and ratio <0.66):\n",
      "    #    return 4\n",
      "    if (ratio<0.66):\n",
      "        return 3\n",
      "        \n",
      "data['status'] = data['Ratio'].apply(setstatus)\n",
      "len(data)\n",
      "ratio = data['Ratio']\n",
      "data = data.drop('Ratio',1)"
     ],
     "language": "python",
     "metadata": {},
     "outputs": [],
     "prompt_number": 111
    },
    {
     "cell_type": "code",
     "collapsed": false,
     "input": [
      "data = data.fillna(0)"
     ],
     "language": "python",
     "metadata": {},
     "outputs": [],
     "prompt_number": 112
    },
    {
     "cell_type": "code",
     "collapsed": false,
     "input": [
      "data['Count_photo'] = data['Count_photo'].fillna(0)"
     ],
     "language": "python",
     "metadata": {},
     "outputs": [],
     "prompt_number": 113
    },
    {
     "cell_type": "code",
     "collapsed": false,
     "input": [
      "countries = list(data['County'].unique())\n",
      "def getcountrycode(loc):\n",
      "    return countries.index(loc)  \n",
      "data['recoded_country'] = data['County'].apply(getcountrycode)\n",
      "data = data.drop('County',1)"
     ],
     "language": "python",
     "metadata": {},
     "outputs": [],
     "prompt_number": 114
    },
    {
     "cell_type": "code",
     "collapsed": false,
     "input": [
      "countries"
     ],
     "language": "python",
     "metadata": {},
     "outputs": [
      {
       "metadata": {},
       "output_type": "pyout",
       "prompt_number": 115,
       "text": [
        "['United States',\n",
        " 'Hungary',\n",
        " 'Ca0da',\n",
        " 'Sweden',\n",
        " 'Austria',\n",
        " 'Netherlands',\n",
        " 'United Kingdom',\n",
        " 'Switzerland',\n",
        " 'Slovakia',\n",
        " 'Denmark',\n",
        " 'Australia',\n",
        " 'Germany',\n",
        " 'Malaysia',\n",
        " 'Spain',\n",
        " 0,\n",
        " 'Brazil',\n",
        " 'Taiwan',\n",
        " 'Israel',\n",
        " 'Russian Federation',\n",
        " 'India',\n",
        " 'Ecuador',\n",
        " 'New Zealand',\n",
        " 'Serbia',\n",
        " 'Ireland',\n",
        " 'Norway',\n",
        " 'Turkey',\n",
        " 'France',\n",
        " 'British',\n",
        " 'Italy',\n",
        " 'Ukraine',\n",
        " 'Japan',\n",
        " 'Czech Republic',\n",
        " 'Hong Kong',\n",
        " 'Nicaragua',\n",
        " 'Bulgaria',\n",
        " 'Belgium',\n",
        " 'Nepal',\n",
        " 'Singapore',\n",
        " 'Slovenia',\n",
        " 'Poland',\n",
        " 'Argenti0',\n",
        " 'Kyrgyzstan',\n",
        " 'Mexico',\n",
        " 'Peru',\n",
        " 'Chi0',\n",
        " 'Portugal',\n",
        " 'Costa Rica',\n",
        " 'Finland',\n",
        " 'South Africa',\n",
        " 'Republic of',\n",
        " 'Gha0',\n",
        " 'United Arab Emirates',\n",
        " 'Netherlands Antilles',\n",
        " 'Romania',\n",
        " 'Rwanda',\n",
        " 'Latvia',\n",
        " 'Greece',\n",
        " 'Croatia',\n",
        " 'Armenia',\n",
        " 'Cyprus',\n",
        " 'Ethiopia',\n",
        " '0uru',\n",
        " 'Zambia',\n",
        " 'Iceland',\n",
        " 'Lebanon']"
       ]
      }
     ],
     "prompt_number": 115
    },
    {
     "cell_type": "code",
     "collapsed": false,
     "input": [
      "data['recoded_country']\n",
      "data['status']"
     ],
     "language": "python",
     "metadata": {},
     "outputs": [
      {
       "metadata": {},
       "output_type": "pyout",
       "prompt_number": 116,
       "text": [
        "0     3\n",
        "1     1\n",
        "2     3\n",
        "3     3\n",
        "4     3\n",
        "5     3\n",
        "6     3\n",
        "7     3\n",
        "8     3\n",
        "9     3\n",
        "10    3\n",
        "11    3\n",
        "12    3\n",
        "13    3\n",
        "14    3\n",
        "...\n",
        "1178    1\n",
        "1179    1\n",
        "1180    1\n",
        "1181    3\n",
        "1182    1\n",
        "1183    1\n",
        "1184    1\n",
        "1185    1\n",
        "1186    2\n",
        "1187    1\n",
        "1188    1\n",
        "1189    2\n",
        "1190    1\n",
        "1191    1\n",
        "1192    1\n",
        "Name: status, Length: 1193"
       ]
      }
     ],
     "prompt_number": 116
    },
    {
     "cell_type": "code",
     "collapsed": false,
     "input": [
      "def to_days(dur):\n",
      "    return float(dur)/(3600*24)\n",
      "data['Duration']= data['Duration'].apply(to_days)"
     ],
     "language": "python",
     "metadata": {},
     "outputs": [],
     "prompt_number": 117
    },
    {
     "cell_type": "code",
     "collapsed": false,
     "input": [
      "Y = data['status']\n",
      "data = data.drop('status',1)"
     ],
     "language": "python",
     "metadata": {},
     "outputs": [],
     "prompt_number": 118
    },
    {
     "cell_type": "code",
     "collapsed": false,
     "input": [
      "#X = data[['FB_like','FB_talking','Tweet_follow','Tweet_status','You_avg_duratio','You_avg_view_count','You_avg_rating']].values\n",
      "data.columns"
     ],
     "language": "python",
     "metadata": {},
     "outputs": [
      {
       "metadata": {},
       "output_type": "pyout",
       "prompt_number": 119,
       "text": [
        "Index([Count_update, Count_comment, Count_funder, Count_photo, Amount_goal, Amount_Raised, Start_month, End_mont, Duration, Min_perk, N0_min_perk, Max_perk, No_max_perk, Median_perk, No_med_perk, Tot_perk, FB_like, FB_talking, You_avg_duratio, You_avg_view_count, You_avg_rating, US, newtype, recoded_country], dtype=object)"
       ]
      }
     ],
     "prompt_number": 119
    },
    {
     "cell_type": "code",
     "collapsed": false,
     "input": [
      "split = math.floor(float(len(data))*0.6)\n",
      "print split\n",
      "#only social media features\n",
      "d = data.values \n",
      "#d_scaled = preprocessing.scale(d)\n",
      "#c = np.random.shuffle(d_scaled)\n",
      "#d_scaled\n",
      "#X = data[['FB_like','FB_talking','You_avg_duratio','You_avg_view_count','You_avg_rating']].values\n",
      "X = data.values\n",
      "Y_scaled = preprocessing.scale(Y)\n",
      "X_scaled = preprocessing.scale(X)\n",
      "X_train = X_scaled[:split]\n",
      "X_test = X_scaled[split:]\n",
      "Y_train = Y[:split].values\n",
      "Y_test = Y[split:].values\n"
     ],
     "language": "python",
     "metadata": {},
     "outputs": [
      {
       "output_type": "stream",
       "stream": "stdout",
       "text": [
        "715.0\n"
       ]
      }
     ],
     "prompt_number": 120
    },
    {
     "cell_type": "code",
     "collapsed": false,
     "input": [
      "\n",
      "d = data.values "
     ],
     "language": "python",
     "metadata": {},
     "outputs": [],
     "prompt_number": 121
    },
    {
     "cell_type": "code",
     "collapsed": false,
     "input": [
      "data.head(10)"
     ],
     "language": "python",
     "metadata": {},
     "outputs": [
      {
       "metadata": {},
       "output_type": "pyout",
       "prompt_number": 122,
       "text": [
        "<class 'pandas.core.frame.DataFrame'>\n",
        "Int64Index: 10 entries, 0 to 9\n",
        "Data columns:\n",
        "Count_update          10  non-null values\n",
        "Count_comment         10  non-null values\n",
        "Count_funder          10  non-null values\n",
        "Count_photo           10  non-null values\n",
        "Amount_goal           10  non-null values\n",
        "Amount_Raised         10  non-null values\n",
        "Start_month           10  non-null values\n",
        "End_mont              10  non-null values\n",
        "Duration              10  non-null values\n",
        "Min_perk              10  non-null values\n",
        "N0_min_perk           10  non-null values\n",
        "Max_perk              10  non-null values\n",
        "No_max_perk           10  non-null values\n",
        "Median_perk           10  non-null values\n",
        "No_med_perk           10  non-null values\n",
        "Tot_perk              10  non-null values\n",
        "FB_like               10  non-null values\n",
        "FB_talking            10  non-null values\n",
        "You_avg_duratio       10  non-null values\n",
        "You_avg_view_count    10  non-null values\n",
        "You_avg_rating        10  non-null values\n",
        "US                    10  non-null values\n",
        "newtype               10  non-null values\n",
        "recoded_country       10  non-null values\n",
        "dtypes: float64(6), int64(18)"
       ]
      }
     ],
     "prompt_number": 122
    },
    {
     "cell_type": "code",
     "collapsed": false,
     "input": [
      "import matplotlib.pyplot as plt\n",
      "plt.boxplot(Y)\n",
      "plt.show()"
     ],
     "language": "python",
     "metadata": {},
     "outputs": [
      {
       "metadata": {},
       "output_type": "display_data",
       "png": "[encoded data removed]",
       "text": [
        "<matplotlib.figure.Figure at 0x10ae56e10>"
       ]
      }
     ],
     "prompt_number": 123
    },
    {
     "cell_type": "code",
     "collapsed": false,
     "input": [
      "len(Y)"
     ],
     "language": "python",
     "metadata": {},
     "outputs": [
      {
       "metadata": {},
       "output_type": "pyout",
       "prompt_number": 124,
       "text": [
        "1193"
       ]
      }
     ],
     "prompt_number": 124
    },
    {
     "cell_type": "code",
     "collapsed": false,
     "input": [
      "X_train[0]"
     ],
     "language": "python",
     "metadata": {},
     "outputs": [
      {
       "metadata": {},
       "output_type": "pyout",
       "prompt_number": 125,
       "text": [
        "array([-0.50442381, -0.28822964, -0.21539806, -0.35285148, -0.24402036,\n",
        "       -0.25868239, -0.72574444, -0.50768682, -0.29219096, -0.1806757 ,\n",
        "       -0.09355749, -0.11505611, -0.12218609, -0.2782274 , -0.16123125,\n",
        "        0.0707007 , -0.04556901, -0.04271773,  0.35840418, -0.10014609,\n",
        "        2.41338505,  0.78798725, -0.51097883, -0.49420106])"
       ]
      }
     ],
     "prompt_number": 125
    },
    {
     "cell_type": "code",
     "collapsed": false,
     "input": [
      "Y_train[0]"
     ],
     "language": "python",
     "metadata": {},
     "outputs": [
      {
       "metadata": {},
       "output_type": "pyout",
       "prompt_number": 126,
       "text": [
        "3"
       ]
      }
     ],
     "prompt_number": 126
    },
    {
     "cell_type": "code",
     "collapsed": false,
     "input": [
      "subplot(131)\n",
      "scatter(X_train[:,11],Y_train)\n",
      "subplot(132)\n",
      "scatter(X_train[:,10],Y_train)\n",
      "subplot(133)\n",
      "scatter(X_train[:,9],Y_train)"
     ],
     "language": "python",
     "metadata": {},
     "outputs": [
      {
       "metadata": {},
       "output_type": "pyout",
       "prompt_number": 127,
       "text": [
        "<matplotlib.collections.PathCollection at 0x110926ad0>"
       ]
      },
      {
       "metadata": {},
       "output_type": "display_data",
       "png": "[encoded data removed]",
       "text": [
        "<matplotlib.figure.Figure at 0x108171e10>"
       ]
      }
     ],
     "prompt_number": 127
    },
    {
     "cell_type": "code",
     "collapsed": false,
     "input": [
      "from sklearn import linear_model\n",
      "clf = linear_model.LogisticRegression()"
     ],
     "language": "python",
     "metadata": {},
     "outputs": [],
     "prompt_number": 128
    },
    {
     "cell_type": "code",
     "collapsed": false,
     "input": [
      "# fit the model\n",
      "clf.fit(X_train, Y_train)"
     ],
     "language": "python",
     "metadata": {},
     "outputs": [
      {
       "metadata": {},
       "output_type": "pyout",
       "prompt_number": 129,
       "text": [
        "LogisticRegression(C=1.0, class_weight=None, dual=False, fit_intercept=True,\n",
        "          intercept_scaling=1, penalty='l2', random_state=None, tol=0.0001)"
       ]
      }
     ],
     "prompt_number": 129
    },
    {
     "cell_type": "code",
     "collapsed": false,
     "input": [
      "clf.coef_"
     ],
     "language": "python",
     "metadata": {},
     "outputs": [
      {
       "metadata": {},
       "output_type": "pyout",
       "prompt_number": 130,
       "text": [
        "array([[  2.37944981e-01,   4.98057100e-01,   1.61301953e+00,\n",
        "         -7.63221282e-01,  -2.63393293e+00,   8.57154436e-01,\n",
        "          1.97337612e-01,  -4.65751293e-01,  -9.11024134e-01,\n",
        "         -6.20746517e-01,   7.43299593e-01,  -3.86999583e-01,\n",
        "          1.50765882e+00,  -7.43524862e-01,   3.85088390e-01,\n",
        "         -3.87066327e-01,  -4.04902694e-01,  -9.94721832e-02,\n",
        "          3.77656468e-02,  -1.47314225e-01,  -1.81234082e-01,\n",
        "          1.48231746e-02,   8.04374924e-02,  -7.24106352e-02],\n",
        "       [ -3.91499592e-02,   1.31006042e+00,   6.76469091e-01,\n",
        "          1.30169965e-01,  -5.97903129e-01,   9.64707732e-01,\n",
        "         -4.96864305e-01,  -1.78438863e-01,  -3.81914148e-01,\n",
        "          7.81355487e-03,   2.20577039e-01,  -1.11662239e-01,\n",
        "          2.04184121e-01,  -2.07538539e-01,   2.02150497e-01,\n",
        "         -1.15076277e-01,   6.90264547e-01,  -6.63793796e-01,\n",
        "         -3.56625017e-01,  -1.68058849e-01,   3.54552409e-01,\n",
        "         -1.33289336e-02,   2.58389875e-02,  -2.12869233e-01],\n",
        "       [ -1.58927598e-01,  -6.73070116e-01,  -1.47828736e+00,\n",
        "          5.60259581e-01,   3.05366653e+00,  -8.51264160e-01,\n",
        "         -5.47006677e-02,   4.74621083e-01,   8.96682155e-01,\n",
        "          6.52813090e-01,  -6.72457188e-01,   5.50990435e-01,\n",
        "         -1.55388976e+00,   7.08413856e-01,  -2.27638852e-01,\n",
        "          3.87145833e-01,  -3.34745984e-01,   3.10376988e-01,\n",
        "          7.26969922e-02,   1.99832742e-01,   3.94169881e-02,\n",
        "         -1.40036987e-03,  -8.96551550e-02,   1.47406433e-01]])"
       ]
      }
     ],
     "prompt_number": 130
    },
    {
     "cell_type": "code",
     "collapsed": false,
     "input": [],
     "language": "python",
     "metadata": {},
     "outputs": [],
     "prompt_number": 130
    },
    {
     "cell_type": "code",
     "collapsed": false,
     "input": [
      "# now do the prediction\n",
      "Y_lr_pred = clf.predict(X_test)\n",
      "\n",
      "# how well did we do?\n",
      "from sklearn.metrics import mean_squared_error\n",
      "mse = mean_squared_error(Y_test,Y_lr_pred) ; print mse"
     ],
     "language": "python",
     "metadata": {},
     "outputs": [
      {
       "output_type": "stream",
       "stream": "stdout",
       "text": [
        "0.997907949791\n"
       ]
      }
     ],
     "prompt_number": 131
    },
    {
     "cell_type": "code",
     "collapsed": false,
     "input": [
      "for i in range(len(Y_lr_pred)):\n",
      "    print str(Y_lr_pred[i])+\"---->\"+str(Y_test[i])"
     ],
     "language": "python",
     "metadata": {},
     "outputs": [
      {
       "output_type": "stream",
       "stream": "stdout",
       "text": [
        "3---->3\n",
        "3---->1\n",
        "3---->3\n",
        "3---->3\n",
        "3---->3\n",
        "3---->2\n",
        "3---->3\n",
        "3---->3\n",
        "3---->1\n",
        "3---->3\n",
        "3---->3\n",
        "3---->3\n",
        "3---->3\n",
        "3---->3\n",
        "3---->3\n",
        "3---->3\n",
        "3---->3\n",
        "3---->3\n",
        "3---->3\n",
        "3---->3\n",
        "3---->3\n",
        "3---->3\n",
        "3---->3\n",
        "3---->3\n",
        "3---->3\n",
        "3---->3\n",
        "3---->2\n",
        "3---->3\n",
        "3---->3\n",
        "3---->1\n",
        "3---->3\n",
        "3---->3\n",
        "3---->3\n",
        "3---->3\n",
        "3---->3\n",
        "3---->3\n",
        "3---->3\n",
        "3---->3\n",
        "3---->3\n",
        "3---->1\n",
        "3---->3\n",
        "3---->3\n",
        "3---->1\n",
        "3---->3\n",
        "3---->3\n",
        "3---->3\n",
        "3---->3\n",
        "3---->3\n",
        "3---->3\n",
        "3---->1\n",
        "3---->3\n",
        "3---->3\n",
        "1---->2\n",
        "3---->3\n",
        "3---->3\n",
        "3---->3\n",
        "3---->3\n",
        "3---->3\n",
        "3---->3\n",
        "3---->1\n",
        "3---->3\n",
        "3---->3\n",
        "3---->3\n",
        "3---->3\n",
        "3---->3\n",
        "3---->2\n",
        "3---->3\n",
        "3---->3\n",
        "3---->3\n",
        "3---->3\n",
        "3---->3\n",
        "3---->3\n",
        "3---->3\n",
        "3---->3\n",
        "3---->3\n",
        "3---->3\n",
        "3---->3\n",
        "3---->1\n",
        "3---->3\n",
        "3---->3\n",
        "3---->3\n",
        "3---->3\n",
        "3---->3\n",
        "3---->3\n",
        "3---->3\n",
        "3---->3\n",
        "3---->3\n",
        "3---->3\n",
        "3---->3\n",
        "3---->2\n",
        "3---->3\n",
        "3---->2\n",
        "3---->1\n",
        "3---->3\n",
        "3---->1\n",
        "3---->1\n",
        "3---->1\n",
        "3---->3\n",
        "3---->3\n",
        "3---->3\n",
        "3---->3\n",
        "3---->2\n",
        "3---->3\n",
        "3---->3\n",
        "3---->3\n",
        "3---->3\n",
        "3---->3\n",
        "3---->3\n",
        "3---->3\n",
        "3---->3\n",
        "3---->3\n",
        "3---->3\n",
        "3---->3\n",
        "3---->1\n",
        "3---->3\n",
        "3---->3\n",
        "3---->3\n",
        "3---->3\n",
        "3---->3\n",
        "3---->3\n",
        "3---->3\n",
        "3---->2\n",
        "3---->3\n",
        "1---->1\n",
        "3---->2\n",
        "3---->3\n",
        "3---->3\n",
        "3---->3\n",
        "3---->1\n",
        "3---->3\n",
        "3---->3\n",
        "3---->3\n",
        "3---->3\n",
        "3---->3\n",
        "3---->1\n",
        "3---->3\n",
        "3---->3\n",
        "3---->3\n",
        "3---->3\n",
        "3---->1\n",
        "3---->3\n",
        "3---->3\n",
        "3---->3\n",
        "3---->3\n",
        "3---->3\n",
        "3---->3\n",
        "3---->3\n",
        "3---->3\n",
        "3---->3\n",
        "1---->3\n",
        "3---->3\n",
        "3---->3\n",
        "3---->3\n",
        "3---->3\n",
        "3---->3\n",
        "3---->3\n",
        "3---->3\n",
        "3---->3\n",
        "3---->1\n",
        "3---->3\n",
        "3---->3\n",
        "3---->3\n",
        "3---->3\n",
        "3---->3\n",
        "3---->1\n",
        "3---->3\n",
        "3---->3\n",
        "3---->3\n",
        "3---->3\n",
        "3---->3\n",
        "3---->1\n",
        "3---->3\n",
        "3---->1\n",
        "3---->3\n",
        "3---->3\n",
        "3---->3\n",
        "3---->3\n",
        "3---->3\n",
        "3---->3\n",
        "3---->3\n",
        "3---->1\n",
        "3---->3\n",
        "3---->3\n",
        "3---->1\n",
        "3---->3\n",
        "3---->3\n",
        "3---->1\n",
        "3---->3\n",
        "3---->3\n",
        "3---->3\n",
        "3---->3\n",
        "3---->3\n",
        "3---->3\n",
        "3---->3\n",
        "3---->3\n",
        "3---->3\n",
        "3---->3\n",
        "3---->3\n",
        "3---->3\n",
        "3---->3\n",
        "3---->3\n",
        "3---->3\n",
        "3---->3\n",
        "3---->3\n",
        "3---->3\n",
        "3---->3\n",
        "3---->3\n",
        "3---->3\n",
        "3---->3\n",
        "3---->3\n",
        "3---->2\n",
        "3---->1\n",
        "3---->3\n",
        "3---->3\n",
        "3---->3\n",
        "3---->3\n",
        "3---->3\n",
        "3---->3\n",
        "3---->3\n",
        "3---->3\n",
        "3---->3\n",
        "1---->1\n",
        "3---->3\n",
        "3---->3\n",
        "3---->3\n",
        "3---->3\n",
        "3---->3\n",
        "3---->1\n",
        "3---->3\n",
        "3---->3\n",
        "3---->1\n",
        "3---->3\n",
        "1---->1\n",
        "3---->1\n",
        "3---->3\n",
        "3---->3\n",
        "3---->3\n",
        "3---->3\n",
        "3---->3\n",
        "3---->3\n",
        "3---->3\n",
        "3---->3\n",
        "3---->3\n",
        "3---->1\n",
        "3---->3\n",
        "3---->3\n",
        "3---->1\n",
        "3---->3\n",
        "3---->3\n",
        "3---->3\n",
        "3---->3\n",
        "3---->3\n",
        "3---->1\n",
        "3---->3\n",
        "3---->3\n",
        "3---->3\n",
        "1---->3\n",
        "3---->3\n",
        "3---->3\n",
        "3---->3\n",
        "3---->3\n",
        "3---->3\n",
        "3---->3\n",
        "3---->3\n",
        "3---->3\n",
        "3---->3\n",
        "3---->2\n",
        "3---->3\n",
        "3---->3\n",
        "1---->1\n",
        "3---->1\n",
        "3---->3\n",
        "3---->3\n",
        "3---->3\n",
        "3---->3\n",
        "3---->3\n",
        "3---->3\n",
        "3---->3\n",
        "3---->3\n",
        "3---->3\n",
        "3---->3\n",
        "1---->1\n",
        "3---->1\n",
        "3---->3\n",
        "3---->1\n",
        "3---->1\n",
        "3---->1\n",
        "3---->3\n",
        "3---->1\n",
        "3---->1\n",
        "3---->1\n",
        "3---->1\n",
        "3---->1\n",
        "3---->2\n",
        "3---->1\n",
        "1---->1\n",
        "3---->1\n",
        "3---->3\n",
        "1---->1\n",
        "3---->1\n",
        "3---->2\n",
        "3---->1\n",
        "3---->1\n",
        "3---->3\n",
        "1---->1\n",
        "1---->1\n",
        "3---->1\n",
        "3---->3\n",
        "3---->3\n",
        "3---->1\n",
        "3---->1\n",
        "3---->3\n",
        "3---->1\n",
        "3---->1\n",
        "3---->3\n",
        "3---->3\n",
        "3---->3\n",
        "3---->1\n",
        "3---->3\n",
        "3---->3\n",
        "3---->3\n",
        "3---->1\n",
        "3---->3\n",
        "1---->1\n",
        "3---->1\n",
        "3---->1\n",
        "3---->1\n",
        "3---->3\n",
        "3---->1\n",
        "3---->3\n",
        "3---->3\n",
        "3---->1\n",
        "3---->2\n",
        "3---->3\n",
        "3---->3\n",
        "3---->3\n",
        "3---->3\n",
        "1---->1\n",
        "3---->1\n",
        "3---->3\n",
        "3---->3\n",
        "1---->1\n",
        "3---->3\n",
        "3---->3\n",
        "3---->2\n",
        "3---->3\n",
        "3---->1\n",
        "3---->3\n",
        "3---->1\n",
        "3---->3\n",
        "3---->3\n",
        "3---->3\n",
        "3---->1\n",
        "3---->1\n",
        "3---->3\n",
        "3---->1\n",
        "3---->1\n",
        "3---->1\n",
        "3---->1\n",
        "3---->3\n",
        "3---->3\n",
        "3---->3\n",
        "3---->1\n",
        "3---->3\n",
        "3---->3\n",
        "3---->3\n",
        "3---->1\n",
        "3---->3\n",
        "3---->3\n",
        "3---->3\n",
        "3---->1\n",
        "3---->3\n",
        "3---->1\n",
        "3---->3\n",
        "3---->1\n",
        "3---->1\n",
        "3---->3\n",
        "3---->3\n",
        "1---->1\n",
        "2---->1\n",
        "1---->1\n",
        "2---->1\n",
        "2---->3\n",
        "2---->1\n",
        "1---->1\n",
        "1---->1\n",
        "1---->1\n",
        "2---->1\n",
        "2---->1\n",
        "2---->1\n",
        "3---->1\n",
        "2---->1\n",
        "1---->1\n",
        "2---->1\n",
        "2---->1\n",
        "1---->1\n",
        "2---->1\n",
        "1---->1\n",
        "3---->1\n",
        "1---->1\n",
        "1---->1\n",
        "2---->1\n",
        "2---->1\n",
        "1---->1\n",
        "1---->1\n",
        "2---->1\n",
        "1---->1\n",
        "1---->1\n",
        "1---->1\n",
        "2---->1\n",
        "2---->1\n",
        "3---->1\n",
        "2---->2\n",
        "2---->1\n",
        "2---->1\n",
        "2---->3\n",
        "1---->1\n",
        "2---->1\n",
        "3---->1\n",
        "1---->1\n",
        "3---->1\n",
        "2---->1\n",
        "3---->3\n",
        "2---->1\n",
        "2---->1\n",
        "2---->1\n",
        "1---->1\n",
        "1---->1\n",
        "1---->1\n",
        "1---->1\n",
        "1---->1\n",
        "2---->1\n",
        "3---->1\n",
        "3---->1\n",
        "3---->1\n",
        "3---->1\n",
        "3---->2\n",
        "2---->1\n",
        "3---->1\n",
        "1---->3\n",
        "1---->1\n",
        "1---->1\n",
        "1---->1\n",
        "2---->3\n",
        "3---->1\n",
        "1---->1\n",
        "2---->1\n",
        "3---->1\n",
        "3---->1\n",
        "3---->1\n",
        "1---->2\n",
        "3---->3\n",
        "3---->1\n",
        "1---->1\n",
        "3---->1\n",
        "3---->1\n",
        "3---->1\n",
        "1---->1\n",
        "3---->1\n",
        "3---->1\n",
        "3---->1\n",
        "3---->1\n",
        "3---->1\n",
        "2---->1\n",
        "3---->1\n",
        "3---->1\n",
        "1---->3\n",
        "3---->1\n",
        "3---->1\n",
        "3---->1\n",
        "1---->1\n",
        "1---->2\n",
        "3---->1\n",
        "3---->1\n",
        "1---->2\n",
        "3---->1\n",
        "2---->1\n",
        "1---->1\n"
       ]
      }
     ],
     "prompt_number": 132
    },
    {
     "cell_type": "code",
     "collapsed": false,
     "input": [
      "plot(Y_test,Y_lr_pred - Y_test,'o')\n",
      "title(\"Linear Regression Residuals - MSE = %.1f\" % mse)\n",
      "xlabel(\"True Median Project Goal\")\n",
      "ylabel(\"Residual\")\n",
      "hlines(0,min(Y_test),max(Y_test),color=\"red\")"
     ],
     "language": "python",
     "metadata": {},
     "outputs": [
      {
       "metadata": {},
       "output_type": "pyout",
       "prompt_number": 133,
       "text": [
        "<matplotlib.collections.LineCollection at 0x10ece1c90>"
       ]
      },
      {
       "metadata": {},
       "output_type": "display_data",
       "png": "[encoded data removed]",
       "text": [
        "<matplotlib.figure.Figure at 0x10c053a10>"
       ]
      }
     ],
     "prompt_number": 133
    },
    {
     "cell_type": "code",
     "collapsed": false,
     "input": [
      "#boston = datasets.load_boston() ; X = boston['data'] ; Y = boston['target']\n",
      "from sklearn import cross_validation\n",
      "from sklearn import linear_model\n",
      "clf = linear_model.LogisticRegression()\n",
      "from sklearn.cross_validation import cross_val_score\n",
      "\n",
      "def print_cv_score_summary(model, xx, yy, cv):\n",
      "    scores = cross_val_score(model, xx, yy, cv=cv, n_jobs=1)\n",
      "    #print scores\n",
      "    print(\"mean: {:3f}, stdev: {:3f}\".format(\n",
      "        np.mean(scores), np.std(scores)))"
     ],
     "language": "python",
     "metadata": {},
     "outputs": [],
     "prompt_number": 134
    },
    {
     "cell_type": "code",
     "collapsed": false,
     "input": [],
     "language": "python",
     "metadata": {},
     "outputs": [],
     "prompt_number": 134
    },
    {
     "cell_type": "code",
     "collapsed": false,
     "input": [
      "print_cv_score_summary(clf,X,Y,cv=cross_validation.KFold(len(Y), 5))\n",
      "\n",
      "#print_cv_score_summary(clf,X,Y,cv=150)"
     ],
     "language": "python",
     "metadata": {},
     "outputs": [
      {
       "output_type": "stream",
       "stream": "stdout",
       "text": [
        "mean: 0.987427, stdev: 0.008400\n"
       ]
      }
     ],
     "prompt_number": 135
    },
    {
     "cell_type": "code",
     "collapsed": false,
     "input": [
      "print_cv_score_summary(clf,X,Y,\n",
      "    cv=cross_validation.KFold(len(Y),20,shuffle=True,random_state=1))"
     ],
     "language": "python",
     "metadata": {},
     "outputs": [
      {
       "output_type": "stream",
       "stream": "stdout",
       "text": [
        "mean: 0.986638, stdev: 0.016336\n"
       ]
      }
     ],
     "prompt_number": 136
    },
    {
     "cell_type": "code",
     "collapsed": false,
     "input": [
      "from sklearn.metrics import confusion_matrix\n",
      "import pylab as pl\n",
      "cm = confusion_matrix(Y_test, Y_lr_pred)\n",
      "print cm\n",
      "\n",
      "pl.matshow(cm)\n",
      "pl.title('Confusion matrix')\n",
      "pl.colorbar()\n",
      "pl.ylabel('True label')\n",
      "pl.xlabel('Predicted label')\n",
      "pl.show()\n"
     ],
     "language": "python",
     "metadata": {},
     "outputs": [
      {
       "output_type": "stream",
       "stream": "stdout",
       "text": [
        "[[ 42  27 103]\n",
        " [  4   1  15]\n",
        " [  4   3 279]]\n"
       ]
      },
      {
       "metadata": {},
       "output_type": "display_data",
       "png": "[encoded data removed]",
       "text": [
        "<matplotlib.figure.Figure at 0x10dad04d0>"
       ]
      }
     ],
     "prompt_number": 137
    },
    {
     "cell_type": "code",
     "collapsed": false,
     "input": [
      "from sklearn import neighbors\n",
      "from sklearn import preprocessing\n",
      "#X_scaled = preprocessing.scale(X) # many methods work better on scaled X\n",
      "clf1 = neighbors.KNeighborsRegressor(5)\n",
      "#train_X = X_scaled[:half]\n",
      "#test_X = X_scaled[half:]\n",
      "clf1.fit(X_train,Y_train)"
     ],
     "language": "python",
     "metadata": {},
     "outputs": [
      {
       "metadata": {},
       "output_type": "pyout",
       "prompt_number": 36,
       "text": [
        "KNeighborsRegressor(algorithm='auto', leaf_size=30, metric='minkowski',\n",
        "          n_neighbors=5, p=2, weights='uniform')"
       ]
      }
     ],
     "prompt_number": 36
    },
    {
     "cell_type": "code",
     "collapsed": false,
     "input": [
      "Y_knn_pred = clf1.predict(X_test)\n",
      "mse = mean_squared_error(Y_test,Y_knn_pred) ; print mse\n",
      "plot(Y_test, Y_knn_pred - Y_test,'o')\n",
      "title(\"k-NN Residuals - MSE = %.1f\" % mse)\n",
      "xlabel(\"True Median House Price ($1,000)\")\n",
      "ylabel(\"Residual\")\n",
      "hlines(0,min(Y_test),max(Y_test),color=\"red\")"
     ],
     "language": "python",
     "metadata": {},
     "outputs": [
      {
       "output_type": "stream",
       "stream": "stdout",
       "text": [
        "3.64167364017\n"
       ]
      },
      {
       "metadata": {},
       "output_type": "pyout",
       "prompt_number": 37,
       "text": [
        "<matplotlib.collections.LineCollection at 0x108f51590>"
       ]
      },
      {
       "metadata": {},
       "output_type": "display_data",
       "png": "[encoded data removed]",
       "text": [
        "<matplotlib.figure.Figure at 0x108f5a090>"
       ]
      }
     ],
     "prompt_number": 37
    },
    {
     "cell_type": "code",
     "collapsed": false,
     "input": [
      "data.columns\n",
      "ratio"
     ],
     "language": "python",
     "metadata": {},
     "outputs": [
      {
       "metadata": {},
       "output_type": "pyout",
       "prompt_number": 91,
       "text": [
        "0     0.140000\n",
        "1     1.037037\n",
        "2     0.058292\n",
        "3     0.004657\n",
        "4     0.139700\n",
        "5     0.463333\n",
        "6     0.017871\n",
        "7     0.013820\n",
        "8     0.006000\n",
        "9     0.013760\n",
        "10    0.137600\n",
        "11    0.458000\n",
        "12    0.304889\n",
        "13    0.054840\n",
        "14    0.003914\n",
        "...\n",
        "1178    1.041780\n",
        "1179    1.021500\n",
        "1180    1.020500\n",
        "1181    0.508600\n",
        "1182    1.013200\n",
        "1183    1.011880\n",
        "1184    1.622500\n",
        "1185    9.583000\n",
        "1186    0.941940\n",
        "1187    1.327371\n",
        "1188    1.317857\n",
        "1189    0.916340\n",
        "1190    1.016933\n",
        "1191    2.260900\n",
        "1192    1.800400\n",
        "Name: Ratio, Length: 1193"
       ]
      }
     ],
     "prompt_number": 91
    },
    {
     "cell_type": "code",
     "collapsed": false,
     "input": [
      "len(data.columns)"
     ],
     "language": "python",
     "metadata": {},
     "outputs": [
      {
       "metadata": {},
       "output_type": "pyout",
       "prompt_number": 92,
       "text": [
        "24"
       ]
      }
     ],
     "prompt_number": 92
    },
    {
     "cell_type": "code",
     "collapsed": false,
     "input": [
      "like = np.array(data['Count_funder'])\n",
      "like.max()"
     ],
     "language": "python",
     "metadata": {},
     "outputs": [
      {
       "metadata": {},
       "output_type": "pyout",
       "prompt_number": 93,
       "text": [
        "9645"
       ]
      }
     ],
     "prompt_number": 93
    },
    {
     "cell_type": "code",
     "collapsed": false,
     "input": [
      "\n",
      "%matplotlib inline\n",
      "fig,ax1 = plt.subplots(figsize=(12,8))\n",
      "Count_funder = np.float64(data['Count_funder'])\n",
      "amountraised = np.float64(data['Amount_Raised'])\n",
      "#ratio = np.float64(ratio)\n",
      "#col = list(data['color'])\n",
      "ax1.set_title(\"Count_funder vs. amountraised\",fontsize=16)\n",
      "p1 = ax1.bar(Count_funder,amountraised,color='b',label=\"Count_funder vs. amountraised\",linewidth=1.0)\n",
      "ax1.set_xlabel('Count_funder ')\n",
      "ax1.set_ylabel('amountraised')\n",
      "#ax1.set_ylim([0,10000])\n",
      "ax1.set_xlim([-45,2000])\n",
      "#fig.savefig(\"Frontend/static/img/duration.png\")"
     ],
     "language": "python",
     "metadata": {},
     "outputs": [
      {
       "metadata": {},
       "output_type": "pyout",
       "prompt_number": 94,
       "text": [
        "(-45, 2000)"
       ]
      },
      {
       "metadata": {},
       "output_type": "display_data",
       "png": "[encoded data removed]",
       "text": [
        "<matplotlib.figure.Figure at 0x10b4bd390>"
       ]
      }
     ],
     "prompt_number": 94
    },
    {
     "cell_type": "code",
     "collapsed": false,
     "input": [
      "\n",
      "%matplotlib inline\n",
      "fig,ax1 = plt.subplots(figsize=(12,8))\n",
      "Tot_perk = np.float64(data['Tot_perk'])\n",
      "amountraised = np.float64(data['Amount_Raised'])\n",
      "#ratio = np.float64(ratio)\n",
      "#col = list(data['color'])\n",
      "ax1.set_title(\"Tot_perk vs. amountraised\",fontsize=16)\n",
      "p1 = ax1.bar(Tot_perk,amountraised,color='b',label=\"Tot_perk vs. amountraised\",linewidth=1.0)\n",
      "ax1.set_xlabel('Tot_perk ')\n",
      "ax1.set_ylabel('amountraised')\n",
      "#ax1.set_ylim([0,10000])\n",
      "ax1.set_xlim([1,25])\n",
      "#fig.savefig(\"Frontend/static/img/duration.png\")"
     ],
     "language": "python",
     "metadata": {},
     "outputs": [
      {
       "metadata": {},
       "output_type": "pyout",
       "prompt_number": 95,
       "text": [
        "(1, 25)"
       ]
      },
      {
       "metadata": {},
       "output_type": "display_data",
       "png": "[encoded data removed]",
       "text": [
        "<matplotlib.figure.Figure at 0x10c0e2290>"
       ]
      }
     ],
     "prompt_number": 95
    },
    {
     "cell_type": "code",
     "collapsed": false,
     "input": [
      "data.columns"
     ],
     "language": "python",
     "metadata": {},
     "outputs": [
      {
       "metadata": {},
       "output_type": "pyout",
       "prompt_number": 101,
       "text": [
        "Index([Count_update, Count_comment, Count_funder, Count_photo, Amount_goal, Amount_Raised, Start_month, End_mont, Duration, Min_perk, N0_min_perk, Max_perk, No_max_perk, Median_perk, No_med_perk, Tot_perk, FB_like, FB_talking, You_avg_duratio, You_avg_view_count, You_avg_rating, US, newtype, recoded_country], dtype=object)"
       ]
      }
     ],
     "prompt_number": 101
    },
    {
     "cell_type": "code",
     "collapsed": false,
     "input": [
      "fig,ax1 = plt.subplots(figsize=(8,6))\n",
      "col = {0: data['Count_update'], 1:data['Count_comment'], 2:data['Count_funder'], 3:data['Count_photo'],\n",
      "       4: data['Amount_goal'], 5:data['Amount_Raised'], 6:data['Start_month'], 7:data['End_mont'],\n",
      "       8: data['Duration'], 9:data['Min_perk'], 10:data['N0_min_perk'], 11:data['Max_perk'],\n",
      "       12: data['FB_like'], 13:data['FB_talking'], 14:data['You_avg_duratio'], 15:data['You_avg_view_count'],\n",
      "       16: data['You_avg_rating'], 17:data['US'], 18:data['newtype'], 19:data['recoded_country'],\n",
      "       20: data['Median_perk'], 21:data['No_med_perk'], 22:data['Tot_perk'], 23:data['No_max_perk']\n",
      "       }\n",
      "cols = {1: \"blue\", 2: \"green\", 3: \"red\",4:\"pink\"}\n",
      "color = map(lambda x: cols[x],Y)\n",
      "print col[0].name\n",
      "\"\"\"\n",
      "for i in range(24):\n",
      "    fig,ax1 = plt.subplots(figsize=(8,6))\n",
      "    ax1.scatter(col[i],data['Amount_Raised'],c = color, lw = 0.5)\n",
      "    ax1.set_xlabel(col[i].name)\n",
      "    ax1.set_ylabel('amountraised')\n",
      "    #ax1.set_ylim([0,10000])\n",
      "    ax1.set_xlim([1,25])\n",
      "        #if i==j:\n",
      "            #at = AnchoredText(parameters[i],prop=dict(size=8), frameon=True, loc=2, )\n",
      "            #at.patch.set_boxstyle(\"round,pad=0.,rounding_size=0.2\")\n",
      "            #ax[i,j].add_artist(at)\n",
      "\"\"\"    "
     ],
     "language": "python",
     "metadata": {},
     "outputs": [
      {
       "output_type": "stream",
       "stream": "stdout",
       "text": [
        "Count_update\n"
       ]
      },
      {
       "metadata": {},
       "output_type": "pyout",
       "prompt_number": 142,
       "text": [
        "'\\nfor i in range(24):\\n    fig,ax1 = plt.subplots(figsize=(8,6))\\n    ax1.scatter(col[i],data[\\'Amount_Raised\\'],c = color, lw = 0.5)\\n    ax1.set_xlabel(\\'Tot_perk \\')\\n    ax1.set_ylabel(\\'amountraised\\')\\n    #ax1.set_ylim([0,10000])\\n    ax1.set_xlim([1,25])\\n        #if i==j:\\n            #at = AnchoredText(parameters[i],prop=dict(size=8), frameon=True, loc=2, )\\n            #at.patch.set_boxstyle(\"round,pad=0.,rounding_size=0.2\")\\n            #ax[i,j].add_artist(at)\\n'"
       ]
      },
      {
       "metadata": {},
       "output_type": "display_data",
       "png": "[encoded data removed]",
       "text": [
        "<matplotlib.figure.Figure at 0x11106bb10>"
       ]
      }
     ],
     "prompt_number": 142
    },
    {
     "cell_type": "code",
     "collapsed": false,
     "input": [
      "Y"
     ],
     "language": "python",
     "metadata": {},
     "outputs": [
      {
       "metadata": {},
       "output_type": "pyout",
       "prompt_number": 97,
       "text": [
        "0     4\n",
        "1     2\n",
        "2     4\n",
        "3     4\n",
        "4     4\n",
        "5     4\n",
        "6     4\n",
        "7     4\n",
        "8     4\n",
        "9     4\n",
        "10    4\n",
        "11    4\n",
        "12    4\n",
        "13    4\n",
        "14    4\n",
        "...\n",
        "1178    2\n",
        "1179    2\n",
        "1180    2\n",
        "1181    4\n",
        "1182    2\n",
        "1183    2\n",
        "1184    2\n",
        "1185    1\n",
        "1186    3\n",
        "1187    2\n",
        "1188    2\n",
        "1189    3\n",
        "1190    2\n",
        "1191    1\n",
        "1192    2\n",
        "Name: status, Length: 1193"
       ]
      }
     ],
     "prompt_number": 97
    },
    {
     "cell_type": "code",
     "collapsed": false,
     "input": [],
     "language": "python",
     "metadata": {},
     "outputs": []
    },
    {
     "cell_type": "code",
     "collapsed": false,
     "input": [],
     "language": "python",
     "metadata": {},
     "outputs": []
    },
    {
     "cell_type": "code",
     "collapsed": false,
     "input": [
      "#loc = data['Location'].unique()\n",
      "\n",
      "#loclist = [(l) for l in loc]\n",
      "#loclist = list(set(newloc))\n",
      "#loclist[1]\n",
      "#locdict={}"
     ],
     "language": "python",
     "metadata": {},
     "outputs": [],
     "prompt_number": 244
    },
    {
     "cell_type": "code",
     "collapsed": false,
     "input": [],
     "language": "python",
     "metadata": {},
     "outputs": [],
     "prompt_number": 34
    },
    {
     "cell_type": "code",
     "collapsed": false,
     "input": [
      "import urllib, json\n",
      "import pprint\n",
      "invalid = []\n",
      "locdict={}\n",
      "for locname in loclist[1:]:\n",
      "    url2 = \"http://maps.googleapis.com/maps/api/geocode/json?address={}&sensor=false\".format(str(locname))\n",
      "    #print url2\n",
      "    googleResponse = urllib.urlopen(url2)\n",
      "    jsonResponse = json.loads(googleResponse.read())\n",
      "    try:\n",
      "        locdict[locname] = [jsonResponse['results'][0]['geometry']['location']['lat'],\n",
      "                        jsonResponse['results'][0]['geometry']['location']['lng']]\n",
      "    except:\n",
      "        locdict[locname] = 'Not found'\n",
      "        invalid.append(url2)\n",
      "locdict"
     ],
     "language": "python",
     "metadata": {},
     "outputs": []
    },
    {
     "cell_type": "code",
     "collapsed": false,
     "input": [
      "for i in invalid:\n",
      "    url2 = i\n",
      "    #print url2\n",
      "    googleResponse = urllib.urlopen(url2)\n",
      "    jsonResponse = json.loads(googleResponse.read())\n",
      "    try:\n",
      "        locdict[i] = jsonResponse['results'][0]['geometry']['location']['lng']\n",
      "    except:\n",
      "        print i\n"
     ],
     "language": "python",
     "metadata": {},
     "outputs": []
    },
    {
     "cell_type": "code",
     "collapsed": false,
     "input": [
      "googleResponse = urllib.urlopen(invalid[0])\n",
      "jsonResponse = json.loads(googleResponse.read())\n",
      "print jsonResponse #['results'][0]['geometry']['location']['lng']"
     ],
     "language": "python",
     "metadata": {},
     "outputs": []
    },
    {
     "cell_type": "code",
     "collapsed": false,
     "input": [
      "locdict"
     ],
     "language": "python",
     "metadata": {},
     "outputs": []
    },
    {
     "cell_type": "code",
     "collapsed": false,
     "input": [
      "unique = {}\n",
      "l = map(getgeo,uniqueloc)\n"
     ],
     "language": "python",
     "metadata": {},
     "outputs": []
    },
    {
     "cell_type": "code",
     "collapsed": false,
     "input": [
      "def getgeo(location):\n",
      "    g = geocoders.GoogleV3() \n",
      "    if location is None:\n",
      "        return \"%s: %.5f, %.5f\" % (place, 0, 0)  \n",
      "    else:   \n",
      "        place, (lat, lng) = g.geocode(location)  \n",
      "        return (place, lat, lng)   "
     ],
     "language": "python",
     "metadata": {},
     "outputs": []
    },
    {
     "cell_type": "code",
     "collapsed": false,
     "input": [],
     "language": "python",
     "metadata": {},
     "outputs": []
    },
    {
     "cell_type": "code",
     "collapsed": false,
     "input": [
      "g = geocoders.GoogleV3() \n",
      "place, (lat, lng) = g.geocode('Mojave, Paris, Vidulini, Tuzla, United States') \n",
      "print \"%s: %.5f, %.5f\" % (place, lat, lng)   "
     ],
     "language": "python",
     "metadata": {},
     "outputs": []
    },
    {
     "cell_type": "code",
     "collapsed": false,
     "input": [
      "data['geo'] = data['Location'].apply(getgeo)"
     ],
     "language": "python",
     "metadata": {},
     "outputs": []
    },
    {
     "cell_type": "code",
     "collapsed": false,
     "input": [
      "data['goal'] = data['Amount Raised']/data['Target Amount']\n"
     ],
     "language": "python",
     "metadata": {},
     "outputs": []
    },
    {
     "cell_type": "code",
     "collapsed": false,
     "input": [
      "def colorpicker(goal):\n",
      "    c = ''\n",
      "    if goal>=1:\n",
      "        c='g' \n",
      "    elif(goal<1):\n",
      "        c='b'\n",
      "    else:\n",
      "        c='r'\n",
      "    print \"%f:%s\" %(goal,c)\n",
      "    return c\n",
      "    \n",
      "data['color'] = data['goal'].apply(colorpicker)"
     ],
     "language": "python",
     "metadata": {},
     "outputs": []
    },
    {
     "cell_type": "code",
     "collapsed": false,
     "input": [
      "v = (data['color']=='g') & (data['goal'] <1)\n",
      "#len(data)\n",
      "#1281 = 1026 + 254 + 1\n",
      "# & (data['goal'] <1)"
     ],
     "language": "python",
     "metadata": {},
     "outputs": []
    },
    {
     "cell_type": "code",
     "collapsed": false,
     "input": [
      "data['color']"
     ],
     "language": "python",
     "metadata": {},
     "outputs": []
    },
    {
     "cell_type": "code",
     "collapsed": false,
     "input": [
      "import re\n",
      "def getfounders(f):\n",
      "    l=[]\n",
      "    for m in re.finditer( '],', f ):\n",
      "        l.append(m.start())\n",
      "    return len(l)\n",
      "    \n",
      "\"\"\"\n",
      ">> import re\n",
      ">>> text = \"Allowed Hello Hollow\"\n",
      ">>> for m in re.finditer( 'll', text ):\n",
      "...     print( 'll found', m.start(), m.end() )\n",
      "\"\"\""
     ],
     "language": "python",
     "metadata": {},
     "outputs": []
    },
    {
     "cell_type": "code",
     "collapsed": false,
     "input": [
      "data['#founders'] = data['Team Member (Name, URL)'].apply(getfounders)"
     ],
     "language": "python",
     "metadata": {},
     "outputs": []
    },
    {
     "cell_type": "code",
     "collapsed": false,
     "input": [
      "data.head(5)"
     ],
     "language": "python",
     "metadata": {},
     "outputs": []
    },
    {
     "cell_type": "code",
     "collapsed": false,
     "input": [
      "col"
     ],
     "language": "python",
     "metadata": {},
     "outputs": []
    },
    {
     "cell_type": "code",
     "collapsed": false,
     "input": [
      "\n",
      "%matplotlib inline\n",
      "fig,ax1 = plt.subplots(figsize=(12,8))\n",
      "goal = np.float64(data['goal'])\n",
      "duration = np.float64(data['Duration'])\n",
      "col = list(data['color'])\n",
      "ax1.set_title(\"Duration vs. Goal\",fontsize=16)\n",
      "p1 = ax1.scatter(duration,goal ,color='b',label=\"Duration vs. Goal\",linewidth=1.0)\n",
      "ax1.set_xlabel('Duration (days)')\n",
      "ax1.set_ylabel('Goal')\n",
      "ax1.set_ylim([0,3])\n",
      "ax1.set_xlim([-10,200])\n",
      "fig.savefig(\"Frontend/static/img/duration.png\")"
     ],
     "language": "python",
     "metadata": {},
     "outputs": []
    },
    {
     "cell_type": "code",
     "collapsed": false,
     "input": [
      "%matplotlib inline\n",
      "fig,ax1 = plt.subplots(figsize=(12,8))\n",
      "goal = np.float64(data['goal'])\n",
      "funders = np.float64(data['Number of Funders'])\n",
      "ax1.set_title(\"# of Funders vs. Goal\",fontsize=16)\n",
      "p1 = ax1.scatter(funders,goal, color='b',label=\"Duration vs. Goal\",linewidth=2.0,)\n",
      "ax1.set_xlabel('Funders ')\n",
      "ax1.set_ylabel('Goal')\n",
      "ax1.set_ylim([0,3])\n",
      "ax1.set_xlim([-10,200])"
     ],
     "language": "python",
     "metadata": {},
     "outputs": []
    },
    {
     "cell_type": "code",
     "collapsed": false,
     "input": [
      "%matplotlib inline\n",
      "fig,ax1 = plt.subplots(figsize=(12,8))\n",
      "goal = data['goal']\n",
      "sponsers = data['#founders']\n",
      "ax1.set_title(\"# of Sponsors vs. Goal\",fontsize=16)\n",
      "p1 = ax1.scatter(sponsers,goal, color=col,label=\"Sponsers vs. Goal\",linewidth=2.0,)\n",
      "ax1.set_xlabel('Sponsors ')\n",
      "ax1.set_ylabel('Goal')\n",
      "ax1.set_ylim([0,3])\n",
      "ax1.set_xlim([0,30])"
     ],
     "language": "python",
     "metadata": {},
     "outputs": []
    },
    {
     "cell_type": "code",
     "collapsed": false,
     "input": [
      "\n",
      "%matplotlib inline\n",
      "fig,ax1 = plt.subplots(figsize=(12,8))\n",
      "goal = np.float64(data['goal'])\n",
      "eta = np.float64(data['ETA (days)'])\n",
      "ax1.set_title(\"ETA (days) vs. Goal\",fontsize=16)\n",
      "p1 = ax1.scatter(eta,goal, color='b',label=\"ETA (days) vs. Goal\",linewidth=2.0,)\n",
      "ax1.set_xlabel('ETA (days) ')\n",
      "ax1.set_ylabel('Goal')\n",
      "ax1.set_ylim([0,3])\n",
      "ax1.set_xlim([-1,30])\n"
     ],
     "language": "python",
     "metadata": {},
     "outputs": []
    },
    {
     "cell_type": "code",
     "collapsed": false,
     "input": [
      "from itertools import izip\n",
      "for x in imap(,col):\n",
      "    print x\n",
      "\n"
     ],
     "language": "python",
     "metadata": {},
     "outputs": []
    },
    {
     "cell_type": "code",
     "collapsed": false,
     "input": [
      "import numpy as np\n",
      "from sklearn import cross_validation\n",
      "from sklearn import datasets\n",
      "from sklearn import svm\n",
      "clf = svm.SVC(kernel='linear', C=1)\n",
      "scores = cross_validation.cross_val_score(\n",
      "clf, X, Y, cv=25)\n",
      "print scores"
     ],
     "language": "python",
     "metadata": {},
     "outputs": [],
     "prompt_number": "*"
    },
    {
     "cell_type": "code",
     "collapsed": false,
     "input": [
      "len(Y)"
     ],
     "language": "python",
     "metadata": {},
     "outputs": [],
     "prompt_number": "*"
    },
    {
     "cell_type": "code",
     "collapsed": false,
     "input": [
      "arr = np.arange(9).reshape((3, 3))\n",
      "print arr\n",
      "#np.random.shuffle(arr)\n",
      "#arr\n",
      "#array([[3, 4, 5],\n",
      "#       [6, 7, 8],\n",
      "#       [0, 1, 2]])"
     ],
     "language": "python",
     "metadata": {},
     "outputs": [
      {
       "output_type": "stream",
       "stream": "stdout",
       "text": [
        "[[0 1 2]\n",
        " [3 4 5]\n",
        " [6 7 8]]\n"
       ]
      }
     ],
     "prompt_number": 397
    },
    {
     "cell_type": "code",
     "collapsed": false,
     "input": [
      "np.random.shuffle(arr)"
     ],
     "language": "python",
     "metadata": {},
     "outputs": [],
     "prompt_number": 398
    },
    {
     "cell_type": "code",
     "collapsed": false,
     "input": [
      "arr"
     ],
     "language": "python",
     "metadata": {},
     "outputs": [
      {
       "metadata": {},
       "output_type": "pyout",
       "prompt_number": 399,
       "text": [
        "array([[0, 1, 2],\n",
        "       [6, 7, 8],\n",
        "       [3, 4, 5]])"
       ]
      }
     ],
     "prompt_number": 399
    },
    {
     "cell_type": "code",
     "collapsed": false,
     "input": [],
     "language": "python",
     "metadata": {},
     "outputs": []
    }
   ],
   "metadata": {}
  }
 ]
}