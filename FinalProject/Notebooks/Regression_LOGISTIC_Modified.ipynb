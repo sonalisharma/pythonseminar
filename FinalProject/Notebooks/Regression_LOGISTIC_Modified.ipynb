{
 "metadata": {
  "name": ""
 },
 "nbformat": 3,
 "nbformat_minor": 0,
 "worksheets": [
  {
   "cells": [
    {
     "cell_type": "raw",
     "metadata": {},
     "source": [
      "The common variables in Lasso and LARS in LASSOCV, LARSCV, LASSOLARV with optimum cases (Ratio<2.0 and CF= 20) for Tech, Non-Tech and \n",
      "all projects are:\n",
      "    Count_comment,Count_funder, Count_photo, Mintotal, Maxtotal, Mediantotal"
     ]
    },
    {
     "cell_type": "code",
     "collapsed": false,
     "input": [
      "import numpy as np\n",
      "import math\n",
      "%pylab inline\n",
      "from sklearn import neighbors\n",
      "from sklearn import preprocessing\n"
     ],
     "language": "python",
     "metadata": {},
     "outputs": [
      {
       "output_type": "stream",
       "stream": "stdout",
       "text": [
        "Populating the interactive namespace from numpy and matplotlib\n"
       ]
      },
      {
       "output_type": "stream",
       "stream": "stderr",
       "text": [
        "WARNING: pylab import has clobbered these variables: ['clf', 'cm', 'split']\n",
        "`%pylab --no-import-all` prevents importing * from pylab and numpy\n"
       ]
      }
     ],
     "prompt_number": 50
    },
    {
     "cell_type": "heading",
     "level": 3,
     "metadata": {},
     "source": [
      "Reading the file"
     ]
    },
    {
     "cell_type": "code",
     "collapsed": false,
     "input": [
      "import pandas as pd\n",
      "import numpy as np\n",
      "import matplotlib.pyplot as plt\n",
      "from geopy import geocoders  \n",
      "import json, math"
     ],
     "language": "python",
     "metadata": {},
     "outputs": [],
     "prompt_number": 265
    },
    {
     "cell_type": "code",
     "collapsed": false,
     "input": [
      "filename =\"newdata_1200.csv\""
     ],
     "language": "python",
     "metadata": {},
     "outputs": [],
     "prompt_number": 477
    },
    {
     "cell_type": "code",
     "collapsed": false,
     "input": [
      "data = pd.read_csv(\"//Users/sayantanm/Desktop/sonali/pythonseminar/FinalProject/Notebooks/Data/\"+filename,sep = \"\\t\",header=0)\n",
      "# data = data[data['Category'] !='Technology']"
     ],
     "language": "python",
     "metadata": {},
     "outputs": [],
     "prompt_number": 478
    },
    {
     "cell_type": "code",
     "collapsed": false,
     "input": [
      "data['Tech'] = (data['Category'] == \"Technology\").astype(int)"
     ],
     "language": "python",
     "metadata": {},
     "outputs": [],
     "prompt_number": 479
    },
    {
     "cell_type": "raw",
     "metadata": {},
     "source": [
      "Lasso Result: Tech: Count_comment, Count_funder, Start_month, N0_min_perk, No_max_perk, No_med_perk, Tot_perk, recoded_country, \n",
      "Median_by_one, Median_by_goal, Mintotal, Maxtotal, Mediantotal\n",
      "Lasso Result: Non-Tech: Count_update', u'Count_comment', u'Count_funder', u'Count_photo', u'Amount_goal', End_mont', u'Duration, N0_min_perk', \n",
      "u'Max_perk', u'No_max_perk', u'Median_perk', u'No_med_perk', u'Tot_perk', u'FB_like', u'FB_talking', u'You_avg_duratio', \n",
      "u'You_avg_view_count', Maxtotal', u'Mediantotal', u'Min_by_goal', Min_by_one, Median_by_one', u'newtype'\n"
     ]
    },
    {
     "cell_type": "code",
     "collapsed": false,
     "input": [
      "data = data.drop('sno',1)\n",
      "data = data.drop('US',1)\n",
      "data= data.drop('End_mont',1)\n",
      "data = data.drop('Title',1)\n",
      "data = data.drop('Headline',1)\n",
      "data = data.drop('ShortDesc',1)\n",
      "data = data.drop('Category',1)\n",
      "# data = data.drop('US',1)\n",
      "data = data.drop('Current',1)\n",
      "data = data.drop('Amount_currency',1)\n",
      "data = data.drop('Distance',1)\n",
      "#Comment after getting correct distance\n",
      "data = data.drop('Location',1)\n",
      "data = data.drop('Tweet_follow',1)\n",
      "data = data.drop('Tweet_status',1)\n",
      "data = data.drop('Start_year',1)\n",
      "data = data.drop('End_year',1)\n",
      "data = data.drop('Start_day',1)\n",
      "data = data.drop('End_day',1)\n",
      "data = data.drop('Amount_Raised',1)\n",
      "\n",
      "data = data.drop('Time_Left',1)\n",
      "\n",
      "data['Mintotal'] = data['Min_perk']*data['N0_min_perk']\n",
      "data['Maxtotal'] = data['Max_perk']*data['No_max_perk']\n",
      "data['Mediantotal'] = data['Median_perk']*data['No_med_perk']\n",
      "\n",
      "# data['Min_by_goal']= data['Mintotal']/data['Amount_goal']\n",
      "# data['Max_by_goal']= data['Maxtotal']/data['Amount_goal']\n",
      "# data['Median_by_goal']= data['Mediantotal']/data['Amount_goal']\n",
      "\n",
      "# data['Min_by_one']= data['Min_perk']/data['Amount_goal']\n",
      "# data['Max_by_one']= data['Max_perk']/data['Amount_goal']\n",
      "# data['Median_by_one']= data['Median_perk']/data['Amount_goal']"
     ],
     "language": "python",
     "metadata": {},
     "outputs": [],
     "prompt_number": 480
    },
    {
     "cell_type": "code",
     "collapsed": false,
     "input": [
      "data = data[data['Ratio']<=2]\n",
      "len(data)\n",
      "# data = data.drop('Ratio',1)"
     ],
     "language": "python",
     "metadata": {},
     "outputs": [
      {
       "metadata": {},
       "output_type": "pyout",
       "prompt_number": 481,
       "text": [
        "1770"
       ]
      }
     ],
     "prompt_number": 481
    },
    {
     "cell_type": "code",
     "collapsed": false,
     "input": [
      "def setstatus(ratio):\n",
      "    if (ratio>=1):\n",
      "        return 1\n",
      "    if (ratio>=0.66 and ratio <1):\n",
      "        return 2\n",
      "    if (ratio<0.66):\n",
      "        return 3\n",
      "        \n",
      "data['status'] = data['Ratio'].apply(setstatus)\n",
      "len(data)\n",
      "ratio = data['Ratio']\n",
      "data = data.drop('Ratio',1)"
     ],
     "language": "python",
     "metadata": {},
     "outputs": [],
     "prompt_number": 482
    },
    {
     "cell_type": "code",
     "collapsed": false,
     "input": [
      "Y = data['status']\n",
      "data = data.drop('status',1)"
     ],
     "language": "python",
     "metadata": {},
     "outputs": [],
     "prompt_number": 483
    },
    {
     "cell_type": "code",
     "collapsed": false,
     "input": [
      "data.columns"
     ],
     "language": "python",
     "metadata": {},
     "outputs": [
      {
       "metadata": {},
       "output_type": "pyout",
       "prompt_number": 484,
       "text": [
        "Index([u'County', u'Count_update', u'Count_comment', u'Count_funder', u'Count_photo', u'Amount_goal', u'Type', u'Start_month', u'Duration', u'Min_perk', u'N0_min_perk', u'Max_perk', u'No_max_perk', u'Median_perk', u'No_med_perk', u'Tot_perk', u'FB_like', u'FB_talking', u'You_avg_duratio', u'You_avg_view_count', u'You_avg_rating', u'Tech', u'Mintotal', u'Maxtotal', u'Mediantotal'], dtype=object)"
       ]
      }
     ],
     "prompt_number": 484
    },
    {
     "cell_type": "code",
     "collapsed": false,
     "input": [
      "def checkus(location):\n",
      "    if (location=='United States'):\n",
      "        return 1\n",
      "    else:\n",
      "        return 0 \n",
      "data['US'] = data['County'].apply(checkus)"
     ],
     "language": "python",
     "metadata": {},
     "outputs": [],
     "prompt_number": 485
    },
    {
     "cell_type": "code",
     "collapsed": false,
     "input": [
      "def changetype(prjtype):\n",
      "    if ('Fixed Funding' in prjtype):\n",
      "        return 1\n",
      "    else:\n",
      "        return 0\n",
      "data['newtype'] = data['Type'].apply(changetype)\n",
      "data = data.drop('Type',1)"
     ],
     "language": "python",
     "metadata": {},
     "outputs": [],
     "prompt_number": 486
    },
    {
     "cell_type": "code",
     "collapsed": false,
     "input": [
      "data = data.fillna(0)"
     ],
     "language": "python",
     "metadata": {},
     "outputs": [],
     "prompt_number": 487
    },
    {
     "cell_type": "code",
     "collapsed": false,
     "input": [
      "data['Count_photo'] = data['Count_photo'].fillna(0)\n",
      "data=data.dropna(axis=1,how='all')"
     ],
     "language": "python",
     "metadata": {},
     "outputs": [],
     "prompt_number": 488
    },
    {
     "cell_type": "code",
     "collapsed": false,
     "input": [
      "countries = list(data['County'].unique())\n",
      "def getcountrycode(loc):\n",
      "    return countries.index(loc)  \n",
      "data['recoded_country'] = data['County'].apply(getcountrycode)\n",
      "data = data.drop('County',1)"
     ],
     "language": "python",
     "metadata": {},
     "outputs": [],
     "prompt_number": 489
    },
    {
     "cell_type": "code",
     "collapsed": false,
     "input": [
      "def to_days(dur):\n",
      "    return float(dur)/(3600*24)\n",
      "data['Duration']= data['Duration'].apply(to_days)"
     ],
     "language": "python",
     "metadata": {},
     "outputs": [],
     "prompt_number": 490
    },
    {
     "cell_type": "code",
     "collapsed": false,
     "input": [
      "# Y = data['Amount_Raised']\n",
      "# data = data.drop('Amount_Raised',1)"
     ],
     "language": "python",
     "metadata": {},
     "outputs": [],
     "prompt_number": 491
    },
    {
     "cell_type": "code",
     "collapsed": false,
     "input": [
      "#X = data[['FB_like','FB_talking','Tweet_follow','Tweet_status','You_avg_duratio','You_avg_view_count','You_avg_rating']].values\n",
      "data.columns"
     ],
     "language": "python",
     "metadata": {},
     "outputs": [
      {
       "metadata": {},
       "output_type": "pyout",
       "prompt_number": 492,
       "text": [
        "Index([u'Count_update', u'Count_comment', u'Count_funder', u'Count_photo', u'Amount_goal', u'Start_month', u'Duration', u'Min_perk', u'N0_min_perk', u'Max_perk', u'No_max_perk', u'Median_perk', u'No_med_perk', u'Tot_perk', u'FB_like', u'FB_talking', u'You_avg_duratio', u'You_avg_view_count', u'You_avg_rating', u'Tech', u'Mintotal', u'Maxtotal', u'Mediantotal', u'US', u'newtype', u'recoded_country'], dtype=object)"
       ]
      }
     ],
     "prompt_number": 492
    },
    {
     "cell_type": "code",
     "collapsed": false,
     "input": [
      "split = math.floor(float(len(data))*0.7)\n",
      "print split\n",
      "#only social media features\n",
      "d = data.values \n",
      "d_scaled = preprocessing.scale(d)\n",
      "c = np.random.shuffle(d_scaled)\n",
      "d_scaled\n",
      "#X = data[['FB_like','FB_talking','You_avg_duratio','You_avg_view_count','You_avg_rating']].values\n",
      "# X=data[['FB_like','Amount_goal','Count_funder', 'Count_photo', 'Mintotal', 'Maxtotal', 'Mediantotal']].values\n",
      "# X=data[['Count_comment','Amount_goal','Count_funder', 'Count_photo', 'Mintotal', 'Maxtotal']].values\n",
      "X=data[['Amount_goal','Count_funder', 'Count_photo', 'Mintotal', 'Maxtotal']].values\n",
      "\n",
      "\n",
      "# X = data.values\n",
      "Y_scaled = preprocessing.scale(Y)\n",
      "X_scaled = preprocessing.scale(X)\n",
      "X_train = X_scaled[:split]\n",
      "X_test = X_scaled[split:]\n",
      "Y_train = Y[:split].values\n",
      "Y_test = Y[split:].values\n"
     ],
     "language": "python",
     "metadata": {},
     "outputs": [
      {
       "output_type": "stream",
       "stream": "stdout",
       "text": [
        "1239.0\n"
       ]
      }
     ],
     "prompt_number": 493
    },
    {
     "cell_type": "code",
     "collapsed": false,
     "input": [
      "# d = data.values "
     ],
     "language": "python",
     "metadata": {},
     "outputs": [],
     "prompt_number": 494
    },
    {
     "cell_type": "code",
     "collapsed": false,
     "input": [
      "# data.head(10)"
     ],
     "language": "python",
     "metadata": {},
     "outputs": [],
     "prompt_number": 495
    },
    {
     "cell_type": "code",
     "collapsed": false,
     "input": [
      "# import matplotlib.pyplot as plt\n",
      "# plt.boxplot(Y)\n",
      "# plt.show()"
     ],
     "language": "python",
     "metadata": {},
     "outputs": [],
     "prompt_number": 496
    },
    {
     "cell_type": "code",
     "collapsed": false,
     "input": [
      "len(Y)"
     ],
     "language": "python",
     "metadata": {},
     "outputs": [
      {
       "metadata": {},
       "output_type": "pyout",
       "prompt_number": 497,
       "text": [
        "1770"
       ]
      }
     ],
     "prompt_number": 497
    },
    {
     "cell_type": "code",
     "collapsed": false,
     "input": [
      "X_train[0]"
     ],
     "language": "python",
     "metadata": {},
     "outputs": [
      {
       "metadata": {},
       "output_type": "pyout",
       "prompt_number": 498,
       "text": [
        "array([-0.2186205 , -0.26097557, -0.35270599, -0.07448531, -0.10527805])"
       ]
      }
     ],
     "prompt_number": 498
    },
    {
     "cell_type": "code",
     "collapsed": false,
     "input": [
      "Y_train[0]"
     ],
     "language": "python",
     "metadata": {},
     "outputs": [
      {
       "metadata": {},
       "output_type": "pyout",
       "prompt_number": 499,
       "text": [
        "3"
       ]
      }
     ],
     "prompt_number": 499
    },
    {
     "cell_type": "code",
     "collapsed": false,
     "input": [
      "subplot(170)\n",
      "scatter(X_train[:,0],Y_train)\n",
      "subplot(171)\n",
      "scatter(X_train[:,1],Y_train)\n",
      "subplot(172)\n",
      "scatter(X_train[:,2],Y_train)\n",
      "subplot(173)\n",
      "scatter(X_train[:,3],Y_train)\n",
      "subplot(174)\n",
      "scatter(X_train[:,4],Y_train)\n",
      "# subplot(175)\n",
      "# scatter(X_train[:,5],Y_train)\n",
      "# subplot(176)\n",
      "# scatter(X_train[:,6],Y_train)"
     ],
     "language": "python",
     "metadata": {},
     "outputs": [
      {
       "metadata": {},
       "output_type": "pyout",
       "prompt_number": 500,
       "text": [
        "<matplotlib.collections.PathCollection at 0x1109e7c50>"
       ]
      },
      {
       "metadata": {},
       "output_type": "display_data",
       "png": "[encoded data removed]",
       "text": [
        "<matplotlib.figure.Figure at 0x10fe2ea50>"
       ]
      }
     ],
     "prompt_number": 500
    },
    {
     "cell_type": "code",
     "collapsed": false,
     "input": [
      "from sklearn import linear_model\n",
      "clf = linear_model.LogisticRegression()"
     ],
     "language": "python",
     "metadata": {},
     "outputs": [],
     "prompt_number": 501
    },
    {
     "cell_type": "code",
     "collapsed": false,
     "input": [
      "# fit the model\n",
      "clf.fit(X_train, Y_train)"
     ],
     "language": "python",
     "metadata": {},
     "outputs": [
      {
       "metadata": {},
       "output_type": "pyout",
       "prompt_number": 502,
       "text": [
        "LogisticRegression(C=1.0, class_weight=None, dual=False, fit_intercept=True,\n",
        "          intercept_scaling=1, penalty='l2', random_state=None, tol=0.0001)"
       ]
      }
     ],
     "prompt_number": 502
    },
    {
     "cell_type": "code",
     "collapsed": false,
     "input": [
      "clf.coef_"
     ],
     "language": "python",
     "metadata": {},
     "outputs": [
      {
       "metadata": {},
       "output_type": "pyout",
       "prompt_number": 503,
       "text": [
        "array([[-6.49830499,  1.39908247, -0.01698418,  0.01430558,  1.35458827],\n",
        "       [-2.01313509,  0.16627854, -0.01634828,  0.02436862,  0.08705499],\n",
        "       [ 7.42650423, -2.13074518,  0.11387673,  0.0785737 , -1.85326013]])"
       ]
      }
     ],
     "prompt_number": 503
    },
    {
     "cell_type": "code",
     "collapsed": false,
     "input": [
      "# now do the prediction\n",
      "Y_lr_pred = clf.predict(X_test)\n",
      "\n",
      "# how well did we do?\n",
      "from sklearn.metrics import mean_squared_error\n",
      "mse = mean_squared_error(Y_test,Y_lr_pred) ; \n",
      "print mse"
     ],
     "language": "python",
     "metadata": {},
     "outputs": [
      {
       "output_type": "stream",
       "stream": "stdout",
       "text": [
        "0.839924670433\n"
       ]
      }
     ],
     "prompt_number": 504
    },
    {
     "cell_type": "code",
     "collapsed": false,
     "input": [
      "for i in range(len(Y_lr_pred)):\n",
      "   print i, str(Y_lr_pred[i])+\"---->\"+str(Y_test[i])"
     ],
     "language": "python",
     "metadata": {},
     "outputs": [
      {
       "output_type": "stream",
       "stream": "stdout",
       "text": [
        " 0 3---->3\n",
        "1 3---->3\n",
        "2 3---->3\n",
        "3 3---->1\n",
        "4 3---->3\n",
        "5 3---->3\n",
        "6 3---->1\n",
        "7 3---->1\n",
        "8 3---->1\n",
        "9 3---->3\n",
        "10 3---->1\n",
        "11 3---->3\n",
        "12 3---->2\n",
        "13 3---->3\n",
        "14 3---->3\n",
        "15 3---->3\n",
        "16 3---->3\n",
        "17 3---->3\n",
        "18 3---->3\n",
        "19 3---->1\n",
        "20 3---->3\n",
        "21 3---->3\n",
        "22 3---->3\n",
        "23 3---->2\n",
        "24 3---->1\n",
        "25 3---->3\n",
        "26 3---->3\n",
        "27 3---->3\n",
        "28 3---->3\n",
        "29 3---->3\n",
        "30 3---->3\n",
        "31 3---->3\n",
        "32 3---->3\n",
        "33 3---->3\n",
        "34 3---->3\n",
        "35 3---->3\n",
        "36 3---->3\n",
        "37 3---->3\n",
        "38 3---->3\n",
        "39 3---->3\n",
        "40 3---->1\n",
        "41 3---->3\n",
        "42 3---->3\n",
        "43 3---->1\n",
        "44 3---->3\n",
        "45 3---->2\n",
        "46 3---->3\n",
        "47 3---->3\n",
        "48 3---->3\n",
        "49 3---->3\n",
        "50 3---->2\n",
        "51 3---->3\n",
        "52 3---->3\n",
        "53 3---->3\n",
        "54 1---->1\n",
        "55 1---->1\n",
        "56 3---->2\n",
        "57 3---->1\n",
        "58 1---->2\n",
        "59 1---->1\n",
        "60 1---->1\n",
        "61 3---->2\n",
        "62 3---->1\n",
        "63 3---->1\n",
        "64 3---->1\n",
        "65 1---->3\n",
        "66 3---->3\n",
        "67 1---->1\n",
        "68 1---->2\n",
        "69 3---->3\n",
        "70 1---->1\n",
        "71 1---->1\n",
        "72 3---->2\n",
        "73 1---->1\n",
        "74 1---->3\n",
        "75 3---->3\n",
        "76 3---->3\n",
        "77 3---->1\n",
        "78 3---->3\n",
        "79 3---->3\n",
        "80 3---->3\n",
        "81 1---->1\n",
        "82 3---->1\n",
        "83 3---->3\n",
        "84 1---->1\n",
        "85 1---->1\n",
        "86 3---->1\n",
        "87 3---->3\n",
        "88 3---->2\n",
        "89 3---->1\n",
        "90 3---->3\n",
        "91 3---->3\n",
        "92 3---->1\n",
        "93 3---->2\n",
        "94 3---->3\n",
        "95 3---->1\n",
        "96 3---->3\n",
        "97 3---->3\n",
        "98 3---->3\n",
        "99 3---->1\n",
        "100 3---->3\n",
        "101 3---->3\n",
        "102 3---->3\n",
        "103 3---->3\n",
        "104 3---->3\n",
        "105 3---->3\n",
        "106 3---->3\n",
        "107 3---->3\n",
        "108 3---->1\n",
        "109 3---->3\n",
        "110 3---->3\n",
        "111 3---->3\n",
        "112 3---->3\n",
        "113 3---->3\n",
        "114 3---->1\n",
        "115 3---->3\n",
        "116 3---->3\n",
        "117 3---->3\n",
        "118 3---->3\n",
        "119 3---->3\n",
        "120 3---->3\n",
        "121 3---->3\n",
        "122 3---->3\n",
        "123 3---->3\n",
        "124 3---->3\n",
        "125 3---->1\n",
        "126 3---->1\n",
        "127 3---->3\n",
        "128 1---->3\n",
        "129 3---->1\n",
        "130 3---->3\n",
        "131 3---->3\n",
        "132 3---->2\n",
        "133 1---->2\n",
        "134 3---->2\n",
        "135 3---->1\n",
        "136 3---->3\n",
        "137 3---->2\n",
        "138 3---->3\n",
        "139 3---->2\n",
        "140 3---->3\n",
        "141 3---->3\n",
        "142 3---->1\n",
        "143 3---->3\n",
        "144 3---->3\n",
        "145 3---->3\n",
        "146 1---->1\n",
        "147 3---->1\n",
        "148 3---->3\n",
        "149 3---->3\n",
        "150 3---->3\n",
        "151 3---->1\n",
        "152 3---->3\n",
        "153 3---->3\n",
        "154 3---->3\n",
        "155 3---->2\n",
        "156 3---->3\n",
        "157 3---->3\n",
        "158 3---->1\n",
        "159 3---->3\n",
        "160 3---->3\n",
        "161 3---->3\n",
        "162 3---->3\n",
        "163 3---->3\n",
        "164 3---->3\n",
        "165 3---->1\n",
        "166 3---->3\n",
        "167 3---->3\n",
        "168 3---->1\n",
        "169 3---->1\n",
        "170 3---->3\n",
        "171 3---->3\n",
        "172 3---->1\n",
        "173 3---->1\n",
        "174 3---->3\n",
        "175 3---->3\n",
        "176 3---->3\n",
        "177 3---->3\n",
        "178 3---->3\n",
        "179 3---->3\n",
        "180 3---->1\n",
        "181 3---->3\n",
        "182 3---->1\n",
        "183 3---->3\n",
        "184 3---->3\n",
        "185 3---->3\n",
        "186 3---->3\n",
        "187 3---->3\n",
        "188 3---->3\n",
        "189 3---->3\n",
        "190 3---->3\n",
        "191 3---->3\n",
        "192 3---->3\n",
        "193 3---->3\n",
        "194 3---->3\n",
        "195 3---->3\n",
        "196 3---->3\n",
        "197 3---->2\n",
        "198 3---->3\n",
        "199 3---->3\n",
        "200 3---->3\n",
        "201 3---->3\n",
        "202 3---->3\n",
        "203 3---->3\n",
        "204 3---->3\n",
        "205 3---->1\n",
        "206 3---->3\n",
        "207 3---->3\n",
        "208 3---->3\n",
        "209 3---->3\n",
        "210 3---->3\n",
        "211 3---->3\n",
        "212 3---->3\n",
        "213 3---->2\n",
        "214 3---->3\n",
        "215 3---->3\n",
        "216 3---->3\n",
        "217 3---->1\n",
        "218 3---->3\n",
        "219 3---->3\n",
        "220 3---->1\n",
        "221 3---->1\n",
        "222 3---->1\n",
        "223 3---->3\n",
        "224 3---->3\n",
        "225 3---->3\n",
        "226 3---->3\n",
        "227 3---->1\n",
        "228 3---->3\n",
        "229 3---->3\n",
        "230 3---->1\n",
        "231 3---->3\n",
        "232 3---->3\n",
        "233 3---->3\n",
        "234 3---->3\n",
        "235 3---->3\n",
        "236 3---->3\n",
        "237 3---->3\n",
        "238 3---->3\n",
        "239 3---->3\n",
        "240 3---->3\n",
        "241 3---->3\n",
        "242 3---->1\n",
        "243 3---->3\n",
        "244 3---->3\n",
        "245 3---->3\n",
        "246 3---->3\n",
        "247 3---->3\n",
        "248 3---->3\n",
        "249 3---->3\n",
        "250 3---->3\n",
        "251 3---->3\n",
        "252 3---->3\n",
        "253 3---->3\n",
        "254 3---->3\n",
        "255 3---->3\n",
        "256 3---->3\n",
        "257 3---->3\n",
        "258 3---->3\n",
        "259 3---->3\n",
        "260 3---->3\n",
        "261 3---->3\n",
        "262 3---->3\n",
        "263 3---->3\n",
        "264 3---->3\n",
        "265 3---->3\n",
        "266 3---->3\n",
        "267 3---->3\n",
        "268 3---->3\n",
        "269 3---->3\n",
        "270 3---->1\n",
        "271 3---->3\n",
        "272 3---->3\n",
        "273 3---->3\n",
        "274 3---->1\n",
        "275 3---->3\n",
        "276 3---->1\n",
        "277 3---->3\n",
        "278 3---->3\n",
        "279 3---->3\n",
        "280 3---->1\n",
        "281 3---->3\n",
        "282 3---->3\n",
        "283 3---->3\n",
        "284 3---->3\n",
        "285 3---->3\n",
        "286 3---->1\n",
        "287 3---->1\n",
        "288 3---->3\n",
        "289 3---->3\n",
        "290 3---->3\n",
        "291 3---->3\n",
        "292 3---->3\n",
        "293 3---->3\n",
        "294 3---->3\n",
        "295 1---->1\n",
        "296 1---->1\n",
        "297 3---->2\n",
        "298 3---->1\n",
        "299 1---->2\n",
        "300 1---->1\n",
        "301 1---->1\n",
        "302 3---->2\n",
        "303 3---->1\n",
        "304 3---->1\n",
        "305 3---->1\n",
        "306 1---->3\n",
        "307 3---->3\n",
        "308 1---->1\n",
        "309 1---->2\n",
        "310 3---->3\n",
        "311 1---->1\n",
        "312 1---->1\n",
        "313 3---->2\n",
        "314 1---->1\n",
        "315 1---->3\n",
        "316 3---->3\n",
        "317 3---->3\n",
        "318 3---->1\n",
        "319 3---->3\n",
        "320 3---->3\n",
        "321 3---->3\n",
        "322 1---->1\n",
        "323 3---->1\n",
        "324 3---->3\n",
        "325 1---->1\n",
        "326 1---->1\n",
        "327 3---->1\n",
        "328 3---->3\n",
        "329 3---->2\n",
        "330 3---->1\n",
        "331 3---->3\n",
        "332 3---->3\n",
        "333 3---->1\n",
        "334 3---->2\n",
        "335 3---->2\n",
        "336 3---->1\n",
        "337 3---->1\n",
        "338 3---->1\n",
        "339 1---->3\n",
        "340 3---->3\n",
        "341 1---->1\n",
        "342 1---->2\n",
        "343 3---->3\n",
        "344 1---->1\n",
        "345 1---->1\n",
        "346 3---->2\n",
        "347 1---->1\n",
        "348 1---->3\n",
        "349 3---->3\n",
        "350 3---->3\n",
        "351 3---->1\n",
        "352 3---->3\n",
        "353 3---->3\n",
        "354 3---->3\n",
        "355 1---->1\n",
        "356 3---->1\n",
        "357 3---->3\n",
        "358 1---->1\n",
        "359 1---->1\n",
        "360 3---->1\n",
        "361 3---->3\n",
        "362 3---->2\n",
        "363 3---->1\n",
        "364 3---->3\n",
        "365 3---->3\n",
        "366 3---->1\n",
        "367 3---->2\n",
        "368 3---->3\n",
        "369 1---->3\n",
        "370 3---->1\n",
        "371 3---->3\n",
        "372 3---->3\n",
        "373 3---->2\n",
        "374 1---->2\n",
        "375 3---->2\n",
        "376 3---->1\n",
        "377 3---->3\n",
        "378 3---->2\n",
        "379 3---->3\n",
        "380 3---->2\n",
        "381 3---->3\n",
        "382 3---->3\n",
        "383 3---->1\n",
        "384 3---->3\n",
        "385 3---->3\n",
        "386 3---->3\n",
        "387 1---->1\n",
        "388 3---->1\n",
        "389 3---->3\n",
        "390 3---->3\n",
        "391 3---->3\n",
        "392 3---->1\n",
        "393 3---->3\n",
        "394 3---->3\n",
        "395 3---->3\n",
        "396 3---->2\n",
        "397 3---->3\n",
        "398 3---->3\n",
        "399 3---->1\n",
        "400 3---->3\n",
        "401 3---->3\n",
        "402 3---->3\n",
        "403 3---->3\n",
        "404 3---->3\n",
        "405 3---->3\n",
        "406 3---->1\n",
        "407 3---->3\n",
        "408 3---->3\n",
        "409 3---->1\n",
        "410 3---->1\n",
        "411 3---->3\n",
        "412 3---->3\n",
        "413 3---->1\n",
        "414 3---->1\n",
        "415 3---->3\n",
        "416 3---->3\n",
        "417 3---->3\n",
        "418 3---->3\n",
        "419 3---->3\n",
        "420 3---->3\n",
        "421 3---->1\n",
        "422 3---->3\n",
        "423 3---->1\n",
        "424 3---->3\n",
        "425 3---->3\n",
        "426 3---->3\n",
        "427 3---->3\n",
        "428 3---->3\n",
        "429 3---->3\n",
        "430 3---->3\n",
        "431 3---->3\n",
        "432 3---->3\n",
        "433 3---->3\n",
        "434 3---->3\n",
        "435 3---->3\n",
        "436 3---->3\n",
        "437 3---->3\n",
        "438 3---->2\n",
        "439 3---->3\n",
        "440 3---->3\n",
        "441 3---->3\n",
        "442 3---->3\n",
        "443 3---->3\n",
        "444 3---->3\n",
        "445 3---->3\n",
        "446 3---->1\n",
        "447 3---->3\n",
        "448 3---->3\n",
        "449 3---->3\n",
        "450 3---->3\n",
        "451 3---->3\n",
        "452 3---->3\n",
        "453 3---->3\n",
        "454 3---->3\n",
        "455 3---->3\n",
        "456 3---->1\n",
        "457 3---->3\n",
        "458 3---->3\n",
        "459 3---->3\n",
        "460 3---->3\n",
        "461 3---->1\n",
        "462 3---->3\n",
        "463 3---->3\n",
        "464 3---->1\n",
        "465 3---->3\n",
        "466 3---->3\n",
        "467 3---->3\n",
        "468 3---->3\n",
        "469 3---->3\n",
        "470 3---->3\n",
        "471 3---->3\n",
        "472 3---->3\n",
        "473 3---->3\n",
        "474 3---->3\n",
        "475 3---->3\n",
        "476 3---->3\n",
        "477 3---->3\n",
        "478 3---->3\n",
        "479 3---->1\n",
        "480 3---->3\n",
        "481 3---->3\n",
        "482 3---->3\n",
        "483 3---->1\n",
        "484 3---->3\n",
        "485 3---->3\n",
        "486 3---->3\n",
        "487 3---->3\n",
        "488 3---->1\n",
        "489 3---->3\n",
        "490 3---->3\n",
        "491 3---->1\n",
        "492 3---->1\n",
        "493 3---->1\n",
        "494 3---->3\n",
        "495 3---->3\n",
        "496 3---->3\n",
        "497 3---->3\n",
        "498 3---->1\n",
        "499 3---->3\n",
        "500 3---->3\n",
        "501 3---->1\n",
        "502 3---->3\n",
        "503 3---->3\n",
        "504 3---->3\n",
        "505 3---->3\n",
        "506 3---->3\n",
        "507 3---->3\n",
        "508 3---->3\n",
        "509 3---->3\n",
        "510 3---->3\n",
        "511 3---->3\n",
        "512 3---->3\n",
        "513 3---->1\n",
        "514 3---->3\n",
        "515 3---->3\n",
        "516 3---->3\n",
        "517 3---->3\n",
        "518 3---->3\n",
        "519 3---->3\n",
        "520 3---->3\n",
        "521 3---->3\n",
        "522 3---->3\n",
        "523 3---->3\n",
        "524 3---->3\n",
        "525 3---->3\n",
        "526 3---->3\n",
        "527 3---->3\n",
        "528 3---->3\n",
        "529 3---->3\n",
        "530 3---->3\n"
       ]
      }
     ],
     "prompt_number": 527
    },
    {
     "cell_type": "code",
     "collapsed": false,
     "input": [
      "plot(Y_test,Y_lr_pred,'o')\n",
      "title(\"Linear Regression Residuals - MSE = %.1f\" % mse)\n",
      "xlabel(\"True Median Project Goal\")\n",
      "ylabel(\"Residual\")\n",
      "hlines(0,min(Y_test),max(Y_test),color=\"red\")"
     ],
     "language": "python",
     "metadata": {},
     "outputs": [
      {
       "metadata": {},
       "output_type": "pyout",
       "prompt_number": 506,
       "text": [
        "<matplotlib.collections.LineCollection at 0x10fe41210>"
       ]
      },
      {
       "metadata": {},
       "output_type": "display_data",
       "png": "[encoded data removed]",
       "text": [
        "<matplotlib.figure.Figure at 0x110a76e10>"
       ]
      }
     ],
     "prompt_number": 506
    },
    {
     "cell_type": "code",
     "collapsed": false,
     "input": [
      "#boston = datasets.load_boston() ; X = boston['data'] ; Y = boston['target']\n",
      "from sklearn import cross_validation\n",
      "from sklearn import linear_model\n",
      "clf = linear_model.LogisticRegression()\n",
      "from sklearn.cross_validation import cross_val_score\n",
      "\n",
      "def print_cv_score_summary(model, xx, yy, cv):\n",
      "    scores = cross_val_score(model, xx, yy, cv=cv, n_jobs=1)\n",
      "    print(\"mean: {:3f}, stdev: {:3f}\".format(\n",
      "        np.mean(scores), np.std(scores)))"
     ],
     "language": "python",
     "metadata": {},
     "outputs": [],
     "prompt_number": 507
    },
    {
     "cell_type": "code",
     "collapsed": false,
     "input": [
      "print_cv_score_summary(clf,X,Y,cv=cross_validation.KFold(len(Y), 25))\n",
      "\n",
      "#print_cv_score_summary(clf,X,Y,cv=150)"
     ],
     "language": "python",
     "metadata": {},
     "outputs": [
      {
       "output_type": "stream",
       "stream": "stdout",
       "text": [
        "mean: 0.878519, stdev: 0.098516\n"
       ]
      }
     ],
     "prompt_number": 508
    },
    {
     "cell_type": "code",
     "collapsed": false,
     "input": [
      "print_cv_score_summary(clf,X,Y,\n",
      "    cv=cross_validation.KFold(len(Y),20,shuffle=True,random_state=1))"
     ],
     "language": "python",
     "metadata": {},
     "outputs": [
      {
       "output_type": "stream",
       "stream": "stdout",
       "text": [
        "mean: 0.884736, stdev: 0.035738\n"
       ]
      }
     ],
     "prompt_number": 509
    },
    {
     "cell_type": "code",
     "collapsed": false,
     "input": [
      "# min(Y_lr_pred)"
     ],
     "language": "python",
     "metadata": {},
     "outputs": [],
     "prompt_number": 510
    },
    {
     "cell_type": "code",
     "collapsed": false,
     "input": [
      "from sklearn.metrics import confusion_matrix\n",
      "import pylab as pl\n",
      "cm = confusion_matrix(Y_test, Y_lr_pred)\n",
      "print cm\n",
      "\n",
      "pl.matshow(cm)\n",
      "pl.title('Confusion matrix')\n",
      "pl.colorbar()\n",
      "pl.ylabel('True label')\n",
      "pl.xlabel('Predicted label')\n",
      "pl.show()\n",
      "pl.savefig(\"confusionmatrix.png\")\n"
     ],
     "language": "python",
     "metadata": {},
     "outputs": [
      {
       "output_type": "stream",
       "stream": "stdout",
       "text": [
        "[[ 31   0  94]\n",
        " [  7   0  31]\n",
        " [  8   0 360]]\n"
       ]
      },
      {
       "metadata": {},
       "output_type": "display_data",
       "png": "[encoded data removed]",
       "text": [
        "<matplotlib.figure.Figure at 0x110a98510>"
       ]
      },
      {
       "metadata": {},
       "output_type": "display_data",
       "text": [
        "<matplotlib.figure.Figure at 0x110a06750>"
       ]
      }
     ],
     "prompt_number": 511
    },
    {
     "cell_type": "raw",
     "metadata": {},
     "source": [
      "X=data[['FB_like','Amount_goal','Count_funder', 'Count_photo', 'Mintotal', 'Maxtotal', 'Mediantotal']].values\n",
      "Technology (0, .66, 1):\n",
      "[[ 32  14  66]\n",
      " [  3   1  12]\n",
      " [  3   1 208]]\n",
      "Tech (0, .5, 1)\n",
      "[[ 29  21  62]\n",
      " [  7   2  22]\n",
      " [  1   1 195]]\n",
      "Non Tech (0, .5, 1)\n",
      "[[ 23   3  13]\n",
      " [ 10   4   7]\n",
      " [  3   0 129]]\n",
      "Non-Technology (0, .66, 1):\n",
      "[[ 21   0  18]\n",
      " [  5   0   6]\n",
      " [  6   1 135]]\n",
      "X=data[['Amount_goal','Count_funder', 'Count_photo', 'Mintotal', 'Maxtotal']].values\n",
      "Non-Tech CF=25\n",
      "[[ 21   0  18]\n",
      " [  3   0   8]\n",
      " [  4   1 137]]\n",
      "Tech: (89%) CF=25\n",
      "[[ 32  13  67]\n",
      " [  3   1  12]\n",
      " [  3   1 208]]\n",
      "All: (88%) CF=25\n",
      "[[ 31   0  94]\n",
      " [  7   0  31]\n",
      " [  8   0 360]]\n",
      "\n",
      "X=data[['Count_comment','Amount_goal','Count_funder', 'Count_photo', 'Mintotal', 'Maxtotal']].values\n",
      "Tech: (89%) CF=25\n",
      "[[ 28  25  59]\n",
      " [  3   1  12]\n",
      " [  4   3 205]]\n",
      "Non-Tech (87%) CF=25\n",
      "[[ 18   0  21]\n",
      " [  4   0   7]\n",
      " [  4   1 137]]\n",
      "All (88%) CF=25\n",
      "[[ 31   0  94]\n",
      " [  7   0  31]\n",
      " [  6   0 362]]"
     ]
    },
    {
     "cell_type": "heading",
     "level": 3,
     "metadata": {},
     "source": [
      "YARD Recall Precision:"
     ]
    },
    {
     "cell_type": "code",
     "collapsed": false,
     "input": [
      "import yard\n",
      "res=[]\n",
      "for i in range(len(Y_test)):\n",
      "    if Y_lr_pred[i]==Y_test[i]:\n",
      "        res.append((Y_lr_pred[i],1))\n",
      "    else:\n",
      "        res.append((Y_lr_pred[i],0))\n",
      "res=np.asarray(res)\n",
      "res\n",
      "x1=yard.FScoreCurve(res)\n",
      "x1.show()\n",
      "x2=yard.BinaryClassifierData(res)\n",
      "print x2.total_positives, x2.total_negatives\n",
      "x3=yard.ROCCurve(res)\n",
      "x3.show()\n",
      "x4=yard.PrecisionRecallCurve(res)\n",
      "x4.show()"
     ],
     "language": "python",
     "metadata": {},
     "outputs": [
      {
       "output_type": "stream",
       "stream": "stdout",
       "text": [
        "391 140\n"
       ]
      },
      {
       "metadata": {},
       "output_type": "display_data",
       "png": "[encoded data removed]",
       "text": [
        "<matplotlib.figure.Figure at 0x1109f64d0>"
       ]
      },
      {
       "metadata": {},
       "output_type": "display_data",
       "png": "[encoded data removed]",
       "text": [
        "<matplotlib.figure.Figure at 0x10f543290>"
       ]
      },
      {
       "metadata": {},
       "output_type": "display_data",
       "png": "[encoded data removed]",
       "text": [
        "<matplotlib.figure.Figure at 0x110a99fd0>"
       ]
      }
     ],
     "prompt_number": 568
    },
    {
     "cell_type": "raw",
     "metadata": {},
     "source": [
      "LARS-CV Result against Ratio\n",
      "http://en.wikipedia.org/wiki/Least-angle_regression\n",
      "Condition: Ratio<1.5\n",
      "Count_funder, Median_by_one, Median_by_Goal\n",
      "mean: 0.308300, stdev: 0.159430\n",
      "MSE: 0.154263173774"
     ]
    },
    {
     "cell_type": "raw",
     "metadata": {},
     "source": [
      "LARS-CV Result against Amount_Raised\n",
      "http://en.wikipedia.org/wiki/Least-angle_regression\n",
      "Condition: Ratio<1.5, Fold=30\n",
      "Count_photo, Maxtotal, Mediantotal\n",
      "mean: 0.511707, stdev: 0.653569"
     ]
    },
    {
     "cell_type": "raw",
     "metadata": {},
     "source": [
      "LARS-CV Result against Amount_Raised\n",
      "http://en.wikipedia.org/wiki/Least-angle_regression\n",
      "Condition: Ratio<1.5, Fold=20\n",
      "mean: 0.559452, stdev: 0.349972\n",
      "Count_Funder, Mintotal, Maxtotal"
     ]
    },
    {
     "cell_type": "raw",
     "metadata": {},
     "source": [
      "LARS-CV Result against Amount_Raised\n",
      "http://en.wikipedia.org/wiki/Least-angle_regression\n",
      "Condition: Ratio<2.5, Fold=20\n",
      "mean: 0.624651, stdev: 0.242701\n",
      "Count_Comment, Count_Funder, Mintotal, Maxtotal"
     ]
    },
    {
     "cell_type": "code",
     "collapsed": false,
     "input": [],
     "language": "python",
     "metadata": {},
     "outputs": []
    },
    {
     "cell_type": "code",
     "collapsed": false,
     "input": [
      "from sklearn import neighbors\n",
      "from sklearn import preprocessing\n",
      "#X_scaled = preprocessing.scale(X) # many methods work better on scaled X\n",
      "clf1 = neighbors.KNeighborsRegressor(5)\n",
      "#train_X = X_scaled[:half]\n",
      "#test_X = X_scaled[half:]\n",
      "clf1.fit(X_train,Y_train)"
     ],
     "language": "python",
     "metadata": {},
     "outputs": []
    },
    {
     "cell_type": "code",
     "collapsed": false,
     "input": [
      "Y_knn_pred = clf1.predict(X_test)\n",
      "mse = mean_squared_error(Y_test,Y_knn_pred) ; print mse\n",
      "plot(Y_test, Y_knn_pred - Y_test,'o')\n",
      "title(\"k-NN Residuals - MSE = %.1f\" % mse)\n",
      "xlabel(\"True Median House Price ($1,000)\")\n",
      "ylabel(\"Residual\")\n",
      "hlines(0,min(Y_test),max(Y_test),color=\"red\")"
     ],
     "language": "python",
     "metadata": {},
     "outputs": [
      {
       "output_type": "stream",
       "stream": "stdout",
       "text": [
        "3653909.13275\n"
       ]
      },
      {
       "metadata": {},
       "output_type": "pyout",
       "prompt_number": 377,
       "text": [
        "<matplotlib.collections.LineCollection at 0x10aa18ad0>"
       ]
      },
      {
       "metadata": {},
       "output_type": "display_data",
       "png": "[encoded data removed]",
       "text": [
        "<matplotlib.figure.Figure at 0x10aa0dd10>"
       ]
      }
     ],
     "prompt_number": 377
    },
    {
     "cell_type": "code",
     "collapsed": false,
     "input": [],
     "language": "python",
     "metadata": {},
     "outputs": []
    },
    {
     "cell_type": "code",
     "collapsed": false,
     "input": [],
     "language": "python",
     "metadata": {},
     "outputs": []
    },
    {
     "cell_type": "code",
     "collapsed": false,
     "input": [],
     "language": "python",
     "metadata": {},
     "outputs": []
    },
    {
     "cell_type": "code",
     "collapsed": false,
     "input": [],
     "language": "python",
     "metadata": {},
     "outputs": []
    },
    {
     "cell_type": "code",
     "collapsed": false,
     "input": [],
     "language": "python",
     "metadata": {},
     "outputs": []
    },
    {
     "cell_type": "code",
     "collapsed": false,
     "input": [],
     "language": "python",
     "metadata": {},
     "outputs": []
    },
    {
     "cell_type": "code",
     "collapsed": false,
     "input": [
      "#loc = data['Location'].unique()\n",
      "\n",
      "#loclist = [(l) for l in loc]\n",
      "#loclist = list(set(newloc))\n",
      "#loclist[1]\n",
      "#locdict={}"
     ],
     "language": "python",
     "metadata": {},
     "outputs": [],
     "prompt_number": 244
    },
    {
     "cell_type": "code",
     "collapsed": false,
     "input": [],
     "language": "python",
     "metadata": {},
     "outputs": [],
     "prompt_number": 34
    },
    {
     "cell_type": "code",
     "collapsed": false,
     "input": [
      "import urllib, json\n",
      "import pprint\n",
      "invalid = []\n",
      "locdict={}\n",
      "for locname in loclist[1:]:\n",
      "    url2 = \"http://maps.googleapis.com/maps/api/geocode/json?address={}&sensor=false\".format(str(locname))\n",
      "    #print url2\n",
      "    googleResponse = urllib.urlopen(url2)\n",
      "    jsonResponse = json.loads(googleResponse.read())\n",
      "    try:\n",
      "        locdict[locname] = [jsonResponse['results'][0]['geometry']['location']['lat'],\n",
      "                        jsonResponse['results'][0]['geometry']['location']['lng']]\n",
      "    except:\n",
      "        locdict[locname] = 'Not found'\n",
      "        invalid.append(url2)\n",
      "locdict"
     ],
     "language": "python",
     "metadata": {},
     "outputs": []
    },
    {
     "cell_type": "code",
     "collapsed": false,
     "input": [
      "for i in invalid:\n",
      "    url2 = i\n",
      "    #print url2\n",
      "    googleResponse = urllib.urlopen(url2)\n",
      "    jsonResponse = json.loads(googleResponse.read())\n",
      "    try:\n",
      "        locdict[i] = jsonResponse['results'][0]['geometry']['location']['lng']\n",
      "    except:\n",
      "        print i\n"
     ],
     "language": "python",
     "metadata": {},
     "outputs": []
    },
    {
     "cell_type": "code",
     "collapsed": false,
     "input": [
      "googleResponse = urllib.urlopen(invalid[0])\n",
      "jsonResponse = json.loads(googleResponse.read())\n",
      "print jsonResponse #['results'][0]['geometry']['location']['lng']"
     ],
     "language": "python",
     "metadata": {},
     "outputs": []
    },
    {
     "cell_type": "code",
     "collapsed": false,
     "input": [
      "locdict"
     ],
     "language": "python",
     "metadata": {},
     "outputs": []
    },
    {
     "cell_type": "code",
     "collapsed": false,
     "input": [
      "unique = {}\n",
      "l = map(getgeo,uniqueloc)\n"
     ],
     "language": "python",
     "metadata": {},
     "outputs": []
    },
    {
     "cell_type": "code",
     "collapsed": false,
     "input": [
      "def getgeo(location):\n",
      "    g = geocoders.GoogleV3() \n",
      "    if location is None:\n",
      "        return \"%s: %.5f, %.5f\" % (place, 0, 0)  \n",
      "    else:   \n",
      "        place, (lat, lng) = g.geocode(location)  \n",
      "        return (place, lat, lng)   "
     ],
     "language": "python",
     "metadata": {},
     "outputs": []
    },
    {
     "cell_type": "code",
     "collapsed": false,
     "input": [],
     "language": "python",
     "metadata": {},
     "outputs": []
    },
    {
     "cell_type": "code",
     "collapsed": false,
     "input": [
      "g = geocoders.GoogleV3() \n",
      "place, (lat, lng) = g.geocode('Mojave, Paris, Vidulini, Tuzla, United States') \n",
      "print \"%s: %.5f, %.5f\" % (place, lat, lng)   "
     ],
     "language": "python",
     "metadata": {},
     "outputs": []
    },
    {
     "cell_type": "code",
     "collapsed": false,
     "input": [
      "data['geo'] = data['Location'].apply(getgeo)"
     ],
     "language": "python",
     "metadata": {},
     "outputs": []
    },
    {
     "cell_type": "code",
     "collapsed": false,
     "input": [
      "data['goal'] = data['Amount Raised']/data['Target Amount']\n"
     ],
     "language": "python",
     "metadata": {},
     "outputs": []
    },
    {
     "cell_type": "code",
     "collapsed": false,
     "input": [
      "def colorpicker(goal):\n",
      "    c = ''\n",
      "    if goal>=1:\n",
      "        c='g' \n",
      "    elif(goal<1):\n",
      "        c='b'\n",
      "    else:\n",
      "        c='r'\n",
      "    print \"%f:%s\" %(goal,c)\n",
      "    return c\n",
      "    \n",
      "data['color'] = data['goal'].apply(colorpicker)"
     ],
     "language": "python",
     "metadata": {},
     "outputs": []
    },
    {
     "cell_type": "code",
     "collapsed": false,
     "input": [
      "v = (data['color']=='g') & (data['goal'] <1)\n",
      "#len(data)\n",
      "#1281 = 1026 + 254 + 1\n",
      "# & (data['goal'] <1)"
     ],
     "language": "python",
     "metadata": {},
     "outputs": []
    },
    {
     "cell_type": "code",
     "collapsed": false,
     "input": [
      "data['color']"
     ],
     "language": "python",
     "metadata": {},
     "outputs": []
    },
    {
     "cell_type": "code",
     "collapsed": false,
     "input": [
      "import re\n",
      "def getfounders(f):\n",
      "    l=[]\n",
      "    for m in re.finditer( '],', f ):\n",
      "        l.append(m.start())\n",
      "    return len(l)\n",
      "    \n",
      "\"\"\"\n",
      ">> import re\n",
      ">>> text = \"Allowed Hello Hollow\"\n",
      ">>> for m in re.finditer( 'll', text ):\n",
      "...     print( 'll found', m.start(), m.end() )\n",
      "\"\"\""
     ],
     "language": "python",
     "metadata": {},
     "outputs": []
    },
    {
     "cell_type": "code",
     "collapsed": false,
     "input": [
      "data['#founders'] = data['Team Member (Name, URL)'].apply(getfounders)"
     ],
     "language": "python",
     "metadata": {},
     "outputs": []
    },
    {
     "cell_type": "code",
     "collapsed": false,
     "input": [
      "data.head(5)"
     ],
     "language": "python",
     "metadata": {},
     "outputs": []
    },
    {
     "cell_type": "code",
     "collapsed": false,
     "input": [
      "col"
     ],
     "language": "python",
     "metadata": {},
     "outputs": []
    },
    {
     "cell_type": "code",
     "collapsed": false,
     "input": [
      "\n",
      "%matplotlib inline\n",
      "fig,ax1 = plt.subplots(figsize=(12,8))\n",
      "goal = np.float64(data['goal'])\n",
      "duration = np.float64(data['Duration'])\n",
      "col = list(data['color'])\n",
      "ax1.set_title(\"Duration vs. Goal\",fontsize=16)\n",
      "p1 = ax1.scatter(duration,goal ,color='b',label=\"Duration vs. Goal\",linewidth=1.0)\n",
      "ax1.set_xlabel('Duration (days)')\n",
      "ax1.set_ylabel('Goal')\n",
      "ax1.set_ylim([0,3])\n",
      "ax1.set_xlim([-10,200])\n",
      "fig.savefig(\"Frontend/static/img/duration.png\")"
     ],
     "language": "python",
     "metadata": {},
     "outputs": []
    },
    {
     "cell_type": "code",
     "collapsed": false,
     "input": [
      "%matplotlib inline\n",
      "fig,ax1 = plt.subplots(figsize=(12,8))\n",
      "goal = np.float64(data['goal'])\n",
      "funders = np.float64(data['Number of Funders'])\n",
      "ax1.set_title(\"# of Funders vs. Goal\",fontsize=16)\n",
      "p1 = ax1.scatter(funders,goal, color='b',label=\"Duration vs. Goal\",linewidth=2.0,)\n",
      "ax1.set_xlabel('Funders ')\n",
      "ax1.set_ylabel('Goal')\n",
      "ax1.set_ylim([0,3])\n",
      "ax1.set_xlim([-10,200])"
     ],
     "language": "python",
     "metadata": {},
     "outputs": []
    },
    {
     "cell_type": "code",
     "collapsed": false,
     "input": [
      "%matplotlib inline\n",
      "fig,ax1 = plt.subplots(figsize=(12,8))\n",
      "goal = data['goal']\n",
      "sponsers = data['#founders']\n",
      "ax1.set_title(\"# of Sponsors vs. Goal\",fontsize=16)\n",
      "p1 = ax1.scatter(sponsers,goal, color=col,label=\"Sponsers vs. Goal\",linewidth=2.0,)\n",
      "ax1.set_xlabel('Sponsors ')\n",
      "ax1.set_ylabel('Goal')\n",
      "ax1.set_ylim([0,3])\n",
      "ax1.set_xlim([0,30])"
     ],
     "language": "python",
     "metadata": {},
     "outputs": []
    },
    {
     "cell_type": "code",
     "collapsed": false,
     "input": [
      "\n",
      "%matplotlib inline\n",
      "fig,ax1 = plt.subplots(figsize=(12,8))\n",
      "goal = np.float64(data['goal'])\n",
      "eta = np.float64(data['ETA (days)'])\n",
      "ax1.set_title(\"ETA (days) vs. Goal\",fontsize=16)\n",
      "p1 = ax1.scatter(eta,goal, color='b',label=\"ETA (days) vs. Goal\",linewidth=2.0,)\n",
      "ax1.set_xlabel('ETA (days) ')\n",
      "ax1.set_ylabel('Goal')\n",
      "ax1.set_ylim([0,3])\n",
      "ax1.set_xlim([-1,30])\n"
     ],
     "language": "python",
     "metadata": {},
     "outputs": []
    },
    {
     "cell_type": "code",
     "collapsed": false,
     "input": [
      "from itertools import izip\n",
      "for x in imap(,col):\n",
      "    print x\n",
      "\n"
     ],
     "language": "python",
     "metadata": {},
     "outputs": []
    },
    {
     "cell_type": "code",
     "collapsed": false,
     "input": [
      "import numpy as np\n",
      "from sklearn import cross_validation\n",
      "from sklearn import datasets\n",
      "from sklearn import svm\n",
      "clf = svm.SVC(kernel='linear', C=1)\n",
      "scores = cross_validation.cross_val_score(\n",
      "clf, X, Y, cv=25)\n",
      "print scores"
     ],
     "language": "python",
     "metadata": {},
     "outputs": [],
     "prompt_number": "*"
    },
    {
     "cell_type": "code",
     "collapsed": false,
     "input": [
      "len(Y)"
     ],
     "language": "python",
     "metadata": {},
     "outputs": [],
     "prompt_number": "*"
    },
    {
     "cell_type": "code",
     "collapsed": false,
     "input": [
      "arr = np.arange(9).reshape((3, 3))\n",
      "print arr\n",
      "#np.random.shuffle(arr)\n",
      "#arr\n",
      "#array([[3, 4, 5],\n",
      "#       [6, 7, 8],\n",
      "#       [0, 1, 2]])"
     ],
     "language": "python",
     "metadata": {},
     "outputs": [
      {
       "output_type": "stream",
       "stream": "stdout",
       "text": [
        "[[0 1 2]\n",
        " [3 4 5]\n",
        " [6 7 8]]\n"
       ]
      }
     ],
     "prompt_number": 397
    },
    {
     "cell_type": "code",
     "collapsed": false,
     "input": [
      "np.random.shuffle(arr)"
     ],
     "language": "python",
     "metadata": {},
     "outputs": [],
     "prompt_number": 398
    },
    {
     "cell_type": "code",
     "collapsed": false,
     "input": [
      "arr"
     ],
     "language": "python",
     "metadata": {},
     "outputs": [
      {
       "metadata": {},
       "output_type": "pyout",
       "prompt_number": 399,
       "text": [
        "array([[0, 1, 2],\n",
        "       [6, 7, 8],\n",
        "       [3, 4, 5]])"
       ]
      }
     ],
     "prompt_number": 399
    },
    {
     "cell_type": "code",
     "collapsed": false,
     "input": [],
     "language": "python",
     "metadata": {},
     "outputs": []
    }
   ],
   "metadata": {}
  }
 ]
}