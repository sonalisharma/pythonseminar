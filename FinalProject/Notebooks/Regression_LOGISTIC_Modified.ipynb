{
 "metadata": {
  "name": ""
 },
 "nbformat": 3,
 "nbformat_minor": 0,
 "worksheets": [
  {
   "cells": [
    {
     "cell_type": "raw",
     "metadata": {},
     "source": [
      "The common variables in Lasso and LARS in LASSOCV, LARSCV, LASSOLARV with optimum cases (Ratio<2.0 and CF= 20) for Tech, Non-Tech and \n",
      "all projects are:\n",
      "    Count_comment,Count_funder, Count_photo, Mintotal, Maxtotal, Mediantotal"
     ]
    },
    {
     "cell_type": "code",
     "collapsed": false,
     "input": [
      "import numpy as np\n",
      "import math\n",
      "%pylab inline\n",
      "from sklearn import neighbors\n",
      "from sklearn import preprocessing\n"
     ],
     "language": "python",
     "metadata": {},
     "outputs": [
      {
       "output_type": "stream",
       "stream": "stdout",
       "text": [
        "Populating the interactive namespace from numpy and matplotlib\n"
       ]
      },
      {
       "output_type": "stream",
       "stream": "stderr",
       "text": [
        "WARNING: pylab import has clobbered these variables: ['clf', 'cm', 'split']\n",
        "`%pylab --no-import-all` prevents importing * from pylab and numpy\n"
       ]
      }
     ],
     "prompt_number": 50
    },
    {
     "cell_type": "heading",
     "level": 3,
     "metadata": {},
     "source": [
      "Reading the file"
     ]
    },
    {
     "cell_type": "code",
     "collapsed": false,
     "input": [
      "import pandas as pd\n",
      "import numpy as np\n",
      "import matplotlib.pyplot as plt\n",
      "from geopy import geocoders  \n",
      "import json, math"
     ],
     "language": "python",
     "metadata": {},
     "outputs": [],
     "prompt_number": 265
    },
    {
     "cell_type": "code",
     "collapsed": false,
     "input": [
      "filename =\"newdata_1200.csv\""
     ],
     "language": "python",
     "metadata": {},
     "outputs": [],
     "prompt_number": 477
    },
    {
     "cell_type": "code",
     "collapsed": false,
     "input": [
      "data = pd.read_csv(\"//Users/sayantanm/Desktop/sonali/pythonseminar/FinalProject/Notebooks/Data/\"+filename,sep = \"\\t\",header=0)\n",
      "# data = data[data['Category'] !='Technology']"
     ],
     "language": "python",
     "metadata": {},
     "outputs": [],
     "prompt_number": 478
    },
    {
     "cell_type": "code",
     "collapsed": false,
     "input": [
      "data['Tech'] = (data['Category'] == \"Technology\").astype(int)"
     ],
     "language": "python",
     "metadata": {},
     "outputs": [],
     "prompt_number": 479
    },
    {
     "cell_type": "raw",
     "metadata": {},
     "source": [
      "Lasso Result: Tech: Count_comment, Count_funder, Start_month, N0_min_perk, No_max_perk, No_med_perk, Tot_perk, recoded_country, \n",
      "Median_by_one, Median_by_goal, Mintotal, Maxtotal, Mediantotal\n",
      "Lasso Result: Non-Tech: Count_update', u'Count_comment', u'Count_funder', u'Count_photo', u'Amount_goal', End_mont', u'Duration, N0_min_perk', \n",
      "u'Max_perk', u'No_max_perk', u'Median_perk', u'No_med_perk', u'Tot_perk', u'FB_like', u'FB_talking', u'You_avg_duratio', \n",
      "u'You_avg_view_count', Maxtotal', u'Mediantotal', u'Min_by_goal', Min_by_one, Median_by_one', u'newtype'\n"
     ]
    },
    {
     "cell_type": "code",
     "collapsed": false,
     "input": [
      "data = data.drop('sno',1)\n",
      "data = data.drop('US',1)\n",
      "data= data.drop('End_mont',1)\n",
      "data = data.drop('Title',1)\n",
      "data = data.drop('Headline',1)\n",
      "data = data.drop('ShortDesc',1)\n",
      "data = data.drop('Category',1)\n",
      "# data = data.drop('US',1)\n",
      "data = data.drop('Current',1)\n",
      "data = data.drop('Amount_currency',1)\n",
      "data = data.drop('Distance',1)\n",
      "#Comment after getting correct distance\n",
      "data = data.drop('Location',1)\n",
      "data = data.drop('Tweet_follow',1)\n",
      "data = data.drop('Tweet_status',1)\n",
      "data = data.drop('Start_year',1)\n",
      "data = data.drop('End_year',1)\n",
      "data = data.drop('Start_day',1)\n",
      "data = data.drop('End_day',1)\n",
      "data = data.drop('Amount_Raised',1)\n",
      "\n",
      "data = data.drop('Time_Left',1)\n",
      "\n",
      "data['Mintotal'] = data['Min_perk']*data['N0_min_perk']\n",
      "data['Maxtotal'] = data['Max_perk']*data['No_max_perk']\n",
      "data['Mediantotal'] = data['Median_perk']*data['No_med_perk']\n",
      "\n",
      "# data['Min_by_goal']= data['Mintotal']/data['Amount_goal']\n",
      "# data['Max_by_goal']= data['Maxtotal']/data['Amount_goal']\n",
      "# data['Median_by_goal']= data['Mediantotal']/data['Amount_goal']\n",
      "\n",
      "# data['Min_by_one']= data['Min_perk']/data['Amount_goal']\n",
      "# data['Max_by_one']= data['Max_perk']/data['Amount_goal']\n",
      "# data['Median_by_one']= data['Median_perk']/data['Amount_goal']"
     ],
     "language": "python",
     "metadata": {},
     "outputs": [],
     "prompt_number": 480
    },
    {
     "cell_type": "code",
     "collapsed": false,
     "input": [
      "data = data[data['Ratio']<=2]\n",
      "len(data)\n",
      "# data = data.drop('Ratio',1)"
     ],
     "language": "python",
     "metadata": {},
     "outputs": [
      {
       "metadata": {},
       "output_type": "pyout",
       "prompt_number": 481,
       "text": [
        "1770"
       ]
      }
     ],
     "prompt_number": 481
    },
    {
     "cell_type": "code",
     "collapsed": false,
     "input": [
      "def setstatus(ratio):\n",
      "    if (ratio>=1):\n",
      "        return 1\n",
      "    if (ratio>=0.66 and ratio <1):\n",
      "        return 2\n",
      "    if (ratio<0.66):\n",
      "        return 3\n",
      "        \n",
      "data['status'] = data['Ratio'].apply(setstatus)\n",
      "len(data)\n",
      "ratio = data['Ratio']\n",
      "data = data.drop('Ratio',1)"
     ],
     "language": "python",
     "metadata": {},
     "outputs": [],
     "prompt_number": 482
    },
    {
     "cell_type": "code",
     "collapsed": false,
     "input": [
      "Y = data['status']\n",
      "data = data.drop('status',1)"
     ],
     "language": "python",
     "metadata": {},
     "outputs": [],
     "prompt_number": 483
    },
    {
     "cell_type": "code",
     "collapsed": false,
     "input": [
      "data.columns"
     ],
     "language": "python",
     "metadata": {},
     "outputs": [
      {
       "metadata": {},
       "output_type": "pyout",
       "prompt_number": 484,
       "text": [
        "Index([u'County', u'Count_update', u'Count_comment', u'Count_funder', u'Count_photo', u'Amount_goal', u'Type', u'Start_month', u'Duration', u'Min_perk', u'N0_min_perk', u'Max_perk', u'No_max_perk', u'Median_perk', u'No_med_perk', u'Tot_perk', u'FB_like', u'FB_talking', u'You_avg_duratio', u'You_avg_view_count', u'You_avg_rating', u'Tech', u'Mintotal', u'Maxtotal', u'Mediantotal'], dtype=object)"
       ]
      }
     ],
     "prompt_number": 484
    },
    {
     "cell_type": "code",
     "collapsed": false,
     "input": [
      "def checkus(location):\n",
      "    if (location=='United States'):\n",
      "        return 1\n",
      "    else:\n",
      "        return 0 \n",
      "data['US'] = data['County'].apply(checkus)"
     ],
     "language": "python",
     "metadata": {},
     "outputs": [],
     "prompt_number": 485
    },
    {
     "cell_type": "code",
     "collapsed": false,
     "input": [
      "def changetype(prjtype):\n",
      "    if ('Fixed Funding' in prjtype):\n",
      "        return 1\n",
      "    else:\n",
      "        return 0\n",
      "data['newtype'] = data['Type'].apply(changetype)\n",
      "data = data.drop('Type',1)"
     ],
     "language": "python",
     "metadata": {},
     "outputs": [],
     "prompt_number": 486
    },
    {
     "cell_type": "code",
     "collapsed": false,
     "input": [
      "data = data.fillna(0)"
     ],
     "language": "python",
     "metadata": {},
     "outputs": [],
     "prompt_number": 487
    },
    {
     "cell_type": "code",
     "collapsed": false,
     "input": [
      "data['Count_photo'] = data['Count_photo'].fillna(0)\n",
      "data=data.dropna(axis=1,how='all')"
     ],
     "language": "python",
     "metadata": {},
     "outputs": [],
     "prompt_number": 488
    },
    {
     "cell_type": "code",
     "collapsed": false,
     "input": [
      "countries = list(data['County'].unique())\n",
      "def getcountrycode(loc):\n",
      "    return countries.index(loc)  \n",
      "data['recoded_country'] = data['County'].apply(getcountrycode)\n",
      "data = data.drop('County',1)"
     ],
     "language": "python",
     "metadata": {},
     "outputs": [],
     "prompt_number": 489
    },
    {
     "cell_type": "code",
     "collapsed": false,
     "input": [
      "def to_days(dur):\n",
      "    return float(dur)/(3600*24)\n",
      "data['Duration']= data['Duration'].apply(to_days)"
     ],
     "language": "python",
     "metadata": {},
     "outputs": [],
     "prompt_number": 490
    },
    {
     "cell_type": "code",
     "collapsed": false,
     "input": [
      "# Y = data['Amount_Raised']\n",
      "# data = data.drop('Amount_Raised',1)"
     ],
     "language": "python",
     "metadata": {},
     "outputs": [],
     "prompt_number": 491
    },
    {
     "cell_type": "code",
     "collapsed": false,
     "input": [
      "#X = data[['FB_like','FB_talking','Tweet_follow','Tweet_status','You_avg_duratio','You_avg_view_count','You_avg_rating']].values\n",
      "data.columns"
     ],
     "language": "python",
     "metadata": {},
     "outputs": [
      {
       "metadata": {},
       "output_type": "pyout",
       "prompt_number": 492,
       "text": [
        "Index([u'Count_update', u'Count_comment', u'Count_funder', u'Count_photo', u'Amount_goal', u'Start_month', u'Duration', u'Min_perk', u'N0_min_perk', u'Max_perk', u'No_max_perk', u'Median_perk', u'No_med_perk', u'Tot_perk', u'FB_like', u'FB_talking', u'You_avg_duratio', u'You_avg_view_count', u'You_avg_rating', u'Tech', u'Mintotal', u'Maxtotal', u'Mediantotal', u'US', u'newtype', u'recoded_country'], dtype=object)"
       ]
      }
     ],
     "prompt_number": 492
    },
    {
     "cell_type": "code",
     "collapsed": false,
     "input": [
      "split = math.floor(float(len(data))*0.7)\n",
      "print split\n",
      "#only social media features\n",
      "d = data.values \n",
      "d_scaled = preprocessing.scale(d)\n",
      "c = np.random.shuffle(d_scaled)\n",
      "d_scaled\n",
      "#X = data[['FB_like','FB_talking','You_avg_duratio','You_avg_view_count','You_avg_rating']].values\n",
      "# X=data[['FB_like','Amount_goal','Count_funder', 'Count_photo', 'Mintotal', 'Maxtotal', 'Mediantotal']].values\n",
      "# X=data[['Count_comment','Amount_goal','Count_funder', 'Count_photo', 'Mintotal', 'Maxtotal']].values\n",
      "X=data[['Amount_goal','Count_funder', 'Count_photo', 'Mintotal', 'Maxtotal']].values\n",
      "\n",
      "\n",
      "# X = data.values\n",
      "Y_scaled = preprocessing.scale(Y)\n",
      "X_scaled = preprocessing.scale(X)\n",
      "X_train = X_scaled[:split]\n",
      "X_test = X_scaled[split:]\n",
      "Y_train = Y[:split].values\n",
      "Y_test = Y[split:].values\n"
     ],
     "language": "python",
     "metadata": {},
     "outputs": [
      {
       "output_type": "stream",
       "stream": "stdout",
       "text": [
        "1239.0\n"
       ]
      }
     ],
     "prompt_number": 493
    },
    {
     "cell_type": "code",
     "collapsed": false,
     "input": [
      "# d = data.values "
     ],
     "language": "python",
     "metadata": {},
     "outputs": [],
     "prompt_number": 494
    },
    {
     "cell_type": "code",
     "collapsed": false,
     "input": [
      "# data.head(10)"
     ],
     "language": "python",
     "metadata": {},
     "outputs": [],
     "prompt_number": 495
    },
    {
     "cell_type": "code",
     "collapsed": false,
     "input": [
      "# import matplotlib.pyplot as plt\n",
      "# plt.boxplot(Y)\n",
      "# plt.show()"
     ],
     "language": "python",
     "metadata": {},
     "outputs": [],
     "prompt_number": 496
    },
    {
     "cell_type": "code",
     "collapsed": false,
     "input": [
      "len(Y)"
     ],
     "language": "python",
     "metadata": {},
     "outputs": [
      {
       "metadata": {},
       "output_type": "pyout",
       "prompt_number": 497,
       "text": [
        "1770"
       ]
      }
     ],
     "prompt_number": 497
    },
    {
     "cell_type": "code",
     "collapsed": false,
     "input": [
      "X_train[0]"
     ],
     "language": "python",
     "metadata": {},
     "outputs": [
      {
       "metadata": {},
       "output_type": "pyout",
       "prompt_number": 498,
       "text": [
        "array([-0.2186205 , -0.26097557, -0.35270599, -0.07448531, -0.10527805])"
       ]
      }
     ],
     "prompt_number": 498
    },
    {
     "cell_type": "code",
     "collapsed": false,
     "input": [
      "Y_train[0]"
     ],
     "language": "python",
     "metadata": {},
     "outputs": [
      {
       "metadata": {},
       "output_type": "pyout",
       "prompt_number": 499,
       "text": [
        "3"
       ]
      }
     ],
     "prompt_number": 499
    },
    {
     "cell_type": "code",
     "collapsed": false,
     "input": [
      "subplot(170)\n",
      "scatter(X_train[:,0],Y_train)\n",
      "subplot(171)\n",
      "scatter(X_train[:,1],Y_train)\n",
      "subplot(172)\n",
      "scatter(X_train[:,2],Y_train)\n",
      "subplot(173)\n",
      "scatter(X_train[:,3],Y_train)\n",
      "subplot(174)\n",
      "scatter(X_train[:,4],Y_train)\n",
      "# subplot(175)\n",
      "# scatter(X_train[:,5],Y_train)\n",
      "# subplot(176)\n",
      "# scatter(X_train[:,6],Y_train)"
     ],
     "language": "python",
     "metadata": {},
     "outputs": [
      {
       "metadata": {},
       "output_type": "pyout",
       "prompt_number": 500,
       "text": [
        "<matplotlib.collections.PathCollection at 0x1109e7c50>"
       ]
      },
      {
       "metadata": {},
       "output_type": "display_data",
       "png": "[encoded data removed]",
       "text": [
        "<matplotlib.figure.Figure at 0x10fe2ea50>"
       ]
      }
     ],
     "prompt_number": 500
    },
    {
     "cell_type": "code",
     "collapsed": false,
     "input": [
      "from sklearn import linear_model\n",
      "clf = linear_model.LogisticRegression()"
     ],
     "language": "python",
     "metadata": {},
     "outputs": [],
     "prompt_number": 501
    },
    {
     "cell_type": "code",
     "collapsed": false,
     "input": [
      "# fit the model\n",
      "clf.fit(X_train, Y_train)"
     ],
     "language": "python",
     "metadata": {},
     "outputs": [
      {
       "metadata": {},
       "output_type": "pyout",
       "prompt_number": 502,
       "text": [
        "LogisticRegression(C=1.0, class_weight=None, dual=False, fit_intercept=True,\n",
        "          intercept_scaling=1, penalty='l2', random_state=None, tol=0.0001)"
       ]
      }
     ],
     "prompt_number": 502
    },
    {
     "cell_type": "code",
     "collapsed": false,
     "input": [
      "clf.coef_"
     ],
     "language": "python",
     "metadata": {},
     "outputs": [
      {
       "metadata": {},
       "output_type": "pyout",
       "prompt_number": 503,
       "text": [
        "array([[-6.49830499,  1.39908247, -0.01698418,  0.01430558,  1.35458827],\n",
        "       [-2.01313509,  0.16627854, -0.01634828,  0.02436862,  0.08705499],\n",
        "       [ 7.42650423, -2.13074518,  0.11387673,  0.0785737 , -1.85326013]])"
       ]
      }
     ],
     "prompt_number": 503
    },
    {
     "cell_type": "code",
     "collapsed": false,
     "input": [
      "# now do the prediction\n",
      "Y_lr_pred = clf.predict(X_test)\n",
      "\n",
      "# how well did we do?\n",
      "from sklearn.metrics import mean_squared_error\n",
      "mse = mean_squared_error(Y_test,Y_lr_pred) ; \n",
      "print mse"
     ],
     "language": "python",
     "metadata": {},
     "outputs": [
      {
       "output_type": "stream",
       "stream": "stdout",
       "text": [
        "0.839924670433\n"
       ]
      }
     ],
     "prompt_number": 504
    },
    {
     "cell_type": "code",
     "collapsed": false,
     "input": [
      "for i in range(len(Y_lr_pred)):\n",
      "   print str(Y_lr_pred[i])+\"---->\"+str(Y_test[i])"
     ],
     "language": "python",
     "metadata": {},
     "outputs": [
      {
       "output_type": "stream",
       "stream": "stdout",
       "text": [
        "3---->3\n",
        "3---->3\n",
        "3---->3\n",
        "3---->1\n",
        "3---->3\n",
        "3---->3\n",
        "3---->1\n",
        "3---->1\n",
        "3---->1\n",
        "3---->3\n",
        "3---->1\n",
        "3---->3\n",
        "3---->2\n",
        "3---->3\n",
        "3---->3\n",
        "3---->3\n",
        "3---->3\n",
        "3---->3\n",
        "3---->3\n",
        "3---->1\n",
        "3---->3\n",
        "3---->3\n",
        "3---->3\n",
        "3---->2\n",
        "3---->1\n",
        "3---->3\n",
        "3---->3\n",
        "3---->3\n",
        "3---->3\n",
        "3---->3\n",
        "3---->3\n",
        "3---->3\n",
        "3---->3\n",
        "3---->3\n",
        "3---->3\n",
        "3---->3\n",
        "3---->3\n",
        "3---->3\n",
        "3---->3\n",
        "3---->3\n",
        "3---->1\n",
        "3---->3\n",
        "3---->3\n",
        "3---->1\n",
        "3---->3\n",
        "3---->2\n",
        "3---->3\n",
        "3---->3\n",
        "3---->3\n",
        "3---->3\n",
        "3---->2\n",
        "3---->3\n",
        "3---->3\n",
        "3---->3\n",
        "1---->1\n",
        "1---->1\n",
        "3---->2\n",
        "3---->1\n",
        "1---->2\n",
        "1---->1\n",
        "1---->1\n",
        "3---->2\n",
        "3---->1\n",
        "3---->1\n",
        "3---->1\n",
        "1---->3\n",
        "3---->3\n",
        "1---->1\n",
        "1---->2\n",
        "3---->3\n",
        "1---->1\n",
        "1---->1\n",
        "3---->2\n",
        "1---->1\n",
        "1---->3\n",
        "3---->3\n",
        "3---->3\n",
        "3---->1\n",
        "3---->3\n",
        "3---->3\n",
        "3---->3\n",
        "1---->1\n",
        "3---->1\n",
        "3---->3\n",
        "1---->1\n",
        "1---->1\n",
        "3---->1\n",
        "3---->3\n",
        "3---->2\n",
        "3---->1\n",
        "3---->3\n",
        "3---->3\n",
        "3---->1\n",
        "3---->2\n",
        "3---->3\n",
        "3---->1\n",
        "3---->3\n",
        "3---->3\n",
        "3---->3\n",
        "3---->1\n",
        "3---->3\n",
        "3---->3\n",
        "3---->3\n",
        "3---->3\n",
        "3---->3\n",
        "3---->3\n",
        "3---->3\n",
        "3---->3\n",
        "3---->1\n",
        "3---->3\n",
        "3---->3\n",
        "3---->3\n",
        "3---->3\n",
        "3---->3\n",
        "3---->1\n",
        "3---->3\n",
        "3---->3\n",
        "3---->3\n",
        "3---->3\n",
        "3---->3\n",
        "3---->3\n",
        "3---->3\n",
        "3---->3\n",
        "3---->3\n",
        "3---->3\n",
        "3---->1\n",
        "3---->1\n",
        "3---->3\n",
        "1---->3\n",
        "3---->1\n",
        "3---->3\n",
        "3---->3\n",
        "3---->2\n",
        "1---->2\n",
        "3---->2\n",
        "3---->1\n",
        "3---->3\n",
        "3---->2\n",
        "3---->3\n",
        "3---->2\n",
        "3---->3\n",
        "3---->3\n",
        "3---->1\n",
        "3---->3\n",
        "3---->3\n",
        "3---->3\n",
        "1---->1\n",
        "3---->1\n",
        "3---->3\n",
        "3---->3\n",
        "3---->3\n",
        "3---->1\n",
        "3---->3\n",
        "3---->3\n",
        "3---->3\n",
        "3---->2\n",
        "3---->3\n",
        "3---->3\n",
        "3---->1\n",
        "3---->3\n",
        "3---->3\n",
        "3---->3\n",
        "3---->3\n",
        "3---->3\n",
        "3---->3\n",
        "3---->1\n",
        "3---->3\n",
        "3---->3\n",
        "3---->1\n",
        "3---->1\n",
        "3---->3\n",
        "3---->3\n",
        "3---->1\n",
        "3---->1\n",
        "3---->3\n",
        "3---->3\n",
        "3---->3\n",
        "3---->3\n",
        "3---->3\n",
        "3---->3\n",
        "3---->1\n",
        "3---->3\n",
        "3---->1\n",
        "3---->3\n",
        "3---->3\n",
        "3---->3\n",
        "3---->3\n",
        "3---->3\n",
        "3---->3\n",
        "3---->3\n",
        "3---->3\n",
        "3---->3\n",
        "3---->3\n",
        "3---->3\n",
        "3---->3\n",
        "3---->3\n",
        "3---->3\n",
        "3---->2\n",
        "3---->3\n",
        "3---->3\n",
        "3---->3\n",
        "3---->3\n",
        "3---->3\n",
        "3---->3\n",
        "3---->3\n",
        "3---->1\n",
        "3---->3\n",
        "3---->3\n",
        "3---->3\n",
        "3---->3\n",
        "3---->3\n",
        "3---->3\n",
        "3---->3\n",
        "3---->2\n",
        "3---->3\n",
        "3---->3\n",
        "3---->3\n",
        "3---->1\n",
        "3---->3\n",
        "3---->3\n",
        "3---->1\n",
        "3---->1\n",
        "3---->1\n",
        "3---->3\n",
        "3---->3\n",
        "3---->3\n",
        "3---->3\n",
        "3---->1\n",
        "3---->3\n",
        "3---->3\n",
        "3---->1\n",
        "3---->3\n",
        "3---->3\n",
        "3---->3\n",
        "3---->3\n",
        "3---->3\n",
        "3---->3\n",
        "3---->3\n",
        "3---->3\n",
        "3---->3\n",
        "3---->3\n",
        "3---->3\n",
        "3---->1\n",
        "3---->3\n",
        "3---->3\n",
        "3---->3\n",
        "3---->3\n",
        "3---->3\n",
        "3---->3\n",
        "3---->3\n",
        "3---->3\n",
        "3---->3\n",
        "3---->3\n",
        "3---->3\n",
        "3---->3\n",
        "3---->3\n",
        "3---->3\n",
        "3---->3\n",
        "3---->3\n",
        "3---->3\n",
        "3---->3\n",
        "3---->3\n",
        "3---->3\n",
        "3---->3\n",
        "3---->3\n",
        "3---->3\n",
        "3---->3\n",
        "3---->3\n",
        "3---->3\n",
        "3---->3\n",
        "3---->1\n",
        "3---->3\n",
        "3---->3\n",
        "3---->3\n",
        "3---->1\n",
        "3---->3\n",
        "3---->1\n",
        "3---->3\n",
        "3---->3\n",
        "3---->3\n",
        "3---->1\n",
        "3---->3\n",
        "3---->3\n",
        "3---->3\n",
        "3---->3\n",
        "3---->3\n",
        "3---->1\n",
        "3---->1\n",
        "3---->3\n",
        "3---->3\n",
        "3---->3\n",
        "3---->3\n",
        "3---->3\n",
        "3---->3\n",
        "3---->3\n",
        "1---->1\n",
        "1---->1\n",
        "3---->2\n",
        "3---->1\n",
        "1---->2\n",
        "1---->1\n",
        "1---->1\n",
        "3---->2\n",
        "3---->1\n",
        "3---->1\n",
        "3---->1\n",
        "1---->3\n",
        "3---->3\n",
        "1---->1\n",
        "1---->2\n",
        "3---->3\n",
        "1---->1\n",
        "1---->1\n",
        "3---->2\n",
        "1---->1\n",
        "1---->3\n",
        "3---->3\n",
        "3---->3\n",
        "3---->1\n",
        "3---->3\n",
        "3---->3\n",
        "3---->3\n",
        "1---->1\n",
        "3---->1\n",
        "3---->3\n",
        "1---->1\n",
        "1---->1\n",
        "3---->1\n",
        "3---->3\n",
        "3---->2\n",
        "3---->1\n",
        "3---->3\n",
        "3---->3\n",
        "3---->1\n",
        "3---->2\n",
        "3---->2\n",
        "3---->1\n",
        "3---->1\n",
        "3---->1\n",
        "1---->3\n",
        "3---->3\n",
        "1---->1\n",
        "1---->2\n",
        "3---->3\n",
        "1---->1\n",
        "1---->1\n",
        "3---->2\n",
        "1---->1\n",
        "1---->3\n",
        "3---->3\n",
        "3---->3\n",
        "3---->1\n",
        "3---->3\n",
        "3---->3\n",
        "3---->3\n",
        "1---->1\n",
        "3---->1\n",
        "3---->3\n",
        "1---->1\n",
        "1---->1\n",
        "3---->1\n",
        "3---->3\n",
        "3---->2\n",
        "3---->1\n",
        "3---->3\n",
        "3---->3\n",
        "3---->1\n",
        "3---->2\n",
        "3---->3\n",
        "1---->3\n",
        "3---->1\n",
        "3---->3\n",
        "3---->3\n",
        "3---->2\n",
        "1---->2\n",
        "3---->2\n",
        "3---->1\n",
        "3---->3\n",
        "3---->2\n",
        "3---->3\n",
        "3---->2\n",
        "3---->3\n",
        "3---->3\n",
        "3---->1\n",
        "3---->3\n",
        "3---->3\n",
        "3---->3\n",
        "1---->1\n",
        "3---->1\n",
        "3---->3\n",
        "3---->3\n",
        "3---->3\n",
        "3---->1\n",
        "3---->3\n",
        "3---->3\n",
        "3---->3\n",
        "3---->2\n",
        "3---->3\n",
        "3---->3\n",
        "3---->1\n",
        "3---->3\n",
        "3---->3\n",
        "3---->3\n",
        "3---->3\n",
        "3---->3\n",
        "3---->3\n",
        "3---->1\n",
        "3---->3\n",
        "3---->3\n",
        "3---->1\n",
        "3---->1\n",
        "3---->3\n",
        "3---->3\n",
        "3---->1\n",
        "3---->1\n",
        "3---->3\n",
        "3---->3\n",
        "3---->3\n",
        "3---->3\n",
        "3---->3\n",
        "3---->3\n",
        "3---->1\n",
        "3---->3\n",
        "3---->1\n",
        "3---->3\n",
        "3---->3\n",
        "3---->3\n",
        "3---->3\n",
        "3---->3\n",
        "3---->3\n",
        "3---->3\n",
        "3---->3\n",
        "3---->3\n",
        "3---->3\n",
        "3---->3\n",
        "3---->3\n",
        "3---->3\n",
        "3---->3\n",
        "3---->2\n",
        "3---->3\n",
        "3---->3\n",
        "3---->3\n",
        "3---->3\n",
        "3---->3\n",
        "3---->3\n",
        "3---->3\n",
        "3---->1\n",
        "3---->3\n",
        "3---->3\n",
        "3---->3\n",
        "3---->3\n",
        "3---->3\n",
        "3---->3\n",
        "3---->3\n",
        "3---->3\n",
        "3---->3\n",
        "3---->1\n",
        "3---->3\n",
        "3---->3\n",
        "3---->3\n",
        "3---->3\n",
        "3---->1\n",
        "3---->3\n",
        "3---->3\n",
        "3---->1\n",
        "3---->3\n",
        "3---->3\n",
        "3---->3\n",
        "3---->3\n",
        "3---->3\n",
        "3---->3\n",
        "3---->3\n",
        "3---->3\n",
        "3---->3\n",
        "3---->3\n",
        "3---->3\n",
        "3---->3\n",
        "3---->3\n",
        "3---->3\n",
        "3---->1\n",
        "3---->3\n",
        "3---->3\n",
        "3---->3\n",
        "3---->1\n",
        "3---->3\n",
        "3---->3\n",
        "3---->3\n",
        "3---->3\n",
        "3---->1\n",
        "3---->3\n",
        "3---->3\n",
        "3---->1\n",
        "3---->1\n",
        "3---->1\n",
        "3---->3\n",
        "3---->3\n",
        "3---->3\n",
        "3---->3\n",
        "3---->1\n",
        "3---->3\n",
        "3---->3\n",
        "3---->1\n",
        "3---->3\n",
        "3---->3\n",
        "3---->3\n",
        "3---->3\n",
        "3---->3\n",
        "3---->3\n",
        "3---->3\n",
        "3---->3\n",
        "3---->3\n",
        "3---->3\n",
        "3---->3\n",
        "3---->1\n",
        "3---->3\n",
        "3---->3\n",
        "3---->3\n",
        "3---->3\n",
        "3---->3\n",
        "3---->3\n",
        "3---->3\n",
        "3---->3\n",
        "3---->3\n",
        "3---->3\n",
        "3---->3\n",
        "3---->3\n",
        "3---->3\n",
        "3---->3\n",
        "3---->3\n",
        "3---->3\n",
        "3---->3\n"
       ]
      }
     ],
     "prompt_number": 505
    },
    {
     "cell_type": "code",
     "collapsed": false,
     "input": [
      "plot(Y_test,Y_lr_pred,'o')\n",
      "title(\"Linear Regression Residuals - MSE = %.1f\" % mse)\n",
      "xlabel(\"True Median Project Goal\")\n",
      "ylabel(\"Residual\")\n",
      "hlines(0,min(Y_test),max(Y_test),color=\"red\")"
     ],
     "language": "python",
     "metadata": {},
     "outputs": [
      {
       "metadata": {},
       "output_type": "pyout",
       "prompt_number": 506,
       "text": [
        "<matplotlib.collections.LineCollection at 0x10fe41210>"
       ]
      },
      {
       "metadata": {},
       "output_type": "display_data",
       "png": "[encoded data removed]",
       "text": [
        "<matplotlib.figure.Figure at 0x110a76e10>"
       ]
      }
     ],
     "prompt_number": 506
    },
    {
     "cell_type": "code",
     "collapsed": false,
     "input": [
      "#boston = datasets.load_boston() ; X = boston['data'] ; Y = boston['target']\n",
      "from sklearn import cross_validation\n",
      "from sklearn import linear_model\n",
      "clf = linear_model.LogisticRegression()\n",
      "from sklearn.cross_validation import cross_val_score\n",
      "\n",
      "def print_cv_score_summary(model, xx, yy, cv):\n",
      "    scores = cross_val_score(model, xx, yy, cv=cv, n_jobs=1)\n",
      "    print(\"mean: {:3f}, stdev: {:3f}\".format(\n",
      "        np.mean(scores), np.std(scores)))"
     ],
     "language": "python",
     "metadata": {},
     "outputs": [],
     "prompt_number": 507
    },
    {
     "cell_type": "code",
     "collapsed": false,
     "input": [
      "print_cv_score_summary(clf,X,Y,cv=cross_validation.KFold(len(Y), 25))\n",
      "\n",
      "#print_cv_score_summary(clf,X,Y,cv=150)"
     ],
     "language": "python",
     "metadata": {},
     "outputs": [
      {
       "output_type": "stream",
       "stream": "stdout",
       "text": [
        "mean: 0.878519, stdev: 0.098516\n"
       ]
      }
     ],
     "prompt_number": 508
    },
    {
     "cell_type": "code",
     "collapsed": false,
     "input": [
      "print_cv_score_summary(clf,X,Y,\n",
      "    cv=cross_validation.KFold(len(Y),20,shuffle=True,random_state=1))"
     ],
     "language": "python",
     "metadata": {},
     "outputs": [
      {
       "output_type": "stream",
       "stream": "stdout",
       "text": [
        "mean: 0.884736, stdev: 0.035738\n"
       ]
      }
     ],
     "prompt_number": 509
    },
    {
     "cell_type": "code",
     "collapsed": false,
     "input": [
      "# min(Y_lr_pred)"
     ],
     "language": "python",
     "metadata": {},
     "outputs": [],
     "prompt_number": 510
    },
    {
     "cell_type": "code",
     "collapsed": false,
     "input": [
      "from sklearn.metrics import confusion_matrix\n",
      "import pylab as pl\n",
      "cm = confusion_matrix(Y_test, Y_lr_pred)\n",
      "print cm\n",
      "\n",
      "pl.matshow(cm)\n",
      "pl.title('Confusion matrix')\n",
      "pl.colorbar()\n",
      "pl.ylabel('True label')\n",
      "pl.xlabel('Predicted label')\n",
      "pl.show()\n",
      "pl.savefig(\"confusionmatrix.png\")\n"
     ],
     "language": "python",
     "metadata": {},
     "outputs": [
      {
       "output_type": "stream",
       "stream": "stdout",
       "text": [
        "[[ 31   0  94]\n",
        " [  7   0  31]\n",
        " [  8   0 360]]\n"
       ]
      },
      {
       "metadata": {},
       "output_type": "display_data",
       "png": "[encoded data removed]",
       "text": [
        "<matplotlib.figure.Figure at 0x110a98510>"
       ]
      },
      {
       "metadata": {},
       "output_type": "display_data",
       "text": [
        "<matplotlib.figure.Figure at 0x110a06750>"
       ]
      }
     ],
     "prompt_number": 511
    },
    {
     "cell_type": "code",
     "collapsed": false,
     "input": [
      "X=data[['FB_like','Amount_goal','Count_funder', 'Count_photo', 'Mintotal', 'Maxtotal', 'Mediantotal']].values\n",
      "Technology (0, .66, 1):\n",
      "[[ 32  14  66]\n",
      " [  3   1  12]\n",
      " [  3   1 208]]\n",
      "Tech (0, .5, 1)\n",
      "[[ 29  21  62]\n",
      " [  7   2  22]\n",
      " [  1   1 195]]\n",
      "Non Tech (0, .5, 1)\n",
      "[[ 23   3  13]\n",
      " [ 10   4   7]\n",
      " [  3   0 129]]\n",
      "Non-Technology (0, .66, 1):\n",
      "[[ 21   0  18]\n",
      " [  5   0   6]\n",
      " [  6   1 135]]\n",
      "X=data[['Amount_goal','Count_funder', 'Count_photo', 'Mintotal', 'Maxtotal']].values\n",
      "Non-Tech CF=25\n",
      "[[ 21   0  18]\n",
      " [  3   0   8]\n",
      " [  4   1 137]]\n",
      "Tech: (89%) CF=25\n",
      "[[ 32  13  67]\n",
      " [  3   1  12]\n",
      " [  3   1 208]]\n",
      "All: (88%) CF=25\n",
      "[[ 31   0  94]\n",
      " [  7   0  31]\n",
      " [  8   0 360]]\n",
      "\n",
      "X=data[['Count_comment','Amount_goal','Count_funder', 'Count_photo', 'Mintotal', 'Maxtotal']].values\n",
      "Tech: (89%) CF=25\n",
      "[[ 28  25  59]\n",
      " [  3   1  12]\n",
      " [  4   3 205]]\n",
      "Non-Tech (87%) CF=25\n",
      "[[ 18   0  21]\n",
      " [  4   0   7]\n",
      " [  4   1 137]]\n",
      "All (88%) CF=25\n",
      "[[ 31   0  94]\n",
      " [  7   0  31]\n",
      " [  6   0 362]]"
     ],
     "language": "python",
     "metadata": {},
     "outputs": [
      {
       "ename": "SyntaxError",
       "evalue": "invalid syntax (<ipython-input-442-aef1040b895e>, line 2)",
       "output_type": "pyerr",
       "traceback": [
        "\u001b[0;36m  File \u001b[0;32m\"<ipython-input-442-aef1040b895e>\"\u001b[0;36m, line \u001b[0;32m2\u001b[0m\n\u001b[0;31m    Technology (0, .66, 1):\u001b[0m\n\u001b[0m                          ^\u001b[0m\n\u001b[0;31mSyntaxError\u001b[0m\u001b[0;31m:\u001b[0m invalid syntax\n"
       ]
      }
     ],
     "prompt_number": 442
    },
    {
     "cell_type": "raw",
     "metadata": {},
     "source": [
      "LARS-CV Result against Ratio\n",
      "http://en.wikipedia.org/wiki/Least-angle_regression\n",
      "Condition: Ratio<1.5\n",
      "Count_funder, Median_by_one, Median_by_Goal\n",
      "mean: 0.308300, stdev: 0.159430\n",
      "MSE: 0.154263173774"
     ]
    },
    {
     "cell_type": "raw",
     "metadata": {},
     "source": [
      "LARS-CV Result against Amount_Raised\n",
      "http://en.wikipedia.org/wiki/Least-angle_regression\n",
      "Condition: Ratio<1.5, Fold=30\n",
      "Count_photo, Maxtotal, Mediantotal\n",
      "mean: 0.511707, stdev: 0.653569"
     ]
    },
    {
     "cell_type": "raw",
     "metadata": {},
     "source": [
      "LARS-CV Result against Amount_Raised\n",
      "http://en.wikipedia.org/wiki/Least-angle_regression\n",
      "Condition: Ratio<1.5, Fold=20\n",
      "mean: 0.559452, stdev: 0.349972\n",
      "Count_Funder, Mintotal, Maxtotal"
     ]
    },
    {
     "cell_type": "raw",
     "metadata": {},
     "source": [
      "LARS-CV Result against Amount_Raised\n",
      "http://en.wikipedia.org/wiki/Least-angle_regression\n",
      "Condition: Ratio<2.5, Fold=20\n",
      "mean: 0.624651, stdev: 0.242701\n",
      "Count_Comment, Count_Funder, Mintotal, Maxtotal"
     ]
    },
    {
     "cell_type": "code",
     "collapsed": false,
     "input": [],
     "language": "python",
     "metadata": {},
     "outputs": []
    },
    {
     "cell_type": "code",
     "collapsed": false,
     "input": [
      "from sklearn import neighbors\n",
      "from sklearn import preprocessing\n",
      "#X_scaled = preprocessing.scale(X) # many methods work better on scaled X\n",
      "clf1 = neighbors.KNeighborsRegressor(5)\n",
      "#train_X = X_scaled[:half]\n",
      "#test_X = X_scaled[half:]\n",
      "clf1.fit(X_train,Y_train)"
     ],
     "language": "python",
     "metadata": {},
     "outputs": []
    },
    {
     "cell_type": "code",
     "collapsed": false,
     "input": [
      "Y_knn_pred = clf1.predict(X_test)\n",
      "mse = mean_squared_error(Y_test,Y_knn_pred) ; print mse\n",
      "plot(Y_test, Y_knn_pred - Y_test,'o')\n",
      "title(\"k-NN Residuals - MSE = %.1f\" % mse)\n",
      "xlabel(\"True Median House Price ($1,000)\")\n",
      "ylabel(\"Residual\")\n",
      "hlines(0,min(Y_test),max(Y_test),color=\"red\")"
     ],
     "language": "python",
     "metadata": {},
     "outputs": [
      {
       "output_type": "stream",
       "stream": "stdout",
       "text": [
        "3653909.13275\n"
       ]
      },
      {
       "metadata": {},
       "output_type": "pyout",
       "prompt_number": 377,
       "text": [
        "<matplotlib.collections.LineCollection at 0x10aa18ad0>"
       ]
      },
      {
       "metadata": {},
       "output_type": "display_data",
       "png": "[encoded data removed]",
       "text": [
        "<matplotlib.figure.Figure at 0x10aa0dd10>"
       ]
      }
     ],
     "prompt_number": 377
    },
    {
     "cell_type": "code",
     "collapsed": false,
     "input": [],
     "language": "python",
     "metadata": {},
     "outputs": []
    },
    {
     "cell_type": "code",
     "collapsed": false,
     "input": [],
     "language": "python",
     "metadata": {},
     "outputs": []
    },
    {
     "cell_type": "code",
     "collapsed": false,
     "input": [],
     "language": "python",
     "metadata": {},
     "outputs": []
    },
    {
     "cell_type": "code",
     "collapsed": false,
     "input": [],
     "language": "python",
     "metadata": {},
     "outputs": []
    },
    {
     "cell_type": "code",
     "collapsed": false,
     "input": [],
     "language": "python",
     "metadata": {},
     "outputs": []
    },
    {
     "cell_type": "code",
     "collapsed": false,
     "input": [],
     "language": "python",
     "metadata": {},
     "outputs": []
    },
    {
     "cell_type": "code",
     "collapsed": false,
     "input": [
      "#loc = data['Location'].unique()\n",
      "\n",
      "#loclist = [(l) for l in loc]\n",
      "#loclist = list(set(newloc))\n",
      "#loclist[1]\n",
      "#locdict={}"
     ],
     "language": "python",
     "metadata": {},
     "outputs": [],
     "prompt_number": 244
    },
    {
     "cell_type": "code",
     "collapsed": false,
     "input": [],
     "language": "python",
     "metadata": {},
     "outputs": [],
     "prompt_number": 34
    },
    {
     "cell_type": "code",
     "collapsed": false,
     "input": [
      "import urllib, json\n",
      "import pprint\n",
      "invalid = []\n",
      "locdict={}\n",
      "for locname in loclist[1:]:\n",
      "    url2 = \"http://maps.googleapis.com/maps/api/geocode/json?address={}&sensor=false\".format(str(locname))\n",
      "    #print url2\n",
      "    googleResponse = urllib.urlopen(url2)\n",
      "    jsonResponse = json.loads(googleResponse.read())\n",
      "    try:\n",
      "        locdict[locname] = [jsonResponse['results'][0]['geometry']['location']['lat'],\n",
      "                        jsonResponse['results'][0]['geometry']['location']['lng']]\n",
      "    except:\n",
      "        locdict[locname] = 'Not found'\n",
      "        invalid.append(url2)\n",
      "locdict"
     ],
     "language": "python",
     "metadata": {},
     "outputs": []
    },
    {
     "cell_type": "code",
     "collapsed": false,
     "input": [
      "for i in invalid:\n",
      "    url2 = i\n",
      "    #print url2\n",
      "    googleResponse = urllib.urlopen(url2)\n",
      "    jsonResponse = json.loads(googleResponse.read())\n",
      "    try:\n",
      "        locdict[i] = jsonResponse['results'][0]['geometry']['location']['lng']\n",
      "    except:\n",
      "        print i\n"
     ],
     "language": "python",
     "metadata": {},
     "outputs": []
    },
    {
     "cell_type": "code",
     "collapsed": false,
     "input": [
      "googleResponse = urllib.urlopen(invalid[0])\n",
      "jsonResponse = json.loads(googleResponse.read())\n",
      "print jsonResponse #['results'][0]['geometry']['location']['lng']"
     ],
     "language": "python",
     "metadata": {},
     "outputs": []
    },
    {
     "cell_type": "code",
     "collapsed": false,
     "input": [
      "locdict"
     ],
     "language": "python",
     "metadata": {},
     "outputs": []
    },
    {
     "cell_type": "code",
     "collapsed": false,
     "input": [
      "unique = {}\n",
      "l = map(getgeo,uniqueloc)\n"
     ],
     "language": "python",
     "metadata": {},
     "outputs": []
    },
    {
     "cell_type": "code",
     "collapsed": false,
     "input": [
      "def getgeo(location):\n",
      "    g = geocoders.GoogleV3() \n",
      "    if location is None:\n",
      "        return \"%s: %.5f, %.5f\" % (place, 0, 0)  \n",
      "    else:   \n",
      "        place, (lat, lng) = g.geocode(location)  \n",
      "        return (place, lat, lng)   "
     ],
     "language": "python",
     "metadata": {},
     "outputs": []
    },
    {
     "cell_type": "code",
     "collapsed": false,
     "input": [],
     "language": "python",
     "metadata": {},
     "outputs": []
    },
    {
     "cell_type": "code",
     "collapsed": false,
     "input": [
      "g = geocoders.GoogleV3() \n",
      "place, (lat, lng) = g.geocode('Mojave, Paris, Vidulini, Tuzla, United States') \n",
      "print \"%s: %.5f, %.5f\" % (place, lat, lng)   "
     ],
     "language": "python",
     "metadata": {},
     "outputs": []
    },
    {
     "cell_type": "code",
     "collapsed": false,
     "input": [
      "data['geo'] = data['Location'].apply(getgeo)"
     ],
     "language": "python",
     "metadata": {},
     "outputs": []
    },
    {
     "cell_type": "code",
     "collapsed": false,
     "input": [
      "data['goal'] = data['Amount Raised']/data['Target Amount']\n"
     ],
     "language": "python",
     "metadata": {},
     "outputs": []
    },
    {
     "cell_type": "code",
     "collapsed": false,
     "input": [
      "def colorpicker(goal):\n",
      "    c = ''\n",
      "    if goal>=1:\n",
      "        c='g' \n",
      "    elif(goal<1):\n",
      "        c='b'\n",
      "    else:\n",
      "        c='r'\n",
      "    print \"%f:%s\" %(goal,c)\n",
      "    return c\n",
      "    \n",
      "data['color'] = data['goal'].apply(colorpicker)"
     ],
     "language": "python",
     "metadata": {},
     "outputs": []
    },
    {
     "cell_type": "code",
     "collapsed": false,
     "input": [
      "v = (data['color']=='g') & (data['goal'] <1)\n",
      "#len(data)\n",
      "#1281 = 1026 + 254 + 1\n",
      "# & (data['goal'] <1)"
     ],
     "language": "python",
     "metadata": {},
     "outputs": []
    },
    {
     "cell_type": "code",
     "collapsed": false,
     "input": [
      "data['color']"
     ],
     "language": "python",
     "metadata": {},
     "outputs": []
    },
    {
     "cell_type": "code",
     "collapsed": false,
     "input": [
      "import re\n",
      "def getfounders(f):\n",
      "    l=[]\n",
      "    for m in re.finditer( '],', f ):\n",
      "        l.append(m.start())\n",
      "    return len(l)\n",
      "    \n",
      "\"\"\"\n",
      ">> import re\n",
      ">>> text = \"Allowed Hello Hollow\"\n",
      ">>> for m in re.finditer( 'll', text ):\n",
      "...     print( 'll found', m.start(), m.end() )\n",
      "\"\"\""
     ],
     "language": "python",
     "metadata": {},
     "outputs": []
    },
    {
     "cell_type": "code",
     "collapsed": false,
     "input": [
      "data['#founders'] = data['Team Member (Name, URL)'].apply(getfounders)"
     ],
     "language": "python",
     "metadata": {},
     "outputs": []
    },
    {
     "cell_type": "code",
     "collapsed": false,
     "input": [
      "data.head(5)"
     ],
     "language": "python",
     "metadata": {},
     "outputs": []
    },
    {
     "cell_type": "code",
     "collapsed": false,
     "input": [
      "col"
     ],
     "language": "python",
     "metadata": {},
     "outputs": []
    },
    {
     "cell_type": "code",
     "collapsed": false,
     "input": [
      "\n",
      "%matplotlib inline\n",
      "fig,ax1 = plt.subplots(figsize=(12,8))\n",
      "goal = np.float64(data['goal'])\n",
      "duration = np.float64(data['Duration'])\n",
      "col = list(data['color'])\n",
      "ax1.set_title(\"Duration vs. Goal\",fontsize=16)\n",
      "p1 = ax1.scatter(duration,goal ,color='b',label=\"Duration vs. Goal\",linewidth=1.0)\n",
      "ax1.set_xlabel('Duration (days)')\n",
      "ax1.set_ylabel('Goal')\n",
      "ax1.set_ylim([0,3])\n",
      "ax1.set_xlim([-10,200])\n",
      "fig.savefig(\"Frontend/static/img/duration.png\")"
     ],
     "language": "python",
     "metadata": {},
     "outputs": []
    },
    {
     "cell_type": "code",
     "collapsed": false,
     "input": [
      "%matplotlib inline\n",
      "fig,ax1 = plt.subplots(figsize=(12,8))\n",
      "goal = np.float64(data['goal'])\n",
      "funders = np.float64(data['Number of Funders'])\n",
      "ax1.set_title(\"# of Funders vs. Goal\",fontsize=16)\n",
      "p1 = ax1.scatter(funders,goal, color='b',label=\"Duration vs. Goal\",linewidth=2.0,)\n",
      "ax1.set_xlabel('Funders ')\n",
      "ax1.set_ylabel('Goal')\n",
      "ax1.set_ylim([0,3])\n",
      "ax1.set_xlim([-10,200])"
     ],
     "language": "python",
     "metadata": {},
     "outputs": []
    },
    {
     "cell_type": "code",
     "collapsed": false,
     "input": [
      "%matplotlib inline\n",
      "fig,ax1 = plt.subplots(figsize=(12,8))\n",
      "goal = data['goal']\n",
      "sponsers = data['#founders']\n",
      "ax1.set_title(\"# of Sponsors vs. Goal\",fontsize=16)\n",
      "p1 = ax1.scatter(sponsers,goal, color=col,label=\"Sponsers vs. Goal\",linewidth=2.0,)\n",
      "ax1.set_xlabel('Sponsors ')\n",
      "ax1.set_ylabel('Goal')\n",
      "ax1.set_ylim([0,3])\n",
      "ax1.set_xlim([0,30])"
     ],
     "language": "python",
     "metadata": {},
     "outputs": []
    },
    {
     "cell_type": "code",
     "collapsed": false,
     "input": [
      "\n",
      "%matplotlib inline\n",
      "fig,ax1 = plt.subplots(figsize=(12,8))\n",
      "goal = np.float64(data['goal'])\n",
      "eta = np.float64(data['ETA (days)'])\n",
      "ax1.set_title(\"ETA (days) vs. Goal\",fontsize=16)\n",
      "p1 = ax1.scatter(eta,goal, color='b',label=\"ETA (days) vs. Goal\",linewidth=2.0,)\n",
      "ax1.set_xlabel('ETA (days) ')\n",
      "ax1.set_ylabel('Goal')\n",
      "ax1.set_ylim([0,3])\n",
      "ax1.set_xlim([-1,30])\n"
     ],
     "language": "python",
     "metadata": {},
     "outputs": []
    },
    {
     "cell_type": "code",
     "collapsed": false,
     "input": [
      "from itertools import izip\n",
      "for x in imap(,col):\n",
      "    print x\n",
      "\n"
     ],
     "language": "python",
     "metadata": {},
     "outputs": []
    },
    {
     "cell_type": "code",
     "collapsed": false,
     "input": [
      "import numpy as np\n",
      "from sklearn import cross_validation\n",
      "from sklearn import datasets\n",
      "from sklearn import svm\n",
      "clf = svm.SVC(kernel='linear', C=1)\n",
      "scores = cross_validation.cross_val_score(\n",
      "clf, X, Y, cv=25)\n",
      "print scores"
     ],
     "language": "python",
     "metadata": {},
     "outputs": [],
     "prompt_number": "*"
    },
    {
     "cell_type": "code",
     "collapsed": false,
     "input": [
      "len(Y)"
     ],
     "language": "python",
     "metadata": {},
     "outputs": [],
     "prompt_number": "*"
    },
    {
     "cell_type": "code",
     "collapsed": false,
     "input": [
      "arr = np.arange(9).reshape((3, 3))\n",
      "print arr\n",
      "#np.random.shuffle(arr)\n",
      "#arr\n",
      "#array([[3, 4, 5],\n",
      "#       [6, 7, 8],\n",
      "#       [0, 1, 2]])"
     ],
     "language": "python",
     "metadata": {},
     "outputs": [
      {
       "output_type": "stream",
       "stream": "stdout",
       "text": [
        "[[0 1 2]\n",
        " [3 4 5]\n",
        " [6 7 8]]\n"
       ]
      }
     ],
     "prompt_number": 397
    },
    {
     "cell_type": "code",
     "collapsed": false,
     "input": [
      "np.random.shuffle(arr)"
     ],
     "language": "python",
     "metadata": {},
     "outputs": [],
     "prompt_number": 398
    },
    {
     "cell_type": "code",
     "collapsed": false,
     "input": [
      "arr"
     ],
     "language": "python",
     "metadata": {},
     "outputs": [
      {
       "metadata": {},
       "output_type": "pyout",
       "prompt_number": 399,
       "text": [
        "array([[0, 1, 2],\n",
        "       [6, 7, 8],\n",
        "       [3, 4, 5]])"
       ]
      }
     ],
     "prompt_number": 399
    },
    {
     "cell_type": "code",
     "collapsed": false,
     "input": [],
     "language": "python",
     "metadata": {},
     "outputs": []
    }
   ],
   "metadata": {}
  }
 ]
}