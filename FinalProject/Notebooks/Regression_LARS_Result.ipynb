{
 "metadata": {
  "name": ""
 },
 "nbformat": 3,
 "nbformat_minor": 0,
 "worksheets": [
  {
   "cells": [
    {
     "cell_type": "raw",
     "metadata": {},
     "source": [
      "The common variables in Lasso and LARS in LASSOCV, LARSCV, LASSOLARV with optimum cases (Ratio<2.0 and CF= 20) for Tech, Non-Tech and \n",
      "all projects are:\n",
      "    Count_comment,Count_funder, Count_photo, Mintotal, Maxtotal, Mediantotal"
     ]
    },
    {
     "cell_type": "code",
     "collapsed": false,
     "input": [
      "import numpy as np\n",
      "import math\n",
      "%pylab inline\n",
      "from sklearn import neighbors\n",
      "from sklearn import preprocessing\n"
     ],
     "language": "python",
     "metadata": {},
     "outputs": [
      {
       "output_type": "stream",
       "stream": "stdout",
       "text": [
        "Populating the interactive namespace from numpy and matplotlib\n"
       ]
      }
     ],
     "prompt_number": 31
    },
    {
     "cell_type": "heading",
     "level": 3,
     "metadata": {},
     "source": [
      "Reading the file"
     ]
    },
    {
     "cell_type": "code",
     "collapsed": false,
     "input": [
      "import pandas as pd\n",
      "import numpy as np\n",
      "import matplotlib.pyplot as plt\n",
      "from geopy import geocoders  \n",
      "import json, math"
     ],
     "language": "python",
     "metadata": {},
     "outputs": [],
     "prompt_number": 649
    },
    {
     "cell_type": "code",
     "collapsed": false,
     "input": [
      "filename =\"newdata_1200.csv\""
     ],
     "language": "python",
     "metadata": {},
     "outputs": [],
     "prompt_number": 650
    },
    {
     "cell_type": "code",
     "collapsed": false,
     "input": [
      "data = pd.read_csv(\"//Users/sayantanm/Desktop/sonali/pythonseminar/FinalProject/Notebooks/Data/\"+filename,sep = \"\\t\",header=0)\n",
      "# data = data[data['Category']=='Technology']"
     ],
     "language": "python",
     "metadata": {},
     "outputs": [],
     "prompt_number": 651
    },
    {
     "cell_type": "code",
     "collapsed": false,
     "input": [
      "data['Tech'] = (data['Category'] == \"Technology\").astype(int)"
     ],
     "language": "python",
     "metadata": {},
     "outputs": [],
     "prompt_number": 652
    },
    {
     "cell_type": "raw",
     "metadata": {},
     "source": [
      "Lasso Result: Tech: Count_comment, Count_funder, Start_month, N0_min_perk, No_max_perk, No_med_perk, Tot_perk, recoded_country, \n",
      "Median_by_one, Median_by_goal, Mintotal, Maxtotal, Mediantotal\n",
      "Lasso Result: Non-Tech: Count_update', u'Count_comment', u'Count_funder', u'Count_photo', u'Amount_goal', End_mont', u'Duration, N0_min_perk', \n",
      "u'Max_perk', u'No_max_perk', u'Median_perk', u'No_med_perk', u'Tot_perk', u'FB_like', u'FB_talking', u'You_avg_duratio', \n",
      "u'You_avg_view_count', Maxtotal', u'Mediantotal', u'Min_by_goal', Min_by_one, Median_by_one', u'newtype'\n"
     ]
    },
    {
     "cell_type": "code",
     "collapsed": false,
     "input": [
      "data = data.drop('sno',1)\n",
      "data = data.drop('US',1)\n",
      "data= data.drop('End_mont',1)\n",
      "data = data.drop('Title',1)\n",
      "data = data.drop('Headline',1)\n",
      "data = data.drop('ShortDesc',1)\n",
      "data = data.drop('Category',1)\n",
      "# data = data.drop('US',1)\n",
      "data = data.drop('Current',1)\n",
      "data = data.drop('Amount_currency',1)\n",
      "data = data.drop('Distance',1)\n",
      "#Comment after getting correct distance\n",
      "data = data.drop('Location',1)\n",
      "data = data.drop('Tweet_follow',1)\n",
      "data = data.drop('Tweet_status',1)\n",
      "data = data.drop('Start_year',1)\n",
      "data = data.drop('End_year',1)\n",
      "data = data.drop('Start_day',1)\n",
      "data = data.drop('End_day',1)\n",
      "# data = data.drop('Amount_Raised',1)\n",
      "\n",
      "data = data.drop('Time_Left',1)\n",
      "\n",
      "data['Mintotal'] = data['Min_perk']*data['N0_min_perk']\n",
      "data['Maxtotal'] = data['Max_perk']*data['No_max_perk']\n",
      "data['Mediantotal'] = data['Median_perk']*data['No_med_perk']\n",
      "\n",
      "data['Min_by_goal']= data['Mintotal']/data['Amount_goal']\n",
      "data['Max_by_goal']= data['Maxtotal']/data['Amount_goal']\n",
      "data['Median_by_goal']= data['Mediantotal']/data['Amount_goal']\n",
      "\n",
      "data['Min_by_one']= data['Min_perk']/data['Amount_goal']\n",
      "data['Max_by_one']= data['Max_perk']/data['Amount_goal']\n",
      "data['Median_by_one']= data['Median_perk']/data['Amount_goal']"
     ],
     "language": "python",
     "metadata": {},
     "outputs": [],
     "prompt_number": 653
    },
    {
     "cell_type": "code",
     "collapsed": false,
     "input": [
      "data.columns"
     ],
     "language": "python",
     "metadata": {},
     "outputs": [
      {
       "metadata": {},
       "output_type": "pyout",
       "prompt_number": 654,
       "text": [
        "Index([u'County', u'Count_update', u'Count_comment', u'Count_funder', u'Count_photo', u'Amount_goal', u'Amount_Raised', u'Ratio', u'Type', u'Start_month', u'Duration', u'Min_perk', u'N0_min_perk', u'Max_perk', u'No_max_perk', u'Median_perk', u'No_med_perk', u'Tot_perk', u'FB_like', u'FB_talking', u'You_avg_duratio', u'You_avg_view_count', u'You_avg_rating', u'Tech', u'Mintotal', u'Maxtotal', u'Mediantotal', u'Min_by_goal', u'Max_by_goal', u'Median_by_goal', u'Min_by_one', u'Max_by_one', u'Median_by_one'], dtype=object)"
       ]
      }
     ],
     "prompt_number": 654
    },
    {
     "cell_type": "code",
     "collapsed": false,
     "input": [
      "def checkus(location):\n",
      "    if (location=='United States'):\n",
      "        return 1\n",
      "    else:\n",
      "        return 0 \n",
      "data['US'] = data['County'].apply(checkus)"
     ],
     "language": "python",
     "metadata": {},
     "outputs": [],
     "prompt_number": 655
    },
    {
     "cell_type": "code",
     "collapsed": false,
     "input": [
      "def changetype(prjtype):\n",
      "    if ('Fixed Funding' in prjtype):\n",
      "        return 1\n",
      "    else:\n",
      "        return 0\n",
      "data['newtype'] = data['Type'].apply(changetype)\n",
      "data = data.drop('Type',1)"
     ],
     "language": "python",
     "metadata": {},
     "outputs": [],
     "prompt_number": 656
    },
    {
     "cell_type": "code",
     "collapsed": false,
     "input": [
      "data = data[data['Ratio']<=2]\n",
      "len(data)\n",
      "data = data.drop('Ratio',1)"
     ],
     "language": "python",
     "metadata": {},
     "outputs": [],
     "prompt_number": 657
    },
    {
     "cell_type": "code",
     "collapsed": false,
     "input": [
      "data = data.fillna(0)"
     ],
     "language": "python",
     "metadata": {},
     "outputs": [],
     "prompt_number": 658
    },
    {
     "cell_type": "code",
     "collapsed": false,
     "input": [
      "data['Count_photo'] = data['Count_photo'].fillna(0)\n",
      "data=data.dropna(axis=1,how='all')"
     ],
     "language": "python",
     "metadata": {},
     "outputs": [],
     "prompt_number": 659
    },
    {
     "cell_type": "code",
     "collapsed": false,
     "input": [
      "countries = list(data['County'].unique())\n",
      "def getcountrycode(loc):\n",
      "    return countries.index(loc)  \n",
      "data['recoded_country'] = data['County'].apply(getcountrycode)\n",
      "data = data.drop('County',1)"
     ],
     "language": "python",
     "metadata": {},
     "outputs": [],
     "prompt_number": 660
    },
    {
     "cell_type": "code",
     "collapsed": false,
     "input": [
      "def to_days(dur):\n",
      "    return float(dur)/(3600*24)\n",
      "data['Duration']= data['Duration'].apply(to_days)"
     ],
     "language": "python",
     "metadata": {},
     "outputs": [],
     "prompt_number": 661
    },
    {
     "cell_type": "code",
     "collapsed": false,
     "input": [
      "Y = data['Amount_Raised']\n",
      "data = data.drop('Amount_Raised',1)"
     ],
     "language": "python",
     "metadata": {},
     "outputs": [],
     "prompt_number": 662
    },
    {
     "cell_type": "code",
     "collapsed": false,
     "input": [
      "#X = data[['FB_like','FB_talking','Tweet_follow','Tweet_status','You_avg_duratio','You_avg_view_count','You_avg_rating']].values\n",
      "data.columns"
     ],
     "language": "python",
     "metadata": {},
     "outputs": [
      {
       "metadata": {},
       "output_type": "pyout",
       "prompt_number": 663,
       "text": [
        "Index([u'Count_update', u'Count_comment', u'Count_funder', u'Count_photo', u'Amount_goal', u'Start_month', u'Duration', u'Min_perk', u'N0_min_perk', u'Max_perk', u'No_max_perk', u'Median_perk', u'No_med_perk', u'Tot_perk', u'FB_like', u'FB_talking', u'You_avg_duratio', u'You_avg_view_count', u'You_avg_rating', u'Tech', u'Mintotal', u'Maxtotal', u'Mediantotal', u'Min_by_goal', u'Max_by_goal', u'Median_by_goal', u'Min_by_one', u'Max_by_one', u'Median_by_one', u'US', u'newtype', u'recoded_country'], dtype=object)"
       ]
      }
     ],
     "prompt_number": 663
    },
    {
     "cell_type": "code",
     "collapsed": false,
     "input": [
      "split = math.floor(float(len(data))*0.7)\n",
      "print split\n",
      "#only social media features\n",
      "d = data.values \n",
      "d_scaled = preprocessing.scale(d)\n",
      "c = np.random.shuffle(d_scaled)\n",
      "d_scaled\n",
      "#X = data[['FB_like','FB_talking','You_avg_duratio','You_avg_view_count','You_avg_rating']].values\n",
      "X = data.values\n",
      "Y_scaled = preprocessing.scale(Y)\n",
      "X_scaled = preprocessing.scale(X)\n",
      "X_train = X_scaled[:split]\n",
      "X_test = X_scaled[split:]\n",
      "Y_train = Y[:split].values\n",
      "Y_test = Y[split:].values\n"
     ],
     "language": "python",
     "metadata": {},
     "outputs": [
      {
       "output_type": "stream",
       "stream": "stdout",
       "text": [
        "1239.0\n"
       ]
      }
     ],
     "prompt_number": 664
    },
    {
     "cell_type": "code",
     "collapsed": false,
     "input": [
      "\n",
      "d = data.values "
     ],
     "language": "python",
     "metadata": {},
     "outputs": [],
     "prompt_number": 665
    },
    {
     "cell_type": "code",
     "collapsed": false,
     "input": [
      "data.head(10)"
     ],
     "language": "python",
     "metadata": {},
     "outputs": [
      {
       "output_type": "stream",
       "stream": "stderr",
       "text": [
        "/Library/Python/2.7/site-packages/pandas/core/config.py:570: DeprecationWarning: height has been deprecated.\n",
        "\n",
        "  warnings.warn(d.msg, DeprecationWarning)\n",
        "/Library/Python/2.7/site-packages/pandas/core/config.py:570: DeprecationWarning: height has been deprecated.\n",
        "\n",
        "  warnings.warn(d.msg, DeprecationWarning)\n",
        "/Library/Python/2.7/site-packages/pandas/core/config.py:570: DeprecationWarning: height has been deprecated.\n",
        "\n",
        "  warnings.warn(d.msg, DeprecationWarning)\n"
       ]
      },
      {
       "html": [
        "<pre>\n",
        "&lt;class 'pandas.core.frame.DataFrame'&gt;\n",
        "Int64Index: 10 entries, 0 to 9\n",
        "Data columns (total 32 columns):\n",
        "Count_update          10  non-null values\n",
        "Count_comment         10  non-null values\n",
        "Count_funder          10  non-null values\n",
        "Count_photo           10  non-null values\n",
        "Amount_goal           10  non-null values\n",
        "Start_month           10  non-null values\n",
        "Duration              10  non-null values\n",
        "Min_perk              10  non-null values\n",
        "N0_min_perk           10  non-null values\n",
        "Max_perk              10  non-null values\n",
        "No_max_perk           10  non-null values\n",
        "Median_perk           10  non-null values\n",
        "No_med_perk           10  non-null values\n",
        "Tot_perk              10  non-null values\n",
        "FB_like               10  non-null values\n",
        "FB_talking            10  non-null values\n",
        "You_avg_duratio       10  non-null values\n",
        "You_avg_view_count    10  non-null values\n",
        "You_avg_rating        10  non-null values\n",
        "Tech                  10  non-null values\n",
        "Mintotal              10  non-null values\n",
        "Maxtotal              10  non-null values\n",
        "Mediantotal           10  non-null values\n",
        "Min_by_goal           10  non-null values\n",
        "Max_by_goal           10  non-null values\n",
        "Median_by_goal        10  non-null values\n",
        "Min_by_one            10  non-null values\n",
        "Max_by_one            10  non-null values\n",
        "Median_by_one         10  non-null values\n",
        "US                    10  non-null values\n",
        "newtype               10  non-null values\n",
        "recoded_country       10  non-null values\n",
        "dtypes: float64(9), int64(23)\n",
        "</pre>"
       ],
       "metadata": {},
       "output_type": "pyout",
       "prompt_number": 666,
       "text": [
        "<class 'pandas.core.frame.DataFrame'>\n",
        "Int64Index: 10 entries, 0 to 9\n",
        "Data columns (total 32 columns):\n",
        "Count_update          10  non-null values\n",
        "Count_comment         10  non-null values\n",
        "Count_funder          10  non-null values\n",
        "Count_photo           10  non-null values\n",
        "Amount_goal           10  non-null values\n",
        "Start_month           10  non-null values\n",
        "Duration              10  non-null values\n",
        "Min_perk              10  non-null values\n",
        "N0_min_perk           10  non-null values\n",
        "Max_perk              10  non-null values\n",
        "No_max_perk           10  non-null values\n",
        "Median_perk           10  non-null values\n",
        "No_med_perk           10  non-null values\n",
        "Tot_perk              10  non-null values\n",
        "FB_like               10  non-null values\n",
        "FB_talking            10  non-null values\n",
        "You_avg_duratio       10  non-null values\n",
        "You_avg_view_count    10  non-null values\n",
        "You_avg_rating        10  non-null values\n",
        "Tech                  10  non-null values\n",
        "Mintotal              10  non-null values\n",
        "Maxtotal              10  non-null values\n",
        "Mediantotal           10  non-null values\n",
        "Min_by_goal           10  non-null values\n",
        "Max_by_goal           10  non-null values\n",
        "Median_by_goal        10  non-null values\n",
        "Min_by_one            10  non-null values\n",
        "Max_by_one            10  non-null values\n",
        "Median_by_one         10  non-null values\n",
        "US                    10  non-null values\n",
        "newtype               10  non-null values\n",
        "recoded_country       10  non-null values\n",
        "dtypes: float64(9), int64(23)"
       ]
      }
     ],
     "prompt_number": 666
    },
    {
     "cell_type": "code",
     "collapsed": false,
     "input": [
      "import matplotlib.pyplot as plt\n",
      "plt.boxplot(Y)\n",
      "plt.show()"
     ],
     "language": "python",
     "metadata": {},
     "outputs": [
      {
       "metadata": {},
       "output_type": "display_data",
       "png": "[encoded data removed]",
       "text": [
        "<matplotlib.figure.Figure at 0x106eff7d0>"
       ]
      }
     ],
     "prompt_number": 667
    },
    {
     "cell_type": "code",
     "collapsed": false,
     "input": [
      "len(Y)"
     ],
     "language": "python",
     "metadata": {},
     "outputs": [
      {
       "metadata": {},
       "output_type": "pyout",
       "prompt_number": 668,
       "text": [
        "1770"
       ]
      }
     ],
     "prompt_number": 668
    },
    {
     "cell_type": "code",
     "collapsed": false,
     "input": [
      "X_train[0]"
     ],
     "language": "python",
     "metadata": {},
     "outputs": [
      {
       "metadata": {},
       "output_type": "pyout",
       "prompt_number": 669,
       "text": [
        "array([-0.489324  , -0.27725333, -0.26097557, -0.35270599, -0.2186205 ,\n",
        "       -0.71694547, -0.26228163, -0.18994558, -0.23415269, -0.1026919 ,\n",
        "       -0.10371481, -0.26279577, -0.15452216,  0.01064985, -0.03763801,\n",
        "       -0.03556478,  0.32408066, -0.09480884,  3.18627415,  0.7498161 ,\n",
        "       -0.07448531, -0.10527805, -0.12254033, -0.02377585, -0.03363364,\n",
        "       -0.29473067,  0.        , -0.09609219, -0.22402707,  0.67143106,\n",
        "       -0.39127287, -0.4079613 ])"
       ]
      }
     ],
     "prompt_number": 669
    },
    {
     "cell_type": "code",
     "collapsed": false,
     "input": [
      "Y_train[0]"
     ],
     "language": "python",
     "metadata": {},
     "outputs": [
      {
       "metadata": {},
       "output_type": "pyout",
       "prompt_number": 670,
       "text": [
        "1400"
       ]
      }
     ],
     "prompt_number": 670
    },
    {
     "cell_type": "code",
     "collapsed": false,
     "input": [
      "subplot(131)\n",
      "scatter(X_train[:,11],Y_train)\n",
      "subplot(132)\n",
      "scatter(X_train[:,10],Y_train)\n",
      "subplot(133)\n",
      "scatter(X_train[:,9],Y_train)"
     ],
     "language": "python",
     "metadata": {},
     "outputs": [
      {
       "metadata": {},
       "output_type": "pyout",
       "prompt_number": 671,
       "text": [
        "<matplotlib.collections.PathCollection at 0x106ef3850>"
       ]
      },
      {
       "metadata": {},
       "output_type": "display_data",
       "png": "[encoded data removed]",
       "text": [
        "<matplotlib.figure.Figure at 0x10833c410>"
       ]
      }
     ],
     "prompt_number": 671
    },
    {
     "cell_type": "code",
     "collapsed": false,
     "input": [
      "from sklearn import linear_model\n",
      "clf = linear_model.LarsCV(normalize=True)"
     ],
     "language": "python",
     "metadata": {},
     "outputs": [],
     "prompt_number": 672
    },
    {
     "cell_type": "code",
     "collapsed": false,
     "input": [
      "# fit the model\n",
      "clf.fit(X_train, Y_train)"
     ],
     "language": "python",
     "metadata": {},
     "outputs": [
      {
       "metadata": {},
       "output_type": "pyout",
       "prompt_number": 673,
       "text": [
        "LarsCV(copy_X=True, cv=None, eps=2.2204460492503131e-16, fit_intercept=True,\n",
        "    max_iter=500, max_n_alphas=1000, n_jobs=1, normalize=True,\n",
        "    precompute='auto', verbose=False)"
       ]
      }
     ],
     "prompt_number": 673
    },
    {
     "cell_type": "code",
     "collapsed": false,
     "input": [
      "clf.coef_"
     ],
     "language": "python",
     "metadata": {},
     "outputs": [
      {
       "metadata": {},
       "output_type": "pyout",
       "prompt_number": 674,
       "text": [
        "array([    0.        ,  1447.39128205,  9330.00878937,     0.        ,\n",
        "           0.        ,     0.        ,     0.        ,     0.        ,\n",
        "           0.        ,     0.        ,     0.        ,     0.        ,\n",
        "           0.        ,     0.        ,     0.        ,     0.        ,\n",
        "           0.        ,     0.        ,     0.        ,     0.        ,\n",
        "           0.        ,  5311.7322302 ,  4410.52109464,     0.        ,\n",
        "           0.        ,     0.        ,     0.        ,     0.        ,\n",
        "           0.        ,     0.        ,     0.        ,     0.        ])"
       ]
      }
     ],
     "prompt_number": 674
    },
    {
     "cell_type": "code",
     "collapsed": false,
     "input": [
      "data.columns"
     ],
     "language": "python",
     "metadata": {},
     "outputs": [
      {
       "metadata": {},
       "output_type": "pyout",
       "prompt_number": 675,
       "text": [
        "Index([u'Count_update', u'Count_comment', u'Count_funder', u'Count_photo', u'Amount_goal', u'Start_month', u'Duration', u'Min_perk', u'N0_min_perk', u'Max_perk', u'No_max_perk', u'Median_perk', u'No_med_perk', u'Tot_perk', u'FB_like', u'FB_talking', u'You_avg_duratio', u'You_avg_view_count', u'You_avg_rating', u'Tech', u'Mintotal', u'Maxtotal', u'Mediantotal', u'Min_by_goal', u'Max_by_goal', u'Median_by_goal', u'Min_by_one', u'Max_by_one', u'Median_by_one', u'US', u'newtype', u'recoded_country'], dtype=object)"
       ]
      }
     ],
     "prompt_number": 675
    },
    {
     "cell_type": "code",
     "collapsed": false,
     "input": [
      "# now do the prediction\n",
      "Y_lr_pred = clf.predict(X_test)\n",
      "\n",
      "# how well did we do?\n",
      "from sklearn.metrics import mean_squared_error\n",
      "mse = mean_squared_error(Y_test,Y_lr_pred) ; \n",
      "print mse"
     ],
     "language": "python",
     "metadata": {},
     "outputs": [
      {
       "output_type": "stream",
       "stream": "stdout",
       "text": [
        "28906705.8732\n"
       ]
      }
     ],
     "prompt_number": 676
    },
    {
     "cell_type": "code",
     "collapsed": false,
     "input": [
      "for i in range(len(Y_lr_pred)):\n",
      "   print str(Y_lr_pred[i])+\"---->\"+str(Y_test[i])"
     ],
     "language": "python",
     "metadata": {},
     "outputs": [
      {
       "output_type": "stream",
       "stream": "stdout",
       "text": [
        "4328.69747347---->2093\n",
        "6097.2268991---->2083\n",
        "4624.23763038---->2075\n",
        "4418.58864782---->2070\n",
        "5030.12388233---->2061\n",
        "4086.89189054---->2051\n",
        "7169.82198522---->2043\n",
        "7012.68341639---->2022\n",
        "2909.58993429---->2020\n",
        "4885.96715331---->2018\n",
        "5274.66882848---->2001\n",
        "3488.95159904---->2000\n",
        "3292.09160328---->2000\n",
        "2144.5865963---->2000\n",
        "2894.44129638---->2000\n",
        "4778.33438192---->1990\n",
        "2810.90977313---->1950\n",
        "3948.88643098---->1945\n",
        "5732.78946459---->1930\n",
        "3841.41332161---->1917\n",
        "3604.12571137---->1905\n",
        "4227.76030667---->1900\n",
        "4131.33715115---->1891\n",
        "3078.68614427---->1890\n",
        "3856.80495669---->1880\n",
        "3172.40347967---->1875\n",
        "4387.26479289---->1869\n",
        "5222.61154274---->1859\n",
        "4054.165279---->1850\n",
        "3244.21635384---->1840\n",
        "3988.21172938---->1825\n",
        "4305.07437024---->1811\n",
        "3901.75054386---->1785\n",
        "4364.35374727---->1775\n",
        "3495.31125014---->1770\n",
        "3875.72824356---->1770\n",
        "3684.05491572---->1760\n",
        "4000.15617338---->1750\n",
        "4658.35391846---->1745\n",
        "3662.37429664---->1740\n",
        "5081.51295826---->1736\n",
        "2607.69012627---->1730\n",
        "2532.94758984---->1725\n",
        "4513.83882014---->1720\n",
        "2784.04248614---->1715\n",
        "4974.85369604---->1710\n",
        "4232.44664802---->1705\n",
        "4923.20777613---->1701\n",
        "3888.36159457---->1700\n",
        "3612.85725482---->1700\n",
        "3140.40696812---->1690\n",
        "5357.77543751---->1687\n",
        "3256.55021619---->1675\n",
        "43270.327049---->96886\n",
        "49320.3072443---->69518\n",
        "44249.286402---->50239\n",
        "16806.7373646---->41520\n",
        "5183.5919858---->32575\n",
        "28234.2289987---->28955\n",
        "25310.3681246---->26195\n",
        "18711.7981379---->24475\n",
        "15293.3747148---->23266\n",
        "14743.1462433---->22210\n",
        "11075.7982178---->20510\n",
        "5974.55091839---->20393\n",
        "17609.7873934---->19319\n",
        "9434.55495224---->18063\n",
        "30448.8094817---->16907\n",
        "16729.3010348---->16292\n",
        "10867.8827733---->16265\n",
        "20383.8489405---->15730\n",
        "14945.2373576---->15179\n",
        "8970.02273967---->14872\n",
        "13819.4263242---->14442\n",
        "16876.5100138---->13772\n",
        "8940.22579041---->13357\n",
        "6921.11995979---->13165\n",
        "10928.4050279---->12665\n",
        "14350.9998392---->12248\n",
        "8997.56268329---->11640\n",
        "13382.911571---->10814\n",
        "16631.6446883---->10693\n",
        "10278.2311421---->10593\n",
        "9076.99156108---->10431\n",
        "17798.2864318---->10406\n",
        "10657.6002449---->10260\n",
        "7566.99219444---->10000\n",
        "9374.13832205---->9745\n",
        "9537.88626642---->9573\n",
        "8840.19105366---->9460\n",
        "8950.53242054---->8867\n",
        "9408.68831836---->8604\n",
        "8993.67259192---->8350\n",
        "10896.6790694---->8257\n",
        "9677.23703923---->8165\n",
        "6313.01869261---->8096\n",
        "9294.26656105---->8010\n",
        "6916.81830864---->7835\n",
        "8789.22251852---->7470\n",
        "9053.55426292---->7305\n",
        "7924.12755612---->7270\n",
        "7757.58224947---->7228\n",
        "5795.94155288---->7170\n",
        "4986.23166349---->6950\n",
        "9642.20524104---->6839\n",
        "9128.66371452---->6815\n",
        "4903.54512693---->6720\n",
        "5563.16399253---->6637\n",
        "3146.26629266---->6483\n",
        "8338.89164201---->6425\n",
        "10612.7140242---->6418\n",
        "3931.54749312---->6325\n",
        "6794.69158698---->6320\n",
        "3067.86399397---->6175\n",
        "7324.68628495---->6115\n",
        "9825.29443123---->6040\n",
        "6342.81564187---->6000\n",
        "6655.34081417---->5876\n",
        "8803.18020426---->5828\n",
        "5825.97753791---->5820\n",
        "6988.63118281---->5775\n",
        "6187.97157101---->5626\n",
        "5325.01817185---->5511\n",
        "5138.64639863---->5296\n",
        "9820.7901506---->5151\n",
        "8082.97207086---->5108\n",
        "5643.39418309---->5065\n",
        "4750.2854051---->5050\n",
        "11520.8409011---->5020\n",
        "6698.09610139---->5000\n",
        "3979.42274257---->4861\n",
        "2960.394846---->4790\n",
        "7903.84043131---->4690\n",
        "12842.4143525---->4591\n",
        "6456.14411438---->4575\n",
        "6312.69581919---->4540\n",
        "6227.83611464---->4466\n",
        "5979.0098065---->4350\n",
        "4466.46389726---->4243\n",
        "6061.9237963---->4093\n",
        "4003.36036729---->4075\n",
        "7047.25594558---->4055\n",
        "5831.33653589---->4001\n",
        "4352.35658806---->3976\n",
        "6598.99102602---->3935\n",
        "2739.09689897---->3895\n",
        "11723.4049499---->3837\n",
        "9866.52921238---->3785\n",
        "4951.88987493---->3735\n",
        "5972.55407339---->3676\n",
        "4597.37034339---->3652\n",
        "7373.06186095---->3649\n",
        "4950.57538968---->3623\n",
        "4654.53490621---->3609\n",
        "5517.71807879---->3525\n",
        "6101.182389---->3511\n",
        "4893.91115343---->3465\n",
        "8689.9091751---->3366\n",
        "7062.37306612---->3340\n",
        "3850.44530558---->3335\n",
        "7543.05456972---->3301\n",
        "4648.17525511---->3285\n",
        "3253.00534065---->3270\n",
        "3697.75206031---->3250\n",
        "9804.55934251---->3150\n",
        "7297.90772453---->3135\n",
        "6035.99916338---->3120\n",
        "6757.30839222---->3030\n",
        "5135.71673636---->3010\n",
        "6594.76935458---->3000\n",
        "3680.45259682---->2900\n",
        "4862.16711243---->2851\n",
        "9235.512835---->2815\n",
        "6388.06221526---->2780\n",
        "4538.27677143---->2776\n",
        "5322.52419352---->2735\n",
        "4152.84544016---->2715\n",
        "5649.62517805---->2696\n",
        "4498.4116721---->2645\n",
        "3466.97450084---->2605\n",
        "11263.0112185---->2604\n",
        "4021.37196177---->2570\n",
        "4913.69739598---->2550\n",
        "3062.00466943---->2531\n",
        "3284.03271646---->2510\n",
        "4517.26880897---->2485\n",
        "3043.92636925---->2445\n",
        "4842.60591515---->2439\n",
        "4165.9094025---->2405\n",
        "4343.84611138---->2370\n",
        "6656.1950632---->2350\n",
        "4307.68951102---->2325\n",
        "4412.22899672---->2288\n",
        "4782.2726543---->2250\n",
        "4213.16943867---->2241\n",
        "2858.78502258---->2200\n",
        "5240.81992324---->2106\n",
        "4481.61253517---->2063\n",
        "5060.11995089---->2032\n",
        "6420.20655506---->1977\n",
        "3893.07644376---->1961\n",
        "4670.47108746---->1935\n",
        "4046.83649216---->1900\n",
        "3619.85804517---->1885\n",
        "5195.92584816---->1879\n",
        "3931.15807478---->1850\n",
        "4962.91795868---->1810\n",
        "5487.0668805---->1781\n",
        "4089.82155281---->1750\n",
        "3402.44164084---->1720\n",
        "3444.50633843---->1705\n",
        "4241.73596139---->1700\n",
        "4184.71780266---->1676\n",
        "5766.38363939---->10450\n",
        "3594.77895464---->1215\n",
        "3019.98874453---->1190\n",
        "2593.15670163---->1175\n",
        "3082.51230533---->1151\n",
        "2733.23757442---->1125\n",
        "3578.84277339---->1115\n",
        "3038.06704471---->1105\n",
        "3657.38910554---->1085\n",
        "5057.68594731---->1065\n",
        "3366.46690302---->1055\n",
        "2641.03195108---->1050\n",
        "3491.88126131---->1040\n",
        "3139.28744979---->1030\n",
        "3393.70142671---->1025\n",
        "3533.50776787---->1019\n",
        "3289.21938437---->1000\n",
        "2987.262133---->1000\n",
        "2506.08030284---->965\n",
        "3422.36987315---->965\n",
        "3357.54482635---->955\n",
        "3164.4020362---->925\n",
        "3303.81025237---->920\n",
        "2784.04248614---->902\n",
        "2479.21301585---->878\n",
        "3700.57081436---->875\n",
        "2870.50367166---->870\n",
        "3166.08830894---->870\n",
        "2733.23757442---->860\n",
        "3623.78836056---->850\n",
        "3330.67753936---->821\n",
        "3124.52823023---->810\n",
        "3505.44555021---->805\n",
        "3038.06704471---->800\n",
        "2652.63571345---->786\n",
        "3045.27168251---->785\n",
        "2805.05044859---->780\n",
        "3441.87299451---->760\n",
        "2784.04248614---->759\n",
        "3178.26280421---->746\n",
        "3399.67563797---->740\n",
        "2428.40810414---->735\n",
        "2601.83080173---->735\n",
        "3261.79432746---->731\n",
        "2996.05111981---->730\n",
        "2586.68216382---->712\n",
        "2936.45722128---->710\n",
        "3091.76530021---->705\n",
        "2401.54081714---->675\n",
        "2939.38688355---->670\n",
        "2912.51959656---->668\n",
        "2931.38544008---->650\n",
        "4018.00867864---->648\n",
        "3382.1551077---->630\n",
        "2954.0351949---->625\n",
        "2912.51959656---->622\n",
        "2398.61115487---->618\n",
        "3905.29426897---->615\n",
        "2786.97214841---->610\n",
        "3457.62774412---->600\n",
        "2482.14267812---->600\n",
        "2918.3789211---->600\n",
        "2976.8443168---->595\n",
        "3377.42428598---->580\n",
        "7072.40740698---->576\n",
        "2353.6655677---->575\n",
        "2895.05650965---->568\n",
        "3333.65156491---->560\n",
        "3094.73128097---->555\n",
        "2249.126082---->550\n",
        "2275.99336899---->540\n",
        "3002.52565762---->536\n",
        "2931.4404696---->533\n",
        "3443.85480668---->525\n",
        "2864.64434712---->525\n",
        "2331.16838777---->520\n",
        "2970.52914607---->520\n",
        "3048.20134478---->510\n",
        "2927.25663448---->505\n",
        "2404.47047942---->500\n",
        "2559.81487683---->500\n",
        "43270.327049---->96886\n",
        "49320.3072443---->69518\n",
        "44249.286402---->50239\n",
        "16857.5422763---->42020\n",
        "5183.5919858---->32575\n",
        "28234.2289987---->28955\n",
        "25310.3681246---->26195\n",
        "18711.7981379---->24475\n",
        "15293.3747148---->23266\n",
        "14743.1462433---->22210\n",
        "11075.7982178---->20510\n",
        "5974.55091839---->20393\n",
        "17609.7873934---->19319\n",
        "9434.55495224---->18063\n",
        "30448.8094817---->16907\n",
        "16729.3010348---->16292\n",
        "10867.8827733---->16265\n",
        "20383.8489405---->15730\n",
        "14945.2373576---->15179\n",
        "8970.02273967---->14872\n",
        "13819.4263242---->14442\n",
        "16876.5100138---->13772\n",
        "8940.22579041---->13357\n",
        "6921.11995979---->13165\n",
        "10928.4050279---->12665\n",
        "14350.9998392---->12248\n",
        "8997.56268329---->11640\n",
        "13382.911571---->10814\n",
        "16631.6446883---->10693\n",
        "10278.2311421---->10593\n",
        "9076.99156108---->10431\n",
        "17798.2864318---->10406\n",
        "10657.6002449---->10260\n",
        "7566.99219444---->10000\n",
        "9374.13832205---->9745\n",
        "9537.88626642---->9573\n",
        "8840.19105366---->9460\n",
        "8950.53242054---->8867\n",
        "9408.68831836---->8604\n",
        "8993.67259192---->8350\n",
        "10896.6790694---->8257\n",
        "15293.3747148---->23266\n",
        "14743.1462433---->22210\n",
        "11075.7982178---->20510\n",
        "5974.55091839---->20393\n",
        "17609.7873934---->19319\n",
        "9434.55495224---->18063\n",
        "30448.8094817---->16907\n",
        "16729.3010348---->16292\n",
        "10867.8827733---->16265\n",
        "20383.8489405---->15730\n",
        "14945.2373576---->15179\n",
        "8970.02273967---->14872\n",
        "13819.4263242---->14442\n",
        "16876.5100138---->13772\n",
        "8940.22579041---->13357\n",
        "6921.11995979---->13165\n",
        "10928.4050279---->12665\n",
        "14350.9998392---->12248\n",
        "8997.56268329---->11640\n",
        "13382.911571---->10814\n",
        "16631.6446883---->10693\n",
        "10278.2311421---->10593\n",
        "9076.99156108---->10431\n",
        "17798.2864318---->10406\n",
        "10657.6002449---->10260\n",
        "7566.99219444---->10000\n",
        "9374.13832205---->9745\n",
        "9537.88626642---->9573\n",
        "8840.19105366---->9460\n",
        "8950.53242054---->8867\n",
        "9408.68831836---->8604\n",
        "8993.67259192---->8350\n",
        "10896.6790694---->8257\n",
        "4750.2854051---->5050\n",
        "11520.8409011---->5020\n",
        "6698.09610139---->5000\n",
        "3979.42274257---->4861\n",
        "2960.394846---->4790\n",
        "7903.84043131---->4690\n",
        "12842.4143525---->4591\n",
        "6456.14411438---->4575\n",
        "6312.69581919---->4540\n",
        "6227.83611464---->4466\n",
        "5979.0098065---->4350\n",
        "4544.13609597---->4293\n",
        "6061.9237963---->4093\n",
        "4003.36036729---->4075\n",
        "7047.25594558---->4055\n",
        "5831.33653589---->4001\n",
        "4352.35658806---->3976\n",
        "6598.99102602---->3935\n",
        "2739.09689897---->3895\n",
        "11723.4049499---->3837\n",
        "9866.52921238---->3785\n",
        "4951.88987493---->3735\n",
        "5972.55407339---->3676\n",
        "4597.37034339---->3652\n",
        "7373.06186095---->3649\n",
        "4950.57538968---->3623\n",
        "4654.53490621---->3609\n",
        "5517.71807879---->3525\n",
        "6101.182389---->3511\n",
        "4893.91115343---->3465\n",
        "8689.9091751---->3366\n",
        "7062.37306612---->3340\n",
        "3850.44530558---->3335\n",
        "7543.05456972---->3301\n",
        "4648.17525511---->3285\n",
        "3253.00534065---->3270\n",
        "3697.75206031---->3250\n",
        "9804.55934251---->3150\n",
        "7297.90772453---->3135\n",
        "6035.99916338---->3120\n",
        "6757.30839222---->3030\n",
        "5135.71673636---->3010\n",
        "6594.76935458---->3000\n",
        "3680.45259682---->2900\n",
        "4862.16711243---->2851\n",
        "9235.512835---->2815\n",
        "6388.06221526---->2780\n",
        "4538.27677143---->2776\n",
        "5322.52419352---->2735\n",
        "4152.84544016---->2715\n",
        "5649.62517805---->2696\n",
        "4498.4116721---->2645\n",
        "3466.97450084---->2605\n",
        "11263.0112185---->2604\n",
        "4021.37196177---->2570\n",
        "4913.69739598---->2550\n",
        "3062.00466943---->2531\n",
        "3284.03271646---->2510\n",
        "4517.26880897---->2485\n",
        "3043.92636925---->2445\n",
        "4842.60591515---->2439\n",
        "4165.9094025---->2405\n",
        "4343.84611138---->2370\n",
        "6656.1950632---->2350\n",
        "4307.68951102---->2325\n",
        "4412.22899672---->2288\n",
        "4782.2726543---->2250\n",
        "4213.16943867---->2241\n",
        "2858.78502258---->2200\n",
        "5240.81992324---->2106\n",
        "4481.61253517---->2063\n",
        "5060.11995089---->2032\n",
        "6420.20655506---->1977\n",
        "3893.07644376---->1961\n",
        "4670.47108746---->1935\n",
        "4046.83649216---->1900\n",
        "3619.85804517---->1885\n",
        "5195.92584816---->1879\n",
        "3931.15807478---->1850\n",
        "4962.91795868---->1810\n",
        "5487.0668805---->1781\n",
        "4089.82155281---->1750\n",
        "3402.44164084---->1720\n",
        "3444.50633843---->1705\n",
        "4241.73596139---->1700\n",
        "4184.71780266---->1676\n",
        "2784.04248614---->1670\n",
        "2954.0351949---->1665\n",
        "4406.82126202---->1650\n",
        "3702.30554596---->1625\n",
        "3930.76865643---->1582\n",
        "4519.69814469---->1567\n",
        "4405.86934562---->1560\n",
        "3550.31594609---->1550\n",
        "4538.27677143---->1523\n",
        "3955.48511784---->1505\n",
        "3685.09758443---->1502\n",
        "4880.33760219---->1475\n",
        "2969.18383282---->1460\n",
        "3976.66541036---->1420\n",
        "2688.29198725---->1400\n",
        "5040.86866752---->1390\n",
        "3487.30980667---->1387\n",
        "3976.73778122---->1380\n",
        "4226.51691713---->1368\n",
        "5918.24927528---->1351\n",
        "4677.97220437---->1350\n",
        "3468.44396315---->1342\n",
        "3137.47730585---->1325\n",
        "3616.08534898---->1315\n",
        "3202.20042894---->1285\n",
        "3655.02575462---->1280\n",
        "3058.5746806---->1270\n",
        "4259.57522581---->1250\n",
        "3698.530897---->1245\n",
        "4536.73211783---->1230\n",
        "3683.55458916---->1230\n",
        "3594.77895464---->1215\n",
        "3019.98874453---->1190\n",
        "2593.15670163---->1175\n",
        "3082.51230533---->1151\n",
        "2733.23757442---->1125\n",
        "3578.84277339---->1115\n",
        "3038.06704471---->1105\n",
        "3657.38910554---->1085\n",
        "5057.68594731---->1065\n",
        "3366.46690302---->1055\n",
        "2641.03195108---->1050\n",
        "3491.88126131---->1040\n",
        "3139.28744979---->1030\n",
        "3393.70142671---->1025\n",
        "3533.50776787---->1019\n",
        "3289.21938437---->1000\n",
        "2987.262133---->1000\n",
        "2506.08030284---->965\n",
        "3422.36987315---->965\n",
        "3357.54482635---->955\n",
        "3164.4020362---->925\n",
        "3303.81025237---->920\n",
        "2784.04248614---->902\n",
        "2479.21301585---->878\n",
        "3700.57081436---->875\n",
        "2870.50367166---->870\n",
        "3166.08830894---->870\n",
        "2733.23757442---->860\n",
        "3623.78836056---->850\n",
        "3330.67753936---->821\n",
        "3124.52823023---->810\n",
        "3505.44555021---->805\n",
        "3038.06704471---->800\n",
        "2652.63571345---->786\n",
        "3045.27168251---->785\n",
        "2805.05044859---->780\n",
        "3441.87299451---->760\n",
        "2784.04248614---->759\n",
        "3178.26280421---->746\n",
        "3399.67563797---->740\n",
        "2428.40810414---->735\n",
        "2601.83080173---->735\n",
        "3261.79432746---->731\n",
        "2996.05111981---->730\n",
        "2586.68216382---->712\n",
        "2936.45722128---->710\n"
       ]
      }
     ],
     "prompt_number": 677
    },
    {
     "cell_type": "code",
     "collapsed": false,
     "input": [
      "plot(Y_test,Y_lr_pred,'o')\n",
      "title(\"Linear Regression Residuals - MSE = %.1f\" % mse)\n",
      "xlabel(\"True Median Project Goal\")\n",
      "ylabel(\"Residual\")\n",
      "hlines(0,min(Y_test),max(Y_test),color=\"red\")"
     ],
     "language": "python",
     "metadata": {},
     "outputs": [
      {
       "metadata": {},
       "output_type": "pyout",
       "prompt_number": 678,
       "text": [
        "<matplotlib.collections.LineCollection at 0x105bf7ad0>"
       ]
      },
      {
       "metadata": {},
       "output_type": "display_data",
       "png": "[encoded data removed]",
       "text": [
        "<matplotlib.figure.Figure at 0x106eff210>"
       ]
      }
     ],
     "prompt_number": 678
    },
    {
     "cell_type": "code",
     "collapsed": false,
     "input": [
      "#boston = datasets.load_boston() ; X = boston['data'] ; Y = boston['target']\n",
      "from sklearn import cross_validation\n",
      "from sklearn import linear_model\n",
      "clf = linear_model.LarsCV(normalize=True)\n",
      "from sklearn.cross_validation import cross_val_score\n",
      "\n",
      "def print_cv_score_summary(model, xx, yy, cv):\n",
      "    scores = cross_val_score(model, xx, yy, cv=cv, n_jobs=1)\n",
      "    print(\"mean: {:3f}, stdev: {:3f}\".format(\n",
      "        np.mean(scores), np.std(scores)))"
     ],
     "language": "python",
     "metadata": {},
     "outputs": [],
     "prompt_number": 679
    },
    {
     "cell_type": "code",
     "collapsed": false,
     "input": [
      "# print_cv_score_summary(clf,X,Y,cv=cross_validation.KFold(len(Y), 20))\n",
      "\n",
      "#print_cv_score_summary(clf,X,Y,cv=150)"
     ],
     "language": "python",
     "metadata": {},
     "outputs": [],
     "prompt_number": 680
    },
    {
     "cell_type": "code",
     "collapsed": false,
     "input": [
      "print_cv_score_summary(clf,X,Y,\n",
      "    cv=cross_validation.KFold(len(Y),20,shuffle=True,random_state=1))"
     ],
     "language": "python",
     "metadata": {},
     "outputs": [
      {
       "output_type": "stream",
       "stream": "stdout",
       "text": [
        "mean: 0.624651, stdev: 0.242701\n"
       ]
      },
      {
       "output_type": "stream",
       "stream": "stderr",
       "text": [
        "/Library/Python/2.7/site-packages/sklearn/linear_model/least_angle.py:251: UserWarning: Regressors in active set degenerate. Dropping a regressor, after 16 iterations, i.e. alpha=1.055e+01, with an active set of 16 regressors, and the smallest cholesky pivot element being 1.490e-08\n",
        "  % (n_iter, alpha, n_active, diag))\n",
        "/Library/Python/2.7/site-packages/sklearn/linear_model/least_angle.py:251: UserWarning: Regressors in active set degenerate. Dropping a regressor, after 22 iterations, i.e. alpha=6.924e+00, with an active set of 22 regressors, and the smallest cholesky pivot element being 1.490e-08\n",
        "  % (n_iter, alpha, n_active, diag))\n",
        "/Library/Python/2.7/site-packages/sklearn/linear_model/least_angle.py:251: UserWarning: Regressors in active set degenerate. Dropping a regressor, after 22 iterations, i.e. alpha=6.301e+00, with an active set of 22 regressors, and the smallest cholesky pivot element being 1.490e-08\n",
        "  % (n_iter, alpha, n_active, diag))\n",
        "/Library/Python/2.7/site-packages/sklearn/linear_model/least_angle.py:251: UserWarning: Regressors in active set degenerate. Dropping a regressor, after 27 iterations, i.e. alpha=3.047e+00, with an active set of 27 regressors, and the smallest cholesky pivot element being 1.490e-08\n",
        "  % (n_iter, alpha, n_active, diag))\n",
        "/Library/Python/2.7/site-packages/sklearn/linear_model/least_angle.py:251: UserWarning: Regressors in active set degenerate. Dropping a regressor, after 27 iterations, i.e. alpha=3.020e+00, with an active set of 27 regressors, and the smallest cholesky pivot element being 1.490e-08\n",
        "  % (n_iter, alpha, n_active, diag))\n",
        "/Library/Python/2.7/site-packages/sklearn/linear_model/least_angle.py:251: UserWarning: Regressors in active set degenerate. Dropping a regressor, after 28 iterations, i.e. alpha=4.548e-01, with an active set of 28 regressors, and the smallest cholesky pivot element being 1.490e-08\n",
        "  % (n_iter, alpha, n_active, diag))\n",
        "/Library/Python/2.7/site-packages/sklearn/linear_model/least_angle.py:251: UserWarning: Regressors in active set degenerate. Dropping a regressor, after 29 iterations, i.e. alpha=1.509e-01, with an active set of 29 regressors, and the smallest cholesky pivot element being 1.490e-08\n",
        "  % (n_iter, alpha, n_active, diag))\n",
        "/Library/Python/2.7/site-packages/sklearn/linear_model/least_angle.py:251: UserWarning: Regressors in active set degenerate. Dropping a regressor, after 29 iterations, i.e. alpha=9.197e-02, with an active set of 29 regressors, and the smallest cholesky pivot element being 1.490e-08\n",
        "  % (n_iter, alpha, n_active, diag))\n",
        "/Library/Python/2.7/site-packages/sklearn/linear_model/least_angle.py:251: UserWarning: Regressors in active set degenerate. Dropping a regressor, after 17 iterations, i.e. alpha=1.029e+01, with an active set of 17 regressors, and the smallest cholesky pivot element being 1.054e-08\n",
        "  % (n_iter, alpha, n_active, diag))\n",
        "/Library/Python/2.7/site-packages/sklearn/linear_model/least_angle.py:251: UserWarning: Regressors in active set degenerate. Dropping a regressor, after 29 iterations, i.e. alpha=1.582e+00, with an active set of 29 regressors, and the smallest cholesky pivot element being 1.054e-08\n",
        "  % (n_iter, alpha, n_active, diag))\n",
        "/Library/Python/2.7/site-packages/sklearn/linear_model/least_angle.py:251: UserWarning: Regressors in active set degenerate. Dropping a regressor, after 29 iterations, i.e. alpha=8.103e-02, with an active set of 29 regressors, and the smallest cholesky pivot element being 1.054e-08\n",
        "  % (n_iter, alpha, n_active, diag))\n",
        "/Library/Python/2.7/site-packages/sklearn/linear_model/least_angle.py:251: UserWarning: Regressors in active set degenerate. Dropping a regressor, after 15 iterations, i.e. alpha=7.546e+00, with an active set of 15 regressors, and the smallest cholesky pivot element being 2.220e-16\n",
        "  % (n_iter, alpha, n_active, diag))\n"
       ]
      }
     ],
     "prompt_number": 681
    },
    {
     "cell_type": "code",
     "collapsed": false,
     "input": [
      "min(Y_lr_pred)"
     ],
     "language": "python",
     "metadata": {},
     "outputs": [
      {
       "metadata": {},
       "output_type": "pyout",
       "prompt_number": 682,
       "text": [
        "2144.5865963016631"
       ]
      }
     ],
     "prompt_number": 682
    },
    {
     "cell_type": "raw",
     "metadata": {},
     "source": [
      "LARS-CV Result against Ratio\n",
      "http://en.wikipedia.org/wiki/Least-angle_regression\n",
      "Condition: Ratio<1.5\n",
      "Count_funder, Median_by_one, Median_by_Goal\n",
      "mean: 0.308300, stdev: 0.159430\n",
      "MSE: 0.154263173774"
     ]
    },
    {
     "cell_type": "raw",
     "metadata": {},
     "source": [
      "LARS-CV Result against Amount_Raised\n",
      "http://en.wikipedia.org/wiki/Least-angle_regression\n",
      "Condition: Ratio<1.5, Fold=30\n",
      "Count_photo, Maxtotal, Mediantotal\n",
      "mean: 0.511707, stdev: 0.653569"
     ]
    },
    {
     "cell_type": "raw",
     "metadata": {},
     "source": [
      "LARS-CV Result against Amount_Raised\n",
      "http://en.wikipedia.org/wiki/Least-angle_regression\n",
      "Condition: Ratio<1.5, Fold=20\n",
      "mean: 0.559452, stdev: 0.349972\n",
      "Count_Funder, Mintotal, Maxtotal"
     ]
    },
    {
     "cell_type": "raw",
     "metadata": {},
     "source": [
      "LARS-CV Result against Amount_Raised\n",
      "http://en.wikipedia.org/wiki/Least-angle_regression\n",
      "Condition: Ratio<2.5, Fold=20\n",
      "mean: 0.624651, stdev: 0.242701\n",
      "Count_Comment, Count_Funder, Mintotal, Maxtotal"
     ]
    },
    {
     "cell_type": "code",
     "collapsed": false,
     "input": [],
     "language": "python",
     "metadata": {},
     "outputs": []
    },
    {
     "cell_type": "code",
     "collapsed": false,
     "input": [
      "from sklearn import neighbors\n",
      "from sklearn import preprocessing\n",
      "#X_scaled = preprocessing.scale(X) # many methods work better on scaled X\n",
      "clf1 = neighbors.KNeighborsRegressor(5)\n",
      "#train_X = X_scaled[:half]\n",
      "#test_X = X_scaled[half:]\n",
      "clf1.fit(X_train,Y_train)"
     ],
     "language": "python",
     "metadata": {},
     "outputs": [
      {
       "metadata": {},
       "output_type": "pyout",
       "prompt_number": 375,
       "text": [
        "KNeighborsRegressor(algorithm='auto', leaf_size=30, metric='minkowski',\n",
        "          n_neighbors=5, p=2, weights='uniform')"
       ]
      }
     ],
     "prompt_number": 375
    },
    {
     "cell_type": "code",
     "collapsed": false,
     "input": [
      "Y_knn_pred = clf1.predict(X_test)\n",
      "mse = mean_squared_error(Y_test,Y_knn_pred) ; print mse\n",
      "plot(Y_test, Y_knn_pred - Y_test,'o')\n",
      "title(\"k-NN Residuals - MSE = %.1f\" % mse)\n",
      "xlabel(\"True Median House Price ($1,000)\")\n",
      "ylabel(\"Residual\")\n",
      "hlines(0,min(Y_test),max(Y_test),color=\"red\")"
     ],
     "language": "python",
     "metadata": {},
     "outputs": [
      {
       "output_type": "stream",
       "stream": "stdout",
       "text": [
        "3653909.13275\n"
       ]
      },
      {
       "metadata": {},
       "output_type": "pyout",
       "prompt_number": 377,
       "text": [
        "<matplotlib.collections.LineCollection at 0x10aa18ad0>"
       ]
      },
      {
       "metadata": {},
       "output_type": "display_data",
       "png": "[encoded data removed]",
       "text": [
        "<matplotlib.figure.Figure at 0x10aa0dd10>"
       ]
      }
     ],
     "prompt_number": 377
    },
    {
     "cell_type": "code",
     "collapsed": false,
     "input": [],
     "language": "python",
     "metadata": {},
     "outputs": []
    },
    {
     "cell_type": "code",
     "collapsed": false,
     "input": [],
     "language": "python",
     "metadata": {},
     "outputs": []
    },
    {
     "cell_type": "code",
     "collapsed": false,
     "input": [],
     "language": "python",
     "metadata": {},
     "outputs": []
    },
    {
     "cell_type": "code",
     "collapsed": false,
     "input": [],
     "language": "python",
     "metadata": {},
     "outputs": []
    },
    {
     "cell_type": "code",
     "collapsed": false,
     "input": [],
     "language": "python",
     "metadata": {},
     "outputs": []
    },
    {
     "cell_type": "code",
     "collapsed": false,
     "input": [],
     "language": "python",
     "metadata": {},
     "outputs": []
    },
    {
     "cell_type": "code",
     "collapsed": false,
     "input": [
      "#loc = data['Location'].unique()\n",
      "\n",
      "#loclist = [(l) for l in loc]\n",
      "#loclist = list(set(newloc))\n",
      "#loclist[1]\n",
      "#locdict={}"
     ],
     "language": "python",
     "metadata": {},
     "outputs": [],
     "prompt_number": 244
    },
    {
     "cell_type": "code",
     "collapsed": false,
     "input": [],
     "language": "python",
     "metadata": {},
     "outputs": [],
     "prompt_number": 34
    },
    {
     "cell_type": "code",
     "collapsed": false,
     "input": [
      "import urllib, json\n",
      "import pprint\n",
      "invalid = []\n",
      "locdict={}\n",
      "for locname in loclist[1:]:\n",
      "    url2 = \"http://maps.googleapis.com/maps/api/geocode/json?address={}&sensor=false\".format(str(locname))\n",
      "    #print url2\n",
      "    googleResponse = urllib.urlopen(url2)\n",
      "    jsonResponse = json.loads(googleResponse.read())\n",
      "    try:\n",
      "        locdict[locname] = [jsonResponse['results'][0]['geometry']['location']['lat'],\n",
      "                        jsonResponse['results'][0]['geometry']['location']['lng']]\n",
      "    except:\n",
      "        locdict[locname] = 'Not found'\n",
      "        invalid.append(url2)\n",
      "locdict"
     ],
     "language": "python",
     "metadata": {},
     "outputs": []
    },
    {
     "cell_type": "code",
     "collapsed": false,
     "input": [
      "for i in invalid:\n",
      "    url2 = i\n",
      "    #print url2\n",
      "    googleResponse = urllib.urlopen(url2)\n",
      "    jsonResponse = json.loads(googleResponse.read())\n",
      "    try:\n",
      "        locdict[i] = jsonResponse['results'][0]['geometry']['location']['lng']\n",
      "    except:\n",
      "        print i\n"
     ],
     "language": "python",
     "metadata": {},
     "outputs": []
    },
    {
     "cell_type": "code",
     "collapsed": false,
     "input": [
      "googleResponse = urllib.urlopen(invalid[0])\n",
      "jsonResponse = json.loads(googleResponse.read())\n",
      "print jsonResponse #['results'][0]['geometry']['location']['lng']"
     ],
     "language": "python",
     "metadata": {},
     "outputs": []
    },
    {
     "cell_type": "code",
     "collapsed": false,
     "input": [
      "locdict"
     ],
     "language": "python",
     "metadata": {},
     "outputs": []
    },
    {
     "cell_type": "code",
     "collapsed": false,
     "input": [
      "unique = {}\n",
      "l = map(getgeo,uniqueloc)\n"
     ],
     "language": "python",
     "metadata": {},
     "outputs": []
    },
    {
     "cell_type": "code",
     "collapsed": false,
     "input": [
      "def getgeo(location):\n",
      "    g = geocoders.GoogleV3() \n",
      "    if location is None:\n",
      "        return \"%s: %.5f, %.5f\" % (place, 0, 0)  \n",
      "    else:   \n",
      "        place, (lat, lng) = g.geocode(location)  \n",
      "        return (place, lat, lng)   "
     ],
     "language": "python",
     "metadata": {},
     "outputs": []
    },
    {
     "cell_type": "code",
     "collapsed": false,
     "input": [],
     "language": "python",
     "metadata": {},
     "outputs": []
    },
    {
     "cell_type": "code",
     "collapsed": false,
     "input": [
      "g = geocoders.GoogleV3() \n",
      "place, (lat, lng) = g.geocode('Mojave, Paris, Vidulini, Tuzla, United States') \n",
      "print \"%s: %.5f, %.5f\" % (place, lat, lng)   "
     ],
     "language": "python",
     "metadata": {},
     "outputs": []
    },
    {
     "cell_type": "code",
     "collapsed": false,
     "input": [
      "data['geo'] = data['Location'].apply(getgeo)"
     ],
     "language": "python",
     "metadata": {},
     "outputs": []
    },
    {
     "cell_type": "code",
     "collapsed": false,
     "input": [
      "data['goal'] = data['Amount Raised']/data['Target Amount']\n"
     ],
     "language": "python",
     "metadata": {},
     "outputs": []
    },
    {
     "cell_type": "code",
     "collapsed": false,
     "input": [
      "def colorpicker(goal):\n",
      "    c = ''\n",
      "    if goal>=1:\n",
      "        c='g' \n",
      "    elif(goal<1):\n",
      "        c='b'\n",
      "    else:\n",
      "        c='r'\n",
      "    print \"%f:%s\" %(goal,c)\n",
      "    return c\n",
      "    \n",
      "data['color'] = data['goal'].apply(colorpicker)"
     ],
     "language": "python",
     "metadata": {},
     "outputs": []
    },
    {
     "cell_type": "code",
     "collapsed": false,
     "input": [
      "v = (data['color']=='g') & (data['goal'] <1)\n",
      "#len(data)\n",
      "#1281 = 1026 + 254 + 1\n",
      "# & (data['goal'] <1)"
     ],
     "language": "python",
     "metadata": {},
     "outputs": []
    },
    {
     "cell_type": "code",
     "collapsed": false,
     "input": [
      "data['color']"
     ],
     "language": "python",
     "metadata": {},
     "outputs": []
    },
    {
     "cell_type": "code",
     "collapsed": false,
     "input": [
      "import re\n",
      "def getfounders(f):\n",
      "    l=[]\n",
      "    for m in re.finditer( '],', f ):\n",
      "        l.append(m.start())\n",
      "    return len(l)\n",
      "    \n",
      "\"\"\"\n",
      ">> import re\n",
      ">>> text = \"Allowed Hello Hollow\"\n",
      ">>> for m in re.finditer( 'll', text ):\n",
      "...     print( 'll found', m.start(), m.end() )\n",
      "\"\"\""
     ],
     "language": "python",
     "metadata": {},
     "outputs": []
    },
    {
     "cell_type": "code",
     "collapsed": false,
     "input": [
      "data['#founders'] = data['Team Member (Name, URL)'].apply(getfounders)"
     ],
     "language": "python",
     "metadata": {},
     "outputs": []
    },
    {
     "cell_type": "code",
     "collapsed": false,
     "input": [
      "data.head(5)"
     ],
     "language": "python",
     "metadata": {},
     "outputs": []
    },
    {
     "cell_type": "code",
     "collapsed": false,
     "input": [
      "col"
     ],
     "language": "python",
     "metadata": {},
     "outputs": []
    },
    {
     "cell_type": "code",
     "collapsed": false,
     "input": [
      "\n",
      "%matplotlib inline\n",
      "fig,ax1 = plt.subplots(figsize=(12,8))\n",
      "goal = np.float64(data['goal'])\n",
      "duration = np.float64(data['Duration'])\n",
      "col = list(data['color'])\n",
      "ax1.set_title(\"Duration vs. Goal\",fontsize=16)\n",
      "p1 = ax1.scatter(duration,goal ,color='b',label=\"Duration vs. Goal\",linewidth=1.0)\n",
      "ax1.set_xlabel('Duration (days)')\n",
      "ax1.set_ylabel('Goal')\n",
      "ax1.set_ylim([0,3])\n",
      "ax1.set_xlim([-10,200])\n",
      "fig.savefig(\"Frontend/static/img/duration.png\")"
     ],
     "language": "python",
     "metadata": {},
     "outputs": []
    },
    {
     "cell_type": "code",
     "collapsed": false,
     "input": [
      "%matplotlib inline\n",
      "fig,ax1 = plt.subplots(figsize=(12,8))\n",
      "goal = np.float64(data['goal'])\n",
      "funders = np.float64(data['Number of Funders'])\n",
      "ax1.set_title(\"# of Funders vs. Goal\",fontsize=16)\n",
      "p1 = ax1.scatter(funders,goal, color='b',label=\"Duration vs. Goal\",linewidth=2.0,)\n",
      "ax1.set_xlabel('Funders ')\n",
      "ax1.set_ylabel('Goal')\n",
      "ax1.set_ylim([0,3])\n",
      "ax1.set_xlim([-10,200])"
     ],
     "language": "python",
     "metadata": {},
     "outputs": []
    },
    {
     "cell_type": "code",
     "collapsed": false,
     "input": [
      "%matplotlib inline\n",
      "fig,ax1 = plt.subplots(figsize=(12,8))\n",
      "goal = data['goal']\n",
      "sponsers = data['#founders']\n",
      "ax1.set_title(\"# of Sponsors vs. Goal\",fontsize=16)\n",
      "p1 = ax1.scatter(sponsers,goal, color=col,label=\"Sponsers vs. Goal\",linewidth=2.0,)\n",
      "ax1.set_xlabel('Sponsors ')\n",
      "ax1.set_ylabel('Goal')\n",
      "ax1.set_ylim([0,3])\n",
      "ax1.set_xlim([0,30])"
     ],
     "language": "python",
     "metadata": {},
     "outputs": []
    },
    {
     "cell_type": "code",
     "collapsed": false,
     "input": [
      "\n",
      "%matplotlib inline\n",
      "fig,ax1 = plt.subplots(figsize=(12,8))\n",
      "goal = np.float64(data['goal'])\n",
      "eta = np.float64(data['ETA (days)'])\n",
      "ax1.set_title(\"ETA (days) vs. Goal\",fontsize=16)\n",
      "p1 = ax1.scatter(eta,goal, color='b',label=\"ETA (days) vs. Goal\",linewidth=2.0,)\n",
      "ax1.set_xlabel('ETA (days) ')\n",
      "ax1.set_ylabel('Goal')\n",
      "ax1.set_ylim([0,3])\n",
      "ax1.set_xlim([-1,30])\n"
     ],
     "language": "python",
     "metadata": {},
     "outputs": []
    },
    {
     "cell_type": "code",
     "collapsed": false,
     "input": [
      "from itertools import izip\n",
      "for x in imap(,col):\n",
      "    print x\n",
      "\n"
     ],
     "language": "python",
     "metadata": {},
     "outputs": []
    },
    {
     "cell_type": "code",
     "collapsed": false,
     "input": [
      "import numpy as np\n",
      "from sklearn import cross_validation\n",
      "from sklearn import datasets\n",
      "from sklearn import svm\n",
      "clf = svm.SVC(kernel='linear', C=1)\n",
      "scores = cross_validation.cross_val_score(\n",
      "clf, X, Y, cv=25)\n",
      "print scores"
     ],
     "language": "python",
     "metadata": {},
     "outputs": [],
     "prompt_number": "*"
    },
    {
     "cell_type": "code",
     "collapsed": false,
     "input": [
      "len(Y)"
     ],
     "language": "python",
     "metadata": {},
     "outputs": [],
     "prompt_number": "*"
    },
    {
     "cell_type": "code",
     "collapsed": false,
     "input": [
      "arr = np.arange(9).reshape((3, 3))\n",
      "print arr\n",
      "#np.random.shuffle(arr)\n",
      "#arr\n",
      "#array([[3, 4, 5],\n",
      "#       [6, 7, 8],\n",
      "#       [0, 1, 2]])"
     ],
     "language": "python",
     "metadata": {},
     "outputs": [
      {
       "output_type": "stream",
       "stream": "stdout",
       "text": [
        "[[0 1 2]\n",
        " [3 4 5]\n",
        " [6 7 8]]\n"
       ]
      }
     ],
     "prompt_number": 397
    },
    {
     "cell_type": "code",
     "collapsed": false,
     "input": [
      "np.random.shuffle(arr)"
     ],
     "language": "python",
     "metadata": {},
     "outputs": [],
     "prompt_number": 398
    },
    {
     "cell_type": "code",
     "collapsed": false,
     "input": [
      "arr"
     ],
     "language": "python",
     "metadata": {},
     "outputs": [
      {
       "metadata": {},
       "output_type": "pyout",
       "prompt_number": 399,
       "text": [
        "array([[0, 1, 2],\n",
        "       [6, 7, 8],\n",
        "       [3, 4, 5]])"
       ]
      }
     ],
     "prompt_number": 399
    },
    {
     "cell_type": "code",
     "collapsed": false,
     "input": [],
     "language": "python",
     "metadata": {},
     "outputs": []
    }
   ],
   "metadata": {}
  }
 ]
}