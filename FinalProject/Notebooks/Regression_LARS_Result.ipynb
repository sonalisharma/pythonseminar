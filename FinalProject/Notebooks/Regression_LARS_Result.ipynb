{
 "metadata": {
  "name": ""
 },
 "nbformat": 3,
 "nbformat_minor": 0,
 "worksheets": [
  {
   "cells": [
    {
     "cell_type": "code",
     "collapsed": false,
     "input": [
      "import numpy as np\n",
      "import math\n",
      "%pylab inline\n",
      "from sklearn import neighbors\n",
      "from sklearn import preprocessing\n"
     ],
     "language": "python",
     "metadata": {},
     "outputs": [
      {
       "output_type": "stream",
       "stream": "stdout",
       "text": [
        "Populating the interactive namespace from numpy and matplotlib\n"
       ]
      }
     ],
     "prompt_number": 31
    },
    {
     "cell_type": "heading",
     "level": 3,
     "metadata": {},
     "source": [
      "Reading the file"
     ]
    },
    {
     "cell_type": "code",
     "collapsed": false,
     "input": [
      "import pandas as pd\n",
      "import numpy as np\n",
      "import matplotlib.pyplot as plt\n",
      "from geopy import geocoders  \n",
      "import json, math"
     ],
     "language": "python",
     "metadata": {},
     "outputs": [],
     "prompt_number": 428
    },
    {
     "cell_type": "code",
     "collapsed": false,
     "input": [
      "filename =\"newdata_1200.csv\""
     ],
     "language": "python",
     "metadata": {},
     "outputs": [],
     "prompt_number": 429
    },
    {
     "cell_type": "code",
     "collapsed": false,
     "input": [
      "data = pd.read_csv(\"//Users/sayantanm/Desktop/sonali/pythonseminar/FinalProject/Notebooks/Data/\"+filename,sep = \"\\t\",header=0)\n",
      "# data = data[data['Category']!='Technology']"
     ],
     "language": "python",
     "metadata": {},
     "outputs": [],
     "prompt_number": 430
    },
    {
     "cell_type": "code",
     "collapsed": false,
     "input": [
      "data['Tech'] = (data['Category'] == \"Technology\").astype(int)"
     ],
     "language": "python",
     "metadata": {},
     "outputs": [],
     "prompt_number": 431
    },
    {
     "cell_type": "raw",
     "metadata": {},
     "source": [
      "Lasso Result: Tech: Count_comment, Count_funder, Start_month, N0_min_perk, No_max_perk, No_med_perk, Tot_perk, recoded_country, \n",
      "Median_by_one, Median_by_goal, Mintotal, Maxtotal, Mediantotal\n",
      "Lasso Result: Non-Tech: Count_update', u'Count_comment', u'Count_funder', u'Count_photo', u'Amount_goal', End_mont', u'Duration, N0_min_perk', \n",
      "u'Max_perk', u'No_max_perk', u'Median_perk', u'No_med_perk', u'Tot_perk', u'FB_like', u'FB_talking', u'You_avg_duratio', \n",
      "u'You_avg_view_count', Maxtotal', u'Mediantotal', u'Min_by_goal', Min_by_one, Median_by_one', u'newtype'\n"
     ]
    },
    {
     "cell_type": "code",
     "collapsed": false,
     "input": [
      "data = data.drop('sno',1)\n",
      "data = data.drop('Title',1)\n",
      "data = data.drop('Headline',1)\n",
      "data = data.drop('ShortDesc',1)\n",
      "data = data.drop('Category',1)\n",
      "# data = data.drop('US',1)\n",
      "data = data.drop('Current',1)\n",
      "data = data.drop('Amount_currency',1)\n",
      "data = data.drop('Distance',1)\n",
      "#Comment after getting correct distance\n",
      "data = data.drop('Location',1)\n",
      "data = data.drop('Tweet_follow',1)\n",
      "data = data.drop('Tweet_status',1)\n",
      "data = data.drop('Start_year',1)\n",
      "data = data.drop('End_year',1)\n",
      "data = data.drop('Start_day',1)\n",
      "data = data.drop('End_day',1)\n",
      "# data = data.drop('Amount_Raised',1)\n",
      "\n",
      "data = data.drop('Time_Left',1)\n",
      "\n",
      "data['Mintotal'] = data['Min_perk']*data['N0_min_perk']\n",
      "data['Maxtotal'] = data['Max_perk']*data['No_max_perk']\n",
      "data['Mediantotal'] = data['Median_perk']*data['No_med_perk']\n",
      "\n",
      "data['Min_by_goal']= data['Mintotal']/data['Amount_goal']\n",
      "data['Max_by_goal']= data['Maxtotal']/data['Amount_goal']\n",
      "data['Median_by_goal']= data['Mediantotal']/data['Amount_goal']\n",
      "\n",
      "data['Min_by_one']= data['Min_perk']/data['Amount_goal']\n",
      "data['Max_by_one']= data['Max_perk']/data['Amount_goal']\n",
      "data['Median_by_one']= data['Median_perk']/data['Amount_goal']"
     ],
     "language": "python",
     "metadata": {},
     "outputs": [],
     "prompt_number": 432
    },
    {
     "cell_type": "code",
     "collapsed": false,
     "input": [
      "data.columns"
     ],
     "language": "python",
     "metadata": {},
     "outputs": [
      {
       "metadata": {},
       "output_type": "pyout",
       "prompt_number": 433,
       "text": [
        "Index([u'County', u'US', u'Count_update', u'Count_comment', u'Count_funder', u'Count_photo', u'Amount_goal', u'Amount_Raised', u'Ratio', u'Type', u'Start_month', u'End_mont', u'Duration', u'Min_perk', u'N0_min_perk', u'Max_perk', u'No_max_perk', u'Median_perk', u'No_med_perk', u'Tot_perk', u'FB_like', u'FB_talking', u'You_avg_duratio', u'You_avg_view_count', u'You_avg_rating', u'Tech', u'Mintotal', u'Maxtotal', u'Mediantotal', u'Min_by_goal', u'Max_by_goal', u'Median_by_goal', u'Min_by_one', u'Max_by_one', u'Median_by_one'], dtype=object)"
       ]
      }
     ],
     "prompt_number": 433
    },
    {
     "cell_type": "code",
     "collapsed": false,
     "input": [
      "def checkus(location):\n",
      "    if (location=='United States'):\n",
      "        return 1\n",
      "    else:\n",
      "        return 0 \n",
      "data['US'] = data['County'].apply(checkus)"
     ],
     "language": "python",
     "metadata": {},
     "outputs": [],
     "prompt_number": 434
    },
    {
     "cell_type": "code",
     "collapsed": false,
     "input": [
      "def changetype(prjtype):\n",
      "    if ('Fixed Funding' in prjtype):\n",
      "        return 1\n",
      "    else:\n",
      "        return 0\n",
      "data['newtype'] = data['Type'].apply(changetype)\n",
      "data = data.drop('Type',1)"
     ],
     "language": "python",
     "metadata": {},
     "outputs": [],
     "prompt_number": 435
    },
    {
     "cell_type": "code",
     "collapsed": false,
     "input": [
      "data = data[data['Ratio']<=1.5]\n",
      "len(data)\n",
      "data = data.drop('Ratio',1)"
     ],
     "language": "python",
     "metadata": {},
     "outputs": [],
     "prompt_number": 436
    },
    {
     "cell_type": "code",
     "collapsed": false,
     "input": [
      "data = data.fillna(0)"
     ],
     "language": "python",
     "metadata": {},
     "outputs": [],
     "prompt_number": 437
    },
    {
     "cell_type": "code",
     "collapsed": false,
     "input": [
      "data['Count_photo'] = data['Count_photo'].fillna(0)\n",
      "data=data.dropna(axis=1,how='all')"
     ],
     "language": "python",
     "metadata": {},
     "outputs": [],
     "prompt_number": 438
    },
    {
     "cell_type": "code",
     "collapsed": false,
     "input": [
      "countries = list(data['County'].unique())\n",
      "def getcountrycode(loc):\n",
      "    return countries.index(loc)  \n",
      "data['recoded_country'] = data['County'].apply(getcountrycode)\n",
      "data = data.drop('County',1)"
     ],
     "language": "python",
     "metadata": {},
     "outputs": [],
     "prompt_number": 439
    },
    {
     "cell_type": "code",
     "collapsed": false,
     "input": [
      "def to_days(dur):\n",
      "    return float(dur)/(3600*24)\n",
      "data['Duration']= data['Duration'].apply(to_days)"
     ],
     "language": "python",
     "metadata": {},
     "outputs": [],
     "prompt_number": 441
    },
    {
     "cell_type": "code",
     "collapsed": false,
     "input": [
      "Y = data['Amount_Raised']\n",
      "data = data.drop('Amount_Raised',1)"
     ],
     "language": "python",
     "metadata": {},
     "outputs": [],
     "prompt_number": 442
    },
    {
     "cell_type": "code",
     "collapsed": false,
     "input": [
      "#X = data[['FB_like','FB_talking','Tweet_follow','Tweet_status','You_avg_duratio','You_avg_view_count','You_avg_rating']].values\n",
      "data.columns"
     ],
     "language": "python",
     "metadata": {},
     "outputs": [
      {
       "metadata": {},
       "output_type": "pyout",
       "prompt_number": 443,
       "text": [
        "Index([u'US', u'Count_update', u'Count_comment', u'Count_funder', u'Count_photo', u'Amount_goal', u'Start_month', u'End_mont', u'Duration', u'Min_perk', u'N0_min_perk', u'Max_perk', u'No_max_perk', u'Median_perk', u'No_med_perk', u'Tot_perk', u'FB_like', u'FB_talking', u'You_avg_duratio', u'You_avg_view_count', u'You_avg_rating', u'Tech', u'Mintotal', u'Maxtotal', u'Mediantotal', u'Min_by_goal', u'Max_by_goal', u'Median_by_goal', u'Min_by_one', u'Max_by_one', u'Median_by_one', u'newtype', u'recoded_country'], dtype=object)"
       ]
      }
     ],
     "prompt_number": 443
    },
    {
     "cell_type": "code",
     "collapsed": false,
     "input": [
      "split = math.floor(float(len(data))*0.7)\n",
      "print split\n",
      "#only social media features\n",
      "d = data.values \n",
      "d_scaled = preprocessing.scale(d)\n",
      "c = np.random.shuffle(d_scaled)\n",
      "d_scaled\n",
      "#X = data[['FB_like','FB_talking','You_avg_duratio','You_avg_view_count','You_avg_rating']].values\n",
      "X = data.values\n",
      "Y_scaled = preprocessing.scale(Y)\n",
      "X_scaled = preprocessing.scale(X)\n",
      "X_train = X_scaled[:split]\n",
      "X_test = X_scaled[split:]\n",
      "Y_train = Y[:split].values\n",
      "Y_test = Y[split:].values\n"
     ],
     "language": "python",
     "metadata": {},
     "outputs": [
      {
       "output_type": "stream",
       "stream": "stdout",
       "text": [
        "1201.0\n"
       ]
      }
     ],
     "prompt_number": 444
    },
    {
     "cell_type": "code",
     "collapsed": false,
     "input": [
      "\n",
      "d = data.values "
     ],
     "language": "python",
     "metadata": {},
     "outputs": [],
     "prompt_number": 445
    },
    {
     "cell_type": "code",
     "collapsed": false,
     "input": [
      "data.head(10)"
     ],
     "language": "python",
     "metadata": {},
     "outputs": [
      {
       "output_type": "stream",
       "stream": "stderr",
       "text": [
        "/Library/Python/2.7/site-packages/pandas/core/config.py:570: DeprecationWarning: height has been deprecated.\n",
        "\n",
        "  warnings.warn(d.msg, DeprecationWarning)\n",
        "/Library/Python/2.7/site-packages/pandas/core/config.py:570: DeprecationWarning: height has been deprecated.\n",
        "\n",
        "  warnings.warn(d.msg, DeprecationWarning)\n",
        "/Library/Python/2.7/site-packages/pandas/core/config.py:570: DeprecationWarning: height has been deprecated.\n",
        "\n",
        "  warnings.warn(d.msg, DeprecationWarning)\n"
       ]
      },
      {
       "html": [
        "<pre>\n",
        "&lt;class 'pandas.core.frame.DataFrame'&gt;\n",
        "Int64Index: 10 entries, 0 to 9\n",
        "Data columns (total 33 columns):\n",
        "US                    10  non-null values\n",
        "Count_update          10  non-null values\n",
        "Count_comment         10  non-null values\n",
        "Count_funder          10  non-null values\n",
        "Count_photo           10  non-null values\n",
        "Amount_goal           10  non-null values\n",
        "Start_month           10  non-null values\n",
        "End_mont              10  non-null values\n",
        "Duration              10  non-null values\n",
        "Min_perk              10  non-null values\n",
        "N0_min_perk           10  non-null values\n",
        "Max_perk              10  non-null values\n",
        "No_max_perk           10  non-null values\n",
        "Median_perk           10  non-null values\n",
        "No_med_perk           10  non-null values\n",
        "Tot_perk              10  non-null values\n",
        "FB_like               10  non-null values\n",
        "FB_talking            10  non-null values\n",
        "You_avg_duratio       10  non-null values\n",
        "You_avg_view_count    10  non-null values\n",
        "You_avg_rating        10  non-null values\n",
        "Tech                  10  non-null values\n",
        "Mintotal              10  non-null values\n",
        "Maxtotal              10  non-null values\n",
        "Mediantotal           10  non-null values\n",
        "Min_by_goal           10  non-null values\n",
        "Max_by_goal           10  non-null values\n",
        "Median_by_goal        10  non-null values\n",
        "Min_by_one            10  non-null values\n",
        "Max_by_one            10  non-null values\n",
        "Median_by_one         10  non-null values\n",
        "newtype               10  non-null values\n",
        "recoded_country       10  non-null values\n",
        "dtypes: float64(9), int64(24)\n",
        "</pre>"
       ],
       "metadata": {},
       "output_type": "pyout",
       "prompt_number": 446,
       "text": [
        "<class 'pandas.core.frame.DataFrame'>\n",
        "Int64Index: 10 entries, 0 to 9\n",
        "Data columns (total 33 columns):\n",
        "US                    10  non-null values\n",
        "Count_update          10  non-null values\n",
        "Count_comment         10  non-null values\n",
        "Count_funder          10  non-null values\n",
        "Count_photo           10  non-null values\n",
        "Amount_goal           10  non-null values\n",
        "Start_month           10  non-null values\n",
        "End_mont              10  non-null values\n",
        "Duration              10  non-null values\n",
        "Min_perk              10  non-null values\n",
        "N0_min_perk           10  non-null values\n",
        "Max_perk              10  non-null values\n",
        "No_max_perk           10  non-null values\n",
        "Median_perk           10  non-null values\n",
        "No_med_perk           10  non-null values\n",
        "Tot_perk              10  non-null values\n",
        "FB_like               10  non-null values\n",
        "FB_talking            10  non-null values\n",
        "You_avg_duratio       10  non-null values\n",
        "You_avg_view_count    10  non-null values\n",
        "You_avg_rating        10  non-null values\n",
        "Tech                  10  non-null values\n",
        "Mintotal              10  non-null values\n",
        "Maxtotal              10  non-null values\n",
        "Mediantotal           10  non-null values\n",
        "Min_by_goal           10  non-null values\n",
        "Max_by_goal           10  non-null values\n",
        "Median_by_goal        10  non-null values\n",
        "Min_by_one            10  non-null values\n",
        "Max_by_one            10  non-null values\n",
        "Median_by_one         10  non-null values\n",
        "newtype               10  non-null values\n",
        "recoded_country       10  non-null values\n",
        "dtypes: float64(9), int64(24)"
       ]
      }
     ],
     "prompt_number": 446
    },
    {
     "cell_type": "code",
     "collapsed": false,
     "input": [
      "import matplotlib.pyplot as plt\n",
      "plt.boxplot(Y)\n",
      "plt.show()"
     ],
     "language": "python",
     "metadata": {},
     "outputs": [
      {
       "metadata": {},
       "output_type": "display_data",
       "png": "[encoded data removed]",
       "text": [
        "<matplotlib.figure.Figure at 0x1066bf950>"
       ]
      }
     ],
     "prompt_number": 447
    },
    {
     "cell_type": "code",
     "collapsed": false,
     "input": [
      "len(Y)"
     ],
     "language": "python",
     "metadata": {},
     "outputs": [
      {
       "metadata": {},
       "output_type": "pyout",
       "prompt_number": 448,
       "text": [
        "1716"
       ]
      }
     ],
     "prompt_number": 448
    },
    {
     "cell_type": "code",
     "collapsed": false,
     "input": [
      "X_train[0]"
     ],
     "language": "python",
     "metadata": {},
     "outputs": [
      {
       "metadata": {},
       "output_type": "pyout",
       "prompt_number": 449,
       "text": [
        "array([ 0.66211072, -0.48658953, -0.27479195, -0.27065543, -0.34983423,\n",
        "       -0.22078491, -0.7145032 , -0.48996266, -0.26998777, -0.186109  ,\n",
        "       -0.22316621, -0.10378818, -0.09953561, -0.26006288, -0.17062777,\n",
        "        0.00437228, -0.03801298, -0.03595105,  0.3469469 , -0.0954085 ,\n",
        "        3.17907304,  0.75117653, -0.06728051, -0.09859332, -0.21674615,\n",
        "        0.        , -0.02414726, -0.32475416,  0.        , -0.09144909,\n",
        "       -0.21705717, -0.38945841, -0.40780462])"
       ]
      }
     ],
     "prompt_number": 449
    },
    {
     "cell_type": "code",
     "collapsed": false,
     "input": [
      "Y_train[0]"
     ],
     "language": "python",
     "metadata": {},
     "outputs": [
      {
       "metadata": {},
       "output_type": "pyout",
       "prompt_number": 450,
       "text": [
        "1400"
       ]
      }
     ],
     "prompt_number": 450
    },
    {
     "cell_type": "code",
     "collapsed": false,
     "input": [
      "subplot(131)\n",
      "scatter(X_train[:,11],Y_train)\n",
      "subplot(132)\n",
      "scatter(X_train[:,10],Y_train)\n",
      "subplot(133)\n",
      "scatter(X_train[:,9],Y_train)"
     ],
     "language": "python",
     "metadata": {},
     "outputs": [
      {
       "metadata": {},
       "output_type": "pyout",
       "prompt_number": 451,
       "text": [
        "<matplotlib.collections.PathCollection at 0x105af5d90>"
       ]
      },
      {
       "metadata": {},
       "output_type": "display_data",
       "png": "[encoded data removed]",
       "text": [
        "<matplotlib.figure.Figure at 0x106768310>"
       ]
      }
     ],
     "prompt_number": 451
    },
    {
     "cell_type": "code",
     "collapsed": false,
     "input": [
      "from sklearn import linear_model\n",
      "clf = linear_model.LarsCV(normalize=True)"
     ],
     "language": "python",
     "metadata": {},
     "outputs": [],
     "prompt_number": 452
    },
    {
     "cell_type": "code",
     "collapsed": false,
     "input": [
      "# fit the model\n",
      "clf.fit(X_train, Y_train)"
     ],
     "language": "python",
     "metadata": {},
     "outputs": [
      {
       "output_type": "stream",
       "stream": "stderr",
       "text": [
        "/Library/Python/2.7/site-packages/sklearn/linear_model/least_angle.py:251: UserWarning: Regressors in active set degenerate. Dropping a regressor, after 30 iterations, i.e. alpha=6.454e-29, with an active set of 30 regressors, and the smallest cholesky pivot element being 2.220e-16\n",
        "  % (n_iter, alpha, n_active, diag))\n"
       ]
      },
      {
       "metadata": {},
       "output_type": "pyout",
       "prompt_number": 453,
       "text": [
        "LarsCV(copy_X=True, cv=None, eps=2.2204460492503131e-16, fit_intercept=True,\n",
        "    max_iter=500, max_n_alphas=1000, n_jobs=1, normalize=True,\n",
        "    precompute='auto', verbose=False)"
       ]
      }
     ],
     "prompt_number": 453
    },
    {
     "cell_type": "code",
     "collapsed": false,
     "input": [
      "clf.coef_"
     ],
     "language": "python",
     "metadata": {},
     "outputs": [
      {
       "metadata": {},
       "output_type": "pyout",
       "prompt_number": 454,
       "text": [
        "array([    0.        ,     0.        ,     0.        ,  7854.74233932,\n",
        "           0.        ,     0.        ,     0.        ,     0.        ,\n",
        "           0.        ,     0.        ,     0.        ,     0.        ,\n",
        "           0.        ,     0.        ,     0.        ,     0.        ,\n",
        "           0.        ,     0.        ,     0.        ,     0.        ,\n",
        "           0.        ,     0.        ,     0.        ,  6090.8357162 ,\n",
        "        6891.71075475,     0.        ,     0.        ,     0.        ,\n",
        "           0.        ,     0.        ,     0.        ,     0.        ,\n",
        "           0.        ])"
       ]
      }
     ],
     "prompt_number": 454
    },
    {
     "cell_type": "code",
     "collapsed": false,
     "input": [
      "data.columns"
     ],
     "language": "python",
     "metadata": {},
     "outputs": [
      {
       "metadata": {},
       "output_type": "pyout",
       "prompt_number": 455,
       "text": [
        "Index([u'US', u'Count_update', u'Count_comment', u'Count_funder', u'Count_photo', u'Amount_goal', u'Start_month', u'End_mont', u'Duration', u'Min_perk', u'N0_min_perk', u'Max_perk', u'No_max_perk', u'Median_perk', u'No_med_perk', u'Tot_perk', u'FB_like', u'FB_talking', u'You_avg_duratio', u'You_avg_view_count', u'You_avg_rating', u'Tech', u'Mintotal', u'Maxtotal', u'Mediantotal', u'Min_by_goal', u'Max_by_goal', u'Median_by_goal', u'Min_by_one', u'Max_by_one', u'Median_by_one', u'newtype', u'recoded_country'], dtype=object)"
       ]
      }
     ],
     "prompt_number": 455
    },
    {
     "cell_type": "code",
     "collapsed": false,
     "input": [
      "# now do the prediction\n",
      "Y_lr_pred = clf.predict(X_test)\n",
      "\n",
      "# how well did we do?\n",
      "from sklearn.metrics import mean_squared_error\n",
      "mse = mean_squared_error(Y_test,Y_lr_pred) ; \n",
      "print mse"
     ],
     "language": "python",
     "metadata": {},
     "outputs": [
      {
       "output_type": "stream",
       "stream": "stdout",
       "text": [
        "30810463.9097\n"
       ]
      }
     ],
     "prompt_number": 456
    },
    {
     "cell_type": "code",
     "collapsed": false,
     "input": [
      "for i in range(len(Y_lr_pred)):\n",
      "   print str(Y_lr_pred[i])+\"---->\"+str(Y_test[i])"
     ],
     "language": "python",
     "metadata": {},
     "outputs": [
      {
       "output_type": "stream",
       "stream": "stdout",
       "text": [
        "7261.38977254---->2100\n",
        "2861.28429674---->2093\n",
        "4174.45201744---->2083\n",
        "2861.28429674---->2075\n",
        "3185.79966091---->2070\n",
        "3852.18708673---->2061\n",
        "2861.28429674---->2051\n",
        "7153.47945108---->2043\n",
        "8092.06930104---->2022\n",
        "1779.56641617---->2020\n",
        "4957.5324759---->2018\n",
        "6001.69994408---->2001\n",
        "1995.90999228---->2000\n",
        "2158.16767437---->2000\n",
        "1022.36389977---->2000\n",
        "1563.22284005---->2000\n",
        "5544.56406742---->1990\n",
        "1617.30873408---->1950\n",
        "5377.11794018---->1945\n",
        "4276.2071122---->1930\n",
        "3821.7287013---->1905\n",
        "3476.72123409---->1900\n",
        "2536.76893257---->1891\n",
        "2552.28916913---->1890\n",
        "2644.94072062---->1880\n",
        "1887.73820422---->1875\n",
        "4820.13412617---->1869\n",
        "7398.78812227---->1859\n",
        "2969.45608479---->1850\n",
        "2049.99588631---->1840\n",
        "2699.02661465---->1825\n",
        "3789.41162198---->1811\n",
        "2807.19840271---->1785\n",
        "2699.02661465---->1775\n",
        "2374.51125048---->1770\n",
        "3767.64280727---->1770\n",
        "3098.11997589---->1760\n",
        "3098.53058381---->1750\n",
        "4383.5127965---->1745\n",
        "2266.33946242---->1740\n",
        "7095.60852094---->1736\n",
        "1400.96515797---->1730\n",
        "1292.79336991---->1725\n",
        "2915.37019077---->1720\n",
        "1617.30873408---->1715\n",
        "4608.56838729---->1710\n",
        "2158.16767437---->1705\n",
        "3293.97144896---->1701\n",
        "3007.97685434---->1700\n",
        "3580.52579283---->1700\n",
        "2798.46394407---->1690\n",
        "3099.35179965---->1687\n",
        "2478.31580922---->1675\n",
        "43524.1342576---->96886\n",
        "42982.8274714---->69518\n",
        "59396.233434---->50239\n",
        "23639.337161---->41520\n",
        "3943.00217731---->32575\n",
        "22818.9791933---->28955\n",
        "34189.1096823---->26195\n",
        "29341.9085608---->24475\n",
        "17641.5141967---->23266\n",
        "22983.5127938---->22210\n",
        "11254.4519338---->20510\n",
        "6925.11676396---->20393\n",
        "17085.8744262---->19319\n",
        "6809.55456082---->18063\n",
        "25327.4224216---->16907\n",
        "20219.1715667---->16292\n",
        "10108.7940966---->16265\n",
        "12420.3034859---->15179\n",
        "7945.35833542---->14872\n",
        "12164.0580696---->14442\n",
        "15246.9540293---->13772\n",
        "7999.44422944---->13357\n",
        "5450.31518315---->13165\n",
        "7999.44422944---->12665\n",
        "22223.0254141---->12248\n",
        "8668.96706083---->11640\n",
        "12214.5979502---->10814\n",
        "16433.0811057---->10693\n",
        "8594.38906376---->10593\n",
        "7458.58528916---->10431\n",
        "14597.9233009---->10406\n",
        "12606.8976726---->10260\n",
        "5078.80595191---->10000\n",
        "12341.0965819---->9745\n",
        "11958.1280944---->9573\n",
        "9521.23967733---->8867\n",
        "7783.10065333---->8604\n",
        "11692.8870694---->8350\n",
        "9081.16211001---->8257\n",
        "10889.5119018---->8165\n",
        "4916.54826982---->8096\n",
        "13143.6505337---->8010\n",
        "5673.75078622---->7835\n",
        "10187.2164952---->7470\n",
        "7891.27244139---->7305\n",
        "6917.72634887---->7270\n",
        "9160.40572454---->7228\n",
        "7486.46780729---->7170\n",
        "3618.48681314---->6950\n",
        "8432.13138167---->6839\n",
        "14856.9302253---->6815\n",
        "4633.01711173---->6720\n",
        "4375.68932953---->6637\n",
        "2690.29215602---->6483\n",
        "7332.68343372---->6425\n",
        "10618.7257824---->6418\n",
        "2753.11250868---->6325\n",
        "9208.48195757---->6320\n",
        "1833.65231019---->6175\n",
        "4592.03290565---->6115\n",
        "8469.74115955---->6040\n",
        "4862.46237579---->6000\n",
        "10277.0981502---->5876\n",
        "11633.6127302---->5828\n",
        "4483.86111759---->5820\n",
        "5836.0084683---->5775\n",
        "5241.06363399---->5626\n",
        "5124.1573873---->5511\n",
        "3780.74449522---->5296\n",
        "12425.0136748---->5151\n",
        "8061.33114648---->5108\n",
        "5756.59652411---->5065\n",
        "3510.31502508---->5050\n",
        "10438.453018---->5020\n",
        "2861.28429674---->4861\n",
        "1833.65231019---->4790\n",
        "10876.4102138---->4690\n",
        "11352.7696592---->4591\n",
        "4754.29058773---->4575\n",
        "5162.50657157---->4540\n",
        "9657.29398352---->4466\n",
        "5158.34459347---->4350\n",
        "3293.97144896---->4243\n",
        "4592.03290565---->4093\n",
        "2915.37019077---->4075\n",
        "7873.80352412---->4055\n",
        "3888.91628328---->4001\n",
        "3344.51132952---->3976\n",
        "5021.1740444---->3935\n",
        "1455.051052---->3895\n",
        "9526.88361832---->3837\n",
        "15443.140601---->3785\n",
        "3922.47640833---->3735\n",
        "5438.72901853---->3676\n",
        "2861.28429674---->3652\n",
        "5186.97773996---->3649\n",
        "3780.74449522---->3623\n",
        "3293.97144896---->3609\n",
        "3726.65860119---->3525\n",
        "5099.29805494---->3511\n",
        "3834.83038925---->3465\n",
        "11820.7297447---->3366\n",
        "4970.63416385---->3340\n",
        "2266.33946242---->3335\n",
        "5024.72005788---->3301\n",
        "2915.37019077---->3285\n",
        "1887.73820422---->3270\n",
        "2533.22291909---->3250\n",
        "19541.2870773---->3150\n",
        "9574.80274366---->3120\n",
        "5851.28978772---->3030\n",
        "3834.83038925---->3010\n",
        "7467.18508405---->3000\n",
        "2428.59714451---->2900\n",
        "3744.83651452---->2851\n",
        "11255.0227995---->2815\n",
        "7129.23597786---->2780\n",
        "3456.22913105---->2776\n",
        "3629.14908356---->2735\n",
        "3131.71376688---->2715\n",
        "4267.51754148---->2696\n",
        "3128.1677534---->2645\n",
        "4033.7050481---->2605\n",
        "6262.98434767---->2570\n",
        "3477.54244993---->2550\n",
        "1941.82409825---->2531\n",
        "3122.97930825---->2510\n",
        "3348.05734299---->2485\n",
        "1779.56641617---->2445\n",
        "3293.97144896---->2439\n",
        "4362.58764158---->2405\n",
        "3077.62787285---->2370\n",
        "7973.24085354---->2350\n",
        "2753.11250868---->2325\n",
        "2807.19840271---->2288\n",
        "5863.89098643---->2250\n",
        "3826.09593062---->2241\n",
        "1725.48052214---->2200\n",
        "6429.00462192---->2106\n",
        "3510.31502508---->2063\n",
        "6030.51589784---->2032\n",
        "6496.1922039---->1977\n",
        "3127.34653756---->1961\n",
        "4391.81420326---->1935\n",
        "4736.82167047---->1900\n",
        "1563.22284005---->1885\n",
        "4371.32210022---->1879\n",
        "5032.93168881---->1810\n",
        "6084.60179186---->1781\n",
        "2807.19840271---->1750\n",
        "2293.62622336---->1720\n",
        "2320.42535645---->1705\n",
        "2482.68303854---->1700\n",
        "5327.39927546---->1676\n",
        "4592.03290565---->10450\n",
        "3418.26811074---->1215\n",
        "1725.48052214---->1190\n",
        "1829.28508088---->1175\n",
        "1563.22284005---->1151\n",
        "1563.22284005---->1125\n",
        "2320.42535645---->1115\n",
        "1887.73820422---->1105\n",
        "2551.37660241---->1085\n",
        "5057.41407918---->1065\n",
        "2329.11492717---->1055\n",
        "1937.45686894---->1050\n",
        "1941.82409825---->1040\n",
        "1967.09403853---->1030\n",
        "2266.33946242---->1025\n",
        "2129.35172061---->1019\n",
        "2291.19879478---->1000\n",
        "1833.65231019---->1000\n",
        "1292.79336991---->965\n",
        "2601.10087811---->965\n",
        "1941.82409825---->955\n",
        "2931.49506449---->925\n",
        "1941.82409825---->920\n",
        "1617.30873408---->902\n",
        "1292.79336991---->878\n",
        "2021.17993256---->875\n",
        "1509.13694602---->870\n",
        "3108.36602741---->870\n",
        "1563.22284005---->860\n",
        "2482.68303854---->850\n",
        "1941.82409825---->821\n",
        "1779.56641617---->810\n",
        "3659.47101921---->805\n",
        "1887.73820422---->800\n",
        "1563.22284005---->786\n",
        "3226.78386699---->785\n",
        "1725.48052214---->780\n",
        "2965.06641152---->760\n",
        "1617.30873408---->759\n",
        "1779.56641617---->746\n",
        "2316.05812713---->740\n",
        "1238.70747588---->735\n",
        "1509.13694602---->735\n",
        "1725.48052214---->731\n",
        "1671.39462811---->730\n",
        "1292.79336991---->712\n",
        "1779.56641617---->710\n",
        "2493.23140863---->705\n",
        "1238.70747588---->675\n",
        "1725.48052214---->670\n",
        "1725.48052214---->668\n",
        "2769.2373824---->650\n",
        "2644.94072062---->648\n",
        "2719.51871769---->630\n",
        "1455.051052---->625\n",
        "1725.48052214---->622\n",
        "1292.79336991---->618\n",
        "2857.78602449---->615\n",
        "1563.22284005---->610\n",
        "3630.24445754---->600\n",
        "1238.70747588---->600\n",
        "1617.30873408---->600\n",
        "1897.98425574---->595\n",
        "2438.84319603---->580\n",
        "5634.28352836---->576\n",
        "1130.53568782---->575\n",
        "2207.88633908---->568\n",
        "2070.92104123---->560\n",
        "1833.65231019---->555\n",
        "1076.4497938---->550\n",
        "1076.4497938---->540\n",
        "2207.88633908---->536\n",
        "1847.78331852---->533\n",
        "2281.25506184---->525\n",
        "1617.30873408---->525\n",
        "1144.17906829---->520\n",
        "3118.61207893---->520\n",
        "3172.69797296---->510\n",
        "1821.416726---->505\n",
        "1184.62158185---->500\n",
        "1292.79336991---->500\n",
        "43524.1342576---->96886\n",
        "42982.8274714---->69518\n",
        "59396.233434---->50239\n",
        "23693.423055---->42020\n",
        "3943.00217731---->32575\n",
        "22818.9791933---->28955\n",
        "34189.1096823---->26195\n",
        "29341.9085608---->24475\n",
        "17641.5141967---->23266\n",
        "22983.5127938---->22210\n",
        "11254.4519338---->20510\n",
        "6925.11676396---->20393\n",
        "17085.8744262---->19319\n",
        "6809.55456082---->18063\n",
        "25327.4224216---->16907\n",
        "20219.1715667---->16292\n",
        "10108.7940966---->16265\n",
        "12420.3034859---->15179\n",
        "7945.35833542---->14872\n",
        "12164.0580696---->14442\n",
        "15246.9540293---->13772\n",
        "7999.44422944---->13357\n",
        "5450.31518315---->13165\n",
        "7999.44422944---->12665\n",
        "22223.0254141---->12248\n",
        "8668.96706083---->11640\n",
        "12214.5979502---->10814\n",
        "16433.0811057---->10693\n",
        "8594.38906376---->10593\n",
        "7458.58528916---->10431\n",
        "14597.9233009---->10406\n",
        "12606.8976726---->10260\n",
        "5078.80595191---->10000\n",
        "12341.0965819---->9745\n",
        "11958.1280944---->9573\n",
        "9521.23967733---->8867\n",
        "7783.10065333---->8604\n",
        "11692.8870694---->8350\n",
        "9081.16211001---->8257\n",
        "17641.5141967---->23266\n",
        "22983.5127938---->22210\n",
        "11254.4519338---->20510\n",
        "6925.11676396---->20393\n",
        "17085.8744262---->19319\n",
        "6809.55456082---->18063\n",
        "25327.4224216---->16907\n",
        "20219.1715667---->16292\n",
        "10108.7940966---->16265\n",
        "12420.3034859---->15179\n",
        "7945.35833542---->14872\n",
        "12164.0580696---->14442\n",
        "15246.9540293---->13772\n",
        "7999.44422944---->13357\n",
        "5450.31518315---->13165\n",
        "7999.44422944---->12665\n",
        "22223.0254141---->12248\n",
        "8668.96706083---->11640\n",
        "12214.5979502---->10814\n",
        "16433.0811057---->10693\n",
        "8594.38906376---->10593\n",
        "7458.58528916---->10431\n",
        "14597.9233009---->10406\n",
        "12606.8976726---->10260\n",
        "5078.80595191---->10000\n",
        "12341.0965819---->9745\n",
        "11958.1280944---->9573\n",
        "9521.23967733---->8867\n",
        "7783.10065333---->8604\n",
        "11692.8870694---->8350\n",
        "9081.16211001---->8257\n",
        "3510.31502508---->5050\n",
        "10438.453018---->5020\n",
        "2861.28429674---->4861\n",
        "1833.65231019---->4790\n",
        "10876.4102138---->4690\n",
        "11352.7696592---->4591\n",
        "4754.29058773---->4575\n",
        "5162.50657157---->4540\n",
        "9657.29398352---->4466\n",
        "5158.34459347---->4350\n",
        "3348.05734299---->4293\n",
        "4592.03290565---->4093\n",
        "2915.37019077---->4075\n",
        "7873.80352412---->4055\n",
        "3888.91628328---->4001\n",
        "3344.51132952---->3976\n",
        "5021.1740444---->3935\n",
        "1455.051052---->3895\n",
        "9526.88361832---->3837\n",
        "15443.140601---->3785\n",
        "3922.47640833---->3735\n",
        "5438.72901853---->3676\n",
        "2861.28429674---->3652\n",
        "5186.97773996---->3649\n",
        "3780.74449522---->3623\n",
        "3293.97144896---->3609\n",
        "3726.65860119---->3525\n",
        "5099.29805494---->3511\n",
        "3834.83038925---->3465\n",
        "11820.7297447---->3366\n",
        "4970.63416385---->3340\n",
        "2266.33946242---->3335\n",
        "5024.72005788---->3301\n",
        "2915.37019077---->3285\n",
        "1887.73820422---->3270\n",
        "2533.22291909---->3250\n",
        "19541.2870773---->3150\n",
        "9574.80274366---->3120\n",
        "5851.28978772---->3030\n",
        "3834.83038925---->3010\n",
        "7467.18508405---->3000\n",
        "2428.59714451---->2900\n",
        "3744.83651452---->2851\n",
        "11255.0227995---->2815\n",
        "7129.23597786---->2780\n",
        "3456.22913105---->2776\n",
        "3629.14908356---->2735\n",
        "3131.71376688---->2715\n",
        "4267.51754148---->2696\n",
        "3128.1677534---->2645\n",
        "4033.7050481---->2605\n",
        "6262.98434767---->2570\n",
        "3477.54244993---->2550\n",
        "1941.82409825---->2531\n",
        "3122.97930825---->2510\n",
        "3348.05734299---->2485\n",
        "1779.56641617---->2445\n",
        "3293.97144896---->2439\n",
        "4362.58764158---->2405\n",
        "3077.62787285---->2370\n",
        "7973.24085354---->2350\n",
        "2753.11250868---->2325\n",
        "2807.19840271---->2288\n",
        "5863.89098643---->2250\n",
        "3826.09593062---->2241\n",
        "1725.48052214---->2200\n",
        "6429.00462192---->2106\n",
        "3510.31502508---->2063\n",
        "6030.51589784---->2032\n",
        "6496.1922039---->1977\n",
        "3127.34653756---->1961\n",
        "4391.81420326---->1935\n",
        "4736.82167047---->1900\n",
        "1563.22284005---->1885\n",
        "4371.32210022---->1879\n",
        "5032.93168881---->1810\n",
        "6084.60179186---->1781\n",
        "2807.19840271---->1750\n",
        "2293.62622336---->1720\n",
        "2320.42535645---->1705\n",
        "2482.68303854---->1700\n",
        "5327.39927546---->1676\n",
        "1617.30873408---->1670\n",
        "1455.051052---->1665\n",
        "4147.06528131---->1650\n",
        "3497.21333713---->1625\n",
        "2695.48060117---->1582\n",
        "2807.19840271---->1567\n",
        "2428.59714451---->1560\n",
        "2333.06032659---->1550\n",
        "3456.22913105---->1523\n",
        "2807.19840271---->1505\n",
        "5381.48516949---->1475\n",
        "1671.39462811---->1460\n",
        "3152.20586992---->1420\n",
        "1400.96515797---->1400\n",
        "4657.87644408---->1390\n",
        "3418.26811074---->1387\n",
        "2767.73114485---->1380\n",
        "3707.67809104---->1368\n",
        "4457.0619845---->1351\n",
        "2861.28429674---->1350\n",
        "2374.51125048---->1342\n",
        "2852.5498381---->1325\n",
        "2931.30103525---->1315\n",
        "1833.65231019---->1285\n",
        "1509.13694602---->1270\n",
        "5593.46151629---->1250\n",
        "2590.85482659---->1245\n",
        "3626.75455396---->1230\n",
        "2611.34692963---->1230\n",
        "3418.26811074---->1215\n",
        "1725.48052214---->1190\n",
        "1829.28508088---->1175\n",
        "1563.22284005---->1151\n",
        "1563.22284005---->1125\n",
        "2320.42535645---->1115\n",
        "1887.73820422---->1105\n",
        "2551.37660241---->1085\n",
        "5057.41407918---->1065\n",
        "2329.11492717---->1055\n",
        "1937.45686894---->1050\n",
        "1941.82409825---->1040\n",
        "1967.09403853---->1030\n",
        "2266.33946242---->1025\n",
        "2129.35172061---->1019\n",
        "2291.19879478---->1000\n",
        "1833.65231019---->1000\n",
        "1292.79336991---->965\n",
        "2601.10087811---->965\n",
        "1941.82409825---->955\n",
        "2931.49506449---->925\n",
        "1941.82409825---->920\n",
        "1617.30873408---->902\n",
        "1292.79336991---->878\n",
        "2021.17993256---->875\n",
        "1509.13694602---->870\n",
        "3108.36602741---->870\n",
        "1563.22284005---->860\n",
        "2482.68303854---->850\n",
        "1941.82409825---->821\n",
        "1779.56641617---->810\n",
        "3659.47101921---->805\n",
        "1887.73820422---->800\n",
        "1563.22284005---->786\n",
        "3226.78386699---->785\n",
        "1725.48052214---->780\n",
        "2965.06641152---->760\n",
        "1617.30873408---->759\n",
        "1779.56641617---->746\n",
        "2316.05812713---->740\n",
        "1238.70747588---->735\n",
        "1509.13694602---->735\n",
        "1725.48052214---->731\n",
        "1671.39462811---->730\n",
        "1292.79336991---->712\n",
        "1779.56641617---->710\n"
       ]
      }
     ],
     "prompt_number": 457
    },
    {
     "cell_type": "code",
     "collapsed": false,
     "input": [
      "plot(Y_test,Y_lr_pred,'o')\n",
      "title(\"Linear Regression Residuals - MSE = %.1f\" % mse)\n",
      "xlabel(\"True Median Project Goal\")\n",
      "ylabel(\"Residual\")\n",
      "hlines(0,min(Y_test),max(Y_test),color=\"red\")"
     ],
     "language": "python",
     "metadata": {},
     "outputs": [
      {
       "metadata": {},
       "output_type": "pyout",
       "prompt_number": 458,
       "text": [
        "<matplotlib.collections.LineCollection at 0x105b1ee90>"
       ]
      },
      {
       "metadata": {},
       "output_type": "display_data",
       "png": "[encoded data removed]",
       "text": [
        "<matplotlib.figure.Figure at 0x1066b24d0>"
       ]
      }
     ],
     "prompt_number": 458
    },
    {
     "cell_type": "code",
     "collapsed": false,
     "input": [
      "#boston = datasets.load_boston() ; X = boston['data'] ; Y = boston['target']\n",
      "from sklearn import cross_validation\n",
      "from sklearn import linear_model\n",
      "clf = linear_model.LarsCV(normalize=True)\n",
      "from sklearn.cross_validation import cross_val_score\n",
      "\n",
      "def print_cv_score_summary(model, xx, yy, cv):\n",
      "    scores = cross_val_score(model, xx, yy, cv=cv, n_jobs=1)\n",
      "    print(\"mean: {:3f}, stdev: {:3f}\".format(\n",
      "        np.mean(scores), np.std(scores)))"
     ],
     "language": "python",
     "metadata": {},
     "outputs": [],
     "prompt_number": 459
    },
    {
     "cell_type": "code",
     "collapsed": false,
     "input": [
      "# print_cv_score_summary(clf,X,Y,cv=cross_validation.KFold(len(Y), 20))\n",
      "\n",
      "#print_cv_score_summary(clf,X,Y,cv=150)"
     ],
     "language": "python",
     "metadata": {},
     "outputs": [],
     "prompt_number": 460
    },
    {
     "cell_type": "code",
     "collapsed": false,
     "input": [
      "print_cv_score_summary(clf,X,Y,\n",
      "    cv=cross_validation.KFold(len(Y),30,shuffle=True,random_state=1))"
     ],
     "language": "python",
     "metadata": {},
     "outputs": [
      {
       "output_type": "stream",
       "stream": "stdout",
       "text": [
        "mean: 0.511707, stdev: 0.653569\n"
       ]
      }
     ],
     "prompt_number": 461
    },
    {
     "cell_type": "code",
     "collapsed": false,
     "input": [
      "min(Y_lr_pred)"
     ],
     "language": "python",
     "metadata": {},
     "outputs": [
      {
       "metadata": {},
       "output_type": "pyout",
       "prompt_number": 462,
       "text": [
        "1022.3638997674016"
       ]
      }
     ],
     "prompt_number": 462
    },
    {
     "cell_type": "raw",
     "metadata": {},
     "source": [
      "LARS-CV Result against Ratio\n",
      "http://en.wikipedia.org/wiki/Least-angle_regression\n",
      "Condition: Ratio<1.5\n",
      "Count_funder, Median_by_one, Median_by_Goal\n",
      "mean: 0.308300, stdev: 0.159430\n",
      "MSE: 0.154263173774"
     ]
    },
    {
     "cell_type": "raw",
     "metadata": {},
     "source": [
      "LARS-CV Result against Amount_Raised\n",
      "http://en.wikipedia.org/wiki/Least-angle_regression\n",
      "Condition: Ratio<1.5\n",
      "Count_photo, Maxtotal, Mediantotal\n",
      "mean: 0.511707, stdev: 0.653569"
     ]
    },
    {
     "cell_type": "code",
     "collapsed": false,
     "input": [],
     "language": "python",
     "metadata": {},
     "outputs": []
    },
    {
     "cell_type": "code",
     "collapsed": false,
     "input": [],
     "language": "python",
     "metadata": {},
     "outputs": []
    },
    {
     "cell_type": "code",
     "collapsed": false,
     "input": [],
     "language": "python",
     "metadata": {},
     "outputs": []
    },
    {
     "cell_type": "code",
     "collapsed": false,
     "input": [],
     "language": "python",
     "metadata": {},
     "outputs": []
    },
    {
     "cell_type": "code",
     "collapsed": false,
     "input": [
      "from sklearn import neighbors\n",
      "from sklearn import preprocessing\n",
      "#X_scaled = preprocessing.scale(X) # many methods work better on scaled X\n",
      "clf1 = neighbors.KNeighborsRegressor(5)\n",
      "#train_X = X_scaled[:half]\n",
      "#test_X = X_scaled[half:]\n",
      "clf1.fit(X_train,Y_train)"
     ],
     "language": "python",
     "metadata": {},
     "outputs": [
      {
       "metadata": {},
       "output_type": "pyout",
       "prompt_number": 375,
       "text": [
        "KNeighborsRegressor(algorithm='auto', leaf_size=30, metric='minkowski',\n",
        "          n_neighbors=5, p=2, weights='uniform')"
       ]
      }
     ],
     "prompt_number": 375
    },
    {
     "cell_type": "code",
     "collapsed": false,
     "input": [
      "Y_knn_pred = clf1.predict(X_test)\n",
      "mse = mean_squared_error(Y_test,Y_knn_pred) ; print mse\n",
      "plot(Y_test, Y_knn_pred - Y_test,'o')\n",
      "title(\"k-NN Residuals - MSE = %.1f\" % mse)\n",
      "xlabel(\"True Median House Price ($1,000)\")\n",
      "ylabel(\"Residual\")\n",
      "hlines(0,min(Y_test),max(Y_test),color=\"red\")"
     ],
     "language": "python",
     "metadata": {},
     "outputs": [
      {
       "output_type": "stream",
       "stream": "stdout",
       "text": [
        "3653909.13275\n"
       ]
      },
      {
       "metadata": {},
       "output_type": "pyout",
       "prompt_number": 377,
       "text": [
        "<matplotlib.collections.LineCollection at 0x10aa18ad0>"
       ]
      },
      {
       "metadata": {},
       "output_type": "display_data",
       "png": "[encoded data removed]",
       "text": [
        "<matplotlib.figure.Figure at 0x10aa0dd10>"
       ]
      }
     ],
     "prompt_number": 377
    },
    {
     "cell_type": "code",
     "collapsed": false,
     "input": [],
     "language": "python",
     "metadata": {},
     "outputs": []
    },
    {
     "cell_type": "code",
     "collapsed": false,
     "input": [],
     "language": "python",
     "metadata": {},
     "outputs": []
    },
    {
     "cell_type": "code",
     "collapsed": false,
     "input": [],
     "language": "python",
     "metadata": {},
     "outputs": []
    },
    {
     "cell_type": "code",
     "collapsed": false,
     "input": [],
     "language": "python",
     "metadata": {},
     "outputs": []
    },
    {
     "cell_type": "code",
     "collapsed": false,
     "input": [],
     "language": "python",
     "metadata": {},
     "outputs": []
    },
    {
     "cell_type": "code",
     "collapsed": false,
     "input": [],
     "language": "python",
     "metadata": {},
     "outputs": []
    },
    {
     "cell_type": "code",
     "collapsed": false,
     "input": [
      "#loc = data['Location'].unique()\n",
      "\n",
      "#loclist = [(l) for l in loc]\n",
      "#loclist = list(set(newloc))\n",
      "#loclist[1]\n",
      "#locdict={}"
     ],
     "language": "python",
     "metadata": {},
     "outputs": [],
     "prompt_number": 244
    },
    {
     "cell_type": "code",
     "collapsed": false,
     "input": [],
     "language": "python",
     "metadata": {},
     "outputs": [],
     "prompt_number": 34
    },
    {
     "cell_type": "code",
     "collapsed": false,
     "input": [
      "import urllib, json\n",
      "import pprint\n",
      "invalid = []\n",
      "locdict={}\n",
      "for locname in loclist[1:]:\n",
      "    url2 = \"http://maps.googleapis.com/maps/api/geocode/json?address={}&sensor=false\".format(str(locname))\n",
      "    #print url2\n",
      "    googleResponse = urllib.urlopen(url2)\n",
      "    jsonResponse = json.loads(googleResponse.read())\n",
      "    try:\n",
      "        locdict[locname] = [jsonResponse['results'][0]['geometry']['location']['lat'],\n",
      "                        jsonResponse['results'][0]['geometry']['location']['lng']]\n",
      "    except:\n",
      "        locdict[locname] = 'Not found'\n",
      "        invalid.append(url2)\n",
      "locdict"
     ],
     "language": "python",
     "metadata": {},
     "outputs": []
    },
    {
     "cell_type": "code",
     "collapsed": false,
     "input": [
      "for i in invalid:\n",
      "    url2 = i\n",
      "    #print url2\n",
      "    googleResponse = urllib.urlopen(url2)\n",
      "    jsonResponse = json.loads(googleResponse.read())\n",
      "    try:\n",
      "        locdict[i] = jsonResponse['results'][0]['geometry']['location']['lng']\n",
      "    except:\n",
      "        print i\n"
     ],
     "language": "python",
     "metadata": {},
     "outputs": []
    },
    {
     "cell_type": "code",
     "collapsed": false,
     "input": [
      "googleResponse = urllib.urlopen(invalid[0])\n",
      "jsonResponse = json.loads(googleResponse.read())\n",
      "print jsonResponse #['results'][0]['geometry']['location']['lng']"
     ],
     "language": "python",
     "metadata": {},
     "outputs": []
    },
    {
     "cell_type": "code",
     "collapsed": false,
     "input": [
      "locdict"
     ],
     "language": "python",
     "metadata": {},
     "outputs": []
    },
    {
     "cell_type": "code",
     "collapsed": false,
     "input": [
      "unique = {}\n",
      "l = map(getgeo,uniqueloc)\n"
     ],
     "language": "python",
     "metadata": {},
     "outputs": []
    },
    {
     "cell_type": "code",
     "collapsed": false,
     "input": [
      "def getgeo(location):\n",
      "    g = geocoders.GoogleV3() \n",
      "    if location is None:\n",
      "        return \"%s: %.5f, %.5f\" % (place, 0, 0)  \n",
      "    else:   \n",
      "        place, (lat, lng) = g.geocode(location)  \n",
      "        return (place, lat, lng)   "
     ],
     "language": "python",
     "metadata": {},
     "outputs": []
    },
    {
     "cell_type": "code",
     "collapsed": false,
     "input": [],
     "language": "python",
     "metadata": {},
     "outputs": []
    },
    {
     "cell_type": "code",
     "collapsed": false,
     "input": [
      "g = geocoders.GoogleV3() \n",
      "place, (lat, lng) = g.geocode('Mojave, Paris, Vidulini, Tuzla, United States') \n",
      "print \"%s: %.5f, %.5f\" % (place, lat, lng)   "
     ],
     "language": "python",
     "metadata": {},
     "outputs": []
    },
    {
     "cell_type": "code",
     "collapsed": false,
     "input": [
      "data['geo'] = data['Location'].apply(getgeo)"
     ],
     "language": "python",
     "metadata": {},
     "outputs": []
    },
    {
     "cell_type": "code",
     "collapsed": false,
     "input": [
      "data['goal'] = data['Amount Raised']/data['Target Amount']\n"
     ],
     "language": "python",
     "metadata": {},
     "outputs": []
    },
    {
     "cell_type": "code",
     "collapsed": false,
     "input": [
      "def colorpicker(goal):\n",
      "    c = ''\n",
      "    if goal>=1:\n",
      "        c='g' \n",
      "    elif(goal<1):\n",
      "        c='b'\n",
      "    else:\n",
      "        c='r'\n",
      "    print \"%f:%s\" %(goal,c)\n",
      "    return c\n",
      "    \n",
      "data['color'] = data['goal'].apply(colorpicker)"
     ],
     "language": "python",
     "metadata": {},
     "outputs": []
    },
    {
     "cell_type": "code",
     "collapsed": false,
     "input": [
      "v = (data['color']=='g') & (data['goal'] <1)\n",
      "#len(data)\n",
      "#1281 = 1026 + 254 + 1\n",
      "# & (data['goal'] <1)"
     ],
     "language": "python",
     "metadata": {},
     "outputs": []
    },
    {
     "cell_type": "code",
     "collapsed": false,
     "input": [
      "data['color']"
     ],
     "language": "python",
     "metadata": {},
     "outputs": []
    },
    {
     "cell_type": "code",
     "collapsed": false,
     "input": [
      "import re\n",
      "def getfounders(f):\n",
      "    l=[]\n",
      "    for m in re.finditer( '],', f ):\n",
      "        l.append(m.start())\n",
      "    return len(l)\n",
      "    \n",
      "\"\"\"\n",
      ">> import re\n",
      ">>> text = \"Allowed Hello Hollow\"\n",
      ">>> for m in re.finditer( 'll', text ):\n",
      "...     print( 'll found', m.start(), m.end() )\n",
      "\"\"\""
     ],
     "language": "python",
     "metadata": {},
     "outputs": []
    },
    {
     "cell_type": "code",
     "collapsed": false,
     "input": [
      "data['#founders'] = data['Team Member (Name, URL)'].apply(getfounders)"
     ],
     "language": "python",
     "metadata": {},
     "outputs": []
    },
    {
     "cell_type": "code",
     "collapsed": false,
     "input": [
      "data.head(5)"
     ],
     "language": "python",
     "metadata": {},
     "outputs": []
    },
    {
     "cell_type": "code",
     "collapsed": false,
     "input": [
      "col"
     ],
     "language": "python",
     "metadata": {},
     "outputs": []
    },
    {
     "cell_type": "code",
     "collapsed": false,
     "input": [
      "\n",
      "%matplotlib inline\n",
      "fig,ax1 = plt.subplots(figsize=(12,8))\n",
      "goal = np.float64(data['goal'])\n",
      "duration = np.float64(data['Duration'])\n",
      "col = list(data['color'])\n",
      "ax1.set_title(\"Duration vs. Goal\",fontsize=16)\n",
      "p1 = ax1.scatter(duration,goal ,color='b',label=\"Duration vs. Goal\",linewidth=1.0)\n",
      "ax1.set_xlabel('Duration (days)')\n",
      "ax1.set_ylabel('Goal')\n",
      "ax1.set_ylim([0,3])\n",
      "ax1.set_xlim([-10,200])\n",
      "fig.savefig(\"Frontend/static/img/duration.png\")"
     ],
     "language": "python",
     "metadata": {},
     "outputs": []
    },
    {
     "cell_type": "code",
     "collapsed": false,
     "input": [
      "%matplotlib inline\n",
      "fig,ax1 = plt.subplots(figsize=(12,8))\n",
      "goal = np.float64(data['goal'])\n",
      "funders = np.float64(data['Number of Funders'])\n",
      "ax1.set_title(\"# of Funders vs. Goal\",fontsize=16)\n",
      "p1 = ax1.scatter(funders,goal, color='b',label=\"Duration vs. Goal\",linewidth=2.0,)\n",
      "ax1.set_xlabel('Funders ')\n",
      "ax1.set_ylabel('Goal')\n",
      "ax1.set_ylim([0,3])\n",
      "ax1.set_xlim([-10,200])"
     ],
     "language": "python",
     "metadata": {},
     "outputs": []
    },
    {
     "cell_type": "code",
     "collapsed": false,
     "input": [
      "%matplotlib inline\n",
      "fig,ax1 = plt.subplots(figsize=(12,8))\n",
      "goal = data['goal']\n",
      "sponsers = data['#founders']\n",
      "ax1.set_title(\"# of Sponsors vs. Goal\",fontsize=16)\n",
      "p1 = ax1.scatter(sponsers,goal, color=col,label=\"Sponsers vs. Goal\",linewidth=2.0,)\n",
      "ax1.set_xlabel('Sponsors ')\n",
      "ax1.set_ylabel('Goal')\n",
      "ax1.set_ylim([0,3])\n",
      "ax1.set_xlim([0,30])"
     ],
     "language": "python",
     "metadata": {},
     "outputs": []
    },
    {
     "cell_type": "code",
     "collapsed": false,
     "input": [
      "\n",
      "%matplotlib inline\n",
      "fig,ax1 = plt.subplots(figsize=(12,8))\n",
      "goal = np.float64(data['goal'])\n",
      "eta = np.float64(data['ETA (days)'])\n",
      "ax1.set_title(\"ETA (days) vs. Goal\",fontsize=16)\n",
      "p1 = ax1.scatter(eta,goal, color='b',label=\"ETA (days) vs. Goal\",linewidth=2.0,)\n",
      "ax1.set_xlabel('ETA (days) ')\n",
      "ax1.set_ylabel('Goal')\n",
      "ax1.set_ylim([0,3])\n",
      "ax1.set_xlim([-1,30])\n"
     ],
     "language": "python",
     "metadata": {},
     "outputs": []
    },
    {
     "cell_type": "code",
     "collapsed": false,
     "input": [
      "from itertools import izip\n",
      "for x in imap(,col):\n",
      "    print x\n",
      "\n"
     ],
     "language": "python",
     "metadata": {},
     "outputs": []
    },
    {
     "cell_type": "code",
     "collapsed": false,
     "input": [
      "import numpy as np\n",
      "from sklearn import cross_validation\n",
      "from sklearn import datasets\n",
      "from sklearn import svm\n",
      "clf = svm.SVC(kernel='linear', C=1)\n",
      "scores = cross_validation.cross_val_score(\n",
      "clf, X, Y, cv=25)\n",
      "print scores"
     ],
     "language": "python",
     "metadata": {},
     "outputs": [],
     "prompt_number": "*"
    },
    {
     "cell_type": "code",
     "collapsed": false,
     "input": [
      "len(Y)"
     ],
     "language": "python",
     "metadata": {},
     "outputs": [],
     "prompt_number": "*"
    },
    {
     "cell_type": "code",
     "collapsed": false,
     "input": [
      "arr = np.arange(9).reshape((3, 3))\n",
      "print arr\n",
      "#np.random.shuffle(arr)\n",
      "#arr\n",
      "#array([[3, 4, 5],\n",
      "#       [6, 7, 8],\n",
      "#       [0, 1, 2]])"
     ],
     "language": "python",
     "metadata": {},
     "outputs": [
      {
       "output_type": "stream",
       "stream": "stdout",
       "text": [
        "[[0 1 2]\n",
        " [3 4 5]\n",
        " [6 7 8]]\n"
       ]
      }
     ],
     "prompt_number": 397
    },
    {
     "cell_type": "code",
     "collapsed": false,
     "input": [
      "np.random.shuffle(arr)"
     ],
     "language": "python",
     "metadata": {},
     "outputs": [],
     "prompt_number": 398
    },
    {
     "cell_type": "code",
     "collapsed": false,
     "input": [
      "arr"
     ],
     "language": "python",
     "metadata": {},
     "outputs": [
      {
       "metadata": {},
       "output_type": "pyout",
       "prompt_number": 399,
       "text": [
        "array([[0, 1, 2],\n",
        "       [6, 7, 8],\n",
        "       [3, 4, 5]])"
       ]
      }
     ],
     "prompt_number": 399
    },
    {
     "cell_type": "code",
     "collapsed": false,
     "input": [],
     "language": "python",
     "metadata": {},
     "outputs": []
    }
   ],
   "metadata": {}
  }
 ]
}