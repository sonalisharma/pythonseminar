{
 "metadata": {
  "name": ""
 },
 "nbformat": 3,
 "nbformat_minor": 0,
 "worksheets": [
  {
   "cells": [
    {
     "cell_type": "code",
     "collapsed": false,
     "input": [
      "import numpy as np\n",
      "import math\n",
      "%pylab inline\n",
      "from sklearn import neighbors\n",
      "from sklearn import preprocessing\n"
     ],
     "language": "python",
     "metadata": {},
     "outputs": [
      {
       "output_type": "stream",
       "stream": "stdout",
       "text": [
        "Populating the interactive namespace from numpy and matplotlib\n"
       ]
      }
     ],
     "prompt_number": 31
    },
    {
     "cell_type": "heading",
     "level": 3,
     "metadata": {},
     "source": [
      "Reading the file"
     ]
    },
    {
     "cell_type": "code",
     "collapsed": false,
     "input": [
      "import pandas as pd\n",
      "import numpy as np\n",
      "import matplotlib.pyplot as plt\n",
      "from geopy import geocoders  \n",
      "import json, math"
     ],
     "language": "python",
     "metadata": {},
     "outputs": [],
     "prompt_number": 350
    },
    {
     "cell_type": "code",
     "collapsed": false,
     "input": [
      "filename =\"newdata_1200.csv\""
     ],
     "language": "python",
     "metadata": {},
     "outputs": [],
     "prompt_number": 351
    },
    {
     "cell_type": "code",
     "collapsed": false,
     "input": [
      "data = pd.read_csv(\"//Users/sayantanm/Desktop/sonali/pythonseminar/FinalProject/Notebooks/Data/\"+filename,sep = \"\\t\",header=0)\n",
      "# data = data[data['Category']!='Technology']"
     ],
     "language": "python",
     "metadata": {},
     "outputs": [],
     "prompt_number": 352
    },
    {
     "cell_type": "code",
     "collapsed": false,
     "input": [
      "data['Tech'] = (data['Category'] == \"Technology\").astype(int)"
     ],
     "language": "python",
     "metadata": {},
     "outputs": [],
     "prompt_number": 353
    },
    {
     "cell_type": "raw",
     "metadata": {},
     "source": [
      "Lasso Result: Tech: Count_comment, Count_funder, Start_month, N0_min_perk, No_max_perk, No_med_perk, Tot_perk, recoded_country, \n",
      "Median_by_one, Median_by_goal, Mintotal, Maxtotal, Mediantotal\n",
      "Lasso Result: Non-Tech: Count_update', u'Count_comment', u'Count_funder', u'Count_photo', u'Amount_goal', End_mont', u'Duration, N0_min_perk', \n",
      "u'Max_perk', u'No_max_perk', u'Median_perk', u'No_med_perk', u'Tot_perk', u'FB_like', u'FB_talking', u'You_avg_duratio', \n",
      "u'You_avg_view_count', Maxtotal', u'Mediantotal', u'Min_by_goal', Min_by_one, Median_by_one', u'newtype'\n"
     ]
    },
    {
     "cell_type": "code",
     "collapsed": false,
     "input": [
      "data = data.drop('sno',1)\n",
      "data = data.drop('Title',1)\n",
      "data = data.drop('Headline',1)\n",
      "data = data.drop('ShortDesc',1)\n",
      "data = data.drop('Category',1)\n",
      "# data = data.drop('US',1)\n",
      "data = data.drop('Current',1)\n",
      "data = data.drop('Amount_currency',1)\n",
      "data = data.drop('Distance',1)\n",
      "#Comment after getting correct distance\n",
      "data = data.drop('Location',1)\n",
      "data = data.drop('Tweet_follow',1)\n",
      "data = data.drop('Tweet_status',1)\n",
      "data = data.drop('Start_year',1)\n",
      "data = data.drop('End_year',1)\n",
      "data = data.drop('Start_day',1)\n",
      "data = data.drop('End_day',1)\n",
      "data = data.drop('Amount_Raised',1)\n",
      "\n",
      "data = data.drop('Time_Left',1)\n",
      "\n",
      "data['Mintotal'] = data['Min_perk']*data['N0_min_perk']\n",
      "data['Maxtotal'] = data['Max_perk']*data['No_max_perk']\n",
      "data['Mediantotal'] = data['Median_perk']*data['No_med_perk']\n",
      "\n",
      "data['Min_by_goal']= data['Mintotal']/data['Amount_goal']\n",
      "data['Max_by_goal']= data['Maxtotal']/data['Amount_goal']\n",
      "data['Median_by_goal']= data['Mediantotal']/data['Amount_goal']\n",
      "\n",
      "data['Min_by_one']= data['Min_perk']/data['Amount_goal']\n",
      "data['Max_by_one']= data['Max_perk']/data['Amount_goal']\n",
      "data['Median_by_one']= data['Median_perk']/data['Amount_goal']"
     ],
     "language": "python",
     "metadata": {},
     "outputs": [],
     "prompt_number": 354
    },
    {
     "cell_type": "code",
     "collapsed": false,
     "input": [
      "data.columns"
     ],
     "language": "python",
     "metadata": {},
     "outputs": [
      {
       "metadata": {},
       "output_type": "pyout",
       "prompt_number": 355,
       "text": [
        "Index([u'County', u'US', u'Count_update', u'Count_comment', u'Count_funder', u'Count_photo', u'Amount_goal', u'Ratio', u'Type', u'Start_month', u'End_mont', u'Duration', u'Min_perk', u'N0_min_perk', u'Max_perk', u'No_max_perk', u'Median_perk', u'No_med_perk', u'Tot_perk', u'FB_like', u'FB_talking', u'You_avg_duratio', u'You_avg_view_count', u'You_avg_rating', u'Tech', u'Mintotal', u'Maxtotal', u'Mediantotal', u'Min_by_goal', u'Max_by_goal', u'Median_by_goal', u'Min_by_one', u'Max_by_one', u'Median_by_one'], dtype=object)"
       ]
      }
     ],
     "prompt_number": 355
    },
    {
     "cell_type": "code",
     "collapsed": false,
     "input": [
      "def checkus(location):\n",
      "    if (location=='United States'):\n",
      "        return 1\n",
      "    else:\n",
      "        return 0 \n",
      "data['US'] = data['County'].apply(checkus)"
     ],
     "language": "python",
     "metadata": {},
     "outputs": [],
     "prompt_number": 356
    },
    {
     "cell_type": "code",
     "collapsed": false,
     "input": [
      "def changetype(prjtype):\n",
      "    if ('Fixed Funding' in prjtype):\n",
      "        return 1\n",
      "    else:\n",
      "        return 0\n",
      "data['newtype'] = data['Type'].apply(changetype)\n",
      "data = data.drop('Type',1)"
     ],
     "language": "python",
     "metadata": {},
     "outputs": [],
     "prompt_number": 357
    },
    {
     "cell_type": "code",
     "collapsed": false,
     "input": [
      "data = data[data['Ratio']<=1.5]\n",
      "len(data)\n",
      "# data = data.drop('Ratio',1)"
     ],
     "language": "python",
     "metadata": {},
     "outputs": [
      {
       "metadata": {},
       "output_type": "pyout",
       "prompt_number": 358,
       "text": [
        "1716"
       ]
      }
     ],
     "prompt_number": 358
    },
    {
     "cell_type": "code",
     "collapsed": false,
     "input": [
      "data = data.fillna(0)"
     ],
     "language": "python",
     "metadata": {},
     "outputs": [],
     "prompt_number": 359
    },
    {
     "cell_type": "code",
     "collapsed": false,
     "input": [
      "data['Count_photo'] = data['Count_photo'].fillna(0)\n",
      "data=data.dropna(axis=1,how='all')"
     ],
     "language": "python",
     "metadata": {},
     "outputs": [],
     "prompt_number": 360
    },
    {
     "cell_type": "code",
     "collapsed": false,
     "input": [
      "countries = list(data['County'].unique())\n",
      "def getcountrycode(loc):\n",
      "    return countries.index(loc)  \n",
      "data['recoded_country'] = data['County'].apply(getcountrycode)\n",
      "data = data.drop('County',1)"
     ],
     "language": "python",
     "metadata": {},
     "outputs": [],
     "prompt_number": 361
    },
    {
     "cell_type": "code",
     "collapsed": false,
     "input": [
      "countries"
     ],
     "language": "python",
     "metadata": {},
     "outputs": [
      {
       "metadata": {},
       "output_type": "pyout",
       "prompt_number": 362,
       "text": [
        "['United States',\n",
        " 'Hungary',\n",
        " 'Ca0da',\n",
        " 'Sweden',\n",
        " 'Austria',\n",
        " 'Netherlands',\n",
        " 'United Kingdom',\n",
        " 'Switzerland',\n",
        " 'Slovakia',\n",
        " 'Denmark',\n",
        " 'Australia',\n",
        " 'Germany',\n",
        " 'Malaysia',\n",
        " 'Spain',\n",
        " 0,\n",
        " 'Brazil',\n",
        " 'Taiwan',\n",
        " 'Israel',\n",
        " 'Russia',\n",
        " 'India',\n",
        " 'Ecuador',\n",
        " 'New Zealand',\n",
        " 'Serbia',\n",
        " 'Norway',\n",
        " 'Turkey',\n",
        " 'France',\n",
        " 'British',\n",
        " 'Italy',\n",
        " 'Ukraine',\n",
        " 'Japan',\n",
        " 'Czech Republic',\n",
        " 'Hong Kong',\n",
        " 'Nicaragua',\n",
        " 'Bulgaria',\n",
        " 'Belgium',\n",
        " 'Nepal',\n",
        " 'Singapore',\n",
        " 'Slovenia',\n",
        " 'Poland',\n",
        " 'Argenti0',\n",
        " 'Kyrgyzstan',\n",
        " 'Mexico',\n",
        " 'Peru',\n",
        " 'Chi0',\n",
        " 'Portugal',\n",
        " 'Costa Rica',\n",
        " 'Finland',\n",
        " 'South Africa',\n",
        " 'Republic of Korea',\n",
        " 'Gha0',\n",
        " 'United Arab Emirates',\n",
        " 'Netherlands Antilles',\n",
        " 'Romania',\n",
        " 'Ireland',\n",
        " 'Rwanda',\n",
        " 'Latvia',\n",
        " 'Greece',\n",
        " 'Croatia',\n",
        " 'Armenia',\n",
        " '0uru',\n",
        " 'Zambia',\n",
        " 'Kenya',\n",
        " 'Haiti',\n",
        " 'El Salvador',\n",
        " 'Pa0ma',\n",
        " 'Guatemala',\n",
        " 'Sierra Leone',\n",
        " 'South Korea',\n",
        " 'Uganda',\n",
        " 'United Republic of Tanzania']"
       ]
      }
     ],
     "prompt_number": 362
    },
    {
     "cell_type": "code",
     "collapsed": false,
     "input": [
      "data['recoded_country']"
     ],
     "language": "python",
     "metadata": {},
     "outputs": [
      {
       "metadata": {},
       "output_type": "pyout",
       "prompt_number": 363,
       "text": [
        "0     0\n",
        "1     0\n",
        "2     1\n",
        "3     0\n",
        "4     0\n",
        "5     0\n",
        "6     0\n",
        "7     0\n",
        "8     2\n",
        "9     0\n",
        "10    0\n",
        "11    0\n",
        "12    3\n",
        "13    0\n",
        "14    4\n",
        "...\n",
        "1826     0\n",
        "1827     0\n",
        "1828     0\n",
        "1829     0\n",
        "1830     0\n",
        "1831    14\n",
        "1832     0\n",
        "1833     0\n",
        "1834     0\n",
        "1835     0\n",
        "1836     2\n",
        "1837     0\n",
        "1838     0\n",
        "1839     0\n",
        "1840     0\n",
        "Name: recoded_country, Length: 1716, dtype: int64"
       ]
      }
     ],
     "prompt_number": 363
    },
    {
     "cell_type": "code",
     "collapsed": false,
     "input": [
      "def to_days(dur):\n",
      "    return float(dur)/(3600*24)\n",
      "data['Duration']= data['Duration'].apply(to_days)"
     ],
     "language": "python",
     "metadata": {},
     "outputs": [],
     "prompt_number": 364
    },
    {
     "cell_type": "code",
     "collapsed": false,
     "input": [
      "Y = data['Ratio']\n",
      "data = data.drop('Ratio',1)"
     ],
     "language": "python",
     "metadata": {},
     "outputs": [],
     "prompt_number": 365
    },
    {
     "cell_type": "code",
     "collapsed": false,
     "input": [
      "#X = data[['FB_like','FB_talking','Tweet_follow','Tweet_status','You_avg_duratio','You_avg_view_count','You_avg_rating']].values\n",
      "data.columns"
     ],
     "language": "python",
     "metadata": {},
     "outputs": [
      {
       "metadata": {},
       "output_type": "pyout",
       "prompt_number": 366,
       "text": [
        "Index([u'US', u'Count_update', u'Count_comment', u'Count_funder', u'Count_photo', u'Amount_goal', u'Start_month', u'End_mont', u'Duration', u'Min_perk', u'N0_min_perk', u'Max_perk', u'No_max_perk', u'Median_perk', u'No_med_perk', u'Tot_perk', u'FB_like', u'FB_talking', u'You_avg_duratio', u'You_avg_view_count', u'You_avg_rating', u'Tech', u'Mintotal', u'Maxtotal', u'Mediantotal', u'Min_by_goal', u'Max_by_goal', u'Median_by_goal', u'Min_by_one', u'Max_by_one', u'Median_by_one', u'newtype', u'recoded_country'], dtype=object)"
       ]
      }
     ],
     "prompt_number": 366
    },
    {
     "cell_type": "code",
     "collapsed": false,
     "input": [
      "split = math.floor(float(len(data))*0.7)\n",
      "print split\n",
      "#only social media features\n",
      "d = data.values \n",
      "d_scaled = preprocessing.scale(d)\n",
      "c = np.random.shuffle(d_scaled)\n",
      "d_scaled\n",
      "#X = data[['FB_like','FB_talking','You_avg_duratio','You_avg_view_count','You_avg_rating']].values\n",
      "X = data.values\n",
      "Y_scaled = preprocessing.scale(Y)\n",
      "X_scaled = preprocessing.scale(X)\n",
      "X_train = X_scaled[:split]\n",
      "X_test = X_scaled[split:]\n",
      "Y_train = Y[:split].values\n",
      "Y_test = Y[split:].values\n"
     ],
     "language": "python",
     "metadata": {},
     "outputs": [
      {
       "output_type": "stream",
       "stream": "stdout",
       "text": [
        "1201.0\n"
       ]
      }
     ],
     "prompt_number": 367
    },
    {
     "cell_type": "code",
     "collapsed": false,
     "input": [
      "\n",
      "d = data.values "
     ],
     "language": "python",
     "metadata": {},
     "outputs": [],
     "prompt_number": 368
    },
    {
     "cell_type": "code",
     "collapsed": false,
     "input": [
      "data.head(10)"
     ],
     "language": "python",
     "metadata": {},
     "outputs": [
      {
       "output_type": "stream",
       "stream": "stderr",
       "text": [
        "/Library/Python/2.7/site-packages/pandas/core/config.py:570: DeprecationWarning: height has been deprecated.\n",
        "\n",
        "  warnings.warn(d.msg, DeprecationWarning)\n",
        "/Library/Python/2.7/site-packages/pandas/core/config.py:570: DeprecationWarning: height has been deprecated.\n",
        "\n",
        "  warnings.warn(d.msg, DeprecationWarning)\n",
        "/Library/Python/2.7/site-packages/pandas/core/config.py:570: DeprecationWarning: height has been deprecated.\n",
        "\n",
        "  warnings.warn(d.msg, DeprecationWarning)\n"
       ]
      },
      {
       "html": [
        "<pre>\n",
        "&lt;class 'pandas.core.frame.DataFrame'&gt;\n",
        "Int64Index: 10 entries, 0 to 9\n",
        "Data columns (total 33 columns):\n",
        "US                    10  non-null values\n",
        "Count_update          10  non-null values\n",
        "Count_comment         10  non-null values\n",
        "Count_funder          10  non-null values\n",
        "Count_photo           10  non-null values\n",
        "Amount_goal           10  non-null values\n",
        "Start_month           10  non-null values\n",
        "End_mont              10  non-null values\n",
        "Duration              10  non-null values\n",
        "Min_perk              10  non-null values\n",
        "N0_min_perk           10  non-null values\n",
        "Max_perk              10  non-null values\n",
        "No_max_perk           10  non-null values\n",
        "Median_perk           10  non-null values\n",
        "No_med_perk           10  non-null values\n",
        "Tot_perk              10  non-null values\n",
        "FB_like               10  non-null values\n",
        "FB_talking            10  non-null values\n",
        "You_avg_duratio       10  non-null values\n",
        "You_avg_view_count    10  non-null values\n",
        "You_avg_rating        10  non-null values\n",
        "Tech                  10  non-null values\n",
        "Mintotal              10  non-null values\n",
        "Maxtotal              10  non-null values\n",
        "Mediantotal           10  non-null values\n",
        "Min_by_goal           10  non-null values\n",
        "Max_by_goal           10  non-null values\n",
        "Median_by_goal        10  non-null values\n",
        "Min_by_one            10  non-null values\n",
        "Max_by_one            10  non-null values\n",
        "Median_by_one         10  non-null values\n",
        "newtype               10  non-null values\n",
        "recoded_country       10  non-null values\n",
        "dtypes: float64(9), int64(24)\n",
        "</pre>"
       ],
       "metadata": {},
       "output_type": "pyout",
       "prompt_number": 369,
       "text": [
        "<class 'pandas.core.frame.DataFrame'>\n",
        "Int64Index: 10 entries, 0 to 9\n",
        "Data columns (total 33 columns):\n",
        "US                    10  non-null values\n",
        "Count_update          10  non-null values\n",
        "Count_comment         10  non-null values\n",
        "Count_funder          10  non-null values\n",
        "Count_photo           10  non-null values\n",
        "Amount_goal           10  non-null values\n",
        "Start_month           10  non-null values\n",
        "End_mont              10  non-null values\n",
        "Duration              10  non-null values\n",
        "Min_perk              10  non-null values\n",
        "N0_min_perk           10  non-null values\n",
        "Max_perk              10  non-null values\n",
        "No_max_perk           10  non-null values\n",
        "Median_perk           10  non-null values\n",
        "No_med_perk           10  non-null values\n",
        "Tot_perk              10  non-null values\n",
        "FB_like               10  non-null values\n",
        "FB_talking            10  non-null values\n",
        "You_avg_duratio       10  non-null values\n",
        "You_avg_view_count    10  non-null values\n",
        "You_avg_rating        10  non-null values\n",
        "Tech                  10  non-null values\n",
        "Mintotal              10  non-null values\n",
        "Maxtotal              10  non-null values\n",
        "Mediantotal           10  non-null values\n",
        "Min_by_goal           10  non-null values\n",
        "Max_by_goal           10  non-null values\n",
        "Median_by_goal        10  non-null values\n",
        "Min_by_one            10  non-null values\n",
        "Max_by_one            10  non-null values\n",
        "Median_by_one         10  non-null values\n",
        "newtype               10  non-null values\n",
        "recoded_country       10  non-null values\n",
        "dtypes: float64(9), int64(24)"
       ]
      }
     ],
     "prompt_number": 369
    },
    {
     "cell_type": "code",
     "collapsed": false,
     "input": [
      "import matplotlib.pyplot as plt\n",
      "plt.boxplot(Y)\n",
      "plt.show()"
     ],
     "language": "python",
     "metadata": {},
     "outputs": [
      {
       "metadata": {},
       "output_type": "display_data",
       "png": "[encoded data removed]",
       "text": [
        "<matplotlib.figure.Figure at 0x105e36750>"
       ]
      }
     ],
     "prompt_number": 370
    },
    {
     "cell_type": "code",
     "collapsed": false,
     "input": [
      "len(Y)"
     ],
     "language": "python",
     "metadata": {},
     "outputs": [
      {
       "metadata": {},
       "output_type": "pyout",
       "prompt_number": 371,
       "text": [
        "1716"
       ]
      }
     ],
     "prompt_number": 371
    },
    {
     "cell_type": "code",
     "collapsed": false,
     "input": [
      "X_train[0]"
     ],
     "language": "python",
     "metadata": {},
     "outputs": [
      {
       "metadata": {},
       "output_type": "pyout",
       "prompt_number": 372,
       "text": [
        "array([ 0.66211072, -0.48658953, -0.27479195, -0.27065543, -0.34983423,\n",
        "       -0.22078491, -0.7145032 , -0.48996266, -0.26998777, -0.186109  ,\n",
        "       -0.22316621, -0.10378818, -0.09953561, -0.26006288, -0.17062777,\n",
        "        0.00437228, -0.03801298, -0.03595105,  0.3469469 , -0.0954085 ,\n",
        "        3.17907304,  0.75117653, -0.06728051, -0.09859332, -0.21674615,\n",
        "        0.        , -0.02414726, -0.32475416,  0.        , -0.09144909,\n",
        "       -0.21705717, -0.38945841, -0.40780462])"
       ]
      }
     ],
     "prompt_number": 372
    },
    {
     "cell_type": "code",
     "collapsed": false,
     "input": [
      "Y_train[0]"
     ],
     "language": "python",
     "metadata": {},
     "outputs": [
      {
       "metadata": {},
       "output_type": "pyout",
       "prompt_number": 373,
       "text": [
        "0.14000000000000001"
       ]
      }
     ],
     "prompt_number": 373
    },
    {
     "cell_type": "code",
     "collapsed": false,
     "input": [
      "subplot(131)\n",
      "scatter(X_train[:,11],Y_train)\n",
      "subplot(132)\n",
      "scatter(X_train[:,10],Y_train)\n",
      "subplot(133)\n",
      "scatter(X_train[:,9],Y_train)"
     ],
     "language": "python",
     "metadata": {},
     "outputs": [
      {
       "metadata": {},
       "output_type": "pyout",
       "prompt_number": 374,
       "text": [
        "<matplotlib.collections.PathCollection at 0x105e21190>"
       ]
      },
      {
       "metadata": {},
       "output_type": "display_data",
       "png": "[encoded data removed]",
       "text": [
        "<matplotlib.figure.Figure at 0x107207e10>"
       ]
      }
     ],
     "prompt_number": 374
    },
    {
     "cell_type": "code",
     "collapsed": false,
     "input": [
      "from sklearn import linear_model\n",
      "clf = linear_model.LarsCV(normalize=True)"
     ],
     "language": "python",
     "metadata": {},
     "outputs": [],
     "prompt_number": 413
    },
    {
     "cell_type": "code",
     "collapsed": false,
     "input": [
      "# fit the model\n",
      "clf.fit(X_train, Y_train)"
     ],
     "language": "python",
     "metadata": {},
     "outputs": [
      {
       "metadata": {},
       "output_type": "pyout",
       "prompt_number": 414,
       "text": [
        "LarsCV(copy_X=True, cv=None, eps=2.2204460492503131e-16, fit_intercept=True,\n",
        "    max_iter=500, max_n_alphas=1000, n_jobs=1, normalize=True,\n",
        "    precompute='auto', verbose=False)"
       ]
      }
     ],
     "prompt_number": 414
    },
    {
     "cell_type": "code",
     "collapsed": false,
     "input": [
      "clf.coef_"
     ],
     "language": "python",
     "metadata": {},
     "outputs": [
      {
       "metadata": {},
       "output_type": "pyout",
       "prompt_number": 415,
       "text": [
        "array([ 0.        ,  0.        ,  0.        ,  0.05115653,  0.        ,\n",
        "        0.        ,  0.        ,  0.        ,  0.        ,  0.        ,\n",
        "        0.        ,  0.        ,  0.        ,  0.        ,  0.        ,\n",
        "        0.        ,  0.        ,  0.        ,  0.        ,  0.        ,\n",
        "        0.        ,  0.        ,  0.        ,  0.        ,  0.        ,\n",
        "        0.        ,  0.        ,  0.04762754,  0.        ,  0.        ,\n",
        "        0.02741581,  0.        ,  0.        ])"
       ]
      }
     ],
     "prompt_number": 415
    },
    {
     "cell_type": "code",
     "collapsed": false,
     "input": [
      "data.columns"
     ],
     "language": "python",
     "metadata": {},
     "outputs": [
      {
       "metadata": {},
       "output_type": "pyout",
       "prompt_number": 392,
       "text": [
        "Index([u'US', u'Count_update', u'Count_comment', u'Count_funder', u'Count_photo', u'Amount_goal', u'Start_month', u'End_mont', u'Duration', u'Min_perk', u'N0_min_perk', u'Max_perk', u'No_max_perk', u'Median_perk', u'No_med_perk', u'Tot_perk', u'FB_like', u'FB_talking', u'You_avg_duratio', u'You_avg_view_count', u'You_avg_rating', u'Tech', u'Mintotal', u'Maxtotal', u'Mediantotal', u'Min_by_goal', u'Max_by_goal', u'Median_by_goal', u'Min_by_one', u'Max_by_one', u'Median_by_one', u'newtype', u'recoded_country'], dtype=object)"
       ]
      }
     ],
     "prompt_number": 392
    },
    {
     "cell_type": "code",
     "collapsed": false,
     "input": [
      "# now do the prediction\n",
      "Y_lr_pred = clf.predict(X_test)\n",
      "\n",
      "# how well did we do?\n",
      "from sklearn.metrics import mean_squared_error\n",
      "mse = mean_squared_error(Y_test,Y_lr_pred) ; \n",
      "print mse"
     ],
     "language": "python",
     "metadata": {},
     "outputs": [
      {
       "output_type": "stream",
       "stream": "stdout",
       "text": [
        "0.154263173774\n"
       ]
      }
     ],
     "prompt_number": 416
    },
    {
     "cell_type": "code",
     "collapsed": false,
     "input": [
      "for i in range(len(Y_lr_pred)):\n",
      "   print str(Y_lr_pred[i])+\"---->\"+str(Y_test[i])"
     ],
     "language": "python",
     "metadata": {},
     "outputs": [
      {
       "output_type": "stream",
       "stream": "stdout",
       "text": [
        "0.257840182972---->0.042\n",
        "0.256891605854---->0.276121372\n",
        "0.25286274438---->0.2083\n",
        "0.278384059988---->0.2766666667\n",
        "0.330296243479---->1.035\n",
        "0.256522870822---->0.2061\n",
        "0.242813579128---->0.2051\n",
        "0.45227207381---->1.0215\n",
        "0.556281240626---->1.011\n",
        "0.235768544834---->1.01\n",
        "0.249238998212---->0.0224222222\n",
        "0.502197138704---->1.0005\n",
        "0.250516482015---->0.1\n",
        "0.36628803793---->0.8\n",
        "0.230837020828---->0.16\n",
        "0.238170660925---->0.0119047619\n",
        "0.335310525184---->0.398\n",
        "0.29473697614---->0.4875\n",
        "0.242006496721---->0.0129666667\n",
        "0.257119911273---->0.4825\n",
        "0.32345761437---->0.2721428571\n",
        "0.254162854054---->0.1283783784\n",
        "0.244968526543---->0.1022162162\n",
        "0.347695299444---->0.756\n",
        "0.303652913773---->1.2533333333\n",
        "0.25247976465---->0.1875\n",
        "0.331899537298---->0.4397647059\n",
        "0.2974169425---->0.1032777778\n",
        "0.246852815138---->0.0925\n",
        "0.27238887465---->0.2453333333\n",
        "0.249760182178---->0.1825\n",
        "0.240409680906---->0.0094322917\n",
        "0.291712762449---->0.2746153846\n",
        "0.348468266562---->0.0355\n",
        "0.239643313696---->0.118\n",
        "0.309456337881---->0.354\n",
        "0.25362392547---->0.088\n",
        "0.287654359803---->0.4375\n",
        "0.262309970097---->0.1163333333\n",
        "0.244274382396---->0.116\n",
        "0.784447435976---->1.24\n",
        "0.241306141025---->0.173\n",
        "0.294162573197---->0.2653846154\n",
        "0.269843691487---->1.1466666667\n",
        "0.242915231838---->0.214375\n",
        "0.363982726204---->0.855\n",
        "0.295147076212---->0.2273333333\n",
        "0.245631592846---->0.3402\n",
        "0.252919422041---->0.2125\n",
        "0.245593525337---->0.0261538462\n",
        "0.352425793123---->0.676\n",
        "0.2387510257---->0.08435\n",
        "0.269889419194---->0.2791666667\n",
        "0.400638894123---->0.1488184199\n",
        "0.444356546599---->1.0695076923\n",
        "0.499918797828---->1.00478\n",
        "0.343132080318---->0.692\n",
        "0.256083447573---->1.0858333333\n",
        "0.378213402298---->0.90484375\n",
        "0.453296194861---->1.0478\n",
        "0.390080091033---->1.1052156243\n",
        "0.337720925623---->0.6647428571\n",
        "0.373044152012---->1.1105\n",
        "0.288525980451---->1.3673333333\n",
        "0.281077508079---->1.01965\n",
        "0.337945713756---->0.6439666667\n",
        "0.272696370027---->0.3763125\n",
        "0.396297739682---->1.1271333333\n",
        "0.353161784874---->0.8354871795\n",
        "0.291260275729---->0.1084333333\n",
        "0.291880160289---->1.0119333333\n",
        "0.280593865923---->0.7436\n",
        "0.311671010857---->1.4442\n",
        "0.337060678124---->0.5008\n",
        "0.30295535267---->0.53428\n",
        "0.24881221756---->0.13165\n",
        "0.287393267294---->1.0554166667\n",
        "0.324983938508---->0.24496\n",
        "0.289905852085---->0.582\n",
        "0.300155182936---->0.43256\n",
        "0.346023537789---->1.0693\n",
        "0.28815561908---->1.0593\n",
        "0.278979809029---->0.3477\n",
        "0.332591131541---->1.0406\n",
        "0.325659916757---->1.026\n",
        "0.267927043689---->1.0\n",
        "0.307968660744---->0.3898\n",
        "0.362718785427---->0.9573\n",
        "0.292164513512---->0.35468\n",
        "0.277614735527---->0.1265294118\n",
        "0.356646984148---->1.0\n",
        "0.291325884513---->0.6880833333\n",
        "0.306336648767---->0.40825\n",
        "0.273984384717---->1.0794666667\n",
        "0.299995943603---->0.2288571429\n",
        "0.281139063776---->0.39175\n",
        "0.292286740973---->0.3735\n",
        "0.285177018428---->1.461\n",
        "0.271415191784---->0.1321818182\n",
        "0.281458895019---->0.3614\n",
        "0.294487422795---->0.478\n",
        "0.250235036794---->0.0926666667\n",
        "0.280002553005---->0.06839\n",
        "0.30205135774---->0.1363\n",
        "0.252515373918---->0.168\n",
        "0.261823322218---->0.1896285714\n",
        "0.292864287977---->1.2966\n",
        "0.260635367813---->0.3569444444\n",
        "0.275097481868---->0.1069666667\n",
        "0.251446326924---->0.31625\n",
        "0.310514844342---->0.4213333333\n",
        "0.261131290903---->0.19296875\n",
        "0.27276013645---->1.223\n",
        "0.293022478496---->0.4026666667\n",
        "0.263850250766---->0.6\n",
        "0.286747393465---->0.1958666667\n",
        "0.376611991525---->0.5828\n",
        "0.257649588273---->0.1164\n",
        "0.280684073484---->0.385\n",
        "0.267916684407---->0.3750666667\n",
        "0.279287114281---->0.5511\n",
        "0.250751394249---->0.0407384615\n",
        "0.321752368274---->0.2861666667\n",
        "0.354684369493---->1.0216\n",
        "0.302792080482---->1.013\n",
        "0.258156374973---->0.1683333333\n",
        "0.285952755471---->0.6275\n",
        "0.250816937322---->0.09722\n",
        "0.249055516861---->0.2903030303\n",
        "0.451685415523---->0.7949152542\n",
        "0.311456028659---->0.7651666667\n",
        "0.268481319465---->0.7625\n",
        "0.261328657722---->1.0088888889\n",
        "0.262308431271---->0.0595466667\n",
        "0.292833719255---->0.8365384615\n",
        "0.255235622678---->0.4243\n",
        "0.264312147246---->0.6821666667\n",
        "0.251702746249---->0.163\n",
        "0.292197818121---->0.2703333333\n",
        "0.272855327013---->1.000500125\n",
        "0.293351286699---->0.3976\n",
        "0.25793585821---->0.4142105263\n",
        "0.287010755835---->0.03895\n",
        "0.290829796333---->1.0245660881\n",
        "0.808613087161---->1.2616666667\n",
        "0.263047316091---->0.6225\n",
        "0.257697368195---->0.0919\n",
        "0.24372062639---->0.07304\n",
        "0.268207043437---->1.0010973937\n",
        "0.253337094588---->0.07246\n",
        "0.255892308478---->0.0925384615\n",
        "0.253118232176---->0.17625\n",
        "0.31176933967---->0.7022\n",
        "0.251747790889---->0.09625\n",
        "0.364590110859---->0.3366\n",
        "0.308639636765---->1.0868857794\n",
        "0.243607435879---->0.083375\n",
        "0.271268649602---->0.5078461538\n",
        "0.279544731722---->0.2986363636\n",
        "0.236473048264---->0.218\n",
        "0.243136377262---->0.3421052632\n",
        "0.397530274494---->0.21\n",
        "0.311747693872---->0.208\n",
        "0.285776094701---->0.5891503014\n",
        "0.281167542766---->1.204\n",
        "0.389522632422---->1.0\n",
        "0.242735453801---->0.0156756757\n",
        "0.233951536613---->0.0186391035\n",
        "0.52511988518---->1.126\n",
        "0.446476812119---->1.112\n",
        "0.257336775602---->0.0738690793\n",
        "0.263953843582---->0.547\n",
        "0.247909570282---->0.13575\n",
        "0.261118818789---->0.0770285714\n",
        "0.261929686616---->0.330625\n",
        "0.259156970134---->0.13025\n",
        "0.284629770497---->0.1285\n",
        "0.279038455383---->1.02\n",
        "0.243494765139---->0.063275\n",
        "0.242171919327---->0.0334666667\n",
        "0.249463565514---->0.0216086957\n",
        "0.240037002537---->0.0978\n",
        "0.257757893139---->0.2217272727\n",
        "0.260455910134---->0.12025\n",
        "0.246223425536---->0.1185\n",
        "0.40704798368---->0.5875\n",
        "0.258115792086---->0.2325\n",
        "0.274474760187---->0.2288\n",
        "0.270336805308---->0.09\n",
        "0.245328372384---->0.02988\n",
        "0.254090795571---->0.22\n",
        "0.359374439883---->0.4212\n",
        "0.263047316091---->0.8252\n",
        "0.364687229634---->0.4064\n",
        "0.284033185055---->0.1977\n",
        "0.250724980119---->0.09805\n",
        "0.293290387238---->0.1935\n",
        "0.266431093026---->0.1056259729\n",
        "0.256368773007---->0.47125\n",
        "0.25468755845---->0.07516\n",
        "0.297165599907---->0.2828566964\n",
        "0.279394146789---->0.1187333333\n",
        "0.246166585837---->0.0972222222\n",
        "0.239844302601---->0.2646153846\n",
        "0.250724430829---->0.2435714286\n",
        "0.266119559728---->0.1635716348\n",
        "0.313214565841---->0.1676\n",
        "0.260310468149---->0.6966666667\n",
        "0.254726927262---->0.0433928571\n",
        "0.237283743365---->0.0119\n",
        "0.25625779123---->0.1407185629\n",
        "0.314393119909---->1.151\n",
        "0.236066921057---->0.045\n",
        "0.243025962472---->0.0446\n",
        "0.236473048264---->1.105\n",
        "0.280364608092---->1.085\n",
        "0.607677234838---->1.2529411765\n",
        "0.242971567208---->0.1055\n",
        "0.238679051847---->0.03\n",
        "0.247496444236---->0.416\n",
        "0.250014002647---->0.412\n",
        "0.3189723922---->1.025\n",
        "0.240780725829---->0.1455714286\n",
        "0.243860825879---->0.0666666667\n",
        "0.42286582106---->1.0\n",
        "0.236333179892---->0.04825\n",
        "0.24658839957---->0.0536111111\n",
        "0.242981729358---->0.1469230769\n",
        "0.283779590941---->0.0925\n",
        "0.244828658172---->0.092\n",
        "0.241914812064---->0.0902\n",
        "0.233451970943---->0.0058533333\n",
        "0.242362896169---->0.0875\n",
        "0.307371403033---->0.2175\n",
        "0.24872056538---->0.0435\n",
        "0.24325215819---->0.0573333333\n",
        "0.303119253936---->1.0\n",
        "0.246162551204---->0.04105\n",
        "0.280985257791---->0.2745762712\n",
        "0.280615799551---->0.0805\n",
        "0.245810299489---->0.04\n",
        "0.282379687135---->0.393\n",
        "0.272462213704---->0.0785\n",
        "0.245706325082---->0.1114285714\n",
        "0.282193143719---->0.152\n",
        "0.23471178969---->0.1518\n",
        "0.242171231389---->0.02984\n",
        "0.275515938235---->0.148\n",
        "0.233458657717---->0.0066818182\n",
        "0.234007286261---->0.0588\n",
        "0.248755223442---->0.1462\n",
        "0.239847657796---->0.0503448276\n",
        "0.233398615221---->0.00712\n",
        "0.242438009995---->0.0355\n",
        "0.243386512102---->0.029375\n",
        "0.251648108156---->0.0409090909\n",
        "0.272765298022---->0.067\n",
        "0.248755223442---->0.0668\n",
        "0.25264810196---->0.026\n",
        "0.250297192484---->0.054\n",
        "0.269592403578---->0.126\n",
        "0.239222588072---->0.0108695652\n",
        "0.247342866114---->0.0731764706\n",
        "0.234884953171---->0.0176571429\n",
        "0.468844701587---->1.23\n",
        "0.241029003137---->0.038125\n",
        "0.254507125491---->0.03\n",
        "0.26654613423---->0.1714285714\n",
        "0.45702729506---->1.0\n",
        "0.276618940027---->0.17\n",
        "0.537924890062---->1.16\n",
        "0.278022648515---->0.576\n",
        "0.233320048301---->0.0095833333\n",
        "0.314911079922---->0.2272\n",
        "0.316506630197---->1.12\n",
        "0.260746514067---->0.1707692308\n",
        "0.237858737704---->0.055\n",
        "0.252531561059---->0.0036\n",
        "0.236382608237---->0.0044666667\n",
        "0.240090206678---->0.2000750751\n",
        "0.35818099047---->1.05\n",
        "0.23471178969---->1.05\n",
        "0.231742022483---->0.026\n",
        "0.290019912232---->0.0764705882\n",
        "0.259174235604---->0.034\n",
        "0.313688616479---->0.505\n",
        "0.254925022572---->0.035971223\n",
        "0.236155327488---->0.0066666667\n",
        "0.400638894123---->0.1488184199\n",
        "0.444356546599---->1.0695076923\n",
        "0.499918797828---->1.00478\n",
        "0.343484332033---->0.7003333333\n",
        "0.256083447573---->1.0858333333\n",
        "0.378213402298---->0.90484375\n",
        "0.453296194861---->1.0478\n",
        "0.390080091033---->1.1052156243\n",
        "0.337720925623---->0.6647428571\n",
        "0.373044152012---->1.1105\n",
        "0.288525980451---->1.3673333333\n",
        "0.281077508079---->1.01965\n",
        "0.337945713756---->0.6439666667\n",
        "0.272696370027---->0.3763125\n",
        "0.396297739682---->1.1271333333\n",
        "0.353161784874---->0.8354871795\n",
        "0.291260275729---->0.1084333333\n",
        "0.291880160289---->1.0119333333\n",
        "0.280593865923---->0.7436\n",
        "0.311671010857---->1.4442\n",
        "0.337060678124---->0.5008\n",
        "0.30295535267---->0.53428\n",
        "0.24881221756---->0.13165\n",
        "0.287393267294---->1.0554166667\n",
        "0.324983938508---->0.24496\n",
        "0.289905852085---->0.582\n",
        "0.300155182936---->0.43256\n",
        "0.346023537789---->1.0693\n",
        "0.28815561908---->1.0593\n",
        "0.278979809029---->0.3477\n",
        "0.332591131541---->1.0406\n",
        "0.325659916757---->1.026\n",
        "0.267927043689---->1.0\n",
        "0.307968660744---->0.3898\n",
        "0.362718785427---->0.9573\n",
        "0.292164513512---->0.35468\n",
        "0.277614735527---->0.1265294118\n",
        "0.356646984148---->1.0\n",
        "0.291325884513---->0.6880833333\n",
        "0.337720925623---->0.6647428571\n",
        "0.373044152012---->1.1105\n",
        "0.288525980451---->1.3673333333\n",
        "0.281077508079---->1.01965\n",
        "0.337945713756---->0.6439666667\n",
        "0.272696370027---->0.3763125\n",
        "0.396297739682---->1.1271333333\n",
        "0.353161784874---->0.8354871795\n",
        "0.291260275729---->0.1084333333\n",
        "0.291880160289---->1.0119333333\n",
        "0.280593865923---->0.7436\n",
        "0.311671010857---->1.4442\n",
        "0.337060678124---->0.5008\n",
        "0.30295535267---->0.53428\n",
        "0.24881221756---->0.13165\n",
        "0.287393267294---->1.0554166667\n",
        "0.324983938508---->0.24496\n",
        "0.289905852085---->0.582\n",
        "0.300155182936---->0.43256\n",
        "0.346023537789---->1.0693\n",
        "0.28815561908---->1.0593\n",
        "0.278979809029---->0.3477\n",
        "0.332591131541---->1.0406\n",
        "0.325659916757---->1.026\n",
        "0.267927043689---->1.0\n",
        "0.307968660744---->0.3898\n",
        "0.362718785427---->0.9573\n",
        "0.292164513512---->0.35468\n",
        "0.277614735527---->0.1265294118\n",
        "0.356646984148---->1.0\n",
        "0.291325884513---->0.6880833333\n",
        "0.258156374973---->0.1683333333\n",
        "0.285952755471---->0.6275\n",
        "0.250816937322---->0.09722\n",
        "0.249055516861---->0.2903030303\n",
        "0.451685415523---->0.7949152542\n",
        "0.311456028659---->0.7651666667\n",
        "0.268481319465---->0.7625\n",
        "0.261328657722---->1.0088888889\n",
        "0.262308431271---->0.0595466667\n",
        "0.292833719255---->0.8365384615\n",
        "0.255587874393---->0.4293\n",
        "0.264312147246---->0.6821666667\n",
        "0.251702746249---->0.163\n",
        "0.292197818121---->0.2703333333\n",
        "0.272855327013---->1.000500125\n",
        "0.293351286699---->0.3976\n",
        "0.25793585821---->0.4142105263\n",
        "0.287010755835---->0.03895\n",
        "0.290829796333---->1.0245660881\n",
        "0.808613087161---->1.2616666667\n",
        "0.263047316091---->0.6225\n",
        "0.257697368195---->0.0919\n",
        "0.24372062639---->0.07304\n",
        "0.268207043437---->1.0010973937\n",
        "0.253337094588---->0.07246\n",
        "0.255892308478---->0.0925384615\n",
        "0.253118232176---->0.17625\n",
        "0.31176933967---->0.7022\n",
        "0.251747790889---->0.09625\n",
        "0.364590110859---->0.3366\n",
        "0.308639636765---->1.0868857794\n",
        "0.243607435879---->0.083375\n",
        "0.271268649602---->0.5078461538\n",
        "0.279544731722---->0.2986363636\n",
        "0.236473048264---->0.218\n",
        "0.243136377262---->0.3421052632\n",
        "0.397530274494---->0.21\n",
        "0.311747693872---->0.208\n",
        "0.285776094701---->0.5891503014\n",
        "0.281167542766---->1.204\n",
        "0.389522632422---->1.0\n",
        "0.242735453801---->0.0156756757\n",
        "0.233951536613---->0.0186391035\n",
        "0.52511988518---->1.126\n",
        "0.446476812119---->1.112\n",
        "0.257336775602---->0.0738690793\n",
        "0.263953843582---->0.547\n",
        "0.247909570282---->0.13575\n",
        "0.261118818789---->0.0770285714\n",
        "0.261929686616---->0.330625\n",
        "0.259156970134---->0.13025\n",
        "0.284629770497---->0.1285\n",
        "0.279038455383---->1.02\n",
        "0.243494765139---->0.063275\n",
        "0.242171919327---->0.0334666667\n",
        "0.249463565514---->0.0216086957\n",
        "0.240037002537---->0.0978\n",
        "0.257757893139---->0.2217272727\n",
        "0.260455910134---->0.12025\n",
        "0.246223425536---->0.1185\n",
        "0.40704798368---->0.5875\n",
        "0.258115792086---->0.2325\n",
        "0.274474760187---->0.2288\n",
        "0.270336805308---->0.09\n",
        "0.245328372384---->0.02988\n",
        "0.254090795571---->0.22\n",
        "0.359374439883---->0.4212\n",
        "0.263047316091---->0.8252\n",
        "0.364687229634---->0.4064\n",
        "0.284033185055---->0.1977\n",
        "0.250724980119---->0.09805\n",
        "0.293290387238---->0.1935\n",
        "0.266431093026---->0.1056259729\n",
        "0.256368773007---->0.47125\n",
        "0.25468755845---->0.07516\n",
        "0.297165599907---->0.2828566964\n",
        "0.279394146789---->0.1187333333\n",
        "0.246166585837---->0.0972222222\n",
        "0.239844302601---->0.2646153846\n",
        "0.250724430829---->0.2435714286\n",
        "0.266119559728---->0.1635716348\n",
        "0.313214565841---->0.1676\n",
        "0.268059115496---->0.3479166667\n",
        "0.242547654761---->0.037\n",
        "0.459799447352---->1.246223565\n",
        "0.274223472278---->0.1625\n",
        "0.251775261221---->0.0791\n",
        "0.251691867197---->0.0522333333\n",
        "0.250666709668---->0.0624\n",
        "0.32680825727---->1.2916666667\n",
        "0.256719223592---->0.1015333333\n",
        "0.252465525155---->0.37625\n",
        "0.355124636928---->0.295\n",
        "0.252849281834---->0.1216666667\n",
        "0.251874536653---->0.0946666667\n",
        "0.284117755487---->0.2222222222\n",
        "0.248684509791---->0.0278\n",
        "0.320366227303---->0.2311666667\n",
        "0.245207742228---->0.276\n",
        "0.249783652107---->0.0342\n",
        "0.253764591376---->0.168875\n",
        "0.250816937322---->0.135\n",
        "0.259651709179---->0.1118333333\n",
        "0.255643412634---->0.0926573427\n",
        "0.254736305744---->0.2023076923\n",
        "0.254795299---->0.1285\n",
        "0.242802185374---->0.0697802198\n",
        "0.321208820982---->0.15625\n",
        "0.245816224241---->0.0889285714\n",
        "0.365080080989---->1.025\n",
        "0.254819882699---->0.123\n",
        "0.254726927262---->0.0433928571\n",
        "0.237283743365---->0.0119\n",
        "0.25625779123---->0.1407185629\n",
        "0.314393119909---->1.151\n",
        "0.236066921057---->0.045\n",
        "0.243025962472---->0.0446\n",
        "0.236473048264---->1.105\n",
        "0.280364608092---->1.085\n",
        "0.607677234838---->1.2529411765\n",
        "0.242971567208---->0.1055\n",
        "0.238679051847---->0.03\n",
        "0.247496444236---->0.416\n",
        "0.250014002647---->0.412\n",
        "0.3189723922---->1.025\n",
        "0.240780725829---->0.1455714286\n",
        "0.243860825879---->0.0666666667\n",
        "0.42286582106---->1.0\n",
        "0.236333179892---->0.04825\n",
        "0.24658839957---->0.0536111111\n",
        "0.242981729358---->0.1469230769\n",
        "0.283779590941---->0.0925\n",
        "0.244828658172---->0.092\n",
        "0.241914812064---->0.0902\n",
        "0.233451970943---->0.0058533333\n",
        "0.242362896169---->0.0875\n",
        "0.307371403033---->0.2175\n",
        "0.24872056538---->0.0435\n",
        "0.24325215819---->0.0573333333\n",
        "0.303119253936---->1.0\n",
        "0.246162551204---->0.04105\n",
        "0.280985257791---->0.2745762712\n",
        "0.280615799551---->0.0805\n",
        "0.245810299489---->0.04\n",
        "0.282379687135---->0.393\n",
        "0.272462213704---->0.0785\n",
        "0.245706325082---->0.1114285714\n",
        "0.282193143719---->0.152\n",
        "0.23471178969---->0.1518\n",
        "0.242171231389---->0.02984\n",
        "0.275515938235---->0.148\n",
        "0.233458657717---->0.0066818182\n",
        "0.234007286261---->0.0588\n",
        "0.248755223442---->0.1462\n",
        "0.239847657796---->0.0503448276\n",
        "0.233398615221---->0.00712\n",
        "0.242438009995---->0.0355\n"
       ]
      }
     ],
     "prompt_number": 394
    },
    {
     "cell_type": "code",
     "collapsed": false,
     "input": [
      "plot(Y_test,Y_lr_pred,'o')\n",
      "title(\"Linear Regression Residuals - MSE = %.1f\" % mse)\n",
      "xlabel(\"True Median Project Goal\")\n",
      "ylabel(\"Residual\")\n",
      "hlines(0,min(Y_test),max(Y_test),color=\"red\")"
     ],
     "language": "python",
     "metadata": {},
     "outputs": [
      {
       "metadata": {},
       "output_type": "pyout",
       "prompt_number": 419,
       "text": [
        "<matplotlib.collections.LineCollection at 0x105adc9d0>"
       ]
      },
      {
       "metadata": {},
       "output_type": "display_data",
       "png": "[encoded data removed]",
       "text": [
        "<matplotlib.figure.Figure at 0x105b59850>"
       ]
      }
     ],
     "prompt_number": 419
    },
    {
     "cell_type": "code",
     "collapsed": false,
     "input": [
      "#boston = datasets.load_boston() ; X = boston['data'] ; Y = boston['target']\n",
      "from sklearn import cross_validation\n",
      "from sklearn import linear_model\n",
      "clf = linear_model.LarsCV(normalize=True)\n",
      "from sklearn.cross_validation import cross_val_score\n",
      "\n",
      "def print_cv_score_summary(model, xx, yy, cv):\n",
      "    scores = cross_val_score(model, xx, yy, cv=cv, n_jobs=1)\n",
      "    print(\"mean: {:3f}, stdev: {:3f}\".format(\n",
      "        np.mean(scores), np.std(scores)))"
     ],
     "language": "python",
     "metadata": {},
     "outputs": [],
     "prompt_number": 420
    },
    {
     "cell_type": "code",
     "collapsed": false,
     "input": [
      "# print_cv_score_summary(clf,X,Y,cv=cross_validation.KFold(len(Y), 20))\n",
      "\n",
      "#print_cv_score_summary(clf,X,Y,cv=150)"
     ],
     "language": "python",
     "metadata": {},
     "outputs": [],
     "prompt_number": 427
    },
    {
     "cell_type": "code",
     "collapsed": false,
     "input": [
      "print_cv_score_summary(clf,X,Y,\n",
      "    cv=cross_validation.KFold(len(Y),30,shuffle=True,random_state=1))"
     ],
     "language": "python",
     "metadata": {},
     "outputs": [
      {
       "output_type": "stream",
       "stream": "stdout",
       "text": [
        "mean: 0.308300, stdev: 0.159430\n"
       ]
      }
     ],
     "prompt_number": 426
    },
    {
     "cell_type": "code",
     "collapsed": false,
     "input": [
      "min(Y_lr_pred)"
     ],
     "language": "python",
     "metadata": {},
     "outputs": [
      {
       "metadata": {},
       "output_type": "pyout",
       "prompt_number": 405,
       "text": [
        "0.23083702082842503"
       ]
      }
     ],
     "prompt_number": 405
    },
    {
     "cell_type": "raw",
     "metadata": {},
     "source": [
      "LARS-CV Result against Ratio\n",
      "http://en.wikipedia.org/wiki/Least-angle_regression\n",
      "Condition: Ratio<1.5\n",
      "Count_funder, Median_by_one, Median_by_Goal\n",
      "mean: 0.308300, stdev: 0.159430\n",
      "MSE: 0.154263173774"
     ]
    },
    {
     "cell_type": "code",
     "collapsed": false,
     "input": [],
     "language": "python",
     "metadata": {},
     "outputs": []
    },
    {
     "cell_type": "code",
     "collapsed": false,
     "input": [],
     "language": "python",
     "metadata": {},
     "outputs": []
    },
    {
     "cell_type": "code",
     "collapsed": false,
     "input": [],
     "language": "python",
     "metadata": {},
     "outputs": []
    },
    {
     "cell_type": "code",
     "collapsed": false,
     "input": [],
     "language": "python",
     "metadata": {},
     "outputs": []
    },
    {
     "cell_type": "code",
     "collapsed": false,
     "input": [],
     "language": "python",
     "metadata": {},
     "outputs": []
    },
    {
     "cell_type": "code",
     "collapsed": false,
     "input": [
      "from sklearn import neighbors\n",
      "from sklearn import preprocessing\n",
      "#X_scaled = preprocessing.scale(X) # many methods work better on scaled X\n",
      "clf1 = neighbors.KNeighborsRegressor(5)\n",
      "#train_X = X_scaled[:half]\n",
      "#test_X = X_scaled[half:]\n",
      "clf1.fit(X_train,Y_train)"
     ],
     "language": "python",
     "metadata": {},
     "outputs": [
      {
       "metadata": {},
       "output_type": "pyout",
       "prompt_number": 375,
       "text": [
        "KNeighborsRegressor(algorithm='auto', leaf_size=30, metric='minkowski',\n",
        "          n_neighbors=5, p=2, weights='uniform')"
       ]
      }
     ],
     "prompt_number": 375
    },
    {
     "cell_type": "code",
     "collapsed": false,
     "input": [
      "Y_knn_pred = clf1.predict(X_test)\n",
      "mse = mean_squared_error(Y_test,Y_knn_pred) ; print mse\n",
      "plot(Y_test, Y_knn_pred - Y_test,'o')\n",
      "title(\"k-NN Residuals - MSE = %.1f\" % mse)\n",
      "xlabel(\"True Median House Price ($1,000)\")\n",
      "ylabel(\"Residual\")\n",
      "hlines(0,min(Y_test),max(Y_test),color=\"red\")"
     ],
     "language": "python",
     "metadata": {},
     "outputs": [
      {
       "output_type": "stream",
       "stream": "stdout",
       "text": [
        "3653909.13275\n"
       ]
      },
      {
       "metadata": {},
       "output_type": "pyout",
       "prompt_number": 377,
       "text": [
        "<matplotlib.collections.LineCollection at 0x10aa18ad0>"
       ]
      },
      {
       "metadata": {},
       "output_type": "display_data",
       "png": "[encoded data removed]",
       "text": [
        "<matplotlib.figure.Figure at 0x10aa0dd10>"
       ]
      }
     ],
     "prompt_number": 377
    },
    {
     "cell_type": "code",
     "collapsed": false,
     "input": [],
     "language": "python",
     "metadata": {},
     "outputs": []
    },
    {
     "cell_type": "code",
     "collapsed": false,
     "input": [],
     "language": "python",
     "metadata": {},
     "outputs": []
    },
    {
     "cell_type": "code",
     "collapsed": false,
     "input": [],
     "language": "python",
     "metadata": {},
     "outputs": []
    },
    {
     "cell_type": "code",
     "collapsed": false,
     "input": [],
     "language": "python",
     "metadata": {},
     "outputs": []
    },
    {
     "cell_type": "code",
     "collapsed": false,
     "input": [],
     "language": "python",
     "metadata": {},
     "outputs": []
    },
    {
     "cell_type": "code",
     "collapsed": false,
     "input": [],
     "language": "python",
     "metadata": {},
     "outputs": []
    },
    {
     "cell_type": "code",
     "collapsed": false,
     "input": [
      "#loc = data['Location'].unique()\n",
      "\n",
      "#loclist = [(l) for l in loc]\n",
      "#loclist = list(set(newloc))\n",
      "#loclist[1]\n",
      "#locdict={}"
     ],
     "language": "python",
     "metadata": {},
     "outputs": [],
     "prompt_number": 244
    },
    {
     "cell_type": "code",
     "collapsed": false,
     "input": [],
     "language": "python",
     "metadata": {},
     "outputs": [],
     "prompt_number": 34
    },
    {
     "cell_type": "code",
     "collapsed": false,
     "input": [
      "import urllib, json\n",
      "import pprint\n",
      "invalid = []\n",
      "locdict={}\n",
      "for locname in loclist[1:]:\n",
      "    url2 = \"http://maps.googleapis.com/maps/api/geocode/json?address={}&sensor=false\".format(str(locname))\n",
      "    #print url2\n",
      "    googleResponse = urllib.urlopen(url2)\n",
      "    jsonResponse = json.loads(googleResponse.read())\n",
      "    try:\n",
      "        locdict[locname] = [jsonResponse['results'][0]['geometry']['location']['lat'],\n",
      "                        jsonResponse['results'][0]['geometry']['location']['lng']]\n",
      "    except:\n",
      "        locdict[locname] = 'Not found'\n",
      "        invalid.append(url2)\n",
      "locdict"
     ],
     "language": "python",
     "metadata": {},
     "outputs": []
    },
    {
     "cell_type": "code",
     "collapsed": false,
     "input": [
      "for i in invalid:\n",
      "    url2 = i\n",
      "    #print url2\n",
      "    googleResponse = urllib.urlopen(url2)\n",
      "    jsonResponse = json.loads(googleResponse.read())\n",
      "    try:\n",
      "        locdict[i] = jsonResponse['results'][0]['geometry']['location']['lng']\n",
      "    except:\n",
      "        print i\n"
     ],
     "language": "python",
     "metadata": {},
     "outputs": []
    },
    {
     "cell_type": "code",
     "collapsed": false,
     "input": [
      "googleResponse = urllib.urlopen(invalid[0])\n",
      "jsonResponse = json.loads(googleResponse.read())\n",
      "print jsonResponse #['results'][0]['geometry']['location']['lng']"
     ],
     "language": "python",
     "metadata": {},
     "outputs": []
    },
    {
     "cell_type": "code",
     "collapsed": false,
     "input": [
      "locdict"
     ],
     "language": "python",
     "metadata": {},
     "outputs": []
    },
    {
     "cell_type": "code",
     "collapsed": false,
     "input": [
      "unique = {}\n",
      "l = map(getgeo,uniqueloc)\n"
     ],
     "language": "python",
     "metadata": {},
     "outputs": []
    },
    {
     "cell_type": "code",
     "collapsed": false,
     "input": [
      "def getgeo(location):\n",
      "    g = geocoders.GoogleV3() \n",
      "    if location is None:\n",
      "        return \"%s: %.5f, %.5f\" % (place, 0, 0)  \n",
      "    else:   \n",
      "        place, (lat, lng) = g.geocode(location)  \n",
      "        return (place, lat, lng)   "
     ],
     "language": "python",
     "metadata": {},
     "outputs": []
    },
    {
     "cell_type": "code",
     "collapsed": false,
     "input": [],
     "language": "python",
     "metadata": {},
     "outputs": []
    },
    {
     "cell_type": "code",
     "collapsed": false,
     "input": [
      "g = geocoders.GoogleV3() \n",
      "place, (lat, lng) = g.geocode('Mojave, Paris, Vidulini, Tuzla, United States') \n",
      "print \"%s: %.5f, %.5f\" % (place, lat, lng)   "
     ],
     "language": "python",
     "metadata": {},
     "outputs": []
    },
    {
     "cell_type": "code",
     "collapsed": false,
     "input": [
      "data['geo'] = data['Location'].apply(getgeo)"
     ],
     "language": "python",
     "metadata": {},
     "outputs": []
    },
    {
     "cell_type": "code",
     "collapsed": false,
     "input": [
      "data['goal'] = data['Amount Raised']/data['Target Amount']\n"
     ],
     "language": "python",
     "metadata": {},
     "outputs": []
    },
    {
     "cell_type": "code",
     "collapsed": false,
     "input": [
      "def colorpicker(goal):\n",
      "    c = ''\n",
      "    if goal>=1:\n",
      "        c='g' \n",
      "    elif(goal<1):\n",
      "        c='b'\n",
      "    else:\n",
      "        c='r'\n",
      "    print \"%f:%s\" %(goal,c)\n",
      "    return c\n",
      "    \n",
      "data['color'] = data['goal'].apply(colorpicker)"
     ],
     "language": "python",
     "metadata": {},
     "outputs": []
    },
    {
     "cell_type": "code",
     "collapsed": false,
     "input": [
      "v = (data['color']=='g') & (data['goal'] <1)\n",
      "#len(data)\n",
      "#1281 = 1026 + 254 + 1\n",
      "# & (data['goal'] <1)"
     ],
     "language": "python",
     "metadata": {},
     "outputs": []
    },
    {
     "cell_type": "code",
     "collapsed": false,
     "input": [
      "data['color']"
     ],
     "language": "python",
     "metadata": {},
     "outputs": []
    },
    {
     "cell_type": "code",
     "collapsed": false,
     "input": [
      "import re\n",
      "def getfounders(f):\n",
      "    l=[]\n",
      "    for m in re.finditer( '],', f ):\n",
      "        l.append(m.start())\n",
      "    return len(l)\n",
      "    \n",
      "\"\"\"\n",
      ">> import re\n",
      ">>> text = \"Allowed Hello Hollow\"\n",
      ">>> for m in re.finditer( 'll', text ):\n",
      "...     print( 'll found', m.start(), m.end() )\n",
      "\"\"\""
     ],
     "language": "python",
     "metadata": {},
     "outputs": []
    },
    {
     "cell_type": "code",
     "collapsed": false,
     "input": [
      "data['#founders'] = data['Team Member (Name, URL)'].apply(getfounders)"
     ],
     "language": "python",
     "metadata": {},
     "outputs": []
    },
    {
     "cell_type": "code",
     "collapsed": false,
     "input": [
      "data.head(5)"
     ],
     "language": "python",
     "metadata": {},
     "outputs": []
    },
    {
     "cell_type": "code",
     "collapsed": false,
     "input": [
      "col"
     ],
     "language": "python",
     "metadata": {},
     "outputs": []
    },
    {
     "cell_type": "code",
     "collapsed": false,
     "input": [
      "\n",
      "%matplotlib inline\n",
      "fig,ax1 = plt.subplots(figsize=(12,8))\n",
      "goal = np.float64(data['goal'])\n",
      "duration = np.float64(data['Duration'])\n",
      "col = list(data['color'])\n",
      "ax1.set_title(\"Duration vs. Goal\",fontsize=16)\n",
      "p1 = ax1.scatter(duration,goal ,color='b',label=\"Duration vs. Goal\",linewidth=1.0)\n",
      "ax1.set_xlabel('Duration (days)')\n",
      "ax1.set_ylabel('Goal')\n",
      "ax1.set_ylim([0,3])\n",
      "ax1.set_xlim([-10,200])\n",
      "fig.savefig(\"Frontend/static/img/duration.png\")"
     ],
     "language": "python",
     "metadata": {},
     "outputs": []
    },
    {
     "cell_type": "code",
     "collapsed": false,
     "input": [
      "%matplotlib inline\n",
      "fig,ax1 = plt.subplots(figsize=(12,8))\n",
      "goal = np.float64(data['goal'])\n",
      "funders = np.float64(data['Number of Funders'])\n",
      "ax1.set_title(\"# of Funders vs. Goal\",fontsize=16)\n",
      "p1 = ax1.scatter(funders,goal, color='b',label=\"Duration vs. Goal\",linewidth=2.0,)\n",
      "ax1.set_xlabel('Funders ')\n",
      "ax1.set_ylabel('Goal')\n",
      "ax1.set_ylim([0,3])\n",
      "ax1.set_xlim([-10,200])"
     ],
     "language": "python",
     "metadata": {},
     "outputs": []
    },
    {
     "cell_type": "code",
     "collapsed": false,
     "input": [
      "%matplotlib inline\n",
      "fig,ax1 = plt.subplots(figsize=(12,8))\n",
      "goal = data['goal']\n",
      "sponsers = data['#founders']\n",
      "ax1.set_title(\"# of Sponsors vs. Goal\",fontsize=16)\n",
      "p1 = ax1.scatter(sponsers,goal, color=col,label=\"Sponsers vs. Goal\",linewidth=2.0,)\n",
      "ax1.set_xlabel('Sponsors ')\n",
      "ax1.set_ylabel('Goal')\n",
      "ax1.set_ylim([0,3])\n",
      "ax1.set_xlim([0,30])"
     ],
     "language": "python",
     "metadata": {},
     "outputs": []
    },
    {
     "cell_type": "code",
     "collapsed": false,
     "input": [
      "\n",
      "%matplotlib inline\n",
      "fig,ax1 = plt.subplots(figsize=(12,8))\n",
      "goal = np.float64(data['goal'])\n",
      "eta = np.float64(data['ETA (days)'])\n",
      "ax1.set_title(\"ETA (days) vs. Goal\",fontsize=16)\n",
      "p1 = ax1.scatter(eta,goal, color='b',label=\"ETA (days) vs. Goal\",linewidth=2.0,)\n",
      "ax1.set_xlabel('ETA (days) ')\n",
      "ax1.set_ylabel('Goal')\n",
      "ax1.set_ylim([0,3])\n",
      "ax1.set_xlim([-1,30])\n"
     ],
     "language": "python",
     "metadata": {},
     "outputs": []
    },
    {
     "cell_type": "code",
     "collapsed": false,
     "input": [
      "from itertools import izip\n",
      "for x in imap(,col):\n",
      "    print x\n",
      "\n"
     ],
     "language": "python",
     "metadata": {},
     "outputs": []
    },
    {
     "cell_type": "code",
     "collapsed": false,
     "input": [
      "import numpy as np\n",
      "from sklearn import cross_validation\n",
      "from sklearn import datasets\n",
      "from sklearn import svm\n",
      "clf = svm.SVC(kernel='linear', C=1)\n",
      "scores = cross_validation.cross_val_score(\n",
      "clf, X, Y, cv=25)\n",
      "print scores"
     ],
     "language": "python",
     "metadata": {},
     "outputs": [],
     "prompt_number": "*"
    },
    {
     "cell_type": "code",
     "collapsed": false,
     "input": [
      "len(Y)"
     ],
     "language": "python",
     "metadata": {},
     "outputs": [],
     "prompt_number": "*"
    },
    {
     "cell_type": "code",
     "collapsed": false,
     "input": [
      "arr = np.arange(9).reshape((3, 3))\n",
      "print arr\n",
      "#np.random.shuffle(arr)\n",
      "#arr\n",
      "#array([[3, 4, 5],\n",
      "#       [6, 7, 8],\n",
      "#       [0, 1, 2]])"
     ],
     "language": "python",
     "metadata": {},
     "outputs": [
      {
       "output_type": "stream",
       "stream": "stdout",
       "text": [
        "[[0 1 2]\n",
        " [3 4 5]\n",
        " [6 7 8]]\n"
       ]
      }
     ],
     "prompt_number": 397
    },
    {
     "cell_type": "code",
     "collapsed": false,
     "input": [
      "np.random.shuffle(arr)"
     ],
     "language": "python",
     "metadata": {},
     "outputs": [],
     "prompt_number": 398
    },
    {
     "cell_type": "code",
     "collapsed": false,
     "input": [
      "arr"
     ],
     "language": "python",
     "metadata": {},
     "outputs": [
      {
       "metadata": {},
       "output_type": "pyout",
       "prompt_number": 399,
       "text": [
        "array([[0, 1, 2],\n",
        "       [6, 7, 8],\n",
        "       [3, 4, 5]])"
       ]
      }
     ],
     "prompt_number": 399
    },
    {
     "cell_type": "code",
     "collapsed": false,
     "input": [],
     "language": "python",
     "metadata": {},
     "outputs": []
    }
   ],
   "metadata": {}
  }
 ]
}