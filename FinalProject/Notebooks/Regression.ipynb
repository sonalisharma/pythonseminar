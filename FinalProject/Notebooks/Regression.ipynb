{
 "metadata": {
  "name": ""
 },
 "nbformat": 3,
 "nbformat_minor": 0,
 "worksheets": [
  {
   "cells": [
    {
     "cell_type": "code",
     "collapsed": false,
     "input": [
      "import numpy as np\n",
      "import math\n",
      "%pylab inline\n",
      "from sklearn import neighbors\n",
      "from sklearn import preprocessing\n"
     ],
     "language": "python",
     "metadata": {},
     "outputs": [
      {
       "output_type": "stream",
       "stream": "stdout",
       "text": [
        "Populating the interactive namespace from numpy and matplotlib\n"
       ]
      }
     ],
     "prompt_number": 31
    },
    {
     "cell_type": "heading",
     "level": 3,
     "metadata": {},
     "source": [
      "Reading the file"
     ]
    },
    {
     "cell_type": "code",
     "collapsed": false,
     "input": [
      "import pandas as pd\n",
      "import numpy as np\n",
      "import matplotlib.pyplot as plt\n",
      "from geopy import geocoders  \n",
      "import json, math"
     ],
     "language": "python",
     "metadata": {},
     "outputs": [],
     "prompt_number": 250
    },
    {
     "cell_type": "code",
     "collapsed": false,
     "input": [
      "filename =\"newdata_1200.csv\""
     ],
     "language": "python",
     "metadata": {},
     "outputs": [],
     "prompt_number": 251
    },
    {
     "cell_type": "code",
     "collapsed": false,
     "input": [
      "data = pd.read_csv(\"//Users/sayantanm/Desktop/sonali/pythonseminar/FinalProject/Notebooks/Data/\"+filename,sep = \"\\t\",header=0)\n",
      "data = data[data['Category']!='Technology']"
     ],
     "language": "python",
     "metadata": {},
     "outputs": [],
     "prompt_number": 252
    },
    {
     "cell_type": "raw",
     "metadata": {},
     "source": [
      "Lasso Result: Tech: Count_comment, Count_funder, Start_month, N0_min_perk, No_max_perk, No_med_perk, Tot_perk, recoded_country, \n",
      "Median_by_one, Median_by_goal, Mintotal, Maxtotal, Mediantotal\n",
      "Lasso Result: Non-Tech: Count_update', u'Count_comment', u'Count_funder', u'Count_photo', u'Amount_goal', End_mont', u'Duration, N0_min_perk', \n",
      "u'Max_perk', u'No_max_perk', u'Median_perk', u'No_med_perk', u'Tot_perk', u'FB_like', u'FB_talking', u'You_avg_duratio', \n",
      "u'You_avg_view_count', Maxtotal', u'Mediantotal', u'Min_by_goal', Min_by_one, Median_by_one', u'newtype'\n"
     ]
    },
    {
     "cell_type": "code",
     "collapsed": false,
     "input": [
      "data = data.drop('sno',1)\n",
      "data = data.drop('Title',1)\n",
      "data = data.drop('Headline',1)\n",
      "data = data.drop('ShortDesc',1)\n",
      "data = data.drop('Category',1)\n",
      "# data = data.drop('US',1)\n",
      "data = data.drop('Current',1)\n",
      "data = data.drop('Amount_currency',1)\n",
      "data = data.drop('Distance',1)\n",
      "#Comment after getting correct distance\n",
      "data = data.drop('Location',1)\n",
      "data = data.drop('Tweet_follow',1)\n",
      "data = data.drop('Tweet_status',1)\n",
      "data = data.drop('Start_year',1)\n",
      "data = data.drop('End_year',1)\n",
      "data = data.drop('Start_day',1)\n",
      "data = data.drop('End_day',1)\n",
      "# data = data.drop('Amount_Raised',1)\n",
      "\n",
      "data = data.drop('Time_Left',1)\n",
      "\n",
      "data['Mintotal'] = data['Min_perk']*data['N0_min_perk']\n",
      "data['Maxtotal'] = data['Max_perk']*data['No_max_perk']\n",
      "data['Mediantotal'] = data['Median_perk']*data['No_med_perk']\n",
      "\n",
      "data['Min_by_goal']= data['Mintotal']/data['Amount_goal']\n",
      "data['Max_by_goal']= data['Maxtotal']/data['Amount_goal']\n",
      "data['Median_by_goal']= data['Mediantotal']/data['Amount_goal']\n",
      "\n",
      "data['Min_by_one']= data['Min_perk']/data['Amount_goal']\n",
      "data['Max_by_one']= data['Max_perk']/data['Amount_goal']\n",
      "data['Median_by_one']= data['Median_perk']/data['Amount_goal']"
     ],
     "language": "python",
     "metadata": {},
     "outputs": [],
     "prompt_number": 253
    },
    {
     "cell_type": "code",
     "collapsed": false,
     "input": [
      "data.columns"
     ],
     "language": "python",
     "metadata": {},
     "outputs": [
      {
       "metadata": {},
       "output_type": "pyout",
       "prompt_number": 254,
       "text": [
        "Index([u'County', u'US', u'Count_update', u'Count_comment', u'Count_funder', u'Count_photo', u'Amount_goal', u'Amount_Raised', u'Ratio', u'Type', u'Start_month', u'End_mont', u'Duration', u'Min_perk', u'N0_min_perk', u'Max_perk', u'No_max_perk', u'Median_perk', u'No_med_perk', u'Tot_perk', u'FB_like', u'FB_talking', u'You_avg_duratio', u'You_avg_view_count', u'You_avg_rating', u'Mintotal', u'Maxtotal', u'Mediantotal', u'Min_by_goal', u'Max_by_goal', u'Median_by_goal', u'Min_by_one', u'Max_by_one', u'Median_by_one'], dtype=object)"
       ]
      }
     ],
     "prompt_number": 254
    },
    {
     "cell_type": "code",
     "collapsed": false,
     "input": [
      "def checkus(location):\n",
      "    if (location=='United States'):\n",
      "        return 1\n",
      "    else:\n",
      "        return 0 \n",
      "data['US'] = data['County'].apply(checkus)"
     ],
     "language": "python",
     "metadata": {},
     "outputs": [],
     "prompt_number": 255
    },
    {
     "cell_type": "code",
     "collapsed": false,
     "input": [
      "def changetype(prjtype):\n",
      "    if ('Fixed Funding' in prjtype):\n",
      "        return 1\n",
      "    else:\n",
      "        return 0\n",
      "data['newtype'] = data['Type'].apply(changetype)\n",
      "data = data.drop('Type',1)"
     ],
     "language": "python",
     "metadata": {},
     "outputs": [],
     "prompt_number": 256
    },
    {
     "cell_type": "code",
     "collapsed": false,
     "input": [
      "data = data[data['Ratio']<=2]\n",
      "len(data)\n",
      "data = data.drop('Ratio',1)"
     ],
     "language": "python",
     "metadata": {},
     "outputs": [],
     "prompt_number": 257
    },
    {
     "cell_type": "code",
     "collapsed": false,
     "input": [
      "data = data.fillna(0)"
     ],
     "language": "python",
     "metadata": {},
     "outputs": [],
     "prompt_number": 258
    },
    {
     "cell_type": "code",
     "collapsed": false,
     "input": [
      "data['Count_photo'] = data['Count_photo'].fillna(0)\n",
      "data=data.dropna(axis=1,how='all')"
     ],
     "language": "python",
     "metadata": {},
     "outputs": [],
     "prompt_number": 259
    },
    {
     "cell_type": "code",
     "collapsed": false,
     "input": [
      "countries = list(data['County'].unique())\n",
      "def getcountrycode(loc):\n",
      "    return countries.index(loc)  \n",
      "data['recoded_country'] = data['County'].apply(getcountrycode)\n",
      "data = data.drop('County',1)"
     ],
     "language": "python",
     "metadata": {},
     "outputs": [],
     "prompt_number": 260
    },
    {
     "cell_type": "code",
     "collapsed": false,
     "input": [
      "countries"
     ],
     "language": "python",
     "metadata": {},
     "outputs": [
      {
       "metadata": {},
       "output_type": "pyout",
       "prompt_number": 261,
       "text": [
        "['United States',\n",
        " 'United Kingdom',\n",
        " 'Denmark',\n",
        " 'Ca0da',\n",
        " 'Mexico',\n",
        " 'Kenya',\n",
        " 'Austria',\n",
        " 0,\n",
        " 'Haiti',\n",
        " 'Australia',\n",
        " 'Gha0',\n",
        " 'Spain',\n",
        " 'Netherlands',\n",
        " 'Germany',\n",
        " 'El Salvador',\n",
        " 'Ireland',\n",
        " 'Pa0ma',\n",
        " 'Italy',\n",
        " 'Switzerland',\n",
        " 'Guatemala',\n",
        " 'Chi0',\n",
        " 'Sierra Leone',\n",
        " 'Nicaragua',\n",
        " 'South Korea',\n",
        " 'New Zealand',\n",
        " 'Uganda',\n",
        " 'United Republic of Tanzania',\n",
        " 'Russia',\n",
        " 'Peru',\n",
        " 'Belgium',\n",
        " 'France']"
       ]
      }
     ],
     "prompt_number": 261
    },
    {
     "cell_type": "code",
     "collapsed": false,
     "input": [
      "data['recoded_country']"
     ],
     "language": "python",
     "metadata": {},
     "outputs": [
      {
       "metadata": {},
       "output_type": "pyout",
       "prompt_number": 262,
       "text": [
        "1193    0\n",
        "1194    1\n",
        "1195    2\n",
        "1196    0\n",
        "1197    0\n",
        "1198    0\n",
        "1199    0\n",
        "1200    0\n",
        "1201    3\n",
        "1202    0\n",
        "1203    0\n",
        "1204    0\n",
        "1205    0\n",
        "1206    4\n",
        "1207    0\n",
        "...\n",
        "1826    0\n",
        "1827    0\n",
        "1828    0\n",
        "1829    0\n",
        "1830    0\n",
        "1831    7\n",
        "1832    0\n",
        "1833    0\n",
        "1834    0\n",
        "1835    0\n",
        "1836    3\n",
        "1837    0\n",
        "1838    0\n",
        "1839    0\n",
        "1840    0\n",
        "Name: recoded_country, Length: 637, dtype: int64"
       ]
      }
     ],
     "prompt_number": 262
    },
    {
     "cell_type": "code",
     "collapsed": false,
     "input": [
      "def to_days(dur):\n",
      "    return float(dur)/(3600*24)\n",
      "data['Duration']= data['Duration'].apply(to_days)"
     ],
     "language": "python",
     "metadata": {},
     "outputs": [],
     "prompt_number": 263
    },
    {
     "cell_type": "code",
     "collapsed": false,
     "input": [
      "Y = data['Amount_Raised']\n",
      "data = data.drop('Amount_Raised',1)"
     ],
     "language": "python",
     "metadata": {},
     "outputs": [],
     "prompt_number": 264
    },
    {
     "cell_type": "code",
     "collapsed": false,
     "input": [
      "#X = data[['FB_like','FB_talking','Tweet_follow','Tweet_status','You_avg_duratio','You_avg_view_count','You_avg_rating']].values\n",
      "data.columns"
     ],
     "language": "python",
     "metadata": {},
     "outputs": [
      {
       "metadata": {},
       "output_type": "pyout",
       "prompt_number": 265,
       "text": [
        "Index([u'US', u'Count_update', u'Count_comment', u'Count_funder', u'Count_photo', u'Amount_goal', u'Start_month', u'End_mont', u'Duration', u'Min_perk', u'N0_min_perk', u'Max_perk', u'No_max_perk', u'Median_perk', u'No_med_perk', u'Tot_perk', u'FB_like', u'FB_talking', u'You_avg_duratio', u'You_avg_view_count', u'You_avg_rating', u'Mintotal', u'Maxtotal', u'Mediantotal', u'Min_by_goal', u'Max_by_goal', u'Median_by_goal', u'Min_by_one', u'Max_by_one', u'Median_by_one', u'newtype', u'recoded_country'], dtype=object)"
       ]
      }
     ],
     "prompt_number": 265
    },
    {
     "cell_type": "code",
     "collapsed": false,
     "input": [
      "split = math.floor(float(len(data))*0.7)\n",
      "print split\n",
      "#only social media features\n",
      "d = data.values \n",
      "d_scaled = preprocessing.scale(d)\n",
      "c = np.random.shuffle(d_scaled)\n",
      "d_scaled\n",
      "#X = data[['FB_like','FB_talking','You_avg_duratio','You_avg_view_count','You_avg_rating']].values\n",
      "X = data.values\n",
      "Y_scaled = preprocessing.scale(Y)\n",
      "X_scaled = preprocessing.scale(X)\n",
      "X_train = X_scaled[:split]\n",
      "X_test = X_scaled[split:]\n",
      "Y_train = Y[:split].values\n",
      "Y_test = Y[split:].values\n"
     ],
     "language": "python",
     "metadata": {},
     "outputs": [
      {
       "output_type": "stream",
       "stream": "stdout",
       "text": [
        "445.0\n"
       ]
      }
     ],
     "prompt_number": 266
    },
    {
     "cell_type": "code",
     "collapsed": false,
     "input": [
      "\n",
      "d = data.values "
     ],
     "language": "python",
     "metadata": {},
     "outputs": [],
     "prompt_number": 267
    },
    {
     "cell_type": "code",
     "collapsed": false,
     "input": [
      "data.head(10)"
     ],
     "language": "python",
     "metadata": {},
     "outputs": [
      {
       "output_type": "stream",
       "stream": "stderr",
       "text": [
        "/Library/Python/2.7/site-packages/pandas/core/config.py:570: DeprecationWarning: height has been deprecated.\n",
        "\n",
        "  warnings.warn(d.msg, DeprecationWarning)\n",
        "/Library/Python/2.7/site-packages/pandas/core/config.py:570: DeprecationWarning: height has been deprecated.\n",
        "\n",
        "  warnings.warn(d.msg, DeprecationWarning)\n",
        "/Library/Python/2.7/site-packages/pandas/core/config.py:570: DeprecationWarning: height has been deprecated.\n",
        "\n",
        "  warnings.warn(d.msg, DeprecationWarning)\n"
       ]
      },
      {
       "html": [
        "<pre>\n",
        "&lt;class 'pandas.core.frame.DataFrame'&gt;\n",
        "Int64Index: 10 entries, 1193 to 1202\n",
        "Data columns (total 32 columns):\n",
        "US                    10  non-null values\n",
        "Count_update          10  non-null values\n",
        "Count_comment         10  non-null values\n",
        "Count_funder          10  non-null values\n",
        "Count_photo           10  non-null values\n",
        "Amount_goal           10  non-null values\n",
        "Start_month           10  non-null values\n",
        "End_mont              10  non-null values\n",
        "Duration              10  non-null values\n",
        "Min_perk              10  non-null values\n",
        "N0_min_perk           10  non-null values\n",
        "Max_perk              10  non-null values\n",
        "No_max_perk           10  non-null values\n",
        "Median_perk           10  non-null values\n",
        "No_med_perk           10  non-null values\n",
        "Tot_perk              10  non-null values\n",
        "FB_like               10  non-null values\n",
        "FB_talking            10  non-null values\n",
        "You_avg_duratio       10  non-null values\n",
        "You_avg_view_count    10  non-null values\n",
        "You_avg_rating        10  non-null values\n",
        "Mintotal              10  non-null values\n",
        "Maxtotal              10  non-null values\n",
        "Mediantotal           10  non-null values\n",
        "Min_by_goal           10  non-null values\n",
        "Max_by_goal           10  non-null values\n",
        "Median_by_goal        10  non-null values\n",
        "Min_by_one            10  non-null values\n",
        "Max_by_one            10  non-null values\n",
        "Median_by_one         10  non-null values\n",
        "newtype               10  non-null values\n",
        "recoded_country       10  non-null values\n",
        "dtypes: float64(9), int64(23)\n",
        "</pre>"
       ],
       "metadata": {},
       "output_type": "pyout",
       "prompt_number": 268,
       "text": [
        "<class 'pandas.core.frame.DataFrame'>\n",
        "Int64Index: 10 entries, 1193 to 1202\n",
        "Data columns (total 32 columns):\n",
        "US                    10  non-null values\n",
        "Count_update          10  non-null values\n",
        "Count_comment         10  non-null values\n",
        "Count_funder          10  non-null values\n",
        "Count_photo           10  non-null values\n",
        "Amount_goal           10  non-null values\n",
        "Start_month           10  non-null values\n",
        "End_mont              10  non-null values\n",
        "Duration              10  non-null values\n",
        "Min_perk              10  non-null values\n",
        "N0_min_perk           10  non-null values\n",
        "Max_perk              10  non-null values\n",
        "No_max_perk           10  non-null values\n",
        "Median_perk           10  non-null values\n",
        "No_med_perk           10  non-null values\n",
        "Tot_perk              10  non-null values\n",
        "FB_like               10  non-null values\n",
        "FB_talking            10  non-null values\n",
        "You_avg_duratio       10  non-null values\n",
        "You_avg_view_count    10  non-null values\n",
        "You_avg_rating        10  non-null values\n",
        "Mintotal              10  non-null values\n",
        "Maxtotal              10  non-null values\n",
        "Mediantotal           10  non-null values\n",
        "Min_by_goal           10  non-null values\n",
        "Max_by_goal           10  non-null values\n",
        "Median_by_goal        10  non-null values\n",
        "Min_by_one            10  non-null values\n",
        "Max_by_one            10  non-null values\n",
        "Median_by_one         10  non-null values\n",
        "newtype               10  non-null values\n",
        "recoded_country       10  non-null values\n",
        "dtypes: float64(9), int64(23)"
       ]
      }
     ],
     "prompt_number": 268
    },
    {
     "cell_type": "code",
     "collapsed": false,
     "input": [
      "import matplotlib.pyplot as plt\n",
      "plt.boxplot(Y)\n",
      "plt.show()"
     ],
     "language": "python",
     "metadata": {},
     "outputs": [
      {
       "ename": "KeyError",
       "evalue": "0",
       "output_type": "pyerr",
       "traceback": [
        "\u001b[0;31m---------------------------------------------------------------------------\u001b[0m\n\u001b[0;31mKeyError\u001b[0m                                  Traceback (most recent call last)",
        "\u001b[0;32m<ipython-input-269-2450f6fa7471>\u001b[0m in \u001b[0;36m<module>\u001b[0;34m()\u001b[0m\n\u001b[1;32m      1\u001b[0m \u001b[0;32mimport\u001b[0m \u001b[0mmatplotlib\u001b[0m\u001b[0;34m.\u001b[0m\u001b[0mpyplot\u001b[0m \u001b[0;32mas\u001b[0m \u001b[0mplt\u001b[0m\u001b[0;34m\u001b[0m\u001b[0m\n\u001b[0;32m----> 2\u001b[0;31m \u001b[0mplt\u001b[0m\u001b[0;34m.\u001b[0m\u001b[0mboxplot\u001b[0m\u001b[0;34m(\u001b[0m\u001b[0mY\u001b[0m\u001b[0;34m)\u001b[0m\u001b[0;34m\u001b[0m\u001b[0m\n\u001b[0m\u001b[1;32m      3\u001b[0m \u001b[0mplt\u001b[0m\u001b[0;34m.\u001b[0m\u001b[0mshow\u001b[0m\u001b[0;34m(\u001b[0m\u001b[0;34m)\u001b[0m\u001b[0;34m\u001b[0m\u001b[0m\n",
        "\u001b[0;32m/Library/Python/2.7/site-packages/matplotlib-1.4.x-py2.7-macosx-10.8-intel.egg/matplotlib/pyplot.pyc\u001b[0m in \u001b[0;36mboxplot\u001b[0;34m(x, notch, sym, vert, whis, positions, widths, patch_artist, bootstrap, usermedians, conf_intervals, hold)\u001b[0m\n\u001b[1;32m   2579\u001b[0m                          \u001b[0mpositions\u001b[0m\u001b[0;34m=\u001b[0m\u001b[0mpositions\u001b[0m\u001b[0;34m,\u001b[0m \u001b[0mwidths\u001b[0m\u001b[0;34m=\u001b[0m\u001b[0mwidths\u001b[0m\u001b[0;34m,\u001b[0m\u001b[0;34m\u001b[0m\u001b[0m\n\u001b[1;32m   2580\u001b[0m                          \u001b[0mpatch_artist\u001b[0m\u001b[0;34m=\u001b[0m\u001b[0mpatch_artist\u001b[0m\u001b[0;34m,\u001b[0m \u001b[0mbootstrap\u001b[0m\u001b[0;34m=\u001b[0m\u001b[0mbootstrap\u001b[0m\u001b[0;34m,\u001b[0m\u001b[0;34m\u001b[0m\u001b[0m\n\u001b[0;32m-> 2581\u001b[0;31m                          usermedians=usermedians, conf_intervals=conf_intervals)\n\u001b[0m\u001b[1;32m   2582\u001b[0m         \u001b[0mdraw_if_interactive\u001b[0m\u001b[0;34m(\u001b[0m\u001b[0;34m)\u001b[0m\u001b[0;34m\u001b[0m\u001b[0m\n\u001b[1;32m   2583\u001b[0m     \u001b[0;32mfinally\u001b[0m\u001b[0;34m:\u001b[0m\u001b[0;34m\u001b[0m\u001b[0m\n",
        "\u001b[0;32m/Library/Python/2.7/site-packages/matplotlib-1.4.x-py2.7-macosx-10.8-intel.egg/matplotlib/axes/_axes.pyc\u001b[0m in \u001b[0;36mboxplot\u001b[0;34m(self, x, notch, sym, vert, whis, positions, widths, patch_artist, bootstrap, usermedians, conf_intervals)\u001b[0m\n\u001b[1;32m   2920\u001b[0m         \u001b[0;32mif\u001b[0m \u001b[0mhasattr\u001b[0m\u001b[0;34m(\u001b[0m\u001b[0mx\u001b[0m\u001b[0;34m,\u001b[0m \u001b[0;34m'shape'\u001b[0m\u001b[0;34m)\u001b[0m\u001b[0;34m:\u001b[0m\u001b[0;34m\u001b[0m\u001b[0m\n\u001b[1;32m   2921\u001b[0m             \u001b[0;32mif\u001b[0m \u001b[0mlen\u001b[0m\u001b[0;34m(\u001b[0m\u001b[0mx\u001b[0m\u001b[0;34m.\u001b[0m\u001b[0mshape\u001b[0m\u001b[0;34m)\u001b[0m \u001b[0;34m==\u001b[0m \u001b[0;36m1\u001b[0m\u001b[0;34m:\u001b[0m\u001b[0;34m\u001b[0m\u001b[0m\n\u001b[0;32m-> 2922\u001b[0;31m                 \u001b[0;32mif\u001b[0m \u001b[0mhasattr\u001b[0m\u001b[0;34m(\u001b[0m\u001b[0mx\u001b[0m\u001b[0;34m[\u001b[0m\u001b[0;36m0\u001b[0m\u001b[0;34m]\u001b[0m\u001b[0;34m,\u001b[0m \u001b[0;34m'shape'\u001b[0m\u001b[0;34m)\u001b[0m\u001b[0;34m:\u001b[0m\u001b[0;34m\u001b[0m\u001b[0m\n\u001b[0m\u001b[1;32m   2923\u001b[0m                     \u001b[0mx\u001b[0m \u001b[0;34m=\u001b[0m \u001b[0mlist\u001b[0m\u001b[0;34m(\u001b[0m\u001b[0mx\u001b[0m\u001b[0;34m)\u001b[0m\u001b[0;34m\u001b[0m\u001b[0m\n\u001b[1;32m   2924\u001b[0m                 \u001b[0;32melse\u001b[0m\u001b[0;34m:\u001b[0m\u001b[0;34m\u001b[0m\u001b[0m\n",
        "\u001b[0;32m/Library/Python/2.7/site-packages/pandas/core/series.pyc\u001b[0m in \u001b[0;36m__getitem__\u001b[0;34m(self, key)\u001b[0m\n\u001b[1;32m    616\u001b[0m     \u001b[0;32mdef\u001b[0m \u001b[0m__getitem__\u001b[0m\u001b[0;34m(\u001b[0m\u001b[0mself\u001b[0m\u001b[0;34m,\u001b[0m \u001b[0mkey\u001b[0m\u001b[0;34m)\u001b[0m\u001b[0;34m:\u001b[0m\u001b[0;34m\u001b[0m\u001b[0m\n\u001b[1;32m    617\u001b[0m         \u001b[0;32mtry\u001b[0m\u001b[0;34m:\u001b[0m\u001b[0;34m\u001b[0m\u001b[0m\n\u001b[0;32m--> 618\u001b[0;31m             \u001b[0;32mreturn\u001b[0m \u001b[0mself\u001b[0m\u001b[0;34m.\u001b[0m\u001b[0mindex\u001b[0m\u001b[0;34m.\u001b[0m\u001b[0mget_value\u001b[0m\u001b[0;34m(\u001b[0m\u001b[0mself\u001b[0m\u001b[0;34m,\u001b[0m \u001b[0mkey\u001b[0m\u001b[0;34m)\u001b[0m\u001b[0;34m\u001b[0m\u001b[0m\n\u001b[0m\u001b[1;32m    619\u001b[0m         \u001b[0;32mexcept\u001b[0m \u001b[0mInvalidIndexError\u001b[0m\u001b[0;34m:\u001b[0m\u001b[0;34m\u001b[0m\u001b[0m\n\u001b[1;32m    620\u001b[0m             \u001b[0;32mpass\u001b[0m\u001b[0;34m\u001b[0m\u001b[0m\n",
        "\u001b[0;32m/Library/Python/2.7/site-packages/pandas/core/index.pyc\u001b[0m in \u001b[0;36mget_value\u001b[0;34m(self, series, key)\u001b[0m\n\u001b[1;32m    722\u001b[0m         \"\"\"\n\u001b[1;32m    723\u001b[0m         \u001b[0;32mtry\u001b[0m\u001b[0;34m:\u001b[0m\u001b[0;34m\u001b[0m\u001b[0m\n\u001b[0;32m--> 724\u001b[0;31m             \u001b[0;32mreturn\u001b[0m \u001b[0mself\u001b[0m\u001b[0;34m.\u001b[0m\u001b[0m_engine\u001b[0m\u001b[0;34m.\u001b[0m\u001b[0mget_value\u001b[0m\u001b[0;34m(\u001b[0m\u001b[0mseries\u001b[0m\u001b[0;34m,\u001b[0m \u001b[0mkey\u001b[0m\u001b[0;34m)\u001b[0m\u001b[0;34m\u001b[0m\u001b[0m\n\u001b[0m\u001b[1;32m    725\u001b[0m         \u001b[0;32mexcept\u001b[0m \u001b[0mKeyError\u001b[0m\u001b[0;34m,\u001b[0m \u001b[0me1\u001b[0m\u001b[0;34m:\u001b[0m\u001b[0;34m\u001b[0m\u001b[0m\n\u001b[1;32m    726\u001b[0m             \u001b[0;32mif\u001b[0m \u001b[0mlen\u001b[0m\u001b[0;34m(\u001b[0m\u001b[0mself\u001b[0m\u001b[0;34m)\u001b[0m \u001b[0;34m>\u001b[0m \u001b[0;36m0\u001b[0m \u001b[0;32mand\u001b[0m \u001b[0mself\u001b[0m\u001b[0;34m.\u001b[0m\u001b[0minferred_type\u001b[0m \u001b[0;34m==\u001b[0m \u001b[0;34m'integer'\u001b[0m\u001b[0;34m:\u001b[0m\u001b[0;34m\u001b[0m\u001b[0m\n",
        "\u001b[0;32m/Library/Python/2.7/site-packages/pandas/index.so\u001b[0m in \u001b[0;36mpandas.index.IndexEngine.get_value (pandas/index.c:2873)\u001b[0;34m()\u001b[0m\n",
        "\u001b[0;32m/Library/Python/2.7/site-packages/pandas/index.so\u001b[0m in \u001b[0;36mpandas.index.IndexEngine.get_value (pandas/index.c:2685)\u001b[0;34m()\u001b[0m\n",
        "\u001b[0;32m/Library/Python/2.7/site-packages/pandas/index.so\u001b[0m in \u001b[0;36mpandas.index.IndexEngine.get_loc (pandas/index.c:3422)\u001b[0;34m()\u001b[0m\n",
        "\u001b[0;32m/Library/Python/2.7/site-packages/pandas/hashtable.so\u001b[0m in \u001b[0;36mpandas.hashtable.Int64HashTable.get_item (pandas/hashtable.c:6570)\u001b[0;34m()\u001b[0m\n",
        "\u001b[0;32m/Library/Python/2.7/site-packages/pandas/hashtable.so\u001b[0m in \u001b[0;36mpandas.hashtable.Int64HashTable.get_item (pandas/hashtable.c:6511)\u001b[0;34m()\u001b[0m\n",
        "\u001b[0;31mKeyError\u001b[0m: 0"
       ]
      },
      {
       "metadata": {},
       "output_type": "display_data",
       "png": "[encoded data removed]",
       "text": [
        "<matplotlib.figure.Figure at 0x105a2f310>"
       ]
      }
     ],
     "prompt_number": 269
    },
    {
     "cell_type": "code",
     "collapsed": false,
     "input": [
      "len(Y)"
     ],
     "language": "python",
     "metadata": {},
     "outputs": [
      {
       "metadata": {},
       "output_type": "pyout",
       "prompt_number": 270,
       "text": [
        "637"
       ]
      }
     ],
     "prompt_number": 270
    },
    {
     "cell_type": "code",
     "collapsed": false,
     "input": [
      "X_train[0]"
     ],
     "language": "python",
     "metadata": {},
     "outputs": [
      {
       "metadata": {},
       "output_type": "pyout",
       "prompt_number": 271,
       "text": [
        "array([ 0.48671676,  1.7850176 , -0.1747499 , -0.36252437,  1.05386869,\n",
        "       -0.29844677, -0.34127655, -0.16658717, -0.74024391, -0.13624974,\n",
        "       -0.09101763, -0.31292178, -0.28168676, -0.15063293,  0.30421168,\n",
        "        0.1690014 ,  0.29573828,  0.40560698,  0.04153187, -0.08602712,\n",
        "        0.        , -0.16874453, -0.27732067,  0.61445261,  0.        ,\n",
        "        0.        ,  0.4049563 ,  0.        , -0.11799456, -0.22239627,\n",
        "        0.        , -0.33913669])"
       ]
      }
     ],
     "prompt_number": 271
    },
    {
     "cell_type": "code",
     "collapsed": false,
     "input": [
      "Y_train[0]"
     ],
     "language": "python",
     "metadata": {},
     "outputs": [
      {
       "metadata": {},
       "output_type": "pyout",
       "prompt_number": 272,
       "text": [
        "3910"
       ]
      }
     ],
     "prompt_number": 272
    },
    {
     "cell_type": "code",
     "collapsed": false,
     "input": [
      "subplot(131)\n",
      "scatter(X_train[:,11],Y_train)\n",
      "subplot(132)\n",
      "scatter(X_train[:,10],Y_train)\n",
      "subplot(133)\n",
      "scatter(X_train[:,9],Y_train)"
     ],
     "language": "python",
     "metadata": {},
     "outputs": [
      {
       "metadata": {},
       "output_type": "pyout",
       "prompt_number": 273,
       "text": [
        "<matplotlib.collections.PathCollection at 0x105697c90>"
       ]
      },
      {
       "metadata": {},
       "output_type": "display_data",
       "png": "[encoded data removed]",
       "text": [
        "<matplotlib.figure.Figure at 0x1054dce90>"
       ]
      }
     ],
     "prompt_number": 273
    },
    {
     "cell_type": "code",
     "collapsed": false,
     "input": [
      "from sklearn import linear_model\n",
      "clf = linear_model.Lasso(normalize=True)"
     ],
     "language": "python",
     "metadata": {},
     "outputs": [],
     "prompt_number": 274
    },
    {
     "cell_type": "code",
     "collapsed": false,
     "input": [
      "# fit the model\n",
      "clf.fit(X_train, Y_train)"
     ],
     "language": "python",
     "metadata": {},
     "outputs": [
      {
       "metadata": {},
       "output_type": "pyout",
       "prompt_number": 275,
       "text": [
        "Lasso(alpha=1.0, copy_X=True, fit_intercept=True, max_iter=1000,\n",
        "   normalize=True, positive=False, precompute='auto', tol=0.0001,\n",
        "   warm_start=False)"
       ]
      }
     ],
     "prompt_number": 275
    },
    {
     "cell_type": "code",
     "collapsed": false,
     "input": [
      "clf.coef_"
     ],
     "language": "python",
     "metadata": {},
     "outputs": [
      {
       "metadata": {},
       "output_type": "pyout",
       "prompt_number": 276,
       "text": [
        "array([    0.        ,  -169.27114555,  -289.34205071,  6821.32870742,\n",
        "        -199.09494442,  1251.62100634,     0.        ,    69.73143656,\n",
        "        -115.72482219,     0.        , -1946.53173256,  -126.73467607,\n",
        "        -541.98149673,   109.75624033,  -689.25392113,  -283.51981523,\n",
        "         105.31384331,   198.82687432,    17.10971892,   168.32649106,\n",
        "           0.        ,   405.78972106,  3251.00102624,  1318.961644  ,\n",
        "           0.        ,     0.        ,  -433.87104006,     0.        ,\n",
        "         -11.79280501,   127.60065816,     0.        ,     0.        ])"
       ]
      }
     ],
     "prompt_number": 276
    },
    {
     "cell_type": "code",
     "collapsed": false,
     "input": [
      "data.columns\n"
     ],
     "language": "python",
     "metadata": {},
     "outputs": [
      {
       "metadata": {},
       "output_type": "pyout",
       "prompt_number": 277,
       "text": [
        "Index([u'US', u'Count_update', u'Count_comment', u'Count_funder', u'Count_photo', u'Amount_goal', u'Start_month', u'End_mont', u'Duration', u'Min_perk', u'N0_min_perk', u'Max_perk', u'No_max_perk', u'Median_perk', u'No_med_perk', u'Tot_perk', u'FB_like', u'FB_talking', u'You_avg_duratio', u'You_avg_view_count', u'You_avg_rating', u'Mintotal', u'Maxtotal', u'Mediantotal', u'Min_by_goal', u'Max_by_goal', u'Median_by_goal', u'Min_by_one', u'Max_by_one', u'Median_by_one', u'newtype', u'recoded_country'], dtype=object)"
       ]
      }
     ],
     "prompt_number": 277
    },
    {
     "cell_type": "code",
     "collapsed": false,
     "input": [
      "# now do the prediction\n",
      "Y_lr_pred = clf.predict(X_test)\n",
      "\n",
      "# how well did we do?\n",
      "from sklearn.metrics import mean_squared_error\n",
      "mse = mean_squared_error(Y_test,Y_lr_pred) ; print mse"
     ],
     "language": "python",
     "metadata": {},
     "outputs": [
      {
       "output_type": "stream",
       "stream": "stdout",
       "text": [
        "4677088.56937\n"
       ]
      }
     ],
     "prompt_number": 278
    },
    {
     "cell_type": "code",
     "collapsed": false,
     "input": [
      "for i in range(len(Y_lr_pred)):\n",
      "   print str(Y_lr_pred[i])+\"---->\"+str(Y_test[i])"
     ],
     "language": "python",
     "metadata": {},
     "outputs": [
      {
       "output_type": "stream",
       "stream": "stdout",
       "text": [
        "24236.6103178---->19319\n",
        "8295.19219297---->18063\n",
        "18224.3003921---->16907\n",
        "19292.138851---->16292\n",
        "15681.1853727---->16265\n",
        "14567.2001964---->15730\n",
        "18738.5563847---->15179\n",
        "9545.63625214---->14872\n",
        "16135.9528626---->14442\n",
        "15988.9250754---->13772\n",
        "8572.07553943---->13357\n",
        "10316.0389183---->13165\n",
        "9811.15934594---->12665\n",
        "12424.5144456---->12248\n",
        "10033.7173714---->11640\n",
        "14827.8098684---->10814\n",
        "20706.8763786---->10693\n",
        "10168.0190162---->10593\n",
        "9046.18361803---->10431\n",
        "17822.9750497---->10406\n",
        "16425.4360394---->10260\n",
        "5160.56569567---->10000\n",
        "10391.4624283---->9745\n",
        "7104.99227906---->9573\n",
        "6593.16030454---->9460\n",
        "9191.8779669---->8867\n",
        "8432.10262516---->8604\n",
        "7990.70246169---->8350\n",
        "11660.2179032---->8257\n",
        "3587.37165526---->5050\n",
        "12055.5653104---->5020\n",
        "5379.28926932---->5000\n",
        "4434.20358649---->4861\n",
        "818.83027059---->4790\n",
        "4265.31092338---->4690\n",
        "12916.0661296---->4591\n",
        "5398.66735341---->4575\n",
        "5721.03831064---->4540\n",
        "5260.53845437---->4466\n",
        "2910.06129164---->4350\n",
        "3552.95834876---->4293\n",
        "3711.81046271---->4093\n",
        "3097.34221078---->4075\n",
        "7009.63190687---->4055\n",
        "3780.10419652---->4001\n",
        "5298.55479003---->3976\n",
        "6090.15244471---->3935\n",
        "4225.00568632---->3895\n",
        "6306.3320873---->3837\n",
        "3346.29155331---->3785\n",
        "3558.94787012---->3735\n",
        "5122.60337615---->3676\n",
        "2799.83201727---->3652\n",
        "5142.12058893---->3649\n",
        "3581.02657874---->3623\n",
        "4042.90473855---->3609\n",
        "2951.12457173---->3525\n",
        "3508.82166358---->3511\n",
        "4145.86647617---->3465\n",
        "6115.22349339---->3366\n",
        "-489.08168949---->3340\n",
        "1870.42185488---->3335\n",
        "4768.11865923---->3301\n",
        "2421.14212676---->3285\n",
        "2296.60218449---->3270\n",
        "3183.75780679---->3250\n",
        "1715.26811447---->3150\n",
        "4903.78856664---->3135\n",
        "5913.48294533---->3120\n",
        "4458.19569933---->3030\n",
        "3501.17808267---->3010\n",
        "5295.01119606---->3000\n",
        "4744.89695173---->2900\n",
        "9222.88637982---->2851\n",
        "3271.8882525---->2815\n",
        "3879.09403076---->2780\n",
        "3765.43528586---->2776\n",
        "3876.71667934---->2735\n",
        "3125.31147386---->2715\n",
        "4355.01983075---->2696\n",
        "3009.6582276---->2645\n",
        "1920.78303608---->2605\n",
        "6036.55734915---->2604\n",
        "2794.76391168---->2570\n",
        "2012.76740443---->2550\n",
        "2003.51375272---->2531\n",
        "3285.22118799---->2510\n",
        "6274.03535245---->2485\n",
        "862.698971373---->2445\n",
        "2651.15894056---->2439\n",
        "2265.28005779---->2405\n",
        "3189.889782---->2370\n",
        "4369.29947999---->2350\n",
        "1315.59417719---->2325\n",
        "1963.96326008---->2288\n",
        "2760.8075374---->2250\n",
        "3648.7398724---->2241\n",
        "1238.61965595---->2200\n",
        "2974.25778543---->2106\n",
        "3336.5584514---->2063\n",
        "2089.02226894---->2032\n",
        "6059.27798597---->1977\n",
        "2339.22362649---->1961\n",
        "1684.30759414---->1935\n",
        "2322.30817505---->1900\n",
        "-146.64132778---->1885\n",
        "3229.99819243---->1879\n",
        "2911.75787125---->1850\n",
        "3440.0825559---->1810\n",
        "3245.94845452---->1781\n",
        "2226.61917905---->1750\n",
        "1403.06848266---->1720\n",
        "1679.60137524---->1705\n",
        "824.229442434---->1700\n",
        "2551.22858151---->1676\n",
        "667.00477783---->1670\n",
        "1250.01349714---->1665\n",
        "3459.16202931---->1650\n",
        "937.014461637---->1625\n",
        "3690.35339057---->1582\n",
        "2402.22137919---->1567\n",
        "1262.41641963---->1560\n",
        "2328.28146954---->1550\n",
        "2724.9859585---->1523\n",
        "1996.6347732---->1505\n",
        "1597.27095626---->1502\n",
        "2076.85711264---->1475\n",
        "863.412576029---->1460\n",
        "1173.45869389---->1420\n",
        "509.149277525---->1400\n",
        "2076.89187467---->1390\n",
        "2652.1137805---->1387\n",
        "-755.593864305---->1380\n",
        "3863.04342443---->1368\n",
        "2908.40004731---->1351\n",
        "1795.76247987---->1350\n",
        "1594.39933142---->1342\n",
        "1064.27293756---->1325\n",
        "1903.41741124---->1315\n",
        "478.65270097---->1285\n",
        "1682.46925246---->1280\n",
        "259.274137172---->1270\n",
        "2095.49938124---->1250\n",
        "2638.91302094---->1245\n",
        "1760.02817714---->1230\n",
        "836.430779056---->1230\n",
        "1622.23747012---->1215\n",
        "2730.02605353---->1190\n",
        "451.369363525---->1175\n",
        "671.446063087---->1151\n",
        "702.123096011---->1125\n",
        "1735.52216463---->1115\n",
        "1561.02573381---->1105\n",
        "2568.66356681---->1085\n",
        "-1228.56262068---->1065\n",
        "2592.28780178---->1055\n",
        "1461.26302866---->1050\n",
        "816.087486736---->1040\n",
        "1739.55706245---->1030\n",
        "1500.66357287---->1025\n",
        "1793.50628681---->1019\n",
        "2464.90641588---->1000\n",
        "2087.78689274---->1000\n",
        "1412.41931224---->965\n",
        "1748.69282385---->965\n",
        "1152.68143916---->955\n",
        "1075.80981582---->925\n",
        "339.506873141---->920\n",
        "974.791366034---->902\n",
        "2958.31939373---->878\n",
        "1092.97066487---->875\n",
        "1074.27647106---->870\n",
        "1461.28629454---->870\n",
        "1029.11189425---->860\n",
        "2322.8070045---->850\n",
        "1110.15332118---->821\n",
        "1453.41135776---->810\n",
        "1172.03165759---->805\n",
        "1873.91585083---->800\n",
        "1136.17719524---->786\n",
        "1861.85899473---->785\n",
        "704.994084127---->780\n",
        "791.435751122---->760\n",
        "1603.04009114---->759\n",
        "1161.69047921---->746\n",
        "1022.16045764---->740\n",
        "2263.20732439---->735\n",
        "1273.5578176---->735\n",
        "751.864841979---->731\n",
        "1091.66917505---->730\n",
        "2043.57568997---->712\n",
        "921.184579876---->710\n"
       ]
      }
     ],
     "prompt_number": 290
    },
    {
     "cell_type": "code",
     "collapsed": false,
     "input": [
      "plot(Y_test,Y_lr_pred - Y_test,'o')\n",
      "title(\"Linear Regression Residuals - MSE = %.1f\" % mse)\n",
      "xlabel(\"True Median Project Goal\")\n",
      "ylabel(\"Residual\")\n",
      "hlines(0,min(Y_test),max(Y_test),color=\"red\")"
     ],
     "language": "python",
     "metadata": {},
     "outputs": [
      {
       "metadata": {},
       "output_type": "pyout",
       "prompt_number": 280,
       "text": [
        "<matplotlib.collections.LineCollection at 0x105882dd0>"
       ]
      },
      {
       "metadata": {},
       "output_type": "display_data",
       "png": "[encoded data removed]",
       "text": [
        "<matplotlib.figure.Figure at 0x105687b50>"
       ]
      }
     ],
     "prompt_number": 280
    },
    {
     "cell_type": "code",
     "collapsed": false,
     "input": [
      "#boston = datasets.load_boston() ; X = boston['data'] ; Y = boston['target']\n",
      "from sklearn import cross_validation\n",
      "from sklearn import linear_model\n",
      "clf = linear_model.Lasso(normalize=True)\n",
      "from sklearn.cross_validation import cross_val_score\n",
      "\n",
      "def print_cv_score_summary(model, xx, yy, cv):\n",
      "    scores = cross_val_score(model, xx, yy, cv=cv, n_jobs=1)\n",
      "    print(\"mean: {:3f}, stdev: {:3f}\".format(\n",
      "        np.mean(scores), np.std(scores)))"
     ],
     "language": "python",
     "metadata": {},
     "outputs": [],
     "prompt_number": 281
    },
    {
     "cell_type": "code",
     "collapsed": false,
     "input": [],
     "language": "python",
     "metadata": {},
     "outputs": [],
     "prompt_number": 281
    },
    {
     "cell_type": "code",
     "collapsed": false,
     "input": [
      "print_cv_score_summary(clf,X,Y,cv=cross_validation.KFold(len(Y), 10))\n",
      "\n",
      "#print_cv_score_summary(clf,X,Y,cv=150)"
     ],
     "language": "python",
     "metadata": {},
     "outputs": [
      {
       "output_type": "stream",
       "stream": "stdout",
       "text": [
        "mean: -14.985269, stdev: 19.522343\n"
       ]
      }
     ],
     "prompt_number": 282
    },
    {
     "cell_type": "code",
     "collapsed": false,
     "input": [
      "print_cv_score_summary(clf,X,Y,\n",
      "    cv=cross_validation.KFold(len(Y),20,shuffle=True,random_state=1))"
     ],
     "language": "python",
     "metadata": {},
     "outputs": [
      {
       "output_type": "stream",
       "stream": "stdout",
       "text": [
        "mean: 0.724880, stdev: 0.195172\n"
       ]
      }
     ],
     "prompt_number": 283
    },
    {
     "cell_type": "code",
     "collapsed": false,
     "input": [
      "min(Y_lr_pred)"
     ],
     "language": "python",
     "metadata": {},
     "outputs": [
      {
       "metadata": {},
       "output_type": "pyout",
       "prompt_number": 284,
       "text": [
        "-1228.5626206821398"
       ]
      }
     ],
     "prompt_number": 284
    },
    {
     "cell_type": "code",
     "collapsed": false,
     "input": [],
     "language": "python",
     "metadata": {},
     "outputs": []
    },
    {
     "cell_type": "code",
     "collapsed": false,
     "input": [],
     "language": "python",
     "metadata": {},
     "outputs": []
    },
    {
     "cell_type": "code",
     "collapsed": false,
     "input": [],
     "language": "python",
     "metadata": {},
     "outputs": []
    },
    {
     "cell_type": "code",
     "collapsed": false,
     "input": [],
     "language": "python",
     "metadata": {},
     "outputs": []
    },
    {
     "cell_type": "code",
     "collapsed": false,
     "input": [],
     "language": "python",
     "metadata": {},
     "outputs": []
    },
    {
     "cell_type": "code",
     "collapsed": false,
     "input": [],
     "language": "python",
     "metadata": {},
     "outputs": []
    },
    {
     "cell_type": "code",
     "collapsed": false,
     "input": [
      "from sklearn import neighbors\n",
      "from sklearn import preprocessing\n",
      "#X_scaled = preprocessing.scale(X) # many methods work better on scaled X\n",
      "clf1 = neighbors.KNeighborsRegressor(5)\n",
      "#train_X = X_scaled[:half]\n",
      "#test_X = X_scaled[half:]\n",
      "clf1.fit(X_train,Y_train)"
     ],
     "language": "python",
     "metadata": {},
     "outputs": [
      {
       "metadata": {},
       "output_type": "pyout",
       "prompt_number": 375,
       "text": [
        "KNeighborsRegressor(algorithm='auto', leaf_size=30, metric='minkowski',\n",
        "          n_neighbors=5, p=2, weights='uniform')"
       ]
      }
     ],
     "prompt_number": 375
    },
    {
     "cell_type": "code",
     "collapsed": false,
     "input": [
      "Y_knn_pred = clf1.predict(X_test)\n",
      "mse = mean_squared_error(Y_test,Y_knn_pred) ; print mse\n",
      "plot(Y_test, Y_knn_pred - Y_test,'o')\n",
      "title(\"k-NN Residuals - MSE = %.1f\" % mse)\n",
      "xlabel(\"True Median House Price ($1,000)\")\n",
      "ylabel(\"Residual\")\n",
      "hlines(0,min(Y_test),max(Y_test),color=\"red\")"
     ],
     "language": "python",
     "metadata": {},
     "outputs": [
      {
       "output_type": "stream",
       "stream": "stdout",
       "text": [
        "3653909.13275\n"
       ]
      },
      {
       "metadata": {},
       "output_type": "pyout",
       "prompt_number": 377,
       "text": [
        "<matplotlib.collections.LineCollection at 0x10aa18ad0>"
       ]
      },
      {
       "metadata": {},
       "output_type": "display_data",
       "png": "[encoded data removed]",
       "text": [
        "<matplotlib.figure.Figure at 0x10aa0dd10>"
       ]
      }
     ],
     "prompt_number": 377
    },
    {
     "cell_type": "code",
     "collapsed": false,
     "input": [],
     "language": "python",
     "metadata": {},
     "outputs": []
    },
    {
     "cell_type": "code",
     "collapsed": false,
     "input": [],
     "language": "python",
     "metadata": {},
     "outputs": []
    },
    {
     "cell_type": "code",
     "collapsed": false,
     "input": [],
     "language": "python",
     "metadata": {},
     "outputs": []
    },
    {
     "cell_type": "code",
     "collapsed": false,
     "input": [],
     "language": "python",
     "metadata": {},
     "outputs": []
    },
    {
     "cell_type": "code",
     "collapsed": false,
     "input": [],
     "language": "python",
     "metadata": {},
     "outputs": []
    },
    {
     "cell_type": "code",
     "collapsed": false,
     "input": [],
     "language": "python",
     "metadata": {},
     "outputs": []
    },
    {
     "cell_type": "code",
     "collapsed": false,
     "input": [
      "#loc = data['Location'].unique()\n",
      "\n",
      "#loclist = [(l) for l in loc]\n",
      "#loclist = list(set(newloc))\n",
      "#loclist[1]\n",
      "#locdict={}"
     ],
     "language": "python",
     "metadata": {},
     "outputs": [],
     "prompt_number": 244
    },
    {
     "cell_type": "code",
     "collapsed": false,
     "input": [],
     "language": "python",
     "metadata": {},
     "outputs": [],
     "prompt_number": 34
    },
    {
     "cell_type": "code",
     "collapsed": false,
     "input": [
      "import urllib, json\n",
      "import pprint\n",
      "invalid = []\n",
      "locdict={}\n",
      "for locname in loclist[1:]:\n",
      "    url2 = \"http://maps.googleapis.com/maps/api/geocode/json?address={}&sensor=false\".format(str(locname))\n",
      "    #print url2\n",
      "    googleResponse = urllib.urlopen(url2)\n",
      "    jsonResponse = json.loads(googleResponse.read())\n",
      "    try:\n",
      "        locdict[locname] = [jsonResponse['results'][0]['geometry']['location']['lat'],\n",
      "                        jsonResponse['results'][0]['geometry']['location']['lng']]\n",
      "    except:\n",
      "        locdict[locname] = 'Not found'\n",
      "        invalid.append(url2)\n",
      "locdict"
     ],
     "language": "python",
     "metadata": {},
     "outputs": []
    },
    {
     "cell_type": "code",
     "collapsed": false,
     "input": [
      "for i in invalid:\n",
      "    url2 = i\n",
      "    #print url2\n",
      "    googleResponse = urllib.urlopen(url2)\n",
      "    jsonResponse = json.loads(googleResponse.read())\n",
      "    try:\n",
      "        locdict[i] = jsonResponse['results'][0]['geometry']['location']['lng']\n",
      "    except:\n",
      "        print i\n"
     ],
     "language": "python",
     "metadata": {},
     "outputs": []
    },
    {
     "cell_type": "code",
     "collapsed": false,
     "input": [
      "googleResponse = urllib.urlopen(invalid[0])\n",
      "jsonResponse = json.loads(googleResponse.read())\n",
      "print jsonResponse #['results'][0]['geometry']['location']['lng']"
     ],
     "language": "python",
     "metadata": {},
     "outputs": []
    },
    {
     "cell_type": "code",
     "collapsed": false,
     "input": [
      "locdict"
     ],
     "language": "python",
     "metadata": {},
     "outputs": []
    },
    {
     "cell_type": "code",
     "collapsed": false,
     "input": [
      "unique = {}\n",
      "l = map(getgeo,uniqueloc)\n"
     ],
     "language": "python",
     "metadata": {},
     "outputs": []
    },
    {
     "cell_type": "code",
     "collapsed": false,
     "input": [
      "def getgeo(location):\n",
      "    g = geocoders.GoogleV3() \n",
      "    if location is None:\n",
      "        return \"%s: %.5f, %.5f\" % (place, 0, 0)  \n",
      "    else:   \n",
      "        place, (lat, lng) = g.geocode(location)  \n",
      "        return (place, lat, lng)   "
     ],
     "language": "python",
     "metadata": {},
     "outputs": []
    },
    {
     "cell_type": "code",
     "collapsed": false,
     "input": [],
     "language": "python",
     "metadata": {},
     "outputs": []
    },
    {
     "cell_type": "code",
     "collapsed": false,
     "input": [
      "g = geocoders.GoogleV3() \n",
      "place, (lat, lng) = g.geocode('Mojave, Paris, Vidulini, Tuzla, United States') \n",
      "print \"%s: %.5f, %.5f\" % (place, lat, lng)   "
     ],
     "language": "python",
     "metadata": {},
     "outputs": []
    },
    {
     "cell_type": "code",
     "collapsed": false,
     "input": [
      "data['geo'] = data['Location'].apply(getgeo)"
     ],
     "language": "python",
     "metadata": {},
     "outputs": []
    },
    {
     "cell_type": "code",
     "collapsed": false,
     "input": [
      "data['goal'] = data['Amount Raised']/data['Target Amount']\n"
     ],
     "language": "python",
     "metadata": {},
     "outputs": []
    },
    {
     "cell_type": "code",
     "collapsed": false,
     "input": [
      "def colorpicker(goal):\n",
      "    c = ''\n",
      "    if goal>=1:\n",
      "        c='g' \n",
      "    elif(goal<1):\n",
      "        c='b'\n",
      "    else:\n",
      "        c='r'\n",
      "    print \"%f:%s\" %(goal,c)\n",
      "    return c\n",
      "    \n",
      "data['color'] = data['goal'].apply(colorpicker)"
     ],
     "language": "python",
     "metadata": {},
     "outputs": []
    },
    {
     "cell_type": "code",
     "collapsed": false,
     "input": [
      "v = (data['color']=='g') & (data['goal'] <1)\n",
      "#len(data)\n",
      "#1281 = 1026 + 254 + 1\n",
      "# & (data['goal'] <1)"
     ],
     "language": "python",
     "metadata": {},
     "outputs": []
    },
    {
     "cell_type": "code",
     "collapsed": false,
     "input": [
      "data['color']"
     ],
     "language": "python",
     "metadata": {},
     "outputs": []
    },
    {
     "cell_type": "code",
     "collapsed": false,
     "input": [
      "import re\n",
      "def getfounders(f):\n",
      "    l=[]\n",
      "    for m in re.finditer( '],', f ):\n",
      "        l.append(m.start())\n",
      "    return len(l)\n",
      "    \n",
      "\"\"\"\n",
      ">> import re\n",
      ">>> text = \"Allowed Hello Hollow\"\n",
      ">>> for m in re.finditer( 'll', text ):\n",
      "...     print( 'll found', m.start(), m.end() )\n",
      "\"\"\""
     ],
     "language": "python",
     "metadata": {},
     "outputs": []
    },
    {
     "cell_type": "code",
     "collapsed": false,
     "input": [
      "data['#founders'] = data['Team Member (Name, URL)'].apply(getfounders)"
     ],
     "language": "python",
     "metadata": {},
     "outputs": []
    },
    {
     "cell_type": "code",
     "collapsed": false,
     "input": [
      "data.head(5)"
     ],
     "language": "python",
     "metadata": {},
     "outputs": []
    },
    {
     "cell_type": "code",
     "collapsed": false,
     "input": [
      "col"
     ],
     "language": "python",
     "metadata": {},
     "outputs": []
    },
    {
     "cell_type": "code",
     "collapsed": false,
     "input": [
      "\n",
      "%matplotlib inline\n",
      "fig,ax1 = plt.subplots(figsize=(12,8))\n",
      "goal = np.float64(data['goal'])\n",
      "duration = np.float64(data['Duration'])\n",
      "col = list(data['color'])\n",
      "ax1.set_title(\"Duration vs. Goal\",fontsize=16)\n",
      "p1 = ax1.scatter(duration,goal ,color='b',label=\"Duration vs. Goal\",linewidth=1.0)\n",
      "ax1.set_xlabel('Duration (days)')\n",
      "ax1.set_ylabel('Goal')\n",
      "ax1.set_ylim([0,3])\n",
      "ax1.set_xlim([-10,200])\n",
      "fig.savefig(\"Frontend/static/img/duration.png\")"
     ],
     "language": "python",
     "metadata": {},
     "outputs": []
    },
    {
     "cell_type": "code",
     "collapsed": false,
     "input": [
      "%matplotlib inline\n",
      "fig,ax1 = plt.subplots(figsize=(12,8))\n",
      "goal = np.float64(data['goal'])\n",
      "funders = np.float64(data['Number of Funders'])\n",
      "ax1.set_title(\"# of Funders vs. Goal\",fontsize=16)\n",
      "p1 = ax1.scatter(funders,goal, color='b',label=\"Duration vs. Goal\",linewidth=2.0,)\n",
      "ax1.set_xlabel('Funders ')\n",
      "ax1.set_ylabel('Goal')\n",
      "ax1.set_ylim([0,3])\n",
      "ax1.set_xlim([-10,200])"
     ],
     "language": "python",
     "metadata": {},
     "outputs": []
    },
    {
     "cell_type": "code",
     "collapsed": false,
     "input": [
      "%matplotlib inline\n",
      "fig,ax1 = plt.subplots(figsize=(12,8))\n",
      "goal = data['goal']\n",
      "sponsers = data['#founders']\n",
      "ax1.set_title(\"# of Sponsors vs. Goal\",fontsize=16)\n",
      "p1 = ax1.scatter(sponsers,goal, color=col,label=\"Sponsers vs. Goal\",linewidth=2.0,)\n",
      "ax1.set_xlabel('Sponsors ')\n",
      "ax1.set_ylabel('Goal')\n",
      "ax1.set_ylim([0,3])\n",
      "ax1.set_xlim([0,30])"
     ],
     "language": "python",
     "metadata": {},
     "outputs": []
    },
    {
     "cell_type": "code",
     "collapsed": false,
     "input": [
      "\n",
      "%matplotlib inline\n",
      "fig,ax1 = plt.subplots(figsize=(12,8))\n",
      "goal = np.float64(data['goal'])\n",
      "eta = np.float64(data['ETA (days)'])\n",
      "ax1.set_title(\"ETA (days) vs. Goal\",fontsize=16)\n",
      "p1 = ax1.scatter(eta,goal, color='b',label=\"ETA (days) vs. Goal\",linewidth=2.0,)\n",
      "ax1.set_xlabel('ETA (days) ')\n",
      "ax1.set_ylabel('Goal')\n",
      "ax1.set_ylim([0,3])\n",
      "ax1.set_xlim([-1,30])\n"
     ],
     "language": "python",
     "metadata": {},
     "outputs": []
    },
    {
     "cell_type": "code",
     "collapsed": false,
     "input": [
      "from itertools import izip\n",
      "for x in imap(,col):\n",
      "    print x\n",
      "\n"
     ],
     "language": "python",
     "metadata": {},
     "outputs": []
    },
    {
     "cell_type": "code",
     "collapsed": false,
     "input": [
      "import numpy as np\n",
      "from sklearn import cross_validation\n",
      "from sklearn import datasets\n",
      "from sklearn import svm\n",
      "clf = svm.SVC(kernel='linear', C=1)\n",
      "scores = cross_validation.cross_val_score(\n",
      "clf, X, Y, cv=25)\n",
      "print scores"
     ],
     "language": "python",
     "metadata": {},
     "outputs": [],
     "prompt_number": "*"
    },
    {
     "cell_type": "code",
     "collapsed": false,
     "input": [
      "len(Y)"
     ],
     "language": "python",
     "metadata": {},
     "outputs": [],
     "prompt_number": "*"
    },
    {
     "cell_type": "code",
     "collapsed": false,
     "input": [
      "arr = np.arange(9).reshape((3, 3))\n",
      "print arr\n",
      "#np.random.shuffle(arr)\n",
      "#arr\n",
      "#array([[3, 4, 5],\n",
      "#       [6, 7, 8],\n",
      "#       [0, 1, 2]])"
     ],
     "language": "python",
     "metadata": {},
     "outputs": [
      {
       "output_type": "stream",
       "stream": "stdout",
       "text": [
        "[[0 1 2]\n",
        " [3 4 5]\n",
        " [6 7 8]]\n"
       ]
      }
     ],
     "prompt_number": 397
    },
    {
     "cell_type": "code",
     "collapsed": false,
     "input": [
      "np.random.shuffle(arr)"
     ],
     "language": "python",
     "metadata": {},
     "outputs": [],
     "prompt_number": 398
    },
    {
     "cell_type": "code",
     "collapsed": false,
     "input": [
      "arr"
     ],
     "language": "python",
     "metadata": {},
     "outputs": [
      {
       "metadata": {},
       "output_type": "pyout",
       "prompt_number": 399,
       "text": [
        "array([[0, 1, 2],\n",
        "       [6, 7, 8],\n",
        "       [3, 4, 5]])"
       ]
      }
     ],
     "prompt_number": 399
    },
    {
     "cell_type": "code",
     "collapsed": false,
     "input": [],
     "language": "python",
     "metadata": {},
     "outputs": []
    }
   ],
   "metadata": {}
  }
 ]
}