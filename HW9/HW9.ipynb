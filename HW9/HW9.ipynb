{
 "metadata": {
  "name": ""
 },
 "nbformat": 3,
 "nbformat_minor": 0,
 "worksheets": [
  {
   "cells": [
    {
     "cell_type": "code",
     "collapsed": false,
     "input": [
      "%matplotlib inline\n",
      "from time import time\n",
      "import matplotlib.pyplot as plt\n",
      "import numpy as np\n",
      "import pandas as pd \n",
      "from multiprocessing import Pool, cpu_count"
     ],
     "language": "python",
     "metadata": {},
     "outputs": [],
     "prompt_number": 61
    },
    {
     "cell_type": "code",
     "collapsed": false,
     "input": [
      "#Initialising dictionary variables to store the calculated value time and Simulations rate for darts [1e1,1e2,1e3,1e4,1e5,1e6,1e7]\n",
      "total_darts_list = [1e1,1e2,1e3,1e4,1e5,1e6,1e7]\n",
      "result_time_mul = {}\n",
      "result_dartpersec_mul = {}\n",
      "result_time_ip = {}\n",
      "result_dartpersec_ip = {}\n",
      "result_time_ser = {}\n",
      "result_dartpersec_ser = {}\n",
      "total_darts_list"
     ],
     "language": "python",
     "metadata": {},
     "outputs": [
      {
       "metadata": {},
       "output_type": "pyout",
       "prompt_number": 62,
       "text": [
        "[10.0, 100.0, 1000.0, 10000.0, 100000.0, 1000000.0, 10000000.0]"
       ]
      }
     ],
     "prompt_number": 62
    },
    {
     "cell_type": "code",
     "collapsed": false,
     "input": [
      "#Plotting darts\n",
      "def sample_circle(n):\n",
      "    import numpy as np\n",
      "    m = 0\n",
      "    if type(n) is list:\n",
      "        rg = range(int(n[0]),int(n[1]))\n",
      "    else:\n",
      "        rg = range(int(n))\n",
      "    for i in rg: #loop over n points\n",
      "        p = np.random.rand(2) # give coordinates of a random point\n",
      "        if sum(p**2.) <= 1.: #distnace from prigin, >1 out\n",
      "            m += 1\n",
      "    return m\n",
      "\n",
      "def brute_pi(n):\n",
      "    m = sample_circle(n)\n",
      "    return 4.* m/n\n",
      "\n",
      "def err(npi):\n",
      "    return 100*abs(np.pi-npi)/np.pi"
     ],
     "language": "python",
     "metadata": {},
     "outputs": [],
     "prompt_number": 63
    },
    {
     "cell_type": "code",
     "collapsed": false,
     "input": [
      "#Splitting the number of darts by the number of clusters\n",
      "def split_seq(seq, size):\n",
      "        newseq = []\n",
      "        splitsize = 1.0/size*seq\n",
      "        for i in range(size):\n",
      "            newseq.append([int(round(i*splitsize)),int(round((i+1)*splitsize))])\n",
      "        return newseq"
     ],
     "language": "python",
     "metadata": {},
     "outputs": [],
     "prompt_number": 64
    },
    {
     "cell_type": "heading",
     "level": 2,
     "metadata": {},
     "source": [
      "Multiprocessing"
     ]
    },
    {
     "cell_type": "code",
     "collapsed": false,
     "input": [
      "\n",
      "def parallelprocessing(total_darts,numprocessors=cpu_count()):\n",
      "    split_darts = split_seq(total_darts, numprocessors)\n",
      "    start_time = time()\n",
      "    print numprocessors\n",
      "    p = Pool(numprocessors)\n",
      "    print split_darts\n",
      "    result = p.map_async(sample_circle, split_darts)\n",
      "    poolresult = result.get()\n",
      "    end_time = time()    \n",
      "    print (\"Finished extracting features. Total time: \" + \n",
      "        str(round(end_time-start_time, 3)) + \" s, or \" + \n",
      "        str( round( float(total_darts)/(end_time-start_time), 4 ) ) + \" s/image.\")\n",
      "    p.terminate()\n",
      "    result_time_mul[total_darts]=round(end_time-start_time, 4)\n",
      "    result_dartpersec_mul[total_darts]=round(float(total_darts)/(end_time-start_time), 4 ) "
     ],
     "language": "python",
     "metadata": {},
     "outputs": [],
     "prompt_number": 65
    },
    {
     "cell_type": "code",
     "collapsed": false,
     "input": [
      "#Calling multiprocessing\n",
      "for darts in total_darts_list:\n",
      "    parallelprocessing(int(darts),cpu_count())"
     ],
     "language": "python",
     "metadata": {},
     "outputs": [
      {
       "output_type": "stream",
       "stream": "stdout",
       "text": [
        "4\n"
       ]
      },
      {
       "output_type": "stream",
       "stream": "stdout",
       "text": [
        "[[0, 3], [3, 5], [5, 8], [8, 10]]\n",
        "Finished extracting features. Total time: 0.022 s, or 450.4096 s/image.\n",
        "4"
       ]
      },
      {
       "output_type": "stream",
       "stream": "stdout",
       "text": [
        "\n"
       ]
      },
      {
       "output_type": "stream",
       "stream": "stdout",
       "text": [
        "[[0, 25], [25, 50], [50, 75], [75, 100]]\n",
        "Finished extracting features. Total time: 0.022 s, or 4551.0123 s/image.\n",
        "4"
       ]
      },
      {
       "output_type": "stream",
       "stream": "stdout",
       "text": [
        "\n"
       ]
      },
      {
       "output_type": "stream",
       "stream": "stdout",
       "text": [
        "[[0, 250], [250, 500], [500, 750], [750, 1000]]\n",
        "Finished extracting features. Total time: 0.026 s, or 38922.6429 s/image.\n",
        "4"
       ]
      },
      {
       "output_type": "stream",
       "stream": "stdout",
       "text": [
        "\n"
       ]
      },
      {
       "output_type": "stream",
       "stream": "stdout",
       "text": [
        "[[0, 2500], [2500, 5000], [5000, 7500], [7500, 10000]]\n",
        "Finished extracting features. Total time: 0.063 s, or 158410.7201 s/image.\n",
        "4"
       ]
      },
      {
       "output_type": "stream",
       "stream": "stdout",
       "text": [
        "\n"
       ]
      },
      {
       "output_type": "stream",
       "stream": "stdout",
       "text": [
        "[[0, 25000], [25000, 50000], [50000, 75000], [75000, 100000]]\n",
        "Finished extracting features. Total time: 0.49 s, or 204042.1151 s/image."
       ]
      },
      {
       "output_type": "stream",
       "stream": "stdout",
       "text": [
        "\n",
        "4\n"
       ]
      },
      {
       "output_type": "stream",
       "stream": "stdout",
       "text": [
        "[[0, 250000], [250000, 500000], [500000, 750000], [750000, 1000000]]\n",
        "Finished extracting features. Total time: 4.608 s, or 217026.6993 s/image."
       ]
      },
      {
       "output_type": "stream",
       "stream": "stdout",
       "text": [
        "\n",
        "4"
       ]
      },
      {
       "output_type": "stream",
       "stream": "stdout",
       "text": [
        "\n"
       ]
      },
      {
       "output_type": "stream",
       "stream": "stdout",
       "text": [
        "[[0, 2500000], [2500000, 5000000], [5000000, 7500000], [7500000, 10000000]]\n",
        "Finished extracting features. Total time: 44.124 s, or 226634.9298 s/image."
       ]
      },
      {
       "output_type": "stream",
       "stream": "stdout",
       "text": [
        "\n"
       ]
      }
     ],
     "prompt_number": 66
    },
    {
     "cell_type": "code",
     "collapsed": false,
     "input": [
      "print result_time_mul\n",
      "print result_dartpersec_mul"
     ],
     "language": "python",
     "metadata": {},
     "outputs": [
      {
       "output_type": "stream",
       "stream": "stdout",
       "text": [
        "{100000: 0.4901, 1000000: 4.6077, 100: 0.022, 1000: 0.0257, 10: 0.0222, 10000: 0.0631, 10000000: 44.1238}\n",
        "{100000: 204042.1151, 1000000: 217026.6993, 100: 4551.0123, 1000: 38922.6429, 10: 450.4096, 10000: 158410.7201, 10000000: 226634.9298}\n"
       ]
      }
     ],
     "prompt_number": 67
    },
    {
     "cell_type": "heading",
     "level": 2,
     "metadata": {},
     "source": [
      "Serial"
     ]
    },
    {
     "cell_type": "code",
     "collapsed": false,
     "input": [
      "for darts in total_darts_list:\n",
      "    start_time = time()\n",
      "    sample_circle(int(darts))\n",
      "    end_time = time()\n",
      "    result_time_ser[darts]=round(end_time-start_time, 4)\n",
      "    result_dartpersec_ser[darts]=round(float(darts)/(end_time-start_time), 4 ) "
     ],
     "language": "python",
     "metadata": {},
     "outputs": [],
     "prompt_number": 68
    },
    {
     "cell_type": "code",
     "collapsed": false,
     "input": [
      "print result_time_ser\n",
      "print result_dartpersec_ser"
     ],
     "language": "python",
     "metadata": {},
     "outputs": [
      {
       "output_type": "stream",
       "stream": "stdout",
       "text": [
        "{100000.0: 0.9966, 1000000.0: 10.314, 100.0: 0.002, 1000.0: 0.0177, 10.0: 0.0003, 10000.0: 0.1322, 10000000.0: 99.0433}\n",
        "{100000.0: 100341.6728, 1000000.0: 96955.3309, 100.0: 50479.0468, 1000.0: 56596.4188, 10.0: 35098.7782, 10000.0: 75656.7446, 10000000.0: 100965.975}\n"
       ]
      }
     ],
     "prompt_number": 69
    },
    {
     "cell_type": "heading",
     "level": 2,
     "metadata": {},
     "source": [
      "IP Cluster"
     ]
    },
    {
     "cell_type": "code",
     "collapsed": false,
     "input": [
      "from IPython import parallel\n",
      "rc = parallel.Client()\n",
      "rc.block = True\n",
      "dview = rc[:]"
     ],
     "language": "python",
     "metadata": {},
     "outputs": [],
     "prompt_number": 70
    },
    {
     "cell_type": "code",
     "collapsed": false,
     "input": [
      "def ipcluster(total_darts):\n",
      "    split_darts = split_seq(total_darts, cpu_count())\n",
      "    print split_darts\n",
      "    start_time = time()\n",
      "    dview.map(sample_circle,split_darts)\n",
      "    end_time = time() \n",
      "    print (\"Finished extracting features. Total time: \" + \n",
      "        str(round(end_time-start_time, 3)) + \" s, or \" + \n",
      "        str( round(float(total_darts)/ (end_time-start_time), 4 ) ) + \" s/image.\")\n",
      "    result_time_ip[total_darts]=round(end_time-start_time, 4)\n",
      "    result_dartpersec_ip[total_darts]=round(float(total_darts)/ (end_time-start_time), 4 )    "
     ],
     "language": "python",
     "metadata": {},
     "outputs": [],
     "prompt_number": 71
    },
    {
     "cell_type": "code",
     "collapsed": false,
     "input": [
      "for darts in total_darts_list:\n",
      "    ipcluster(int(darts))\n",
      "print result_dartpersec_ip"
     ],
     "language": "python",
     "metadata": {},
     "outputs": [
      {
       "output_type": "stream",
       "stream": "stdout",
       "text": [
        "[[0, 3], [3, 5], [5, 8], [8, 10]]\n",
        "Finished extracting features. Total time: 0.023 s, or 443.6774 s/image.\n",
        "[[0, 25], [25, 50], [50, 75], [75, 100]]\n",
        "Finished extracting features. Total time: 0.013 s, or 7456.0102 s/image.\n",
        "[[0, 250], [250, 500], [500, 750], [750, 1000]]\n",
        "Finished extracting features. Total time: 0.016 s, or 62216.1833 s/image."
       ]
      },
      {
       "output_type": "stream",
       "stream": "stdout",
       "text": [
        "\n",
        "[[0, 2500], [2500, 5000], [5000, 7500], [7500, 10000]]\n",
        "Finished extracting features. Total time: 0.072 s, or 138995.1584 s/image."
       ]
      },
      {
       "output_type": "stream",
       "stream": "stdout",
       "text": [
        "\n",
        "[[0, 25000], [25000, 50000], [50000, 75000], [75000, 100000]]\n",
        "Finished extracting features. Total time: 0.568 s, or 175920.9596 s/image."
       ]
      },
      {
       "output_type": "stream",
       "stream": "stdout",
       "text": [
        "\n",
        "[[0, 250000], [250000, 500000], [500000, 750000], [750000, 1000000]]\n",
        "Finished extracting features. Total time: 5.25 s, or 190466.8315 s/image."
       ]
      },
      {
       "output_type": "stream",
       "stream": "stdout",
       "text": [
        "\n",
        "[[0, 2500000], [2500000, 5000000], [5000000, 7500000], [7500000, 10000000]]\n",
        "Finished extracting features. Total time: 47.299 s, or 211418.8192 s/image."
       ]
      },
      {
       "output_type": "stream",
       "stream": "stdout",
       "text": [
        "\n",
        "{100000: 175920.9596, 1000000: 190466.8315, 100: 7456.0102, 1000: 62216.1833, 10: 443.6774, 10000: 138995.1584, 10000000: 211418.8192}\n"
       ]
      }
     ],
     "prompt_number": 72
    },
    {
     "cell_type": "code",
     "collapsed": false,
     "input": [
      "print result_time_ip\n",
      "print result_dartpersec_ip"
     ],
     "language": "python",
     "metadata": {},
     "outputs": [
      {
       "output_type": "stream",
       "stream": "stdout",
       "text": [
        "{100000: 0.5684, 1000000: 5.2503, 100: 0.0134, 1000: 0.0161, 10: 0.0225, 10000: 0.0719, 10000000: 47.2995}\n",
        "{100000: 175920.9596, 1000000: 190466.8315, 100: 7456.0102, 1000: 62216.1833, 10: 443.6774, 10000: 138995.1584, 10000000: 211418.8192}\n"
       ]
      }
     ],
     "prompt_number": 73
    },
    {
     "cell_type": "heading",
     "level": 2,
     "metadata": {},
     "source": [
      "Graph"
     ]
    },
    {
     "cell_type": "code",
     "collapsed": false,
     "input": [
      "#Taking vaue sin variables for plotting x and y axis\n",
      "total_darts_list\n",
      "time_ser = [result_time_ser[val] for val in total_darts_list]\n",
      "time_mul = [result_time_mul[val] for val in total_darts_list]\n",
      "time_ip =  [result_time_ip[val] for val in total_darts_list]\n",
      "\n",
      "dartpersec_ser = [result_dartpersec_ser[val] for val in total_darts_list]\n",
      "dartpersec_mul = [result_dartpersec_mul[val] for val in total_darts_list]\n",
      "dartpersec_ip = [result_dartpersec_ip[val] for val in total_darts_list]\n",
      "print result_dartpersec_ser\n",
      "print dartpersec_ser"
     ],
     "language": "python",
     "metadata": {},
     "outputs": [
      {
       "output_type": "stream",
       "stream": "stdout",
       "text": [
        "{100000.0: 100341.6728, 1000000.0: 96955.3309, 100.0: 50479.0468, 1000.0: 56596.4188, 10.0: 35098.7782, 10000.0: 75656.7446, 10000000.0: 100965.975}\n",
        "[35098.7782, 50479.0468, 56596.4188, 75656.7446, 100341.6728, 96955.3309, 100965.975]\n"
       ]
      }
     ],
     "prompt_number": 74
    },
    {
     "cell_type": "code",
     "collapsed": false,
     "input": [
      "import math\n",
      "#Plotting the data on axis 1\n",
      "fig,ax1 = plt.subplots(figsize=(12,8))\n",
      "ax1.set_title(\"Macbook Pro with 2.5 GHz Intel Core i5\",fontsize=16)\n",
      "\n",
      "x_tick_locs = map(lambda x: round((math.log(x,10))), total_darts_list)\n",
      "y = [1e-4, 1e-3, 1e-2, 1e-1, 1e0, 1e1,1e2,1e3]\n",
      "y_tick_locs = map(lambda x: round((math.log(x,10))), y)\n",
      "\n",
      "p1 = ax1.plot(x_tick_locs,map(lambda x: (math.log(x,10)), time_ser), color='red',label=\"Serial Processing\",linewidth=2.0)\n",
      "p2 = ax1.plot(x_tick_locs,map(lambda x: (math.log(x,10)), time_mul), color='purple',label=\"Multiprocessing\",linewidth=2.0)\n",
      "p3 = ax1.plot(x_tick_locs,map(lambda x: (math.log(x,10)), time_ip), color='green',label=\"IpCluster\",linewidth=2.0)\n",
      "\n",
      "ax1.set_xlabel('# of Darts')\n",
      "ax1.set_ylabel('Time in seconds')\n",
      "x_tick_lbls= total_darts_list\n",
      "y_tick_lbls= y\n",
      "ax1.xaxis.set_ticks(x_tick_locs)\n",
      "ax1.yaxis.set_ticks(y_tick_locs)\n",
      "ax1.xaxis.set_ticklabels(x_tick_lbls)\n",
      "ax1.yaxis.set_ticklabels(y_tick_lbls)\n",
      "ax1.set_xlim(1,7)\n",
      "ax1.set_ylim(-4,2.5)\n",
      "\n",
      "#creating twin axis\n",
      "ax2= ax1.twinx()\n",
      "y = [1e2,1e3,1e4,1e5,1e6,1e7]\n",
      "y_tick_locs = map(lambda x: round((math.log(x,10))), y)\n",
      "y_tick_lbls = y\n",
      "p4 = ax2.plot(x_tick_locs,map(lambda x: (math.log(x,10)), dartpersec_ser),linestyle='--', color='red',label=\"Serial Processing\",linewidth=2.0)\n",
      "p5 = ax2.plot(x_tick_locs,map(lambda x: (math.log(x,10)), dartpersec_mul),linestyle='--', color='purple',label=\"Multiprocessing\",linewidth=2.0)\n",
      "p6 = ax2.plot(x_tick_locs,map(lambda x: (math.log(x,10)), dartpersec_ip), linestyle='--',color='green',label=\"IpCluster\",linewidth=2.0)\n",
      "ax2.xaxis.set_ticks(x_tick_locs)\n",
      "ax2.yaxis.set_ticks(y_tick_locs)\n",
      "ax2.xaxis.set_ticklabels(x_tick_lbls)\n",
      "ax2.yaxis.set_ticklabels(y_tick_lbls)\n",
      "ax2.set_xlim(1,7)\n",
      "ax2.set_ylim(2,7)\n",
      "ax2.set_ylabel('Simulation Rate Darts per second')\n",
      "\n",
      "p = p1+p2+p3\n",
      "labs = [l.get_label() for l in p]\n",
      "\n",
      "#Adding legend at the specified position\n",
      "ax1.legend(p, labs, loc=2)"
     ],
     "language": "python",
     "metadata": {},
     "outputs": [
      {
       "metadata": {},
       "output_type": "pyout",
       "prompt_number": 76,
       "text": [
        "<matplotlib.legend.Legend at 0x108422f90>"
       ]
      },
      {
       "metadata": {},
       "output_type": "display_data",
       "png": "[encoded data removed]",
       "text": [
        "<matplotlib.figure.Figure at 0x10823b610>"
       ]
      }
     ],
     "prompt_number": 76
    },
    {
     "cell_type": "code",
     "collapsed": false,
     "input": [],
     "language": "python",
     "metadata": {},
     "outputs": []
    }
   ],
   "metadata": {}
  }
 ]
}