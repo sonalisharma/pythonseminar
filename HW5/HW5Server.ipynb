{
 "metadata": {
  "name": ""
 },
 "nbformat": 3,
 "nbformat_minor": 0,
 "worksheets": [
  {
   "cells": [
    {
     "cell_type": "code",
     "collapsed": false,
     "input": [
      "%matplotlib inline\n",
      "import SimpleXMLRPCServer\n",
      "import pickle\n",
      "import matplotlib.pyplot as plt\n",
      "import matplotlib.image as mpimg\n",
      "import numpy as np\n",
      "import Image\n",
      "class Some_Class_We_Want_Remotely_Accessible:\n",
      "    def meanluminance(self,img):\n",
      "        \"\"\"\n",
      "        meanluminance method\n",
      "        ---------------------------------\n",
      "        This method calculates the mean of rgb values and\n",
      "        returns the image array as a list.\n",
      "        \"\"\"\n",
      "        newimg = np.array(img)\n",
      "        meanchannel = newimg.mean(axis=2)\n",
      "        temp = meanchannel.tolist()\n",
      "        return temp\n",
      "        \n",
      "    def redchannel(self,img):\n",
      "        \"\"\"\n",
      "        redchannel\n",
      "        ---------------------------------\n",
      "        This method returns the red channel of the image as an output\n",
      "        Arguments passed is the the list of image data\n",
      "        \"\"\"\n",
      "        newimg = np.array(img)\n",
      "        redchannel = newimg[...,0]\n",
      "        img_redchannel = redchannel.tolist()\n",
      "        return img_redchannel\n",
      "    \n",
      "    def invertingcolors(self,image, shape):\n",
      "        \"\"\"\n",
      "        invertingcolors \n",
      "        ---------------------------------\n",
      "        This method exchanges the rgb colors of the image.\n",
      "        Arguments passed is the the list of image data and its shape\n",
      "        \"\"\"    \n",
      "        temp = np.array(image)\n",
      "        newimage = temp\n",
      "        redchannel = temp[...,0]\n",
      "        greenchannel = temp[...,1]\n",
      "        bluechannel = temp[...,2]\n",
      "        \n",
      "        for rows in range(shape[0]):\n",
      "            for cols in range(shape[1]):\n",
      "                newimage[rows][cols]=[greenchannel[rows][cols],bluechannel[rows][cols],redchannel[rows][cols]]\n",
      "        \n",
      "        i = newimage.tolist()\n",
      "        return i\n",
      "    \n",
      "host, port = \"\", 5028\n",
      "server = SimpleXMLRPCServer.SimpleXMLRPCServer((host, port), allow_none=True)\n",
      "server.register_instance(Some_Class_We_Want_Remotely_Accessible())\n",
      "server.register_multicall_functions()\n",
      "server.register_introspection_functions()\n",
      "print \"XMLRPC Server is starting at:\", host, port"
     ],
     "language": "python",
     "metadata": {},
     "outputs": [
      {
       "output_type": "stream",
       "stream": "stdout",
       "text": [
        "XMLRPC Server is starting at:  5028\n"
       ]
      }
     ],
     "prompt_number": 1
    },
    {
     "cell_type": "code",
     "collapsed": false,
     "input": [
      "server.serve_forever()"
     ],
     "language": "python",
     "metadata": {},
     "outputs": [],
     "prompt_number": "*"
    },
    {
     "cell_type": "code",
     "collapsed": false,
     "input": [],
     "language": "python",
     "metadata": {},
     "outputs": []
    },
    {
     "cell_type": "code",
     "collapsed": false,
     "input": [],
     "language": "python",
     "metadata": {},
     "outputs": []
    },
    {
     "cell_type": "code",
     "collapsed": false,
     "input": [],
     "language": "python",
     "metadata": {},
     "outputs": []
    },
    {
     "cell_type": "code",
     "collapsed": false,
     "input": [],
     "language": "python",
     "metadata": {},
     "outputs": []
    },
    {
     "cell_type": "code",
     "collapsed": false,
     "input": [],
     "language": "python",
     "metadata": {},
     "outputs": []
    },
    {
     "cell_type": "code",
     "collapsed": false,
     "input": [],
     "language": "python",
     "metadata": {},
     "outputs": []
    },
    {
     "cell_type": "code",
     "collapsed": false,
     "input": [],
     "language": "python",
     "metadata": {},
     "outputs": []
    },
    {
     "cell_type": "code",
     "collapsed": false,
     "input": [],
     "language": "python",
     "metadata": {},
     "outputs": []
    },
    {
     "cell_type": "code",
     "collapsed": false,
     "input": [],
     "language": "python",
     "metadata": {},
     "outputs": []
    }
   ],
   "metadata": {}
  }
 ]
}