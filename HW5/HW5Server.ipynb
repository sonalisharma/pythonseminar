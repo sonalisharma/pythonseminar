{
 "metadata": {
  "name": ""
 },
 "nbformat": 3,
 "nbformat_minor": 0,
 "worksheets": [
  {
   "cells": [
    {
     "cell_type": "code",
     "collapsed": false,
     "input": [
      "%matplotlib inline\n",
      "import SimpleXMLRPCServer\n",
      "import pickle\n",
      "import matplotlib.pyplot as plt\n",
      "import matplotlib.image as mpimg\n",
      "import numpy as np\n",
      "class Some_Class_We_Want_Remotely_Accessible:\n",
      "    def rgb2gray(self,img):\n",
      "        \"\"\"\n",
      "        This method takes image array as an input and return the gray scale value\n",
      "        of the images as an output.\n",
      "        \"\"\"\n",
      "        #plt.imshow(img)\n",
      "        pkl_file = open(img, 'rb')\n",
      "        imgfile = pickle.load(pkl_file)\n",
      "        r, g, b = imgfile[:,:,0], imgfile[:,:,1], imgfile[:,:,2]\n",
      "        imgarray1_gray = 0.2989 * r + 0.5870 * g + 0.1140 * b  \n",
      "        pickle.dump(imgarray1_gray,open(\"rgb2gray\",'w'))\n",
      "        plt.imshow(imgarray1_gray,cmap = plt.get_cmap('gray'))\n",
      "        name = 'rgb2gray'\n",
      "        return name\n",
      "    def redchannel(self, img):\n",
      "        \"\"\"\n",
      "        this method returns the red channel of the image as an output\n",
      "        \"\"\"\n",
      "        pkl_file = open(img, 'rb')\n",
      "        imgfile = pickle.load(pkl_file)\n",
      "        newimg = imgfile[...,0]\n",
      "        pickle.dump(newimg, open(\"redchannel\",'w'))\n",
      "        plt.imshow(newimg)\n",
      "        name = \"redchannel\"\n",
      "        return name\n",
      "host, port = \"\", 5028\n",
      "server = SimpleXMLRPCServer.SimpleXMLRPCServer((host, port), allow_none=True)\n",
      "server.register_instance(Some_Class_We_Want_Remotely_Accessible())\n",
      "server.register_multicall_functions()\n",
      "server.register_introspection_functions()\n",
      "print \"XMLRPC Server is starting at:\", host, port"
     ],
     "language": "python",
     "metadata": {},
     "outputs": [
      {
       "output_type": "stream",
       "stream": "stdout",
       "text": [
        "XMLRPC Server is starting at:  5028\n"
       ]
      }
     ],
     "prompt_number": 20
    },
    {
     "cell_type": "code",
     "collapsed": false,
     "input": [
      "server.serve_forever()"
     ],
     "language": "python",
     "metadata": {},
     "outputs": [
      {
       "output_type": "stream",
       "stream": "stderr",
       "text": [
        "1.0.0.127.in-addr.arpa - - [06/Oct/2013 12:12:45] \"POST /RPC2 HTTP/1.1\" 200 -\n",
        "1.0.0.127.in-addr.arpa - - [06/Oct/2013 12:13:16] \"POST /RPC2 HTTP/1.1\" 200 -\n"
       ]
      },
      {
       "output_type": "stream",
       "stream": "stderr",
       "text": [
        "1.0.0.127.in-addr.arpa - - [06/Oct/2013 12:13:16] \"POST /RPC2 HTTP/1.1\" 200 -\n",
        "1.0.0.127.in-addr.arpa - - [06/Oct/2013 12:13:54] \"POST /RPC2 HTTP/1.1\" 200 -\n"
       ]
      },
      {
       "output_type": "stream",
       "stream": "stderr",
       "text": [
        "1.0.0.127.in-addr.arpa - - [06/Oct/2013 12:13:54] \"POST /RPC2 HTTP/1.1\" 200 -\n",
        "1.0.0.127.in-addr.arpa - - [06/Oct/2013 12:17:09] \"POST /RPC2 HTTP/1.1\" 200 -\n"
       ]
      },
      {
       "ename": "KeyboardInterrupt",
       "evalue": "",
       "output_type": "pyerr",
       "traceback": [
        "\u001b[0;31m---------------------------------------------------------------------------\u001b[0m\n\u001b[0;31mKeyboardInterrupt\u001b[0m                         Traceback (most recent call last)",
        "\u001b[0;32m<ipython-input-18-30934a6743d8>\u001b[0m in \u001b[0;36m<module>\u001b[0;34m()\u001b[0m\n\u001b[0;32m----> 1\u001b[0;31m \u001b[0mserver\u001b[0m\u001b[0;34m.\u001b[0m\u001b[0mserve_forever\u001b[0m\u001b[0;34m(\u001b[0m\u001b[0;34m)\u001b[0m\u001b[0;34m\u001b[0m\u001b[0m\n\u001b[0m",
        "\u001b[0;32m/Library/Frameworks/EPD64.framework/Versions/7.3/lib/python2.7/SocketServer.pyc\u001b[0m in \u001b[0;36mserve_forever\u001b[0;34m(self, poll_interval)\u001b[0m\n\u001b[1;32m    223\u001b[0m                 \u001b[0;31m# polling. Polling reduces our responsiveness to a\u001b[0m\u001b[0;34m\u001b[0m\u001b[0;34m\u001b[0m\u001b[0m\n\u001b[1;32m    224\u001b[0m                 \u001b[0;31m# shutdown request and wastes cpu at all other times.\u001b[0m\u001b[0;34m\u001b[0m\u001b[0;34m\u001b[0m\u001b[0m\n\u001b[0;32m--> 225\u001b[0;31m                 \u001b[0mr\u001b[0m\u001b[0;34m,\u001b[0m \u001b[0mw\u001b[0m\u001b[0;34m,\u001b[0m \u001b[0me\u001b[0m \u001b[0;34m=\u001b[0m \u001b[0mselect\u001b[0m\u001b[0;34m.\u001b[0m\u001b[0mselect\u001b[0m\u001b[0;34m(\u001b[0m\u001b[0;34m[\u001b[0m\u001b[0mself\u001b[0m\u001b[0;34m]\u001b[0m\u001b[0;34m,\u001b[0m \u001b[0;34m[\u001b[0m\u001b[0;34m]\u001b[0m\u001b[0;34m,\u001b[0m \u001b[0;34m[\u001b[0m\u001b[0;34m]\u001b[0m\u001b[0;34m,\u001b[0m \u001b[0mpoll_interval\u001b[0m\u001b[0;34m)\u001b[0m\u001b[0;34m\u001b[0m\u001b[0m\n\u001b[0m\u001b[1;32m    226\u001b[0m                 \u001b[0;32mif\u001b[0m \u001b[0mself\u001b[0m \u001b[0;32min\u001b[0m \u001b[0mr\u001b[0m\u001b[0;34m:\u001b[0m\u001b[0;34m\u001b[0m\u001b[0m\n\u001b[1;32m    227\u001b[0m                     \u001b[0mself\u001b[0m\u001b[0;34m.\u001b[0m\u001b[0m_handle_request_noblock\u001b[0m\u001b[0;34m(\u001b[0m\u001b[0;34m)\u001b[0m\u001b[0;34m\u001b[0m\u001b[0m\n",
        "\u001b[0;31mKeyboardInterrupt\u001b[0m: "
       ]
      },
      {
       "output_type": "stream",
       "stream": "stderr",
       "text": [
        "1.0.0.127.in-addr.arpa - - [06/Oct/2013 12:17:09] \"POST /RPC2 HTTP/1.1\" 200 -\n"
       ]
      }
     ],
     "prompt_number": "*"
    },
    {
     "cell_type": "code",
     "collapsed": false,
     "input": [],
     "language": "python",
     "metadata": {},
     "outputs": []
    }
   ],
   "metadata": {}
  }
 ]
}