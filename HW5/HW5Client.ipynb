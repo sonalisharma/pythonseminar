{
 "metadata": {
  "name": ""
 },
 "nbformat": 3,
 "nbformat_minor": 0,
 "worksheets": [
  {
   "cells": [
    {
     "cell_type": "code",
     "collapsed": false,
     "input": [
      "%matplotlib inline\n",
      "import xmlrpclib, sys\n",
      "import numpy as np\n",
      "import pickle\n",
      "import matplotlib.pyplot as plt\n",
      "import matplotlib.image as mpimg\n",
      "import Image\n",
      "import os\n",
      "from os import listdir\n",
      "host, port = \"\", 5028\n",
      "server = xmlrpclib.ServerProxy(\"http://%s:%d\" % (host, port))\n",
      "available_methods = server.system.listMethods()\n",
      "print \"Available methods from server:\"\n",
      "for method in available_methods:\n",
      "    print \"\\t\" + method\n",
      "\n",
      "imagenames = listdir(\"Images\")\n",
      "for name in imagenames:\n",
      "    if name!=\".DS_Store\":\n",
      "        img = mpimg.imread(\"Images/\"+name)  \n",
      "        #Reading the image as an array \n",
      "        print name\n",
      "        print \"-------------------------------\"\n",
      "        data = img.tolist()\n",
      "        \n",
      "        #Calling the first server method\n",
      "        print server.system.methodHelp(\"meanluminance\")\n",
      "        result = server.meanluminance(data)\n",
      "        plt.imshow(np.array(result))\n",
      "        plt.imshow(np.array(result))\n",
      "        plt.show()\n",
      "        \n",
      "        #Calling the second server method\n",
      "        print server.system.methodHelp(\"invertingcolors\")\n",
      "        result = server.invertingcolors(data,img.shape)\n",
      "        plt.imshow(np.array(result))\n",
      "        plt.imshow(np.array(result))\n",
      "        plt.show()\n",
      "        \n",
      "        #Calling the third server method\n",
      "        print server.system.methodHelp(\"redchannel\")\n",
      "        result = server.redchannel(data)\n",
      "        plt.imshow(np.array(result))\n",
      "        plt.imshow(np.array(result))\n",
      "        plt.show()\n",
      "    \n"
     ],
     "language": "python",
     "metadata": {},
     "outputs": [
      {
       "output_type": "stream",
       "stream": "stdout",
       "text": [
        "Available methods from server:\n",
        "\tinvertingcolors\n",
        "\tmeanluminance\n",
        "\tredchannel\n",
        "\tsystem.listMethods\n",
        "\tsystem.methodHelp\n",
        "\tsystem.methodSignature\n",
        "\tsystem.multicall\n",
        "frog_0001.jpg"
       ]
      },
      {
       "output_type": "stream",
       "stream": "stdout",
       "text": [
        "\n",
        "-------------------------------\n",
        "meanluminance method\n",
        "---------------------------------\n",
        "This method calculates the mean of rgb values and\n",
        "returns the image array as a list."
       ]
      }
     ],
     "prompt_number": "*"
    },
    {
     "cell_type": "code",
     "collapsed": false,
     "input": [],
     "language": "python",
     "metadata": {},
     "outputs": []
    },
    {
     "cell_type": "code",
     "collapsed": false,
     "input": [],
     "language": "python",
     "metadata": {},
     "outputs": []
    },
    {
     "cell_type": "code",
     "collapsed": false,
     "input": [],
     "language": "python",
     "metadata": {},
     "outputs": []
    },
    {
     "cell_type": "code",
     "collapsed": false,
     "input": [],
     "language": "python",
     "metadata": {},
     "outputs": []
    },
    {
     "cell_type": "code",
     "collapsed": false,
     "input": [],
     "language": "python",
     "metadata": {},
     "outputs": []
    },
    {
     "cell_type": "code",
     "collapsed": false,
     "input": [],
     "language": "python",
     "metadata": {},
     "outputs": []
    },
    {
     "cell_type": "code",
     "collapsed": false,
     "input": [],
     "language": "python",
     "metadata": {},
     "outputs": []
    },
    {
     "cell_type": "code",
     "collapsed": false,
     "input": [],
     "language": "python",
     "metadata": {},
     "outputs": []
    },
    {
     "cell_type": "code",
     "collapsed": false,
     "input": [],
     "language": "python",
     "metadata": {},
     "outputs": []
    },
    {
     "cell_type": "code",
     "collapsed": false,
     "input": [],
     "language": "python",
     "metadata": {},
     "outputs": []
    },
    {
     "cell_type": "code",
     "collapsed": false,
     "input": [],
     "language": "python",
     "metadata": {},
     "outputs": []
    },
    {
     "cell_type": "code",
     "collapsed": false,
     "input": [],
     "language": "python",
     "metadata": {},
     "outputs": []
    },
    {
     "cell_type": "code",
     "collapsed": false,
     "input": [],
     "language": "python",
     "metadata": {},
     "outputs": []
    }
   ],
   "metadata": {}
  }
 ]
}