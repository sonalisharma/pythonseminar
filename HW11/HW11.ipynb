{
 "metadata": {
  "name": ""
 },
 "nbformat": 3,
 "nbformat_minor": 0,
 "worksheets": [
  {
   "cells": [
    {
     "cell_type": "code",
     "collapsed": false,
     "input": [
      "%pylab inline\n",
      "import pandas as pd\n",
      "data = pd.read_csv('hw_11_data/laa_2011_april.csv',sep='\\t')"
     ],
     "language": "python",
     "metadata": {},
     "outputs": [
      {
       "output_type": "stream",
       "stream": "stdout",
       "text": [
        "Populating the interactive namespace from numpy and matplotlib\n"
       ]
      },
      {
       "output_type": "stream",
       "stream": "stderr",
       "text": [
        "WARNING: pylab import has clobbered these variables: ['beta']\n",
        "`%pylab --no-import-all` prevents importing * from pylab and numpy\n"
       ]
      }
     ],
     "prompt_number": 71
    },
    {
     "cell_type": "heading",
     "level": 3,
     "metadata": {},
     "source": [
      "(a) Maximum Likelihood Estimatation"
     ]
    },
    {
     "cell_type": "code",
     "collapsed": false,
     "input": [
      "runs = data['H']\n",
      "num_ab = data['AB']\n",
      "mle = [float(r) / float(b) for r,b in zip(runs, num_ab)]\n",
      "mle"
     ],
     "language": "python",
     "metadata": {},
     "outputs": [
      {
       "metadata": {},
       "output_type": "pyout",
       "prompt_number": 72,
       "text": [
        "[0.3617021276595745,\n",
        " 0.30864197530864196,\n",
        " 0.3076923076923077,\n",
        " 0.30337078651685395,\n",
        " 0.3,\n",
        " 0.2727272727272727,\n",
        " 0.25842696629213485,\n",
        " 0.25,\n",
        " 0.25,\n",
        " 0.21359223300970873,\n",
        " 0.17142857142857143,\n",
        " 0.15217391304347827,\n",
        " 0.125]"
       ]
      }
     ],
     "prompt_number": 72
    },
    {
     "cell_type": "heading",
     "level": 3,
     "metadata": {},
     "source": [
      "(b) Creating model for each player"
     ]
    },
    {
     "cell_type": "code",
     "collapsed": false,
     "input": [
      "import pymc\n",
      "import numpy as np\n",
      "import pandas as pd\n",
      "data = pd.read_csv('hw_11_data/laa_2011_april.csv',sep='\\t')\n",
      "\n",
      "# Priors on unknown parameters\n",
      "alpha = pymc.Normal('alpha',mu=0.255,tau=1/float(0.0011))\n",
      "beta = pymc.Normal('beta',mu=1-0.255,tau=1/float(0.0011))\n",
      "mus = dict()\n",
      "xs = dict()\n",
      "\n",
      "# model\n",
      "@pymc.deterministic(plot=False)\n",
      "def playeravg(a=alpha, b=beta):\n",
      "    return pymc.Beta('avg',a,b)\n",
      "\n",
      "for i in range(len(data)):\n",
      "    mus['mu'+ str(i)] = playeravg\n",
      "    xs['x' + str(i)] = pymc.Binomial('x' + str(i),n=data.AB[i], p=mus['mu'+ str(i)], value=data.H[i])  "
     ],
     "language": "python",
     "metadata": {},
     "outputs": [],
     "prompt_number": 73
    },
    {
     "cell_type": "code",
     "collapsed": false,
     "input": [
      "alpha = pymc.Normal('alpha',mu=0.255,tau=1/float(0.0011))\n",
      "beta = pymc.Normal('beta',mu=1-0.255,tau=1/float(0.0011))\n",
      "avg = pymc.Beta('avg', alpha=alpha, beta=beta, size=len(data))\n",
      "avg.get_value()"
     ],
     "language": "python",
     "metadata": {},
     "outputs": [
      {
       "metadata": {},
       "output_type": "pyout",
       "prompt_number": 74,
       "text": [
        "array([ 0.04640625,  0.04084928,  0.01300645,  0.03912661,  0.17687103,\n",
        "        0.27054281,  0.02356257,  0.67908051,  0.49395118,  0.99616281,\n",
        "        0.2124644 ,  0.51453916,  0.16886336])"
       ]
      }
     ],
     "prompt_number": 74
    },
    {
     "cell_type": "code",
     "collapsed": false,
     "input": [
      "import pymc\n",
      "import playermodel\n",
      "M = pymc.MCMC(playermodel)\n"
     ],
     "language": "python",
     "metadata": {},
     "outputs": [
      {
       "ename": "ValueError",
       "evalue": "A tallyable PyMC object called xi already exists. This will cause problems for some database backends.",
       "output_type": "pyerr",
       "traceback": [
        "\u001b[0;31m---------------------------------------------------------------------------\u001b[0m\n\u001b[0;31mValueError\u001b[0m                                Traceback (most recent call last)",
        "\u001b[0;32m<ipython-input-82-680419a19b54>\u001b[0m in \u001b[0;36m<module>\u001b[0;34m()\u001b[0m\n\u001b[1;32m      1\u001b[0m \u001b[0;32mimport\u001b[0m \u001b[0mpymc\u001b[0m\u001b[0;34m\u001b[0m\u001b[0m\n\u001b[1;32m      2\u001b[0m \u001b[0;32mimport\u001b[0m \u001b[0mplayermodel\u001b[0m\u001b[0;34m\u001b[0m\u001b[0m\n\u001b[0;32m----> 3\u001b[0;31m \u001b[0mM\u001b[0m \u001b[0;34m=\u001b[0m \u001b[0mpymc\u001b[0m\u001b[0;34m.\u001b[0m\u001b[0mMCMC\u001b[0m\u001b[0;34m(\u001b[0m\u001b[0mplayermodel\u001b[0m\u001b[0;34m)\u001b[0m\u001b[0;34m\u001b[0m\u001b[0m\n\u001b[0m",
        "\u001b[0;32m/Library/Frameworks/EPD64.framework/Versions/7.3/lib/python2.7/site-packages/pymc/MCMC.pyc\u001b[0m in \u001b[0;36m__init__\u001b[0;34m(self, input, db, name, calc_deviance, **kwds)\u001b[0m\n\u001b[1;32m     79\u001b[0m             \u001b[0mname\u001b[0m\u001b[0;34m,\u001b[0m\u001b[0;34m\u001b[0m\u001b[0m\n\u001b[1;32m     80\u001b[0m             \u001b[0mcalc_deviance\u001b[0m\u001b[0;34m=\u001b[0m\u001b[0mcalc_deviance\u001b[0m\u001b[0;34m,\u001b[0m\u001b[0;34m\u001b[0m\u001b[0m\n\u001b[0;32m---> 81\u001b[0;31m             **kwds)\n\u001b[0m\u001b[1;32m     82\u001b[0m \u001b[0;34m\u001b[0m\u001b[0m\n\u001b[1;32m     83\u001b[0m         \u001b[0mself\u001b[0m\u001b[0;34m.\u001b[0m\u001b[0m_sm_assigned\u001b[0m \u001b[0;34m=\u001b[0m \u001b[0mFalse\u001b[0m\u001b[0;34m\u001b[0m\u001b[0m\n",
        "\u001b[0;32m/Library/Frameworks/EPD64.framework/Versions/7.3/lib/python2.7/site-packages/pymc/Model.pyc\u001b[0m in \u001b[0;36m__init__\u001b[0;34m(self, input, db, name, reinit_model, calc_deviance, verbose, **kwds)\u001b[0m\n\u001b[1;32m    203\u001b[0m         \u001b[0;31m# Specify database backend and save its keywords\u001b[0m\u001b[0;34m\u001b[0m\u001b[0;34m\u001b[0m\u001b[0m\n\u001b[1;32m    204\u001b[0m         \u001b[0mself\u001b[0m\u001b[0;34m.\u001b[0m\u001b[0m_db_args\u001b[0m \u001b[0;34m=\u001b[0m \u001b[0mkwds\u001b[0m\u001b[0;34m\u001b[0m\u001b[0m\n\u001b[0;32m--> 205\u001b[0;31m         \u001b[0mself\u001b[0m\u001b[0;34m.\u001b[0m\u001b[0m_assign_database_backend\u001b[0m\u001b[0;34m(\u001b[0m\u001b[0mdb\u001b[0m\u001b[0;34m)\u001b[0m\u001b[0;34m\u001b[0m\u001b[0m\n\u001b[0m\u001b[1;32m    206\u001b[0m \u001b[0;34m\u001b[0m\u001b[0m\n\u001b[1;32m    207\u001b[0m         \u001b[0;31m# Flag for model state\u001b[0m\u001b[0;34m\u001b[0m\u001b[0;34m\u001b[0m\u001b[0m\n",
        "\u001b[0;32m/Library/Frameworks/EPD64.framework/Versions/7.3/lib/python2.7/site-packages/pymc/Model.pyc\u001b[0m in \u001b[0;36m_assign_database_backend\u001b[0;34m(self, db)\u001b[0m\n\u001b[1;32m    561\u001b[0m                 \u001b[0mobject\u001b[0m\u001b[0;34m.\u001b[0m\u001b[0mtrace\u001b[0m \u001b[0;34m=\u001b[0m \u001b[0mno_trace\u001b[0m\u001b[0;34m.\u001b[0m\u001b[0mTrace\u001b[0m\u001b[0;34m(\u001b[0m\u001b[0mobject\u001b[0m\u001b[0;34m.\u001b[0m\u001b[0m__name__\u001b[0m\u001b[0;34m)\u001b[0m\u001b[0;34m\u001b[0m\u001b[0m\n\u001b[1;32m    562\u001b[0m \u001b[0;34m\u001b[0m\u001b[0m\n\u001b[0;32m--> 563\u001b[0;31m         \u001b[0mcheck_valid_object_name\u001b[0m\u001b[0;34m(\u001b[0m\u001b[0mself\u001b[0m\u001b[0;34m.\u001b[0m\u001b[0m_variables_to_tally\u001b[0m\u001b[0;34m)\u001b[0m\u001b[0;34m\u001b[0m\u001b[0m\n\u001b[0m\u001b[1;32m    564\u001b[0m \u001b[0;34m\u001b[0m\u001b[0m\n\u001b[1;32m    565\u001b[0m         \u001b[0;31m# If not already done, load the trace backend from the database\u001b[0m\u001b[0;34m\u001b[0m\u001b[0;34m\u001b[0m\u001b[0m\n",
        "\u001b[0;32m/Library/Frameworks/EPD64.framework/Versions/7.3/lib/python2.7/site-packages/pymc/Model.pyc\u001b[0m in \u001b[0;36mcheck_valid_object_name\u001b[0;34m(sequence)\u001b[0m\n\u001b[1;32m    857\u001b[0m             raise ValueError(\n\u001b[1;32m    858\u001b[0m                 \u001b[0;34m'A tallyable PyMC object called %s already exists. This will cause problems for some database backends.'\u001b[0m \u001b[0;34m%\u001b[0m\u001b[0;34m\u001b[0m\u001b[0m\n\u001b[0;32m--> 859\u001b[0;31m                 o.__name__)\n\u001b[0m\u001b[1;32m    860\u001b[0m         \u001b[0;32melse\u001b[0m\u001b[0;34m:\u001b[0m\u001b[0;34m\u001b[0m\u001b[0m\n\u001b[1;32m    861\u001b[0m             \u001b[0mnames\u001b[0m\u001b[0;34m.\u001b[0m\u001b[0mappend\u001b[0m\u001b[0;34m(\u001b[0m\u001b[0mo\u001b[0m\u001b[0;34m.\u001b[0m\u001b[0m__name__\u001b[0m\u001b[0;34m)\u001b[0m\u001b[0;34m\u001b[0m\u001b[0m\n",
        "\u001b[0;31mValueError\u001b[0m: A tallyable PyMC object called xi already exists. This will cause problems for some database backends."
       ]
      }
     ],
     "prompt_number": 82
    },
    {
     "cell_type": "code",
     "collapsed": false,
     "input": [
      "type(data['AB'])"
     ],
     "language": "python",
     "metadata": {},
     "outputs": [
      {
       "metadata": {},
       "output_type": "pyout",
       "prompt_number": 83,
       "text": [
        "pandas.core.series.Series"
       ]
      }
     ],
     "prompt_number": 83
    },
    {
     "cell_type": "code",
     "collapsed": false,
     "input": [],
     "language": "python",
     "metadata": {},
     "outputs": []
    }
   ],
   "metadata": {}
  }
 ]
}